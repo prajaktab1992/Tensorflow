{
  "nbformat": 4,
  "nbformat_minor": 0,
  "metadata": {
    "colab": {
      "name": "Tensorflow_fundamentals.ipynb",
      "provenance": [],
      "collapsed_sections": []
    },
    "kernelspec": {
      "name": "python3",
      "display_name": "Python 3"
    },
    "language_info": {
      "name": "python"
    }
  },
  "cells": [
    {
      "cell_type": "markdown",
      "metadata": {
        "id": "buAzmsQhMhsg"
      },
      "source": [
        "**Tensorflow Fundamentals**\n",
        "\n"
      ]
    },
    {
      "cell_type": "code",
      "metadata": {
        "id": "UhlIchJhcsYU"
      },
      "source": [
        "#Import tensorflow\n",
        "import tensorflow as tf"
      ],
      "execution_count": null,
      "outputs": []
    },
    {
      "cell_type": "code",
      "metadata": {
        "colab": {
          "base_uri": "https://localhost:8080/"
        },
        "id": "bAdY3q4ENvUT",
        "outputId": "cd807211-0940-4045-83b6-9a3cfb7849c7"
      },
      "source": [
        "print(tf.__version__)#check tensorflow version"
      ],
      "execution_count": null,
      "outputs": [
        {
          "output_type": "stream",
          "text": [
            "2.4.1\n"
          ],
          "name": "stdout"
        }
      ]
    },
    {
      "cell_type": "code",
      "metadata": {
        "colab": {
          "base_uri": "https://localhost:8080/"
        },
        "id": "YwLRkZEaNx_c",
        "outputId": "31c7ea49-924d-4d72-e42f-ed8747d52ba7"
      },
      "source": [
        "#create tensor with tf.constant()\n",
        "scalar=tf.constant(7)\n",
        "scalar"
      ],
      "execution_count": null,
      "outputs": [
        {
          "output_type": "execute_result",
          "data": {
            "text/plain": [
              "<tf.Tensor: shape=(), dtype=int32, numpy=7>"
            ]
          },
          "metadata": {
            "tags": []
          },
          "execution_count": 3
        }
      ]
    },
    {
      "cell_type": "code",
      "metadata": {
        "colab": {
          "base_uri": "https://localhost:8080/"
        },
        "id": "eG3xg35wOO_f",
        "outputId": "cf214c67-fe8b-41fc-d749-06e365889f58"
      },
      "source": [
        "#check number of dimensions\n",
        "scalar.ndim #ndim is number of dimensions"
      ],
      "execution_count": null,
      "outputs": [
        {
          "output_type": "execute_result",
          "data": {
            "text/plain": [
              "0"
            ]
          },
          "metadata": {
            "tags": []
          },
          "execution_count": 4
        }
      ]
    },
    {
      "cell_type": "code",
      "metadata": {
        "colab": {
          "base_uri": "https://localhost:8080/"
        },
        "id": "MAsJf7QDOiB8",
        "outputId": "1e42b722-adea-49d8-b3d4-7d263b5ba72e"
      },
      "source": [
        "vector=tf.constant([10,10])\n",
        "vector"
      ],
      "execution_count": null,
      "outputs": [
        {
          "output_type": "execute_result",
          "data": {
            "text/plain": [
              "<tf.Tensor: shape=(2,), dtype=int32, numpy=array([10, 10], dtype=int32)>"
            ]
          },
          "metadata": {
            "tags": []
          },
          "execution_count": 5
        }
      ]
    },
    {
      "cell_type": "code",
      "metadata": {
        "colab": {
          "base_uri": "https://localhost:8080/"
        },
        "id": "5DHcJPScO1TD",
        "outputId": "c1c484ae-629e-4cd6-95f5-5b5c88658474"
      },
      "source": [
        "vector.ndim"
      ],
      "execution_count": null,
      "outputs": [
        {
          "output_type": "execute_result",
          "data": {
            "text/plain": [
              "1"
            ]
          },
          "metadata": {
            "tags": []
          },
          "execution_count": 6
        }
      ]
    },
    {
      "cell_type": "code",
      "metadata": {
        "colab": {
          "base_uri": "https://localhost:8080/"
        },
        "id": "cato0quUO38D",
        "outputId": "e50f8ff6-b89d-49c9-ccf9-bd7f8d332c55"
      },
      "source": [
        "matrix=tf.constant([[10,4,5],\n",
        "                   [5,6,0]])\n",
        "matrix"
      ],
      "execution_count": null,
      "outputs": [
        {
          "output_type": "execute_result",
          "data": {
            "text/plain": [
              "<tf.Tensor: shape=(2, 3), dtype=int32, numpy=\n",
              "array([[10,  4,  5],\n",
              "       [ 5,  6,  0]], dtype=int32)>"
            ]
          },
          "metadata": {
            "tags": []
          },
          "execution_count": 7
        }
      ]
    },
    {
      "cell_type": "code",
      "metadata": {
        "colab": {
          "base_uri": "https://localhost:8080/"
        },
        "id": "hMsz0_ClPCNK",
        "outputId": "dbff837a-ecb6-479d-9a99-f0897c46c19a"
      },
      "source": [
        "matrix.ndim"
      ],
      "execution_count": null,
      "outputs": [
        {
          "output_type": "execute_result",
          "data": {
            "text/plain": [
              "2"
            ]
          },
          "metadata": {
            "tags": []
          },
          "execution_count": 8
        }
      ]
    },
    {
      "cell_type": "code",
      "metadata": {
        "colab": {
          "base_uri": "https://localhost:8080/"
        },
        "id": "fIfTYjBXPTlr",
        "outputId": "5fff825e-e934-4bc4-e268-9e1a5ac0394c"
      },
      "source": [
        "another_mtx=tf.constant([[3.,4.,6.],[3,4,5],[6.,9.,3.]],dtype=tf.float16)\n",
        "another_mtx"
      ],
      "execution_count": null,
      "outputs": [
        {
          "output_type": "execute_result",
          "data": {
            "text/plain": [
              "<tf.Tensor: shape=(3, 3), dtype=float16, numpy=\n",
              "array([[3., 4., 6.],\n",
              "       [3., 4., 5.],\n",
              "       [6., 9., 3.]], dtype=float16)>"
            ]
          },
          "metadata": {
            "tags": []
          },
          "execution_count": 9
        }
      ]
    },
    {
      "cell_type": "code",
      "metadata": {
        "colab": {
          "base_uri": "https://localhost:8080/"
        },
        "id": "RAj2H8mHQIBz",
        "outputId": "4133758c-062d-40b2-a89e-3c55a8bf94c2"
      },
      "source": [
        "another_mtx.ndim"
      ],
      "execution_count": null,
      "outputs": [
        {
          "output_type": "execute_result",
          "data": {
            "text/plain": [
              "2"
            ]
          },
          "metadata": {
            "tags": []
          },
          "execution_count": 10
        }
      ]
    },
    {
      "cell_type": "code",
      "metadata": {
        "id": "TiWRBu1nQL7G"
      },
      "source": [
        "tensor =tf.constant([\n",
        "                     [[1,2],[7,8]],\n",
        "                     [[3,4],[6,7]],\n",
        "                     [[6,9],[0,2]]\n",
        "],dtype=tf.float16)"
      ],
      "execution_count": null,
      "outputs": []
    },
    {
      "cell_type": "code",
      "metadata": {
        "colab": {
          "base_uri": "https://localhost:8080/"
        },
        "id": "KHRlrxtzR_uH",
        "outputId": "8bba91aa-2fcf-4cb7-9ae6-45fda6fb3705"
      },
      "source": [
        "tensor"
      ],
      "execution_count": null,
      "outputs": [
        {
          "output_type": "execute_result",
          "data": {
            "text/plain": [
              "<tf.Tensor: shape=(3, 2, 2), dtype=float16, numpy=\n",
              "array([[[1., 2.],\n",
              "        [7., 8.]],\n",
              "\n",
              "       [[3., 4.],\n",
              "        [6., 7.]],\n",
              "\n",
              "       [[6., 9.],\n",
              "        [0., 2.]]], dtype=float16)>"
            ]
          },
          "metadata": {
            "tags": []
          },
          "execution_count": 12
        }
      ]
    },
    {
      "cell_type": "code",
      "metadata": {
        "colab": {
          "base_uri": "https://localhost:8080/"
        },
        "id": "LZlPMquoSDp1",
        "outputId": "a97e8971-a112-4f3e-fc50-ac9e398816b5"
      },
      "source": [
        "tensor.ndim"
      ],
      "execution_count": null,
      "outputs": [
        {
          "output_type": "execute_result",
          "data": {
            "text/plain": [
              "3"
            ]
          },
          "metadata": {
            "tags": []
          },
          "execution_count": 13
        }
      ]
    },
    {
      "cell_type": "markdown",
      "metadata": {
        "id": "ueZcOhp9SaNd"
      },
      "source": [
        "**scalar**: single number\n",
        "\n",
        "**vector** : number with direction\n",
        "\n",
        "**matrix**: 2-dimensional array of numbers\n",
        "\n",
        "**tensor**: n-dimensional array of numbers\n"
      ]
    },
    {
      "cell_type": "code",
      "metadata": {
        "id": "vIO0Q13ZSPHZ"
      },
      "source": [
        "changeable_tensor=tf.Variable([10,7])\n",
        "constant_tensor=tf.constant([11,2])"
      ],
      "execution_count": null,
      "outputs": []
    },
    {
      "cell_type": "code",
      "metadata": {
        "colab": {
          "base_uri": "https://localhost:8080/"
        },
        "id": "OTaZkPL8Y36r",
        "outputId": "aabc64ec-e1ea-4402-8b31-36963ba05d07"
      },
      "source": [
        "changeable_tensor[0]"
      ],
      "execution_count": null,
      "outputs": [
        {
          "output_type": "execute_result",
          "data": {
            "text/plain": [
              "<tf.Tensor: shape=(), dtype=int32, numpy=10>"
            ]
          },
          "metadata": {
            "tags": []
          },
          "execution_count": 15
        }
      ]
    },
    {
      "cell_type": "code",
      "metadata": {
        "colab": {
          "base_uri": "https://localhost:8080/"
        },
        "id": "Fz6hTO2AY7GK",
        "outputId": "46174990-9de4-4205-f9bf-7903a3a187c7"
      },
      "source": [
        "changeable_tensor[0].assign(7)\n",
        "changeable_tensor"
      ],
      "execution_count": null,
      "outputs": [
        {
          "output_type": "execute_result",
          "data": {
            "text/plain": [
              "<tf.Variable 'Variable:0' shape=(2,) dtype=int32, numpy=array([7, 7], dtype=int32)>"
            ]
          },
          "metadata": {
            "tags": []
          },
          "execution_count": 16
        }
      ]
    },
    {
      "cell_type": "code",
      "metadata": {
        "colab": {
          "base_uri": "https://localhost:8080/",
          "height": 180
        },
        "id": "ldDuRkOoZBVZ",
        "outputId": "c99930af-9808-4c93-ec64-29efca72e76a"
      },
      "source": [
        "constant_tensor[0].assign(7) # cannot modify constant tensors\n",
        "constant_tensor"
      ],
      "execution_count": null,
      "outputs": [
        {
          "output_type": "error",
          "ename": "AttributeError",
          "evalue": "ignored",
          "traceback": [
            "\u001b[0;31m---------------------------------------------------------------------------\u001b[0m",
            "\u001b[0;31mAttributeError\u001b[0m                            Traceback (most recent call last)",
            "\u001b[0;32m<ipython-input-17-9fb8511c42bb>\u001b[0m in \u001b[0;36m<module>\u001b[0;34m()\u001b[0m\n\u001b[0;32m----> 1\u001b[0;31m \u001b[0mconstant_tensor\u001b[0m\u001b[0;34m[\u001b[0m\u001b[0;36m0\u001b[0m\u001b[0;34m]\u001b[0m\u001b[0;34m.\u001b[0m\u001b[0massign\u001b[0m\u001b[0;34m(\u001b[0m\u001b[0;36m7\u001b[0m\u001b[0;34m)\u001b[0m \u001b[0;31m# cannot modify constant tensors\u001b[0m\u001b[0;34m\u001b[0m\u001b[0;34m\u001b[0m\u001b[0m\n\u001b[0m\u001b[1;32m      2\u001b[0m \u001b[0mconstant_tensor\u001b[0m\u001b[0;34m\u001b[0m\u001b[0;34m\u001b[0m\u001b[0m\n",
            "\u001b[0;31mAttributeError\u001b[0m: 'tensorflow.python.framework.ops.EagerTensor' object has no attribute 'assign'"
          ]
        }
      ]
    },
    {
      "cell_type": "markdown",
      "metadata": {
        "id": "RU4Q4jDQvj3u"
      },
      "source": [
        "**Creating random tensors**"
      ]
    },
    {
      "cell_type": "code",
      "metadata": {
        "colab": {
          "base_uri": "https://localhost:8080/"
        },
        "id": "Es4OA3lYvdKb",
        "outputId": "03e25863-09b9-41a3-dddc-048a6b291dda"
      },
      "source": [
        "random_l=tf.random.Generator.from_seed(42) # set seed for reproduciability\n",
        "random_l=random_l.normal(shape=(3,2))#picks random values from normal distribution\n",
        "random_l"
      ],
      "execution_count": null,
      "outputs": [
        {
          "output_type": "execute_result",
          "data": {
            "text/plain": [
              "<tf.Tensor: shape=(3, 2), dtype=float32, numpy=\n",
              "array([[-0.7565803 , -0.06854702],\n",
              "       [ 0.07595026, -1.2573844 ],\n",
              "       [-0.23193763, -1.8107855 ]], dtype=float32)>"
            ]
          },
          "metadata": {
            "tags": []
          },
          "execution_count": 18
        }
      ]
    },
    {
      "cell_type": "code",
      "metadata": {
        "colab": {
          "base_uri": "https://localhost:8080/"
        },
        "id": "lu2t26NC3Dry",
        "outputId": "142a7c9f-0f7e-45ba-c5e5-a6706cb24924"
      },
      "source": [
        "random_2=tf.random.Generator.from_seed(42)\n",
        "random_2=random_2.normal(shape=(3,2))\n",
        "random_2"
      ],
      "execution_count": null,
      "outputs": [
        {
          "output_type": "execute_result",
          "data": {
            "text/plain": [
              "<tf.Tensor: shape=(3, 2), dtype=float32, numpy=\n",
              "array([[-0.7565803 , -0.06854702],\n",
              "       [ 0.07595026, -1.2573844 ],\n",
              "       [-0.23193763, -1.8107855 ]], dtype=float32)>"
            ]
          },
          "metadata": {
            "tags": []
          },
          "execution_count": 19
        }
      ]
    },
    {
      "cell_type": "code",
      "metadata": {
        "colab": {
          "base_uri": "https://localhost:8080/"
        },
        "id": "KjVv0nTb4UNt",
        "outputId": "f8638db3-c094-40dc-c49d-ca086eaebeb9"
      },
      "source": [
        "random_l==random_2"
      ],
      "execution_count": null,
      "outputs": [
        {
          "output_type": "execute_result",
          "data": {
            "text/plain": [
              "<tf.Tensor: shape=(3, 2), dtype=bool, numpy=\n",
              "array([[ True,  True],\n",
              "       [ True,  True],\n",
              "       [ True,  True]])>"
            ]
          },
          "metadata": {
            "tags": []
          },
          "execution_count": 20
        }
      ]
    },
    {
      "cell_type": "markdown",
      "metadata": {
        "id": "UK4eBjfo8OlD"
      },
      "source": [
        "\n",
        "`tf.random.shuffle(value, seed=None, name=None)`\n",
        "\n",
        "The tensor is shuffled along dimension 0, such that each value[j] is mapped to one and only one output[i]\n",
        "\n",
        "\n",
        "Operations that rely on a random seed actually derive it from two seeds: the global and operation-level seeds. This sets the global seed.\n",
        "\n",
        "**Its interactions with operation-level seeds is as follows:**\n",
        "\n",
        "If neither the global seed nor the operation seed is set: A randomly picked seed is used for this op.\n",
        "\n",
        "If the global seed is set, but the operation seed is not: The system deterministically picks an operation seed in conjunction with the global seed so that it gets a unique random sequence. Within the same version of tensorflow and user code, this sequence is deterministic. However across different versions, this sequence might change. \n",
        "\n",
        "If the code depends on particular seeds to work, specify both global and operation-level seeds explicitly.\n",
        "\n",
        "If the operation seed is set, but the global seed is not set: A default global seed and the specified operation seed are used to determine the random sequence.\n",
        "\n",
        "\n",
        "If both the global and the operation seed are set: Both seeds are used in conjunction to determine the random sequence."
      ]
    },
    {
      "cell_type": "code",
      "metadata": {
        "colab": {
          "base_uri": "https://localhost:8080/"
        },
        "id": "pJSkgdte4YyV",
        "outputId": "24457526-9c04-48c5-c2c8-ce4f5d18f868"
      },
      "source": [
        "test1_shuffle=tf.random.Generator.from_seed(42)\n",
        "test1_shuffle=test1_shuffle.normal(shape=(3,2))\n",
        "tf.random.shuffle(test1_shuffle) #this will not generate constant result"
      ],
      "execution_count": null,
      "outputs": [
        {
          "output_type": "execute_result",
          "data": {
            "text/plain": [
              "<tf.Tensor: shape=(3, 2), dtype=float32, numpy=\n",
              "array([[-0.23193763, -1.8107855 ],\n",
              "       [-0.7565803 , -0.06854702],\n",
              "       [ 0.07595026, -1.2573844 ]], dtype=float32)>"
            ]
          },
          "metadata": {
            "tags": []
          },
          "execution_count": 21
        }
      ]
    },
    {
      "cell_type": "code",
      "metadata": {
        "colab": {
          "base_uri": "https://localhost:8080/"
        },
        "id": "44Gbp8Fx9v42",
        "outputId": "267938a7-d613-4472-fc5d-84b7a4d4ba76"
      },
      "source": [
        "tf.random.set_seed(42) #global level seed\n",
        "test1_shuffle=tf.random.Generator.from_seed(42) #operation level seed\n",
        "test1_shuffle=test1_shuffle.normal(shape=(3,2))\n",
        "tf.random.shuffle(test1_shuffle) #this will  generate constant result"
      ],
      "execution_count": null,
      "outputs": [
        {
          "output_type": "execute_result",
          "data": {
            "text/plain": [
              "<tf.Tensor: shape=(3, 2), dtype=float32, numpy=\n",
              "array([[ 0.07595026, -1.2573844 ],\n",
              "       [-0.23193763, -1.8107855 ],\n",
              "       [-0.7565803 , -0.06854702]], dtype=float32)>"
            ]
          },
          "metadata": {
            "tags": []
          },
          "execution_count": 22
        }
      ]
    },
    {
      "cell_type": "markdown",
      "metadata": {
        "id": "GMWG7J4xKOcu"
      },
      "source": [
        "**Different ways to create tensors**"
      ]
    },
    {
      "cell_type": "code",
      "metadata": {
        "colab": {
          "base_uri": "https://localhost:8080/"
        },
        "id": "RNs2zY12-fkZ",
        "outputId": "4711d1bd-c086-4bbf-a6d3-055d031bb39c"
      },
      "source": [
        "tf.ones(shape=(2,2),dtype=tf.int16)"
      ],
      "execution_count": null,
      "outputs": [
        {
          "output_type": "execute_result",
          "data": {
            "text/plain": [
              "<tf.Tensor: shape=(2, 2), dtype=int16, numpy=\n",
              "array([[1, 1],\n",
              "       [1, 1]], dtype=int16)>"
            ]
          },
          "metadata": {
            "tags": []
          },
          "execution_count": 23
        }
      ]
    },
    {
      "cell_type": "code",
      "metadata": {
        "colab": {
          "base_uri": "https://localhost:8080/"
        },
        "id": "OaQ4LL84KWIc",
        "outputId": "4b8dd088-5996-4c70-d7d5-fe97ca4c6646"
      },
      "source": [
        "tf.zeros(shape=(2,2),dtype=tf.int16)"
      ],
      "execution_count": null,
      "outputs": [
        {
          "output_type": "execute_result",
          "data": {
            "text/plain": [
              "<tf.Tensor: shape=(2, 2), dtype=int16, numpy=\n",
              "array([[0, 0],\n",
              "       [0, 0]], dtype=int16)>"
            ]
          },
          "metadata": {
            "tags": []
          },
          "execution_count": 24
        }
      ]
    },
    {
      "cell_type": "markdown",
      "metadata": {
        "id": "wbwU3iagLMv-"
      },
      "source": [
        "**Turn numpy arrays into tensors:**\n",
        "\n",
        "numpy arrays and tensors are very similar but tensor can run on GPU much faster that numy array(computation willl be faster)"
      ]
    },
    {
      "cell_type": "code",
      "metadata": {
        "id": "3MObrTOAKdyb"
      },
      "source": [
        "import numpy as np"
      ],
      "execution_count": null,
      "outputs": []
    },
    {
      "cell_type": "code",
      "metadata": {
        "colab": {
          "base_uri": "https://localhost:8080/"
        },
        "id": "77xQWJCbLlqN",
        "outputId": "ecfd205c-d227-49a5-c846-6245decea794"
      },
      "source": [
        "numpy_A=np.arange(1,25,dtype=np.int8)\n",
        "numpy_A"
      ],
      "execution_count": null,
      "outputs": [
        {
          "output_type": "execute_result",
          "data": {
            "text/plain": [
              "array([ 1,  2,  3,  4,  5,  6,  7,  8,  9, 10, 11, 12, 13, 14, 15, 16, 17,\n",
              "       18, 19, 20, 21, 22, 23, 24], dtype=int8)"
            ]
          },
          "metadata": {
            "tags": []
          },
          "execution_count": 26
        }
      ]
    },
    {
      "cell_type": "code",
      "metadata": {
        "colab": {
          "base_uri": "https://localhost:8080/"
        },
        "id": "Yo4JNHWtLtiz",
        "outputId": "76900234-1017-4f30-ee4d-b6843d748ec3"
      },
      "source": [
        "#convert above numpy array to tensor\n",
        "\n",
        "tensor_np=tf.constant(numpy_A)\n",
        "tensor_np"
      ],
      "execution_count": null,
      "outputs": [
        {
          "output_type": "execute_result",
          "data": {
            "text/plain": [
              "<tf.Tensor: shape=(24,), dtype=int8, numpy=\n",
              "array([ 1,  2,  3,  4,  5,  6,  7,  8,  9, 10, 11, 12, 13, 14, 15, 16, 17,\n",
              "       18, 19, 20, 21, 22, 23, 24], dtype=int8)>"
            ]
          },
          "metadata": {
            "tags": []
          },
          "execution_count": 27
        }
      ]
    },
    {
      "cell_type": "markdown",
      "metadata": {
        "id": "1UB3xedNVk-k"
      },
      "source": [
        "Getting information from tensors"
      ]
    },
    {
      "cell_type": "code",
      "metadata": {
        "colab": {
          "base_uri": "https://localhost:8080/"
        },
        "id": "7BHG0P1yTp6e",
        "outputId": "4bbfb15c-8f3b-4ac6-aee9-4702e26b057f"
      },
      "source": [
        "rank_4_tensor=tf.zeros(shape=[2,3,4,5])\n",
        "rank_4_tensor"
      ],
      "execution_count": null,
      "outputs": [
        {
          "output_type": "execute_result",
          "data": {
            "text/plain": [
              "<tf.Tensor: shape=(2, 3, 4, 5), dtype=float32, numpy=\n",
              "array([[[[0., 0., 0., 0., 0.],\n",
              "         [0., 0., 0., 0., 0.],\n",
              "         [0., 0., 0., 0., 0.],\n",
              "         [0., 0., 0., 0., 0.]],\n",
              "\n",
              "        [[0., 0., 0., 0., 0.],\n",
              "         [0., 0., 0., 0., 0.],\n",
              "         [0., 0., 0., 0., 0.],\n",
              "         [0., 0., 0., 0., 0.]],\n",
              "\n",
              "        [[0., 0., 0., 0., 0.],\n",
              "         [0., 0., 0., 0., 0.],\n",
              "         [0., 0., 0., 0., 0.],\n",
              "         [0., 0., 0., 0., 0.]]],\n",
              "\n",
              "\n",
              "       [[[0., 0., 0., 0., 0.],\n",
              "         [0., 0., 0., 0., 0.],\n",
              "         [0., 0., 0., 0., 0.],\n",
              "         [0., 0., 0., 0., 0.]],\n",
              "\n",
              "        [[0., 0., 0., 0., 0.],\n",
              "         [0., 0., 0., 0., 0.],\n",
              "         [0., 0., 0., 0., 0.],\n",
              "         [0., 0., 0., 0., 0.]],\n",
              "\n",
              "        [[0., 0., 0., 0., 0.],\n",
              "         [0., 0., 0., 0., 0.],\n",
              "         [0., 0., 0., 0., 0.],\n",
              "         [0., 0., 0., 0., 0.]]]], dtype=float32)>"
            ]
          },
          "metadata": {
            "tags": []
          },
          "execution_count": 28
        }
      ]
    },
    {
      "cell_type": "code",
      "metadata": {
        "colab": {
          "base_uri": "https://localhost:8080/"
        },
        "id": "xF3tO1o_YPHS",
        "outputId": "6381e7df-4889-4ffc-e881-520b9556e928"
      },
      "source": [
        "rank_4_tensor.shape"
      ],
      "execution_count": null,
      "outputs": [
        {
          "output_type": "execute_result",
          "data": {
            "text/plain": [
              "TensorShape([2, 3, 4, 5])"
            ]
          },
          "metadata": {
            "tags": []
          },
          "execution_count": 29
        }
      ]
    },
    {
      "cell_type": "code",
      "metadata": {
        "colab": {
          "base_uri": "https://localhost:8080/"
        },
        "id": "nLGyrgztYVlt",
        "outputId": "57bed659-879b-4937-de8c-78f9b9f3b684"
      },
      "source": [
        "rank_4_tensor.ndim"
      ],
      "execution_count": null,
      "outputs": [
        {
          "output_type": "execute_result",
          "data": {
            "text/plain": [
              "4"
            ]
          },
          "metadata": {
            "tags": []
          },
          "execution_count": 30
        }
      ]
    },
    {
      "cell_type": "code",
      "metadata": {
        "colab": {
          "base_uri": "https://localhost:8080/"
        },
        "id": "LwM659fFYYBy",
        "outputId": "84af6531-c4fc-43d9-8445-51c5d26daeb4"
      },
      "source": [
        "tf.size(rank_4_tensor)"
      ],
      "execution_count": null,
      "outputs": [
        {
          "output_type": "execute_result",
          "data": {
            "text/plain": [
              "<tf.Tensor: shape=(), dtype=int32, numpy=120>"
            ]
          },
          "metadata": {
            "tags": []
          },
          "execution_count": 31
        }
      ]
    },
    {
      "cell_type": "code",
      "metadata": {
        "colab": {
          "base_uri": "https://localhost:8080/"
        },
        "id": "IXliyYLcYjNt",
        "outputId": "78efd335-f777-4589-e078-b588a8194e92"
      },
      "source": [
        "#get first 2 elements from each dimension\n",
        "rank_4_tensor[:2,:2,:2,:2]"
      ],
      "execution_count": null,
      "outputs": [
        {
          "output_type": "execute_result",
          "data": {
            "text/plain": [
              "<tf.Tensor: shape=(2, 2, 2, 2), dtype=float32, numpy=\n",
              "array([[[[0., 0.],\n",
              "         [0., 0.]],\n",
              "\n",
              "        [[0., 0.],\n",
              "         [0., 0.]]],\n",
              "\n",
              "\n",
              "       [[[0., 0.],\n",
              "         [0., 0.]],\n",
              "\n",
              "        [[0., 0.],\n",
              "         [0., 0.]]]], dtype=float32)>"
            ]
          },
          "metadata": {
            "tags": []
          },
          "execution_count": 32
        }
      ]
    },
    {
      "cell_type": "code",
      "metadata": {
        "colab": {
          "base_uri": "https://localhost:8080/"
        },
        "id": "tE6h3TJgaF0w",
        "outputId": "d85c8a8d-0f72-43c0-d2b5-a928621a3767"
      },
      "source": [
        "#create tensor of rank 2\n",
        "\n",
        "rank_2_tensor=tf.constant([[10,7],[2,5]])\n",
        "rank_2_tensor"
      ],
      "execution_count": null,
      "outputs": [
        {
          "output_type": "execute_result",
          "data": {
            "text/plain": [
              "<tf.Tensor: shape=(2, 2), dtype=int32, numpy=\n",
              "array([[10,  7],\n",
              "       [ 2,  5]], dtype=int32)>"
            ]
          },
          "metadata": {
            "tags": []
          },
          "execution_count": 33
        }
      ]
    },
    {
      "cell_type": "code",
      "metadata": {
        "colab": {
          "base_uri": "https://localhost:8080/"
        },
        "id": "-0W1ATTHbDag",
        "outputId": "2469940a-499a-4769-9267-74f7301b5318"
      },
      "source": [
        "rank_2_tensor.ndim"
      ],
      "execution_count": null,
      "outputs": [
        {
          "output_type": "execute_result",
          "data": {
            "text/plain": [
              "2"
            ]
          },
          "metadata": {
            "tags": []
          },
          "execution_count": 34
        }
      ]
    },
    {
      "cell_type": "code",
      "metadata": {
        "colab": {
          "base_uri": "https://localhost:8080/"
        },
        "id": "zmNzbAQJbIbt",
        "outputId": "f01ec1d4-c457-41c5-e0d1-69342d444a63"
      },
      "source": [
        "rank_3_tensor=tf.constant([[[10,7],[2,5]],[[10,7],[2,5]],[[10,7],[2,5]]])\n",
        "rank_3_tensor"
      ],
      "execution_count": null,
      "outputs": [
        {
          "output_type": "execute_result",
          "data": {
            "text/plain": [
              "<tf.Tensor: shape=(3, 2, 2), dtype=int32, numpy=\n",
              "array([[[10,  7],\n",
              "        [ 2,  5]],\n",
              "\n",
              "       [[10,  7],\n",
              "        [ 2,  5]],\n",
              "\n",
              "       [[10,  7],\n",
              "        [ 2,  5]]], dtype=int32)>"
            ]
          },
          "metadata": {
            "tags": []
          },
          "execution_count": 35
        }
      ]
    },
    {
      "cell_type": "code",
      "metadata": {
        "colab": {
          "base_uri": "https://localhost:8080/"
        },
        "id": "8y5R2HpqbSai",
        "outputId": "6bf17ea7-7580-4506-d65a-e88165640ec5"
      },
      "source": [
        "rank_3_tensor.ndim"
      ],
      "execution_count": null,
      "outputs": [
        {
          "output_type": "execute_result",
          "data": {
            "text/plain": [
              "3"
            ]
          },
          "metadata": {
            "tags": []
          },
          "execution_count": 36
        }
      ]
    },
    {
      "cell_type": "code",
      "metadata": {
        "colab": {
          "base_uri": "https://localhost:8080/"
        },
        "id": "Dv3cfxBocgyk",
        "outputId": "67e27601-ddf8-4c2e-9d6d-df3a5455c72c"
      },
      "source": [
        "rank_3_tensor.shape\n",
        "rank_3_tensor[:,:,-1]"
      ],
      "execution_count": null,
      "outputs": [
        {
          "output_type": "execute_result",
          "data": {
            "text/plain": [
              "<tf.Tensor: shape=(3, 2), dtype=int32, numpy=\n",
              "array([[7, 5],\n",
              "       [7, 5],\n",
              "       [7, 5]], dtype=int32)>"
            ]
          },
          "metadata": {
            "tags": []
          },
          "execution_count": 37
        }
      ]
    },
    {
      "cell_type": "code",
      "metadata": {
        "colab": {
          "base_uri": "https://localhost:8080/"
        },
        "id": "mKvADopCfeoC",
        "outputId": "a88c8518-be7f-457f-a8b6-b603b40ac625"
      },
      "source": [
        "rank_2_tensor"
      ],
      "execution_count": null,
      "outputs": [
        {
          "output_type": "execute_result",
          "data": {
            "text/plain": [
              "<tf.Tensor: shape=(2, 2), dtype=int32, numpy=\n",
              "array([[10,  7],\n",
              "       [ 2,  5]], dtype=int32)>"
            ]
          },
          "metadata": {
            "tags": []
          },
          "execution_count": 38
        }
      ]
    },
    {
      "cell_type": "code",
      "metadata": {
        "colab": {
          "base_uri": "https://localhost:8080/"
        },
        "id": "wzNDT-fwfeks",
        "outputId": "b92ed4bc-0498-4f2e-a1f5-8e8d33a1dac3"
      },
      "source": [
        "rank_2_tensor[...,tf.newaxis]"
      ],
      "execution_count": null,
      "outputs": [
        {
          "output_type": "execute_result",
          "data": {
            "text/plain": [
              "<tf.Tensor: shape=(2, 2, 1), dtype=int32, numpy=\n",
              "array([[[10],\n",
              "        [ 7]],\n",
              "\n",
              "       [[ 2],\n",
              "        [ 5]]], dtype=int32)>"
            ]
          },
          "metadata": {
            "tags": []
          },
          "execution_count": 39
        }
      ]
    },
    {
      "cell_type": "code",
      "metadata": {
        "colab": {
          "base_uri": "https://localhost:8080/"
        },
        "id": "87UTAzBTgZP4",
        "outputId": "81f5d0a3-4b94-4f0e-a401-513c30b00ad9"
      },
      "source": [
        "tf.expand_dims(rank_2_tensor,axis=1)\n"
      ],
      "execution_count": null,
      "outputs": [
        {
          "output_type": "execute_result",
          "data": {
            "text/plain": [
              "<tf.Tensor: shape=(2, 1, 2), dtype=int32, numpy=\n",
              "array([[[10,  7]],\n",
              "\n",
              "       [[ 2,  5]]], dtype=int32)>"
            ]
          },
          "metadata": {
            "tags": []
          },
          "execution_count": 40
        }
      ]
    },
    {
      "cell_type": "markdown",
      "metadata": {
        "id": "kga-v_1EhGIE"
      },
      "source": [
        "**Manipulating tensors**\n",
        "\n",
        "Basic operations\n",
        "\n",
        "`+`,`-`,`*`,`/`"
      ]
    },
    {
      "cell_type": "code",
      "metadata": {
        "colab": {
          "base_uri": "https://localhost:8080/"
        },
        "id": "6aUDu-uPhFqY",
        "outputId": "c6187263-fab6-4b53-83df-32d0decb7a1e"
      },
      "source": [
        "tensor_op1=tf.constant([[10,7],[3,4]])\n",
        "print(tensor_op1+10)\n",
        "print(tensor_op1)#reamins unchanged"
      ],
      "execution_count": null,
      "outputs": [
        {
          "output_type": "stream",
          "text": [
            "tf.Tensor(\n",
            "[[20 17]\n",
            " [13 14]], shape=(2, 2), dtype=int32)\n",
            "tf.Tensor(\n",
            "[[10  7]\n",
            " [ 3  4]], shape=(2, 2), dtype=int32)\n"
          ],
          "name": "stdout"
        }
      ]
    },
    {
      "cell_type": "code",
      "metadata": {
        "colab": {
          "base_uri": "https://localhost:8080/"
        },
        "id": "_hwfox7nGwtP",
        "outputId": "65173997-0759-47fe-f5cf-18b4601343c1"
      },
      "source": [
        "tensor_op1*10"
      ],
      "execution_count": null,
      "outputs": [
        {
          "output_type": "execute_result",
          "data": {
            "text/plain": [
              "<tf.Tensor: shape=(2, 2), dtype=int32, numpy=\n",
              "array([[100,  70],\n",
              "       [ 30,  40]], dtype=int32)>"
            ]
          },
          "metadata": {
            "tags": []
          },
          "execution_count": 42
        }
      ]
    },
    {
      "cell_type": "code",
      "metadata": {
        "colab": {
          "base_uri": "https://localhost:8080/"
        },
        "id": "i0lG5CgxGzyX",
        "outputId": "36c0bb01-4635-4cd5-9681-3f28d6576b15"
      },
      "source": [
        "tensor_op1-10"
      ],
      "execution_count": null,
      "outputs": [
        {
          "output_type": "execute_result",
          "data": {
            "text/plain": [
              "<tf.Tensor: shape=(2, 2), dtype=int32, numpy=\n",
              "array([[ 0, -3],\n",
              "       [-7, -6]], dtype=int32)>"
            ]
          },
          "metadata": {
            "tags": []
          },
          "execution_count": 43
        }
      ]
    },
    {
      "cell_type": "code",
      "metadata": {
        "colab": {
          "base_uri": "https://localhost:8080/"
        },
        "id": "b7SIPcdrG2C5",
        "outputId": "9a713121-b58e-41c4-e150-a917304c8db9"
      },
      "source": [
        "tensor_op1/10"
      ],
      "execution_count": null,
      "outputs": [
        {
          "output_type": "execute_result",
          "data": {
            "text/plain": [
              "<tf.Tensor: shape=(2, 2), dtype=float64, numpy=\n",
              "array([[1. , 0.7],\n",
              "       [0.3, 0.4]])>"
            ]
          },
          "metadata": {
            "tags": []
          },
          "execution_count": 44
        }
      ]
    },
    {
      "cell_type": "code",
      "metadata": {
        "colab": {
          "base_uri": "https://localhost:8080/"
        },
        "id": "QfLIIzaAIdc2",
        "outputId": "1e37c7b0-a9b0-452c-d7a6-1ddf97267558"
      },
      "source": [
        "#use built in functions\n",
        "\n",
        "tf.multiply(tensor_op1,10)"
      ],
      "execution_count": null,
      "outputs": [
        {
          "output_type": "execute_result",
          "data": {
            "text/plain": [
              "<tf.Tensor: shape=(2, 2), dtype=int32, numpy=\n",
              "array([[100,  70],\n",
              "       [ 30,  40]], dtype=int32)>"
            ]
          },
          "metadata": {
            "tags": []
          },
          "execution_count": 45
        }
      ]
    },
    {
      "cell_type": "code",
      "metadata": {
        "colab": {
          "base_uri": "https://localhost:8080/"
        },
        "id": "8d8DtZw7IqAc",
        "outputId": "7b9c4da9-7ae3-492e-cc36-7aff699cf32b"
      },
      "source": [
        "tf.add(tensor_op1,10)"
      ],
      "execution_count": null,
      "outputs": [
        {
          "output_type": "execute_result",
          "data": {
            "text/plain": [
              "<tf.Tensor: shape=(2, 2), dtype=int32, numpy=\n",
              "array([[20, 17],\n",
              "       [13, 14]], dtype=int32)>"
            ]
          },
          "metadata": {
            "tags": []
          },
          "execution_count": 46
        }
      ]
    },
    {
      "cell_type": "code",
      "metadata": {
        "colab": {
          "base_uri": "https://localhost:8080/"
        },
        "id": "NDC1mOYVIwX6",
        "outputId": "9814be90-97bd-40b0-d501-a100fafea38a"
      },
      "source": [
        "tf.subtract(tensor_op1,10)"
      ],
      "execution_count": null,
      "outputs": [
        {
          "output_type": "execute_result",
          "data": {
            "text/plain": [
              "<tf.Tensor: shape=(2, 2), dtype=int32, numpy=\n",
              "array([[ 0, -3],\n",
              "       [-7, -6]], dtype=int32)>"
            ]
          },
          "metadata": {
            "tags": []
          },
          "execution_count": 47
        }
      ]
    },
    {
      "cell_type": "code",
      "metadata": {
        "colab": {
          "base_uri": "https://localhost:8080/"
        },
        "id": "nSd17ygaI1v7",
        "outputId": "07a975d8-aecb-4337-ed61-5871df24d530"
      },
      "source": [
        "tf.divide(tensor_op1,10)"
      ],
      "execution_count": null,
      "outputs": [
        {
          "output_type": "execute_result",
          "data": {
            "text/plain": [
              "<tf.Tensor: shape=(2, 2), dtype=float64, numpy=\n",
              "array([[1. , 0.7],\n",
              "       [0.3, 0.4]])>"
            ]
          },
          "metadata": {
            "tags": []
          },
          "execution_count": 48
        }
      ]
    },
    {
      "cell_type": "markdown",
      "metadata": {
        "id": "9P3yMV_7MkMR"
      },
      "source": [
        "**Matrix multiplication**\n",
        "\n",
        "tensor * tensor => element wise multiplication\n",
        "\n",
        "tf.matmul(tensor,tensor) => dot product\n",
        "\n",
        "tensor @ tensor => dot product (here @ is python operator)"
      ]
    },
    {
      "cell_type": "code",
      "metadata": {
        "colab": {
          "base_uri": "https://localhost:8080/"
        },
        "id": "8wQODMj3MjiB",
        "outputId": "c53e01f0-2893-491c-ec87-78bfb9cdc41f"
      },
      "source": [
        "tensor_op1*tensor_op1"
      ],
      "execution_count": null,
      "outputs": [
        {
          "output_type": "execute_result",
          "data": {
            "text/plain": [
              "<tf.Tensor: shape=(2, 2), dtype=int32, numpy=\n",
              "array([[100,  49],\n",
              "       [  9,  16]], dtype=int32)>"
            ]
          },
          "metadata": {
            "tags": []
          },
          "execution_count": 49
        }
      ]
    },
    {
      "cell_type": "code",
      "metadata": {
        "colab": {
          "base_uri": "https://localhost:8080/"
        },
        "id": "xj7migGtMjeK",
        "outputId": "18d7a568-879e-49be-978c-c32f459c891e"
      },
      "source": [
        "tf.matmul(tensor_op1,tensor_op1)"
      ],
      "execution_count": null,
      "outputs": [
        {
          "output_type": "execute_result",
          "data": {
            "text/plain": [
              "<tf.Tensor: shape=(2, 2), dtype=int32, numpy=\n",
              "array([[121,  98],\n",
              "       [ 42,  37]], dtype=int32)>"
            ]
          },
          "metadata": {
            "tags": []
          },
          "execution_count": 50
        }
      ]
    },
    {
      "cell_type": "code",
      "metadata": {
        "colab": {
          "base_uri": "https://localhost:8080/"
        },
        "id": "AxRaWcUzMjbS",
        "outputId": "69e0bc0d-9089-4463-eb4c-0e5b91e2f0e4"
      },
      "source": [
        "tensor_op1 @ tensor_op1"
      ],
      "execution_count": null,
      "outputs": [
        {
          "output_type": "execute_result",
          "data": {
            "text/plain": [
              "<tf.Tensor: shape=(2, 2), dtype=int32, numpy=\n",
              "array([[121,  98],\n",
              "       [ 42,  37]], dtype=int32)>"
            ]
          },
          "metadata": {
            "tags": []
          },
          "execution_count": 51
        }
      ]
    },
    {
      "cell_type": "code",
      "metadata": {
        "colab": {
          "base_uri": "https://localhost:8080/"
        },
        "id": "uEC03IfhNeQG",
        "outputId": "4e3719d8-a342-4133-d563-787ae41e130b"
      },
      "source": [
        "#create tensor of (3,2)\n",
        "\n",
        "tensor_op2=tf.constant([[3,2],[6,7],[2,0]])\n",
        "print(tensor_op2.shape)\n",
        "\n",
        "tensor_op3=tf.constant([[3,2,0],[6,7,2]])\n",
        "print(tensor_op3.shape)"
      ],
      "execution_count": null,
      "outputs": [
        {
          "output_type": "stream",
          "text": [
            "(3, 2)\n",
            "(2, 3)\n"
          ],
          "name": "stdout"
        }
      ]
    },
    {
      "cell_type": "code",
      "metadata": {
        "colab": {
          "base_uri": "https://localhost:8080/"
        },
        "id": "d_qABFkIOBGH",
        "outputId": "c57cb0dd-d6f3-457d-bde9-43606a0e4ced"
      },
      "source": [
        "tf.linalg.matmul(tensor_op2,tensor_op3)"
      ],
      "execution_count": null,
      "outputs": [
        {
          "output_type": "execute_result",
          "data": {
            "text/plain": [
              "<tf.Tensor: shape=(3, 3), dtype=int32, numpy=\n",
              "array([[21, 20,  4],\n",
              "       [60, 61, 14],\n",
              "       [ 6,  4,  0]], dtype=int32)>"
            ]
          },
          "metadata": {
            "tags": []
          },
          "execution_count": 53
        }
      ]
    },
    {
      "cell_type": "code",
      "metadata": {
        "colab": {
          "base_uri": "https://localhost:8080/"
        },
        "id": "W24C-ZuIOQR5",
        "outputId": "19eae442-e955-467b-fe10-c07817ce0669"
      },
      "source": [
        "\n",
        "tensor_op4=tf.constant([[3,2],[6,7],[2,0]])\n",
        "print(tensor_op4.shape)\n",
        "\n",
        "tensor_op5=tf.constant([[3,2,0],[6,7,2],[1,2,3]])\n",
        "print(tensor_op5.shape)"
      ],
      "execution_count": null,
      "outputs": [
        {
          "output_type": "stream",
          "text": [
            "(3, 2)\n",
            "(3, 3)\n"
          ],
          "name": "stdout"
        }
      ]
    },
    {
      "cell_type": "code",
      "metadata": {
        "id": "U_EwiYHJOdLg"
      },
      "source": [
        "#tensor_op4 @ tensor_op5 =>InvalidArgumentError: Matrix size-incompatible: In[0]: [3,2], In[1]: [3,3] [Op:MatMul]"
      ],
      "execution_count": null,
      "outputs": []
    },
    {
      "cell_type": "code",
      "metadata": {
        "colab": {
          "base_uri": "https://localhost:8080/"
        },
        "id": "-Te2cN8YQZar",
        "outputId": "2d3b134b-671c-412a-a4a9-3a2cf6a536ce"
      },
      "source": [
        "tf.matmul(tensor_op5,tensor_op5)"
      ],
      "execution_count": null,
      "outputs": [
        {
          "output_type": "execute_result",
          "data": {
            "text/plain": [
              "<tf.Tensor: shape=(3, 3), dtype=int32, numpy=\n",
              "array([[21, 20,  4],\n",
              "       [62, 65, 20],\n",
              "       [18, 22, 13]], dtype=int32)>"
            ]
          },
          "metadata": {
            "tags": []
          },
          "execution_count": 58
        }
      ]
    },
    {
      "cell_type": "code",
      "metadata": {
        "colab": {
          "base_uri": "https://localhost:8080/"
        },
        "id": "mYvv1TbOtusN",
        "outputId": "ea2a83bf-53d7-47c4-f6e9-58e40ecf635d"
      },
      "source": [
        "print(tensor_op5)\n",
        "\n",
        "tf.transpose(tensor_op5)"
      ],
      "execution_count": null,
      "outputs": [
        {
          "output_type": "stream",
          "text": [
            "tf.Tensor(\n",
            "[[3 2 0]\n",
            " [6 7 2]\n",
            " [1 2 3]], shape=(3, 3), dtype=int32)\n"
          ],
          "name": "stdout"
        },
        {
          "output_type": "execute_result",
          "data": {
            "text/plain": [
              "<tf.Tensor: shape=(3, 3), dtype=int32, numpy=\n",
              "array([[3, 6, 1],\n",
              "       [2, 7, 2],\n",
              "       [0, 2, 3]], dtype=int32)>"
            ]
          },
          "metadata": {
            "tags": []
          },
          "execution_count": 57
        }
      ]
    },
    {
      "cell_type": "markdown",
      "metadata": {
        "id": "DT18fjf2SPe2"
      },
      "source": [
        "**Tensordot** (also known as tensor contraction) sums the product of elements from a and b over the indices specified by a_axes and b_axes. "
      ]
    },
    {
      "cell_type": "code",
      "metadata": {
        "colab": {
          "base_uri": "https://localhost:8080/"
        },
        "id": "FIkusok7QemB",
        "outputId": "ecf2c8c7-eee1-4115-c956-81a05eda4bd8"
      },
      "source": [
        "tf.tensordot(tensor_op5,tf.transpose(tensor_op5),axes=1)"
      ],
      "execution_count": null,
      "outputs": [
        {
          "output_type": "execute_result",
          "data": {
            "text/plain": [
              "<tf.Tensor: shape=(3, 3), dtype=int32, numpy=\n",
              "array([[13, 32,  7],\n",
              "       [32, 89, 26],\n",
              "       [ 7, 26, 14]], dtype=int32)>"
            ]
          },
          "metadata": {
            "tags": []
          },
          "execution_count": 62
        }
      ]
    },
    {
      "cell_type": "code",
      "metadata": {
        "colab": {
          "base_uri": "https://localhost:8080/"
        },
        "id": "uBzXr0ztSK9w",
        "outputId": "d603ca37-3a13-443d-b57a-4d325e36917a"
      },
      "source": [
        "#lets create another rank 2 tensor and perform tensor dot\n",
        "\n",
        "ten1=tf.constant([[10,7],[3,5]])\n",
        "ten2=tf.constant([[3,4],[10,20]])\n",
        "\n",
        "print(tf.tensordot(ten1,ten2,axes=1))\n",
        "\n",
        "print(tf.matmul(ten1,ten2))\n"
      ],
      "execution_count": null,
      "outputs": [
        {
          "output_type": "stream",
          "text": [
            "tf.Tensor(\n",
            "[[100 180]\n",
            " [ 59 112]], shape=(2, 2), dtype=int32)\n",
            "tf.Tensor(\n",
            "[[100 180]\n",
            " [ 59 112]], shape=(2, 2), dtype=int32)\n"
          ],
          "name": "stdout"
        }
      ]
    },
    {
      "cell_type": "code",
      "metadata": {
        "colab": {
          "base_uri": "https://localhost:8080/"
        },
        "id": "9HjD-zs3UtO-",
        "outputId": "7696e88b-8fa5-41ae-add7-249900494480"
      },
      "source": [
        "print(ten1,ten1.shape)\n",
        "print(tf.reshape(ten1,shape=(4,1)))"
      ],
      "execution_count": null,
      "outputs": [
        {
          "output_type": "stream",
          "text": [
            "tf.Tensor(\n",
            "[[10  7]\n",
            " [ 3  5]], shape=(2, 2), dtype=int32) (2, 2)\n",
            "tf.Tensor(\n",
            "[[10]\n",
            " [ 7]\n",
            " [ 3]\n",
            " [ 5]], shape=(4, 1), dtype=int32)\n"
          ],
          "name": "stdout"
        }
      ]
    },
    {
      "cell_type": "markdown",
      "metadata": {
        "id": "6Xg8BFQGVY_I"
      },
      "source": [
        "**Difference beetween transpose and reshape **"
      ]
    },
    {
      "cell_type": "code",
      "metadata": {
        "colab": {
          "base_uri": "https://localhost:8080/"
        },
        "id": "r9S8D1HPV_36",
        "outputId": "193f2ada-6fec-479a-be70-1ea715fbc5f9"
      },
      "source": [
        "#lets create rank 3 tensor (ndim=3)\n",
        "ten3=tf.constant([\n",
        "                   [[1,2],[4,8]],\n",
        "                   [[9,6],[4,4]],\n",
        "                   [[3,3],[1,0]]\n",
        "])\n",
        "ten3.shape ,ten3.ndim"
      ],
      "execution_count": null,
      "outputs": [
        {
          "output_type": "execute_result",
          "data": {
            "text/plain": [
              "(TensorShape([3, 2, 2]), 3)"
            ]
          },
          "metadata": {
            "tags": []
          },
          "execution_count": 72
        }
      ]
    },
    {
      "cell_type": "code",
      "metadata": {
        "colab": {
          "base_uri": "https://localhost:8080/"
        },
        "id": "xHJ1NGoXW558",
        "outputId": "939246e3-da12-42f3-89a9-e48dd52d222b"
      },
      "source": [
        "import numpy as np\n",
        "arr=np.array([\n",
        "                   [[1,2],\n",
        "                    [4,8]],\n",
        "                   [[9,6],\n",
        "                    [4,4]],\n",
        "                   [[3,3],\n",
        "                    [1,0]]\n",
        "])\n",
        "arr.shape"
      ],
      "execution_count": null,
      "outputs": [
        {
          "output_type": "execute_result",
          "data": {
            "text/plain": [
              "(3, 2, 2)"
            ]
          },
          "metadata": {
            "tags": []
          },
          "execution_count": 77
        }
      ]
    },
    {
      "cell_type": "code",
      "metadata": {
        "colab": {
          "base_uri": "https://localhost:8080/"
        },
        "id": "fy2kaqLGVev4",
        "outputId": "ae4ed08b-e59a-477b-9825-962de0a9b390"
      },
      "source": [
        "print(\"Noraml tensor :\\n\",ten3)\n",
        "\n",
        "print(\"Transposed tensor : \\n\",tf.transpose(ten3))\n",
        "\n",
        "print(\"Reshape tensor : \\n\",tf.reshape(ten3,shape=(2,2,3)))"
      ],
      "execution_count": null,
      "outputs": [
        {
          "output_type": "stream",
          "text": [
            "Noraml tensor :\n",
            " tf.Tensor(\n",
            "[[[1 2]\n",
            "  [4 8]]\n",
            "\n",
            " [[9 6]\n",
            "  [4 4]]\n",
            "\n",
            " [[3 3]\n",
            "  [1 0]]], shape=(3, 2, 2), dtype=int32)\n",
            "Transposed tensor : \n",
            " tf.Tensor(\n",
            "[[[1 9 3]\n",
            "  [4 4 1]]\n",
            "\n",
            " [[2 6 3]\n",
            "  [8 4 0]]], shape=(2, 2, 3), dtype=int32)\n",
            "Reshape tensor : \n",
            " tf.Tensor(\n",
            "[[[1 2 4]\n",
            "  [8 9 6]]\n",
            "\n",
            " [[4 4 3]\n",
            "  [3 1 0]]], shape=(2, 2, 3), dtype=int32)\n"
          ],
          "name": "stdout"
        }
      ]
    },
    {
      "cell_type": "markdown",
      "metadata": {
        "id": "M4BG2YzEbDJy"
      },
      "source": [
        "**Type conversions**\n",
        "\n",
        "Mixed precision is the use of both 16-bit and 32-bit floating-point types in a model during training to make it run faster and use less memory. By keeping certain parts of the model in the 32-bit types for numeric stability, the model will have a lower step time and train equally as well in terms of the evaluation metrics such as accuracy. This guide describes how to use the Keras mixed precision API to speed up your models. Using this API can improve performance by more than 3 times on modern GPUs and 60% on TPUs.\n",
        "\n",
        "Today, most models use the float32 dtype, which takes 32 bits of memory. However, there are two lower-precision dtypes, float16 and bfloat16, each which take 16 bits of memory instead. Modern accelerators can run operations faster in the 16-bit dtypes, as they have specialized hardware to run 16-bit computations and 16-bit dtypes can be read from memory faster.\n",
        "\n",
        "NVIDIA GPUs can run operations in float16 faster than in float32, and TPUs can run operations in bfloat16 faster than float32. Therefore, these lower-precision dtypes should be used whenever possible on those devices. However, variables and a few computations should still be in float32 for numeric reasons so that the model trains to the same quality. The Keras mixed precision API allows you to use a mix of either float16 or bfloat16 with float32, to get the performance benefits from float16/bfloat16 and the numeric stability benefits from float32.\n",
        "\n",
        "\n",
        "*Note: In this guide, the term \"numeric stability\" refers to how a model's quality is affected by the use of a lower-precision dtype instead of a higher precision dtype. We say an operation is \"numerically unstable\" in float16 or bfloat16 if running it in one of those dtypes causes the model to have worse evaluation accuracy or other metrics compared to running the operation in float32.*"
      ]
    },
    {
      "cell_type": "markdown",
      "metadata": {
        "id": "_cEc1S8dcMNt"
      },
      "source": [
        "All Cloud TPUs support bfloat16.\n",
        "You should use mixed precision if you use TPUs or NVIDIA GPUs with at least compute capability 7.0, as it will improve performance by up to 3x.\n",
        "\n",
        "If your model ends in softmax, make sure it is float32. And regardless of what your model ends in, make sure the output is float32\n",
        "\n",
        "Double the training batch size if it does not reduce evaluation accuracy\n",
        "\n",
        "On GPUs, ensure most tensor dimensions are a multiple of 8 to maximize performance\n",
        "\n",
        "\n",
        "Most official models, such as ResNet and Transformer will run using mixed precision by passing --dtype=fp16."
      ]
    },
    {
      "cell_type": "code",
      "metadata": {
        "colab": {
          "base_uri": "https://localhost:8080/"
        },
        "id": "C3IQZrMZRJjy",
        "outputId": "e5080d0d-a3cf-4daf-9c36-3286945dff7c"
      },
      "source": [
        "A=tf.constant([[1.7,5.6]])\n",
        "A,A.dtype"
      ],
      "execution_count": null,
      "outputs": [
        {
          "output_type": "execute_result",
          "data": {
            "text/plain": [
              "(<tf.Tensor: shape=(1, 2), dtype=float32, numpy=array([[1.7, 5.6]], dtype=float32)>,\n",
              " tf.float32)"
            ]
          },
          "metadata": {
            "tags": []
          },
          "execution_count": 4
        }
      ]
    },
    {
      "cell_type": "code",
      "metadata": {
        "colab": {
          "base_uri": "https://localhost:8080/"
        },
        "id": "FrS_jKyTRUkE",
        "outputId": "9aea8266-db19-453d-94c5-d45101043ace"
      },
      "source": [
        "B=tf.cast(A,dtype=tf.float16)\n",
        "B, B.dtype"
      ],
      "execution_count": null,
      "outputs": [
        {
          "output_type": "execute_result",
          "data": {
            "text/plain": [
              "(<tf.Tensor: shape=(1, 2), dtype=float16, numpy=array([[1.7, 5.6]], dtype=float16)>,\n",
              " tf.float16)"
            ]
          },
          "metadata": {
            "tags": []
          },
          "execution_count": 6
        }
      ]
    },
    {
      "cell_type": "code",
      "metadata": {
        "id": "cMU562W_cAaz"
      },
      "source": [
        "#nvidia-smi -L"
      ],
      "execution_count": null,
      "outputs": []
    },
    {
      "cell_type": "markdown",
      "metadata": {
        "id": "wWx6RAEUSXPt"
      },
      "source": [
        "**Aggregating Tensors**\n",
        "\n",
        "condensing tensors from multiple values down to a smaller amount of values"
      ]
    },
    {
      "cell_type": "code",
      "metadata": {
        "colab": {
          "base_uri": "https://localhost:8080/"
        },
        "id": "-VcrDlsESV-I",
        "outputId": "cd32eeb8-f0a9-4e3a-864e-a46a7ca9df76"
      },
      "source": [
        "A1=tf.constant([[-9,-4,-0]])\n",
        "A1"
      ],
      "execution_count": null,
      "outputs": [
        {
          "output_type": "execute_result",
          "data": {
            "text/plain": [
              "<tf.Tensor: shape=(1, 3), dtype=int32, numpy=array([[-9, -4,  0]], dtype=int32)>"
            ]
          },
          "metadata": {
            "tags": []
          },
          "execution_count": 7
        }
      ]
    },
    {
      "cell_type": "code",
      "metadata": {
        "colab": {
          "base_uri": "https://localhost:8080/"
        },
        "id": "plcmnOAPV419",
        "outputId": "3291a976-0a13-49cb-9113-a605b9ccd301"
      },
      "source": [
        "print(tf.abs(A1).numpy()) #gives absolute values"
      ],
      "execution_count": null,
      "outputs": [
        {
          "output_type": "stream",
          "text": [
            "[[9 4 0]]\n"
          ],
          "name": "stdout"
        }
      ]
    },
    {
      "cell_type": "markdown",
      "metadata": {
        "id": "31KMrnxuW9FQ"
      },
      "source": [
        "* Get minimumn\n",
        "* Get maximum\n",
        "* Get mean of tensor\n",
        "* Get sum of tensor"
      ]
    },
    {
      "cell_type": "code",
      "metadata": {
        "id": "FJ39yVhxW8Dy",
        "colab": {
          "base_uri": "https://localhost:8080/"
        },
        "outputId": "9582b9fb-89dc-4b42-9e22-86d1a85c90e1"
      },
      "source": [
        "#create random tensor with values between 0 and 100 of size 50\n",
        "tf.random.set_seed(42)\n",
        "A2=tf.random.Generator.from_seed(42)\n",
        "A2=A2.normal(shape=(1,50))\n",
        "A2"
      ],
      "execution_count": null,
      "outputs": [
        {
          "output_type": "execute_result",
          "data": {
            "text/plain": [
              "<tf.Tensor: shape=(1, 50), dtype=float32, numpy=\n",
              "array([[-0.7565803 , -0.06854702,  0.07595026, -1.2573844 , -0.23193763,\n",
              "        -1.8107855 ,  0.09988727, -0.50998646, -0.7535805 , -0.57166284,\n",
              "         0.1480774 , -0.23362993, -0.3522796 ,  0.40621263, -1.0523509 ,\n",
              "         1.2054597 ,  1.6874489 , -0.4462975 , -2.3410842 ,  0.99009085,\n",
              "        -0.0876323 , -0.635568  , -0.6161736 , -1.9441465 , -0.48293006,\n",
              "        -0.52447474, -1.0345329 ,  1.3066901 , -1.5184573 , -0.4585211 ,\n",
              "         0.5714663 , -1.5331722 ,  0.45331386,  1.1487608 , -1.2659091 ,\n",
              "        -0.47450137,  2.006022  ,  0.28288034, -0.30288252, -1.443651  ,\n",
              "         1.0034493 ,  0.20857747,  0.35700995,  1.0648885 ,  1.2432485 ,\n",
              "        -2.2173238 ,  0.18706243,  0.6617961 ,  0.01380118, -0.24827152]],\n",
              "      dtype=float32)>"
            ]
          },
          "metadata": {
            "tags": []
          },
          "execution_count": 10
        }
      ]
    },
    {
      "cell_type": "code",
      "metadata": {
        "colab": {
          "base_uri": "https://localhost:8080/"
        },
        "id": "hDy7bbqAuzwa",
        "outputId": "a19bdf5c-fbe3-42aa-c093-5a37b99c8e3c"
      },
      "source": [
        "A2.shape,A2.ndim,tf.size(A2)"
      ],
      "execution_count": null,
      "outputs": [
        {
          "output_type": "execute_result",
          "data": {
            "text/plain": [
              "(TensorShape([1, 50]), 2, <tf.Tensor: shape=(), dtype=int32, numpy=50>)"
            ]
          },
          "metadata": {
            "tags": []
          },
          "execution_count": 11
        }
      ]
    },
    {
      "cell_type": "code",
      "metadata": {
        "colab": {
          "base_uri": "https://localhost:8080/"
        },
        "id": "SFhzOf8Ev1UM",
        "outputId": "12f8eda7-404f-42a9-d7b6-ecbdca8949e1"
      },
      "source": [
        "#find minimum of tensor\n",
        "tf.reduce_min(A2)"
      ],
      "execution_count": null,
      "outputs": [
        {
          "output_type": "execute_result",
          "data": {
            "text/plain": [
              "<tf.Tensor: shape=(), dtype=float32, numpy=-2.3410842>"
            ]
          },
          "metadata": {
            "tags": []
          },
          "execution_count": 12
        }
      ]
    },
    {
      "cell_type": "code",
      "metadata": {
        "colab": {
          "base_uri": "https://localhost:8080/"
        },
        "id": "0gcT4fB2v82l",
        "outputId": "762eeb48-1289-44ba-f73b-054695ef5987"
      },
      "source": [
        "#find maximum\n",
        "tf.reduce_max(A2)"
      ],
      "execution_count": null,
      "outputs": [
        {
          "output_type": "execute_result",
          "data": {
            "text/plain": [
              "<tf.Tensor: shape=(), dtype=float32, numpy=2.006022>"
            ]
          },
          "metadata": {
            "tags": []
          },
          "execution_count": 13
        }
      ]
    },
    {
      "cell_type": "code",
      "metadata": {
        "colab": {
          "base_uri": "https://localhost:8080/"
        },
        "id": "YX1E7h3Xv8zG",
        "outputId": "bcf57793-883c-4ae7-8fb3-b02cf44d36c0"
      },
      "source": [
        "#find mean\n",
        "tf.reduce_mean(A2)"
      ],
      "execution_count": null,
      "outputs": [
        {
          "output_type": "execute_result",
          "data": {
            "text/plain": [
              "<tf.Tensor: shape=(), dtype=float32, numpy=-0.20104325>"
            ]
          },
          "metadata": {
            "tags": []
          },
          "execution_count": 14
        }
      ]
    },
    {
      "cell_type": "code",
      "metadata": {
        "colab": {
          "base_uri": "https://localhost:8080/"
        },
        "id": "_1k2XXqewFoQ",
        "outputId": "370470e3-20c2-4719-c253-b7331ebaebb7"
      },
      "source": [
        "#FInd sum\n",
        "tf.reduce_sum(A2)"
      ],
      "execution_count": null,
      "outputs": [
        {
          "output_type": "execute_result",
          "data": {
            "text/plain": [
              "<tf.Tensor: shape=(), dtype=float32, numpy=-10.052162>"
            ]
          },
          "metadata": {
            "tags": []
          },
          "execution_count": 15
        }
      ]
    },
    {
      "cell_type": "code",
      "metadata": {
        "id": "8H7iUn8169CU"
      },
      "source": [
        "import tensorflow_probability as tpf"
      ],
      "execution_count": null,
      "outputs": []
    },
    {
      "cell_type": "code",
      "metadata": {
        "colab": {
          "base_uri": "https://localhost:8080/"
        },
        "id": "oKpAT93swP-W",
        "outputId": "18b69150-5a51-49d9-8f92-fd2c281fcff8"
      },
      "source": [
        "#find variance and std dev\n",
        "tpf.stats.variance(A2)"
      ],
      "execution_count": null,
      "outputs": [
        {
          "output_type": "execute_result",
          "data": {
            "text/plain": [
              "<tf.Tensor: shape=(50,), dtype=float32, numpy=\n",
              "array([0., 0., 0., 0., 0., 0., 0., 0., 0., 0., 0., 0., 0., 0., 0., 0., 0.,\n",
              "       0., 0., 0., 0., 0., 0., 0., 0., 0., 0., 0., 0., 0., 0., 0., 0., 0.,\n",
              "       0., 0., 0., 0., 0., 0., 0., 0., 0., 0., 0., 0., 0., 0., 0., 0.],\n",
              "      dtype=float32)>"
            ]
          },
          "metadata": {
            "tags": []
          },
          "execution_count": 18
        }
      ]
    },
    {
      "cell_type": "code",
      "metadata": {
        "colab": {
          "base_uri": "https://localhost:8080/"
        },
        "id": "Io73wOIv7S9N",
        "outputId": "1f436f77-441c-40fd-bab4-4eacd70842d7"
      },
      "source": [
        "tpf.stats.stddev(A2)"
      ],
      "execution_count": null,
      "outputs": [
        {
          "output_type": "execute_result",
          "data": {
            "text/plain": [
              "<tf.Tensor: shape=(50,), dtype=float32, numpy=\n",
              "array([0., 0., 0., 0., 0., 0., 0., 0., 0., 0., 0., 0., 0., 0., 0., 0., 0.,\n",
              "       0., 0., 0., 0., 0., 0., 0., 0., 0., 0., 0., 0., 0., 0., 0., 0., 0.,\n",
              "       0., 0., 0., 0., 0., 0., 0., 0., 0., 0., 0., 0., 0., 0., 0., 0.],\n",
              "      dtype=float32)>"
            ]
          },
          "metadata": {
            "tags": []
          },
          "execution_count": 19
        }
      ]
    },
    {
      "cell_type": "code",
      "metadata": {
        "colab": {
          "base_uri": "https://localhost:8080/"
        },
        "id": "JiLZ_m2--hxw",
        "outputId": "d57384e9-5cdd-49f2-bdb4-97ebfbd26d21"
      },
      "source": [
        "#create tensor to find maximum positional index\n",
        "tf.random.set_seed(42)\n",
        "C=tf.random.uniform(shape=([50]))\n",
        "C"
      ],
      "execution_count": null,
      "outputs": [
        {
          "output_type": "execute_result",
          "data": {
            "text/plain": [
              "<tf.Tensor: shape=(50,), dtype=float32, numpy=\n",
              "array([0.6645621 , 0.44100678, 0.3528825 , 0.46448255, 0.03366041,\n",
              "       0.68467236, 0.74011743, 0.8724445 , 0.22632635, 0.22319686,\n",
              "       0.3103881 , 0.7223358 , 0.13318717, 0.5480639 , 0.5746088 ,\n",
              "       0.8996835 , 0.00946367, 0.5212307 , 0.6345445 , 0.1993283 ,\n",
              "       0.72942245, 0.54583454, 0.10756552, 0.6767061 , 0.6602763 ,\n",
              "       0.33695042, 0.60141766, 0.21062577, 0.8527372 , 0.44062173,\n",
              "       0.9485276 , 0.23752594, 0.81179297, 0.5263394 , 0.494308  ,\n",
              "       0.21612847, 0.8457197 , 0.8718841 , 0.3083862 , 0.6868038 ,\n",
              "       0.23764038, 0.7817228 , 0.9671384 , 0.06870162, 0.79873943,\n",
              "       0.66028714, 0.5871513 , 0.16461694, 0.7381023 , 0.32054043],\n",
              "      dtype=float32)>"
            ]
          },
          "metadata": {
            "tags": []
          },
          "execution_count": 22
        }
      ]
    },
    {
      "cell_type": "code",
      "metadata": {
        "colab": {
          "base_uri": "https://localhost:8080/"
        },
        "id": "th6ciqj0-huL",
        "outputId": "7710941e-e2ad-41c4-af83-08b29fdf743b"
      },
      "source": [
        "tf.argmax(C)"
      ],
      "execution_count": null,
      "outputs": [
        {
          "output_type": "execute_result",
          "data": {
            "text/plain": [
              "<tf.Tensor: shape=(), dtype=int64, numpy=42>"
            ]
          },
          "metadata": {
            "tags": []
          },
          "execution_count": 24
        }
      ]
    },
    {
      "cell_type": "code",
      "metadata": {
        "colab": {
          "base_uri": "https://localhost:8080/"
        },
        "id": "S6JIg9Xr-8l4",
        "outputId": "4be93a9f-f4d9-40f3-c353-184ea5837f93"
      },
      "source": [
        "C[tf.argmax(C)]"
      ],
      "execution_count": null,
      "outputs": [
        {
          "output_type": "execute_result",
          "data": {
            "text/plain": [
              "<tf.Tensor: shape=(), dtype=float32, numpy=0.9671384>"
            ]
          },
          "metadata": {
            "tags": []
          },
          "execution_count": 25
        }
      ]
    },
    {
      "cell_type": "code",
      "metadata": {
        "colab": {
          "base_uri": "https://localhost:8080/"
        },
        "id": "YXCjVogw-8iU",
        "outputId": "e87edd1d-5b98-42c6-9aec-80adf1408ffb"
      },
      "source": [
        "C[tf.argmax(C)]==tf.reduce_max(C)"
      ],
      "execution_count": null,
      "outputs": [
        {
          "output_type": "execute_result",
          "data": {
            "text/plain": [
              "<tf.Tensor: shape=(), dtype=bool, numpy=True>"
            ]
          },
          "metadata": {
            "tags": []
          },
          "execution_count": 28
        }
      ]
    },
    {
      "cell_type": "code",
      "metadata": {
        "colab": {
          "base_uri": "https://localhost:8080/"
        },
        "id": "EMtVpFIE-8fL",
        "outputId": "3b88f0c7-8c73-4051-896c-d9fc672a4014"
      },
      "source": [
        "tf.argmin(C)"
      ],
      "execution_count": null,
      "outputs": [
        {
          "output_type": "execute_result",
          "data": {
            "text/plain": [
              "<tf.Tensor: shape=(), dtype=int64, numpy=16>"
            ]
          },
          "metadata": {
            "tags": []
          },
          "execution_count": 29
        }
      ]
    },
    {
      "cell_type": "code",
      "metadata": {
        "colab": {
          "base_uri": "https://localhost:8080/"
        },
        "id": "D0AOHpL5_iyH",
        "outputId": "6849deaf-7be4-4bd0-fd1b-2d49ee7ba3a1"
      },
      "source": [
        "C[tf.argmin(C)]"
      ],
      "execution_count": null,
      "outputs": [
        {
          "output_type": "execute_result",
          "data": {
            "text/plain": [
              "<tf.Tensor: shape=(), dtype=float32, numpy=0.009463668>"
            ]
          },
          "metadata": {
            "tags": []
          },
          "execution_count": 30
        }
      ]
    },
    {
      "cell_type": "markdown",
      "metadata": {
        "id": "6fkx-MXc_40T"
      },
      "source": [
        "**Squeezing a tensor**"
      ]
    },
    {
      "cell_type": "code",
      "metadata": {
        "colab": {
          "base_uri": "https://localhost:8080/"
        },
        "id": "MST_YJ9O_iug",
        "outputId": "73445767-aa94-430c-e55b-c0c38421f9d0"
      },
      "source": [
        "#create tensor\n",
        "tf.random.set_seed(42)\n",
        "D=tf.constant(tf.random.uniform(shape=[50]),shape=(1,1,1,1,50))\n",
        "D"
      ],
      "execution_count": null,
      "outputs": [
        {
          "output_type": "execute_result",
          "data": {
            "text/plain": [
              "<tf.Tensor: shape=(1, 1, 1, 1, 50), dtype=float32, numpy=\n",
              "array([[[[[0.6645621 , 0.44100678, 0.3528825 , 0.46448255, 0.03366041,\n",
              "           0.68467236, 0.74011743, 0.8724445 , 0.22632635, 0.22319686,\n",
              "           0.3103881 , 0.7223358 , 0.13318717, 0.5480639 , 0.5746088 ,\n",
              "           0.8996835 , 0.00946367, 0.5212307 , 0.6345445 , 0.1993283 ,\n",
              "           0.72942245, 0.54583454, 0.10756552, 0.6767061 , 0.6602763 ,\n",
              "           0.33695042, 0.60141766, 0.21062577, 0.8527372 , 0.44062173,\n",
              "           0.9485276 , 0.23752594, 0.81179297, 0.5263394 , 0.494308  ,\n",
              "           0.21612847, 0.8457197 , 0.8718841 , 0.3083862 , 0.6868038 ,\n",
              "           0.23764038, 0.7817228 , 0.9671384 , 0.06870162, 0.79873943,\n",
              "           0.66028714, 0.5871513 , 0.16461694, 0.7381023 , 0.32054043]]]]],\n",
              "      dtype=float32)>"
            ]
          },
          "metadata": {
            "tags": []
          },
          "execution_count": 34
        }
      ]
    },
    {
      "cell_type": "code",
      "metadata": {
        "colab": {
          "base_uri": "https://localhost:8080/"
        },
        "id": "6EoLmY3u_irU",
        "outputId": "d56c3c88-bcd2-452c-9100-5a42afb87300"
      },
      "source": [
        "D.ndim"
      ],
      "execution_count": null,
      "outputs": [
        {
          "output_type": "execute_result",
          "data": {
            "text/plain": [
              "5"
            ]
          },
          "metadata": {
            "tags": []
          },
          "execution_count": 35
        }
      ]
    },
    {
      "cell_type": "code",
      "metadata": {
        "colab": {
          "base_uri": "https://localhost:8080/"
        },
        "id": "DPnt16dJBJ_S",
        "outputId": "0e2b235e-8636-4139-b0fa-fd513df681c4"
      },
      "source": [
        "D_squeezed=tf.squeeze(D)\n",
        "D_squeezed,D_squeezed.shape"
      ],
      "execution_count": null,
      "outputs": [
        {
          "output_type": "execute_result",
          "data": {
            "text/plain": [
              "(<tf.Tensor: shape=(50,), dtype=float32, numpy=\n",
              " array([0.6645621 , 0.44100678, 0.3528825 , 0.46448255, 0.03366041,\n",
              "        0.68467236, 0.74011743, 0.8724445 , 0.22632635, 0.22319686,\n",
              "        0.3103881 , 0.7223358 , 0.13318717, 0.5480639 , 0.5746088 ,\n",
              "        0.8996835 , 0.00946367, 0.5212307 , 0.6345445 , 0.1993283 ,\n",
              "        0.72942245, 0.54583454, 0.10756552, 0.6767061 , 0.6602763 ,\n",
              "        0.33695042, 0.60141766, 0.21062577, 0.8527372 , 0.44062173,\n",
              "        0.9485276 , 0.23752594, 0.81179297, 0.5263394 , 0.494308  ,\n",
              "        0.21612847, 0.8457197 , 0.8718841 , 0.3083862 , 0.6868038 ,\n",
              "        0.23764038, 0.7817228 , 0.9671384 , 0.06870162, 0.79873943,\n",
              "        0.66028714, 0.5871513 , 0.16461694, 0.7381023 , 0.32054043],\n",
              "       dtype=float32)>, TensorShape([50]))"
            ]
          },
          "metadata": {
            "tags": []
          },
          "execution_count": 36
        }
      ]
    },
    {
      "cell_type": "markdown",
      "metadata": {
        "id": "bmz8pnf5Zk8-"
      },
      "source": [
        "**one hot encoding**"
      ]
    },
    {
      "cell_type": "code",
      "metadata": {
        "id": "vQSveK0dBJ7r",
        "colab": {
          "base_uri": "https://localhost:8080/"
        },
        "outputId": "08a91441-b234-4803-9643-0d9cd13b1c37"
      },
      "source": [
        "some_list=[0,1,2,3]\n",
        "tf.one_hot(some_list,depth=4)"
      ],
      "execution_count": null,
      "outputs": [
        {
          "output_type": "execute_result",
          "data": {
            "text/plain": [
              "<tf.Tensor: shape=(4, 4), dtype=float32, numpy=\n",
              "array([[1., 0., 0., 0.],\n",
              "       [0., 1., 0., 0.],\n",
              "       [0., 0., 1., 0.],\n",
              "       [0., 0., 0., 1.]], dtype=float32)>"
            ]
          },
          "metadata": {
            "tags": []
          },
          "execution_count": 7
        }
      ]
    },
    {
      "cell_type": "markdown",
      "metadata": {
        "id": "bChHRbpqcKlK"
      },
      "source": [
        "**Squere   Squere root   log**"
      ]
    },
    {
      "cell_type": "code",
      "metadata": {
        "colab": {
          "base_uri": "https://localhost:8080/"
        },
        "id": "kynorRI7cKMe",
        "outputId": "288a5fab-3216-4a69-8139-17ebcb7fb53a"
      },
      "source": [
        "H=tf.range(1,10)\n",
        "H\n"
      ],
      "execution_count": null,
      "outputs": [
        {
          "output_type": "execute_result",
          "data": {
            "text/plain": [
              "<tf.Tensor: shape=(9,), dtype=int32, numpy=array([1, 2, 3, 4, 5, 6, 7, 8, 9], dtype=int32)>"
            ]
          },
          "metadata": {
            "tags": []
          },
          "execution_count": 8
        }
      ]
    },
    {
      "cell_type": "code",
      "metadata": {
        "id": "Fa-j0vpXBJ4w",
        "colab": {
          "base_uri": "https://localhost:8080/"
        },
        "outputId": "da62d98b-4fab-4f19-c6ef-21eb8e659a36"
      },
      "source": [
        "tf.math.square(H)"
      ],
      "execution_count": null,
      "outputs": [
        {
          "output_type": "execute_result",
          "data": {
            "text/plain": [
              "<tf.Tensor: shape=(9,), dtype=int32, numpy=array([ 1,  4,  9, 16, 25, 36, 49, 64, 81], dtype=int32)>"
            ]
          },
          "metadata": {
            "tags": []
          },
          "execution_count": 9
        }
      ]
    },
    {
      "cell_type": "code",
      "metadata": {
        "id": "SfsPZg__BJ1g"
      },
      "source": [
        "#tf.math.sqrt(H) #type error/Invalid argument error this method accepts float /complex values"
      ],
      "execution_count": null,
      "outputs": []
    },
    {
      "cell_type": "code",
      "metadata": {
        "id": "toJcofI6BJyM",
        "colab": {
          "base_uri": "https://localhost:8080/"
        },
        "outputId": "28da8ed1-c19e-4b02-c7ab-2a04af9f8ac6"
      },
      "source": [
        "tf.math.sqrt(tf.cast(H,dtype=tf.float32))"
      ],
      "execution_count": null,
      "outputs": [
        {
          "output_type": "execute_result",
          "data": {
            "text/plain": [
              "<tf.Tensor: shape=(9,), dtype=float32, numpy=\n",
              "array([0.99999994, 1.4142134 , 1.7320508 , 1.9999999 , 2.236068  ,\n",
              "       2.4494896 , 2.6457512 , 2.8284268 , 3.        ], dtype=float32)>"
            ]
          },
          "metadata": {
            "tags": []
          },
          "execution_count": 12
        }
      ]
    },
    {
      "cell_type": "code",
      "metadata": {
        "colab": {
          "base_uri": "https://localhost:8080/"
        },
        "id": "jPjVisRFdMAv",
        "outputId": "456901ae-0cb7-4fa4-8950-943f3cd958f4"
      },
      "source": [
        "tf.math.log(tf.cast(H,dtype=tf.float32))"
      ],
      "execution_count": null,
      "outputs": [
        {
          "output_type": "execute_result",
          "data": {
            "text/plain": [
              "<tf.Tensor: shape=(9,), dtype=float32, numpy=\n",
              "array([0.       , 0.6931472, 1.0986123, 1.3862944, 1.609438 , 1.7917595,\n",
              "       1.9459102, 2.0794415, 2.1972246], dtype=float32)>"
            ]
          },
          "metadata": {
            "tags": []
          },
          "execution_count": 13
        }
      ]
    },
    {
      "cell_type": "markdown",
      "metadata": {
        "id": "xAZBWuVUdtNL"
      },
      "source": [
        "**Tensor and Numpy**"
      ]
    },
    {
      "cell_type": "code",
      "metadata": {
        "id": "V-1XyFvzeDGP"
      },
      "source": [
        "import numpy as np"
      ],
      "execution_count": null,
      "outputs": []
    },
    {
      "cell_type": "code",
      "metadata": {
        "colab": {
          "base_uri": "https://localhost:8080/"
        },
        "id": "8ocnYzykeAmJ",
        "outputId": "50188683-7021-45fb-867c-647e3a2fdbc6"
      },
      "source": [
        "J=tf.constant(np.array([1.,2.,56.]))\n",
        "J"
      ],
      "execution_count": null,
      "outputs": [
        {
          "output_type": "execute_result",
          "data": {
            "text/plain": [
              "<tf.Tensor: shape=(3,), dtype=float64, numpy=array([ 1.,  2., 56.])>"
            ]
          },
          "metadata": {
            "tags": []
          },
          "execution_count": 15
        }
      ]
    },
    {
      "cell_type": "code",
      "metadata": {
        "colab": {
          "base_uri": "https://localhost:8080/"
        },
        "id": "LR7H61cVeAio",
        "outputId": "0a20099d-8130-4b99-b35b-1d3b7f2d422c"
      },
      "source": [
        "np.array(J),type(np.array(J))"
      ],
      "execution_count": null,
      "outputs": [
        {
          "output_type": "execute_result",
          "data": {
            "text/plain": [
              "(array([ 1.,  2., 56.]), numpy.ndarray)"
            ]
          },
          "metadata": {
            "tags": []
          },
          "execution_count": 16
        }
      ]
    },
    {
      "cell_type": "code",
      "metadata": {
        "colab": {
          "base_uri": "https://localhost:8080/"
        },
        "id": "tmAaHoL7eAfZ",
        "outputId": "218a3249-682b-497c-f6c7-2bcbb3c5e2ef"
      },
      "source": [
        "J.numpy(), type(J.numpy())"
      ],
      "execution_count": null,
      "outputs": [
        {
          "output_type": "execute_result",
          "data": {
            "text/plain": [
              "(array([ 1.,  2., 56.]), numpy.ndarray)"
            ]
          },
          "metadata": {
            "tags": []
          },
          "execution_count": 19
        }
      ]
    },
    {
      "cell_type": "code",
      "metadata": {
        "colab": {
          "base_uri": "https://localhost:8080/"
        },
        "id": "Bb7RHN1He20w",
        "outputId": "8cb71437-21b0-4fec-c4ee-b9be1f79701d"
      },
      "source": [
        "numpy_J=tf.constant(np.array([1,2,3]))\n",
        "tf_J=tf.constant([1,2,3])\n",
        "\n",
        "print(type(numpy_J))\n",
        "print(type(tf_J))\n",
        "\n",
        "\n",
        "print(numpy_J.dtype)\n",
        "print(tf_J.dtype)\n"
      ],
      "execution_count": null,
      "outputs": [
        {
          "output_type": "stream",
          "text": [
            "<class 'tensorflow.python.framework.ops.EagerTensor'>\n",
            "<class 'tensorflow.python.framework.ops.EagerTensor'>\n",
            "<dtype: 'int64'>\n",
            "<dtype: 'int32'>\n"
          ],
          "name": "stdout"
        }
      ]
    },
    {
      "cell_type": "markdown",
      "metadata": {
        "id": "e0T5zqJnaPgm"
      },
      "source": [
        "References:\n",
        "\n",
        "https://www.youtube.com/watch?v=tpCFfeUEGs8\n",
        "\n",
        "https://www.tensorflow.org/\n"
      ]
    }
  ]
}