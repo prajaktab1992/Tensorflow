{
  "nbformat": 4,
  "nbformat_minor": 0,
  "metadata": {
    "colab": {
      "name": "Tensorflow_transferLearning_experiments.ipynb",
      "provenance": [],
      "collapsed_sections": [],
      "toc_visible": true
    },
    "kernelspec": {
      "name": "python3",
      "display_name": "Python 3"
    },
    "language_info": {
      "name": "python"
    },
    "accelerator": "GPU"
  },
  "cells": [
    {
      "cell_type": "markdown",
      "metadata": {
        "id": "A-0QVjAnWg8l"
      },
      "source": [
        "##`Experiment 1`"
      ]
    },
    {
      "cell_type": "code",
      "metadata": {
        "colab": {
          "base_uri": "https://localhost:8080/"
        },
        "id": "Hdpotw7TNk2y",
        "outputId": "082dc900-697d-41ef-9ec1-a984b3cb75ca"
      },
      "source": [
        "#get data\n",
        "!wget https://storage.googleapis.com/ztm_tf_course/food_vision/10_food_classes_1_percent.zip\n",
        "\n",
        "import zipfile\n",
        "zip_ref=zipfile.ZipFile(\"10_food_classes_1_percent.zip\")\n",
        "zip_ref.extractall()\n",
        "zip_ref.close()"
      ],
      "execution_count": 1,
      "outputs": [
        {
          "output_type": "stream",
          "text": [
            "--2021-06-04 05:14:06--  https://storage.googleapis.com/ztm_tf_course/food_vision/10_food_classes_1_percent.zip\n",
            "Resolving storage.googleapis.com (storage.googleapis.com)... 142.250.141.128, 74.125.137.128, 2607:f8b0:4023:c0b::80, ...\n",
            "Connecting to storage.googleapis.com (storage.googleapis.com)|142.250.141.128|:443... connected.\n",
            "HTTP request sent, awaiting response... 200 OK\n",
            "Length: 133612354 (127M) [application/zip]\n",
            "Saving to: ‘10_food_classes_1_percent.zip’\n",
            "\n",
            "10_food_classes_1_p 100%[===================>] 127.42M   206MB/s    in 0.6s    \n",
            "\n",
            "2021-06-04 05:14:06 (206 MB/s) - ‘10_food_classes_1_percent.zip’ saved [133612354/133612354]\n",
            "\n"
          ],
          "name": "stdout"
        }
      ]
    },
    {
      "cell_type": "markdown",
      "metadata": {
        "id": "WvgmGuNOyS4w"
      },
      "source": [
        "Data augmentation layer as we know most of the preprocessing happens on CPU of the machine.`tensorflow.keras.ImageDataGenerator` also generate data on the fly but on CPU of the machine which takes significant amount of time while training.\n",
        "\n",
        "\n",
        "Tensorflow comes with `tensorflow.kears.layers.experimental.preprocessing` which we can add in our model.\n",
        "\n",
        "Benefits of using preprocesing layer for data augmentation is tha:\n",
        "* Pre-processing will happen on GPU resulting in faster training time\n",
        "* This layer will be off automatically at the time of back proagation and inference time(or at the time of evaluation) so that test data will not get aurmented.\n",
        "* With Keras preprocessing layers, you can build and export models that are truly end-to-end: models that accept raw images or raw structured data as input; models that handle feature normalization or feature value indexing on their own.\n"
      ]
    },
    {
      "cell_type": "code",
      "metadata": {
        "colab": {
          "base_uri": "https://localhost:8080/"
        },
        "id": "Ue-YO3IZ3ZVY",
        "outputId": "8d8ae184-ae05-4e10-8c84-156f4a43ce4a"
      },
      "source": [
        "#load data\n",
        "IMAGE_SHAPE=(224,224)\n",
        "BATCH_SIZE=32\n",
        "\n",
        "train_dir=\"10_food_classes_1_percent/train\"\n",
        "test_dir=\"10_food_classes_1_percent/test\"\n",
        "\n",
        "\n",
        "from tensorflow.keras.preprocessing import image_dataset_from_directory\n",
        "\n",
        "train_data_1_percent=image_dataset_from_directory(train_dir,\n",
        "                                                   image_size=IMAGE_SHAPE,\n",
        "                                                   batch_size=BATCH_SIZE,\n",
        "                                                   label_mode=\"categorical\"\n",
        "                                                   )\n",
        "\n",
        "test_data=image_dataset_from_directory(test_dir,\n",
        "                                                  image_size=IMAGE_SHAPE,\n",
        "                                                  batch_size=BATCH_SIZE,\n",
        "                                                  label_mode=\"categorical\")"
      ],
      "execution_count": 2,
      "outputs": [
        {
          "output_type": "stream",
          "text": [
            "Found 70 files belonging to 10 classes.\n",
            "Found 2500 files belonging to 10 classes.\n"
          ],
          "name": "stdout"
        }
      ]
    },
    {
      "cell_type": "code",
      "metadata": {
        "id": "k1d6gRjTyFVd"
      },
      "source": [
        "from tensorflow.keras.layers.experimental import preprocessing"
      ],
      "execution_count": 3,
      "outputs": []
    },
    {
      "cell_type": "code",
      "metadata": {
        "id": "3MxoRcaB1LBY"
      },
      "source": [
        "import tensorflow as tf\n",
        "tf.random.set_seed(42)"
      ],
      "execution_count": 4,
      "outputs": []
    },
    {
      "cell_type": "code",
      "metadata": {
        "id": "e9E0iyEC0ce3"
      },
      "source": [
        "data_augmentation=tf.keras.Sequential([\n",
        "                       preprocessing.RandomFlip(\"horizontal\"),\n",
        "                       #preprocessing.Rescaling(1/255.),\n",
        "                       preprocessing.RandomZoom(0.2),\n",
        "                       preprocessing.RandomContrast(0.2),\n",
        "                       preprocessing.RandomRotation(0.2),\n",
        "                       preprocessing.RandomHeight(0.2),\n",
        "                       preprocessing.RandomWidth(0.2)                \n",
        "])"
      ],
      "execution_count": 5,
      "outputs": []
    },
    {
      "cell_type": "code",
      "metadata": {
        "colab": {
          "base_uri": "https://localhost:8080/"
        },
        "id": "fepZxUYi1rnf",
        "outputId": "6847bd39-5421-4ed8-b4a7-e83a0f77c455"
      },
      "source": [
        "INPUT_SHAPE=(224,224,3)\n",
        "num_Classes=10\n",
        "\n",
        "#createmodel using functional api\n",
        "\n",
        "inputs=tf.keras.Input(shape=INPUT_SHAPE)\n",
        "\n",
        "#add data augmentation layer\n",
        "x=data_augmentation(inputs)\n",
        "\n",
        "#add efficientnet layer\n",
        "base_model=tf.keras.applications.EfficientNetB0(include_top=False)\n",
        "base_model.trainable=False\n",
        "\n",
        "x=base_model(x,training=False)\n",
        "\n",
        "#create output layer\n",
        "x=tf.keras.layers.GlobalAveragePooling2D()(x)\n",
        "\n",
        "outputs=tf.keras.layers.Dense(10,activation=\"softmax\")(x)\n",
        "\n",
        "model_1=tf.keras.Model(inputs,outputs)\n",
        "\n",
        "model_1.compile(loss=tf.keras.losses.categorical_crossentropy,\n",
        "                optimizer=tf.keras.optimizers.Adam(),\n",
        "                metrics=[\"accuracy\"])\n",
        "\n",
        "history_1=model_1.fit(train_data_1_percent,\n",
        "                      epochs=5,\n",
        "                      steps_per_epoch=len(train_data_1_percent),\n",
        "                      validation_steps=len(test_data),\n",
        "                      validation_data=test_data)"
      ],
      "execution_count": 6,
      "outputs": [
        {
          "output_type": "stream",
          "text": [
            "Downloading data from https://storage.googleapis.com/keras-applications/efficientnetb0_notop.h5\n",
            "16711680/16705208 [==============================] - 0s 0us/step\n",
            "Epoch 1/5\n",
            "3/3 [==============================] - 45s 5s/step - loss: 2.3958 - accuracy: 0.0857 - val_loss: 2.3461 - val_accuracy: 0.1164\n",
            "Epoch 2/5\n",
            "3/3 [==============================] - 9s 4s/step - loss: 2.1675 - accuracy: 0.2143 - val_loss: 2.2102 - val_accuracy: 0.1892\n",
            "Epoch 3/5\n",
            "3/3 [==============================] - 9s 4s/step - loss: 1.9536 - accuracy: 0.3714 - val_loss: 2.0971 - val_accuracy: 0.2680\n",
            "Epoch 4/5\n",
            "3/3 [==============================] - 9s 4s/step - loss: 1.7977 - accuracy: 0.5286 - val_loss: 1.9952 - val_accuracy: 0.3332\n",
            "Epoch 5/5\n",
            "3/3 [==============================] - 10s 5s/step - loss: 1.6582 - accuracy: 0.5714 - val_loss: 1.9027 - val_accuracy: 0.3772\n"
          ],
          "name": "stdout"
        }
      ]
    },
    {
      "cell_type": "code",
      "metadata": {
        "colab": {
          "base_uri": "https://localhost:8080/"
        },
        "id": "FJjpzBjq30ev",
        "outputId": "a991441a-4607-4d68-faf9-9e8437ccac9e"
      },
      "source": [
        "model_1.summary()"
      ],
      "execution_count": 7,
      "outputs": [
        {
          "output_type": "stream",
          "text": [
            "Model: \"model\"\n",
            "_________________________________________________________________\n",
            "Layer (type)                 Output Shape              Param #   \n",
            "=================================================================\n",
            "input_1 (InputLayer)         [(None, 224, 224, 3)]     0         \n",
            "_________________________________________________________________\n",
            "sequential (Sequential)      (None, None, None, 3)     0         \n",
            "_________________________________________________________________\n",
            "efficientnetb0 (Functional)  (None, None, None, 1280)  4049571   \n",
            "_________________________________________________________________\n",
            "global_average_pooling2d (Gl (None, 1280)              0         \n",
            "_________________________________________________________________\n",
            "dense (Dense)                (None, 10)                12810     \n",
            "=================================================================\n",
            "Total params: 4,062,381\n",
            "Trainable params: 12,810\n",
            "Non-trainable params: 4,049,571\n",
            "_________________________________________________________________\n"
          ],
          "name": "stdout"
        }
      ]
    },
    {
      "cell_type": "markdown",
      "metadata": {
        "id": "cNgbNnrsQKpc"
      },
      "source": [
        "##`Experiment 2`\n",
        "Carry out above experiment with 10% of data"
      ]
    },
    {
      "cell_type": "code",
      "metadata": {
        "colab": {
          "base_uri": "https://localhost:8080/"
        },
        "id": "zMtF6ppBPc-n",
        "outputId": "ba34ae68-c798-48f7-a3ce-1785cebfdcd1"
      },
      "source": [
        "#Lets download data\n",
        "import zipfile\n",
        "\n",
        "!wget https://storage.googleapis.com/ztm_tf_course/food_vision/10_food_classes_10_percent.zip"
      ],
      "execution_count": 8,
      "outputs": [
        {
          "output_type": "stream",
          "text": [
            "--2021-06-04 05:15:43--  https://storage.googleapis.com/ztm_tf_course/food_vision/10_food_classes_10_percent.zip\n",
            "Resolving storage.googleapis.com (storage.googleapis.com)... 142.250.141.128, 74.125.137.128, 2607:f8b0:4023:c0b::80, ...\n",
            "Connecting to storage.googleapis.com (storage.googleapis.com)|142.250.141.128|:443... connected.\n",
            "HTTP request sent, awaiting response... 200 OK\n",
            "Length: 168546183 (161M) [application/zip]\n",
            "Saving to: ‘10_food_classes_10_percent.zip’\n",
            "\n",
            "10_food_classes_10_ 100%[===================>] 160.74M   107MB/s    in 1.5s    \n",
            "\n",
            "2021-06-04 05:15:45 (107 MB/s) - ‘10_food_classes_10_percent.zip’ saved [168546183/168546183]\n",
            "\n"
          ],
          "name": "stdout"
        }
      ]
    },
    {
      "cell_type": "code",
      "metadata": {
        "id": "SX5oHdSKQYbY"
      },
      "source": [
        "zip_ref=zipfile.ZipFile(\"10_food_classes_10_percent.zip\")\n",
        "zip_ref.extractall()\n",
        "zip_ref.close()"
      ],
      "execution_count": 9,
      "outputs": []
    },
    {
      "cell_type": "code",
      "metadata": {
        "colab": {
          "base_uri": "https://localhost:8080/"
        },
        "id": "BcirOARyQl5P",
        "outputId": "aaaf228d-1087-4845-b8c3-fefa1d2c2618"
      },
      "source": [
        "#create batches\n",
        "from tensorflow.keras.preprocessing import image_dataset_from_directory\n",
        "train_dir=\"10_food_classes_10_percent/train\"\n",
        "test_dir=\"10_food_classes_10_percent/test\"\n",
        "train_data_10_percent=image_dataset_from_directory(train_dir,\n",
        "                                                   image_size=(224,224),\n",
        "                                                   label_mode=\"categorical\",\n",
        "                                                   batch_size=32)\n",
        "\n",
        "test_data=image_dataset_from_directory(test_dir,\n",
        "                                      image_size=(224,224),\n",
        "                                      batch_size=32,\n",
        "                                      label_mode=\"categorical\")\n",
        "\n"
      ],
      "execution_count": 10,
      "outputs": [
        {
          "output_type": "stream",
          "text": [
            "Found 750 files belonging to 10 classes.\n",
            "Found 2500 files belonging to 10 classes.\n"
          ],
          "name": "stdout"
        }
      ]
    },
    {
      "cell_type": "code",
      "metadata": {
        "id": "WRjh4m3cSr-l"
      },
      "source": [
        "#create data augmentation layer\n",
        "from tensorflow.keras.layers.experimental import preprocessing\n",
        "data_augmentation=tf.keras.Sequential([\n",
        "  preprocessing.RandomContrast(0.3),\n",
        "  preprocessing.RandomFlip(\"horizontal\"),\n",
        "  preprocessing.RandomHeight(0.2),\n",
        "  preprocessing.RandomWidth(0.2),\n",
        "  preprocessing.RandomRotation(0.2),\n",
        "  preprocessing.RandomZoom(0.2)                                       \n",
        "])"
      ],
      "execution_count": 11,
      "outputs": []
    },
    {
      "cell_type": "code",
      "metadata": {
        "colab": {
          "base_uri": "https://localhost:8080/"
        },
        "id": "ftI57fDjRyzb",
        "outputId": "02dd4527-81c4-4edc-f784-82461be594e0"
      },
      "source": [
        "#create model2 \n",
        "\n",
        "#get base model\n",
        "base_model=tf.keras.applications.EfficientNetB0(include_top=False)\n",
        "base_model.trainable=False\n",
        "\n",
        "#create input layer\n",
        "inputs=tf.keras.Input(shape=(224,224,3))\n",
        "\n",
        "#pass input to data aug layer\n",
        "x=data_augmentation(inputs)\n",
        "\n",
        "#pass output of data aug layer to base model and keep training false(we dont want to train batch norm layers)\n",
        "x=base_model(x,training=False)\n",
        "\n",
        "#pass output of base model features to global average pooling layer\n",
        "x=tf.keras.layers.GlobalAveragePooling2D(name=\"global_avg_pooling_layer\")(x)\n",
        "\n",
        "#create dense layer for classification\n",
        "outputs=tf.keras.layers.Dense(10,activation=\"softmax\")(x)\n",
        "\n",
        "\n",
        "#create keras Model\n",
        "model_2=tf.keras.Model(inputs,outputs)\n",
        "\n",
        "#compile model\n",
        "model_2.compile(loss=tf.keras.losses.categorical_crossentropy,\n",
        "                optimizer=tf.keras.optimizers.Adam(),\n",
        "                metrics=[\"accuracy\"])\n",
        "\n",
        "#fit the model on 10% data\n",
        "history_2=model_2.fit(train_data_10_percent,\n",
        "                      epochs=5,\n",
        "                      steps_per_epoch=len(train_data_10_percent),\n",
        "                      validation_data=test_data,\n",
        "                      validation_steps=len(test_data))\n",
        "\n",
        "\n"
      ],
      "execution_count": 12,
      "outputs": [
        {
          "output_type": "stream",
          "text": [
            "Epoch 1/5\n",
            "24/24 [==============================] - 24s 825ms/step - loss: 1.9875 - accuracy: 0.3400 - val_loss: 1.4583 - val_accuracy: 0.6644\n",
            "Epoch 2/5\n",
            "24/24 [==============================] - 16s 679ms/step - loss: 1.3695 - accuracy: 0.6480 - val_loss: 1.0512 - val_accuracy: 0.7532\n",
            "Epoch 3/5\n",
            "24/24 [==============================] - 16s 680ms/step - loss: 1.0922 - accuracy: 0.7400 - val_loss: 0.8765 - val_accuracy: 0.7788\n",
            "Epoch 4/5\n",
            "24/24 [==============================] - 16s 657ms/step - loss: 0.9314 - accuracy: 0.7627 - val_loss: 0.7671 - val_accuracy: 0.8012\n",
            "Epoch 5/5\n",
            "24/24 [==============================] - 15s 635ms/step - loss: 0.8250 - accuracy: 0.7840 - val_loss: 0.7006 - val_accuracy: 0.8124\n"
          ],
          "name": "stdout"
        }
      ]
    },
    {
      "cell_type": "code",
      "metadata": {
        "colab": {
          "base_uri": "https://localhost:8080/",
          "height": 283
        },
        "id": "hAFdpemDUzFp",
        "outputId": "8f033a83-dcd8-423d-a90c-ebc438f85e8a"
      },
      "source": [
        "import pandas as pd\n",
        "pd.DataFrame(history_2.history).plot()"
      ],
      "execution_count": 13,
      "outputs": [
        {
          "output_type": "execute_result",
          "data": {
            "text/plain": [
              "<matplotlib.axes._subplots.AxesSubplot at 0x7f2e943266d0>"
            ]
          },
          "metadata": {
            "tags": []
          },
          "execution_count": 13
        },
        {
          "output_type": "display_data",
          "data": {
            "image/png": "[encoded data removed]",
            "text/plain": [
              "<Figure size 432x288 with 1 Axes>"
            ]
          },
          "metadata": {
            "tags": [],
            "needs_background": "light"
          }
        }
      ]
    },
    {
      "cell_type": "code",
      "metadata": {
        "colab": {
          "base_uri": "https://localhost:8080/"
        },
        "id": "iUA6jsMNWPA0",
        "outputId": "8dd8ed12-1600-45c1-9b6f-aa9eca60f3bb"
      },
      "source": [
        "model_2.summary()"
      ],
      "execution_count": 14,
      "outputs": [
        {
          "output_type": "stream",
          "text": [
            "Model: \"model_1\"\n",
            "_________________________________________________________________\n",
            "Layer (type)                 Output Shape              Param #   \n",
            "=================================================================\n",
            "input_4 (InputLayer)         [(None, 224, 224, 3)]     0         \n",
            "_________________________________________________________________\n",
            "sequential_1 (Sequential)    (None, None, None, 3)     0         \n",
            "_________________________________________________________________\n",
            "efficientnetb0 (Functional)  (None, None, None, 1280)  4049571   \n",
            "_________________________________________________________________\n",
            "global_avg_pooling_layer (Gl (None, 1280)              0         \n",
            "_________________________________________________________________\n",
            "dense_1 (Dense)              (None, 10)                12810     \n",
            "=================================================================\n",
            "Total params: 4,062,381\n",
            "Trainable params: 12,810\n",
            "Non-trainable params: 4,049,571\n",
            "_________________________________________________________________\n"
          ],
          "name": "stdout"
        }
      ]
    },
    {
      "cell_type": "markdown",
      "metadata": {
        "id": "TdxdI6ZUWziR"
      },
      "source": [
        "##`creating model checkpoint callback`\n",
        "\n",
        "\n",
        "ModelCheckpoint callback intemediately saves our model (full model or just weights) during training. "
      ]
    },
    {
      "cell_type": "code",
      "metadata": {
        "id": "mRj1OyBWj4hB"
      },
      "source": [
        "from tensorflow.keras.layers.experimental import preprocessing"
      ],
      "execution_count": 15,
      "outputs": []
    },
    {
      "cell_type": "code",
      "metadata": {
        "id": "NxH3JCz3jsOz"
      },
      "source": [
        "#create data augmentation layer\n",
        "\n",
        "data_augmentation=tf.keras.Sequential([\n",
        "      preprocessing.RandomContrast(0.2),\n",
        "      preprocessing.RandomFlip(\"horizontal\"),\n",
        "      preprocessing.RandomWidth(0.2),\n",
        "      preprocessing.RandomHeight(0.2),\n",
        "      preprocessing.RandomZoom(0.2),\n",
        "      preprocessing.RandomRotation(0.2)\n",
        "])"
      ],
      "execution_count": 16,
      "outputs": []
    },
    {
      "cell_type": "code",
      "metadata": {
        "id": "52UGgafcjaQs"
      },
      "source": [
        "#build new model\n",
        "\n",
        "base_model=tf.keras.applications.EfficientNetB0(include_top=False)\n",
        "base_model.trainable=False\n",
        "\n",
        "inputs=tf.keras.Input(shape=(224,224,3))\n",
        "\n",
        "x=data_augmentation(inputs)\n",
        "\n",
        "x=base_model(x,training=False)\n",
        "\n",
        "#create global average pooling layer\n",
        "x=tf.keras.layers.GlobalAveragePooling2D(name=\"global_avgpooling_layer\")(x)\n",
        "\n",
        "#create output dense layer\n",
        "outputs=tf.keras.layers.Dense(10,activation=\"softmax\")(x)\n",
        "\n",
        "#create keras Model\n",
        "model_3=tf.keras.Model(inputs,outputs)\n",
        "\n",
        "\n",
        "#compile model\n",
        "model_3.compile(loss=tf.keras.losses.categorical_crossentropy,\n",
        "                optimizer=tf.keras.optimizers.Adam(),\n",
        "                metrics=[\"accuracy\"])\n",
        "\n"
      ],
      "execution_count": 17,
      "outputs": []
    },
    {
      "cell_type": "code",
      "metadata": {
        "id": "W16GwSUIaGw7"
      },
      "source": [
        "checkpoint_path=\"modelcheckpoint_10_percent/checkpoint.ckpt\"\n",
        "\n",
        "earlystopping_callback=tf.keras.callbacks.EarlyStopping(patience=2,monitor=\"val_loss\")\n",
        "\n",
        "checkpoint_callback=tf.keras.callbacks.ModelCheckpoint(filepath=checkpoint_path,monitor=\"val_loss\",\n",
        "                                                       save_freq=\"epoch\",\n",
        "                                                       save_weights_only=True,\n",
        "                                                       save_best_only=False,\n",
        "                                                       verbose=1)\n"
      ],
      "execution_count": 18,
      "outputs": []
    },
    {
      "cell_type": "code",
      "metadata": {
        "colab": {
          "base_uri": "https://localhost:8080/"
        },
        "id": "cXQa4e3oaGtb",
        "outputId": "f9a040eb-16e5-4505-f28e-ee1eba711963"
      },
      "source": [
        "history_3=model_3.fit(train_data_10_percent,\n",
        "            epochs=10,\n",
        "            validation_data=test_data,\n",
        "            validation_steps=len(test_data),\n",
        "            steps_per_epoch=len(train_data_10_percent),\n",
        "            callbacks=[earlystopping_callback,checkpoint_callback])"
      ],
      "execution_count": 19,
      "outputs": [
        {
          "output_type": "stream",
          "text": [
            "Epoch 1/10\n",
            "24/24 [==============================] - 21s 675ms/step - loss: 2.0247 - accuracy: 0.3027 - val_loss: 1.5088 - val_accuracy: 0.6304\n",
            "\n",
            "Epoch 00001: saving model to modelcheckpoint_10_percent/checkpoint.ckpt\n",
            "Epoch 2/10\n",
            "24/24 [==============================] - 15s 614ms/step - loss: 1.3907 - accuracy: 0.6480 - val_loss: 1.0756 - val_accuracy: 0.7564\n",
            "\n",
            "Epoch 00002: saving model to modelcheckpoint_10_percent/checkpoint.ckpt\n",
            "Epoch 3/10\n",
            "24/24 [==============================] - 15s 627ms/step - loss: 1.1028 - accuracy: 0.7160 - val_loss: 0.8798 - val_accuracy: 0.7788\n",
            "\n",
            "Epoch 00003: saving model to modelcheckpoint_10_percent/checkpoint.ckpt\n",
            "Epoch 4/10\n",
            "24/24 [==============================] - 14s 585ms/step - loss: 0.9173 - accuracy: 0.7640 - val_loss: 0.7675 - val_accuracy: 0.7936\n",
            "\n",
            "Epoch 00004: saving model to modelcheckpoint_10_percent/checkpoint.ckpt\n",
            "Epoch 5/10\n",
            "24/24 [==============================] - 14s 586ms/step - loss: 0.8217 - accuracy: 0.7920 - val_loss: 0.7022 - val_accuracy: 0.8048\n",
            "\n",
            "Epoch 00005: saving model to modelcheckpoint_10_percent/checkpoint.ckpt\n",
            "Epoch 6/10\n",
            "24/24 [==============================] - 14s 597ms/step - loss: 0.7379 - accuracy: 0.8120 - val_loss: 0.6585 - val_accuracy: 0.8120\n",
            "\n",
            "Epoch 00006: saving model to modelcheckpoint_10_percent/checkpoint.ckpt\n",
            "Epoch 7/10\n",
            "24/24 [==============================] - 14s 600ms/step - loss: 0.6878 - accuracy: 0.8280 - val_loss: 0.6290 - val_accuracy: 0.8156\n",
            "\n",
            "Epoch 00007: saving model to modelcheckpoint_10_percent/checkpoint.ckpt\n",
            "Epoch 8/10\n",
            "24/24 [==============================] - 14s 565ms/step - loss: 0.6349 - accuracy: 0.8280 - val_loss: 0.6062 - val_accuracy: 0.8168\n",
            "\n",
            "Epoch 00008: saving model to modelcheckpoint_10_percent/checkpoint.ckpt\n",
            "Epoch 9/10\n",
            "24/24 [==============================] - 14s 587ms/step - loss: 0.6075 - accuracy: 0.8387 - val_loss: 0.5910 - val_accuracy: 0.8192\n",
            "\n",
            "Epoch 00009: saving model to modelcheckpoint_10_percent/checkpoint.ckpt\n",
            "Epoch 10/10\n",
            "24/24 [==============================] - 14s 568ms/step - loss: 0.5678 - accuracy: 0.8520 - val_loss: 0.5727 - val_accuracy: 0.8256\n",
            "\n",
            "Epoch 00010: saving model to modelcheckpoint_10_percent/checkpoint.ckpt\n"
          ],
          "name": "stdout"
        }
      ]
    },
    {
      "cell_type": "code",
      "metadata": {
        "colab": {
          "base_uri": "https://localhost:8080/",
          "height": 283
        },
        "id": "ZdNgxevHaGqI",
        "outputId": "b0c34482-f3db-419f-9e92-7e6832794f97"
      },
      "source": [
        "import pandas as pd\n",
        "pd.DataFrame(history_3.history).plot()"
      ],
      "execution_count": 20,
      "outputs": [
        {
          "output_type": "execute_result",
          "data": {
            "text/plain": [
              "<matplotlib.axes._subplots.AxesSubplot at 0x7f2e0fac0750>"
            ]
          },
          "metadata": {
            "tags": []
          },
          "execution_count": 20
        },
        {
          "output_type": "display_data",
          "data": {
            "image/png": "[encoded data removed]",
            "text/plain": [
              "<Figure size 432x288 with 1 Axes>"
            ]
          },
          "metadata": {
            "tags": [],
            "needs_background": "light"
          }
        }
      ]
    },
    {
      "cell_type": "markdown",
      "metadata": {
        "id": "4imdYfbGPBeu"
      },
      "source": [
        "###### **Note** : save() saves the weights and the model structure to a single HDF5 file. ... Then you can use that HDF5 file with load() to reconstruct the whole model, including weights. save_weights() only saves the weights to HDF5 and nothing else. You need extra code to reconstruct the model from a JSON file.\n",
        "\n",
        "When training deep learning models, the checkpoint is the weights of the model. These weights can be used to make predictions as is, or used as the basis for ongoing training"
      ]
    },
    {
      "cell_type": "markdown",
      "metadata": {
        "id": "ZakUDttZaGm9"
      },
      "source": [
        "#### loading in checkpointed weights -returns a model to specific checkpoint\n"
      ]
    },
    {
      "cell_type": "code",
      "metadata": {
        "colab": {
          "base_uri": "https://localhost:8080/"
        },
        "id": "aeLK2EkajmUv",
        "outputId": "b397d568-38b8-449c-da83-c9d7a7f9d9b5"
      },
      "source": [
        "evaluate_model_3=model_3.evaluate(test_data)"
      ],
      "execution_count": 27,
      "outputs": [
        {
          "output_type": "stream",
          "text": [
            "79/79 [==============================] - 9s 106ms/step - loss: 0.5727 - accuracy: 0.8256\n"
          ],
          "name": "stdout"
        }
      ]
    },
    {
      "cell_type": "code",
      "metadata": {
        "colab": {
          "base_uri": "https://localhost:8080/"
        },
        "id": "ApWCTiujjuSW",
        "outputId": "5157cf29-d412-417d-e2ee-2e2723b2a434"
      },
      "source": [
        "evaluate_model_3"
      ],
      "execution_count": 28,
      "outputs": [
        {
          "output_type": "execute_result",
          "data": {
            "text/plain": [
              "[0.572659432888031, 0.8256000280380249]"
            ]
          },
          "metadata": {
            "tags": []
          },
          "execution_count": 28
        }
      ]
    },
    {
      "cell_type": "code",
      "metadata": {
        "colab": {
          "base_uri": "https://localhost:8080/"
        },
        "id": "dWIUwVZEfeF_",
        "outputId": "a009606d-2597-4328-d6e7-b5517565bf0e"
      },
      "source": [
        "#load model weights\n",
        "pathToModel=\"modelcheckpoint_10_percent/checkpoint.ckpt\"\n",
        "model_3.load_weights(pathToModel) #reloads the weights from checpoint file \n",
        "evaluate_loadedmodel=model_3.evaluate(test_data)\n"
      ],
      "execution_count": 29,
      "outputs": [
        {
          "output_type": "stream",
          "text": [
            "79/79 [==============================] - 9s 105ms/step - loss: 0.5727 - accuracy: 0.8256\n"
          ],
          "name": "stdout"
        }
      ]
    },
    {
      "cell_type": "code",
      "metadata": {
        "colab": {
          "base_uri": "https://localhost:8080/"
        },
        "id": "uGAjtG8lfvyy",
        "outputId": "d55201c8-f627-46a2-9d02-8f6f5dce0e7b"
      },
      "source": [
        "evaluate_loadedmodel"
      ],
      "execution_count": 30,
      "outputs": [
        {
          "output_type": "execute_result",
          "data": {
            "text/plain": [
              "[0.572659432888031, 0.8256000280380249]"
            ]
          },
          "metadata": {
            "tags": []
          },
          "execution_count": 30
        }
      ]
    },
    {
      "cell_type": "code",
      "metadata": {
        "colab": {
          "base_uri": "https://localhost:8080/"
        },
        "id": "qUwhN7DXkMuo",
        "outputId": "f7697552-e0c1-4f73-f2d8-ba2428386a8a"
      },
      "source": [
        "evaluate_loadedmodel==evaluate_model_3"
      ],
      "execution_count": 31,
      "outputs": [
        {
          "output_type": "execute_result",
          "data": {
            "text/plain": [
              "True"
            ]
          },
          "metadata": {
            "tags": []
          },
          "execution_count": 31
        }
      ]
    },
    {
      "cell_type": "code",
      "metadata": {
        "id": "nSYYJFR6kQ07"
      },
      "source": [
        ""
      ],
      "execution_count": null,
      "outputs": []
    }
  ]
}