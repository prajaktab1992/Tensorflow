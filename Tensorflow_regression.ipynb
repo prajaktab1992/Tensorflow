{
  "nbformat": 4,
  "nbformat_minor": 0,
  "metadata": {
    "colab": {
      "name": "Tensorflow_regression.ipynb",
      "provenance": [],
      "collapsed_sections": [],
      "toc_visible": true
    },
    "kernelspec": {
      "name": "python3",
      "display_name": "Python 3"
    },
    "language_info": {
      "name": "python"
    }
  },
  "cells": [
    {
      "cell_type": "code",
      "metadata": {
        "colab": {
          "base_uri": "https://localhost:8080/"
        },
        "id": "SLpxBlPhgPpC",
        "outputId": "3ba587bd-e674-4911-c64d-1e643f620c17"
      },
      "source": [
        "import tensorflow as tf\n",
        "import numpy as np\n",
        "import matplotlib.pyplot as plt\n",
        "\n",
        "print(tf.__version__)"
      ],
      "execution_count": null,
      "outputs": [
        {
          "output_type": "stream",
          "text": [
            "2.4.1\n"
          ],
          "name": "stdout"
        }
      ]
    },
    {
      "cell_type": "markdown",
      "metadata": {
        "id": "jvjmOBBehdzo"
      },
      "source": [
        "**What is regression?**\n",
        "\n",
        "**Examples:**\n",
        "how much this house will sell for?\n",
        "how much will my health insurence will be?\n",
        "how many people will buy this product?\n",
        "\n",
        "**predict the number**- regression"
      ]
    },
    {
      "cell_type": "code",
      "metadata": {
        "id": "wmbq0Ud-JRTW"
      },
      "source": [
        "#create features\n",
        "X=np.array([-7.0,-4.0,-1.0,2.0,5.0,8.0,11.0,14.0])\n",
        "\n",
        "#create labels\n",
        "y=np.array([3.0,6.0,9.0,12.0,15.0,18.0,21.0,24.0])"
      ],
      "execution_count": null,
      "outputs": []
    },
    {
      "cell_type": "code",
      "metadata": {
        "colab": {
          "base_uri": "https://localhost:8080/",
          "height": 286
        },
        "id": "9j3Rg0q-JrVp",
        "outputId": "36b04903-afe6-4c27-ca60-43409dbdfcf4"
      },
      "source": [
        "plt.scatter(X,y)"
      ],
      "execution_count": null,
      "outputs": [
        {
          "output_type": "execute_result",
          "data": {
            "text/plain": [
              "<matplotlib.collections.PathCollection at 0x7fcbd1dca310>"
            ]
          },
          "metadata": {
            "tags": []
          },
          "execution_count": 3
        },
        {
          "output_type": "display_data",
          "data": {
            "image/png": "[encoded data removed]",
            "text/plain": [
              "<Figure size 432x288 with 1 Axes>"
            ]
          },
          "metadata": {
            "tags": [],
            "needs_background": "light"
          }
        }
      ]
    },
    {
      "cell_type": "code",
      "metadata": {
        "colab": {
          "base_uri": "https://localhost:8080/"
        },
        "id": "BIihGrFnJ133",
        "outputId": "56fd9038-ab7c-4d70-9f55-16f135a1ba6a"
      },
      "source": [
        "#create demo tensor\n",
        "\n",
        "house_info=tf.constant([\"bedroom\",\"bathroom\",\"garage\"])\n",
        "house_price=tf.constant([967000])\n",
        "\n",
        "house_info,house_price"
      ],
      "execution_count": null,
      "outputs": [
        {
          "output_type": "execute_result",
          "data": {
            "text/plain": [
              "(<tf.Tensor: shape=(3,), dtype=string, numpy=array([b'bedroom', b'bathroom', b'garage'], dtype=object)>,\n",
              " <tf.Tensor: shape=(1,), dtype=int32, numpy=array([967000], dtype=int32)>)"
            ]
          },
          "metadata": {
            "tags": []
          },
          "execution_count": 9
        }
      ]
    },
    {
      "cell_type": "code",
      "metadata": {
        "colab": {
          "base_uri": "https://localhost:8080/"
        },
        "id": "0xu7_OParaF7",
        "outputId": "099eadb2-12e5-40a3-d2cf-2f9ef58ddcaf"
      },
      "source": [
        "input_shape=X.shape\n",
        "output_shape=y.shape\n",
        "\n",
        "input_shape,output_shape"
      ],
      "execution_count": null,
      "outputs": [
        {
          "output_type": "execute_result",
          "data": {
            "text/plain": [
              "((8,), (8,))"
            ]
          },
          "metadata": {
            "tags": []
          },
          "execution_count": 11
        }
      ]
    },
    {
      "cell_type": "markdown",
      "metadata": {
        "id": "EwZ3aISKtHtU"
      },
      "source": [
        "**Steps in modeling with tensorflow:**\n",
        "\n",
        "1. Creating a model\n",
        "2. compile the model\n",
        "3. fit data into model\n",
        "\n"
      ]
    },
    {
      "cell_type": "markdown",
      "metadata": {
        "id": "VP_gpUp42D4G"
      },
      "source": [
        "**Sequential**: groups a linear stack of layers into tf.keras.Model.It provides training and inference features on this model"
      ]
    },
    {
      "cell_type": "code",
      "metadata": {
        "colab": {
          "base_uri": "https://localhost:8080/"
        },
        "id": "Wb9inzAntGzE",
        "outputId": "44585e88-d021-41aa-9cda-9c9cb22e4185"
      },
      "source": [
        "tf.random.set_seed(42)\n",
        "\n",
        "#create model sequentially\n",
        "model=tf.keras.Sequential([\n",
        "                           tf.keras.layers.Dense(1)\n",
        "])\n",
        "\n",
        "\n",
        "#complie the model\n",
        "model.compile(loss=tf.keras.losses.mae,#mean absolute error\n",
        "              optimizer=tf.keras.optimizers.SGD(),#stochastic gradient descent\n",
        "              metrics=[\"mae\"])\n",
        "\n",
        "#fit model\n",
        "model.fit(X,y,epochs=5,verbose=2)\n"
      ],
      "execution_count": null,
      "outputs": [
        {
          "output_type": "stream",
          "text": [
            "Epoch 1/5\n",
            "1/1 - 0s - loss: 11.5048 - mae: 11.5048\n",
            "Epoch 2/5\n",
            "1/1 - 0s - loss: 11.3723 - mae: 11.3723\n",
            "Epoch 3/5\n",
            "1/1 - 0s - loss: 11.2398 - mae: 11.2398\n",
            "Epoch 4/5\n",
            "1/1 - 0s - loss: 11.1073 - mae: 11.1073\n",
            "Epoch 5/5\n",
            "1/1 - 0s - loss: 10.9748 - mae: 10.9748\n"
          ],
          "name": "stdout"
        },
        {
          "output_type": "execute_result",
          "data": {
            "text/plain": [
              "<tensorflow.python.keras.callbacks.History at 0x7fa901af0cd0>"
            ]
          },
          "metadata": {
            "tags": []
          },
          "execution_count": 15
        }
      ]
    },
    {
      "cell_type": "code",
      "metadata": {
        "colab": {
          "base_uri": "https://localhost:8080/"
        },
        "id": "_FSbSvQ73-s9",
        "outputId": "34aca449-18d7-4364-b392-3e2407b344e8"
      },
      "source": [
        "X,y"
      ],
      "execution_count": null,
      "outputs": [
        {
          "output_type": "execute_result",
          "data": {
            "text/plain": [
              "(array([-7., -4., -1.,  2.,  5.,  8., 11., 14.]),\n",
              " array([ 3.,  6.,  9., 12., 15., 18., 21., 24.]))"
            ]
          },
          "metadata": {
            "tags": []
          },
          "execution_count": 16
        }
      ]
    },
    {
      "cell_type": "code",
      "metadata": {
        "colab": {
          "base_uri": "https://localhost:8080/"
        },
        "id": "ss3KMbfQrkbH",
        "outputId": "6b3a0b52-b690-4429-b8d9-2473098472ba"
      },
      "source": [
        "model.predict([17.0])"
      ],
      "execution_count": null,
      "outputs": [
        {
          "output_type": "execute_result",
          "data": {
            "text/plain": [
              "array([[12.716021]], dtype=float32)"
            ]
          },
          "metadata": {
            "tags": []
          },
          "execution_count": 17
        }
      ]
    },
    {
      "cell_type": "markdown",
      "metadata": {
        "id": "DuVvNDRM4S1y"
      },
      "source": [
        "## Improving model"
      ]
    },
    {
      "cell_type": "markdown",
      "metadata": {
        "id": "vA0dqWTUxDfv"
      },
      "source": [
        "##### try changing number of epochs"
      ]
    },
    {
      "cell_type": "code",
      "metadata": {
        "colab": {
          "base_uri": "https://localhost:8080/"
        },
        "id": "_BkOhJAU4Hi3",
        "outputId": "3eecc646-ad21-4a18-9cda-3391c56ecae4"
      },
      "source": [
        "model=tf.keras.Sequential()\n",
        "model.add(tf.keras.layers.Dense(1))\n",
        "\n",
        "model.compile(loss=tf.keras.losses.mae,optimizer=tf.keras.optimizers.SGD(),metrics=[\"mae\"])\n",
        "\n",
        "\n",
        "model.fit(X,y,epochs=100,verbose=1)"
      ],
      "execution_count": null,
      "outputs": [
        {
          "output_type": "stream",
          "text": [
            "Epoch 1/100\n",
            "1/1 [==============================] - 0s 253ms/step - loss: 12.0594 - mae: 12.0594\n",
            "Epoch 2/100\n",
            "1/1 [==============================] - 0s 5ms/step - loss: 11.9269 - mae: 11.9269\n",
            "Epoch 3/100\n",
            "1/1 [==============================] - 0s 5ms/step - loss: 11.7944 - mae: 11.7944\n",
            "Epoch 4/100\n",
            "1/1 [==============================] - 0s 3ms/step - loss: 11.6619 - mae: 11.6619\n",
            "Epoch 5/100\n",
            "1/1 [==============================] - 0s 5ms/step - loss: 11.5294 - mae: 11.5294\n",
            "Epoch 6/100\n",
            "1/1 [==============================] - 0s 4ms/step - loss: 11.3969 - mae: 11.3969\n",
            "Epoch 7/100\n",
            "1/1 [==============================] - 0s 8ms/step - loss: 11.2644 - mae: 11.2644\n",
            "Epoch 8/100\n",
            "1/1 [==============================] - 0s 11ms/step - loss: 11.1319 - mae: 11.1319\n",
            "Epoch 9/100\n",
            "1/1 [==============================] - 0s 3ms/step - loss: 10.9994 - mae: 10.9994\n",
            "Epoch 10/100\n",
            "1/1 [==============================] - 0s 4ms/step - loss: 10.8669 - mae: 10.8669\n",
            "Epoch 11/100\n",
            "1/1 [==============================] - 0s 3ms/step - loss: 10.7344 - mae: 10.7344\n",
            "Epoch 12/100\n",
            "1/1 [==============================] - 0s 3ms/step - loss: 10.6019 - mae: 10.6019\n",
            "Epoch 13/100\n",
            "1/1 [==============================] - 0s 7ms/step - loss: 10.4694 - mae: 10.4694\n",
            "Epoch 14/100\n",
            "1/1 [==============================] - 0s 3ms/step - loss: 10.3369 - mae: 10.3369\n",
            "Epoch 15/100\n",
            "1/1 [==============================] - 0s 3ms/step - loss: 10.2044 - mae: 10.2044\n",
            "Epoch 16/100\n",
            "1/1 [==============================] - 0s 3ms/step - loss: 10.0719 - mae: 10.0719\n",
            "Epoch 17/100\n",
            "1/1 [==============================] - 0s 3ms/step - loss: 9.9394 - mae: 9.9394\n",
            "Epoch 18/100\n",
            "1/1 [==============================] - 0s 6ms/step - loss: 9.8069 - mae: 9.8069\n",
            "Epoch 19/100\n",
            "1/1 [==============================] - 0s 3ms/step - loss: 9.6744 - mae: 9.6744\n",
            "Epoch 20/100\n",
            "1/1 [==============================] - 0s 3ms/step - loss: 9.5419 - mae: 9.5419\n",
            "Epoch 21/100\n",
            "1/1 [==============================] - 0s 3ms/step - loss: 9.4094 - mae: 9.4094\n",
            "Epoch 22/100\n",
            "1/1 [==============================] - 0s 3ms/step - loss: 9.2769 - mae: 9.2769\n",
            "Epoch 23/100\n",
            "1/1 [==============================] - 0s 6ms/step - loss: 9.1444 - mae: 9.1444\n",
            "Epoch 24/100\n",
            "1/1 [==============================] - 0s 3ms/step - loss: 9.0119 - mae: 9.0119\n",
            "Epoch 25/100\n",
            "1/1 [==============================] - 0s 3ms/step - loss: 8.8794 - mae: 8.8794\n",
            "Epoch 26/100\n",
            "1/1 [==============================] - 0s 3ms/step - loss: 8.7469 - mae: 8.7469\n",
            "Epoch 27/100\n",
            "1/1 [==============================] - 0s 3ms/step - loss: 8.6144 - mae: 8.6144\n",
            "Epoch 28/100\n",
            "1/1 [==============================] - 0s 3ms/step - loss: 8.4819 - mae: 8.4819\n",
            "Epoch 29/100\n",
            "1/1 [==============================] - 0s 8ms/step - loss: 8.3494 - mae: 8.3494\n",
            "Epoch 30/100\n",
            "1/1 [==============================] - 0s 3ms/step - loss: 8.2169 - mae: 8.2169\n",
            "Epoch 31/100\n",
            "1/1 [==============================] - 0s 3ms/step - loss: 8.0844 - mae: 8.0844\n",
            "Epoch 32/100\n",
            "1/1 [==============================] - 0s 3ms/step - loss: 7.9519 - mae: 7.9519\n",
            "Epoch 33/100\n",
            "1/1 [==============================] - 0s 4ms/step - loss: 7.8194 - mae: 7.8194\n",
            "Epoch 34/100\n",
            "1/1 [==============================] - 0s 5ms/step - loss: 7.6869 - mae: 7.6869\n",
            "Epoch 35/100\n",
            "1/1 [==============================] - 0s 4ms/step - loss: 7.5544 - mae: 7.5544\n",
            "Epoch 36/100\n",
            "1/1 [==============================] - 0s 3ms/step - loss: 7.4219 - mae: 7.4219\n",
            "Epoch 37/100\n",
            "1/1 [==============================] - 0s 4ms/step - loss: 7.2894 - mae: 7.2894\n",
            "Epoch 38/100\n",
            "1/1 [==============================] - 0s 3ms/step - loss: 7.2225 - mae: 7.2225\n",
            "Epoch 39/100\n",
            "1/1 [==============================] - 0s 4ms/step - loss: 7.2169 - mae: 7.2169\n",
            "Epoch 40/100\n",
            "1/1 [==============================] - 0s 4ms/step - loss: 7.2112 - mae: 7.2112\n",
            "Epoch 41/100\n",
            "1/1 [==============================] - 0s 6ms/step - loss: 7.2056 - mae: 7.2056\n",
            "Epoch 42/100\n",
            "1/1 [==============================] - 0s 4ms/step - loss: 7.2000 - mae: 7.2000\n",
            "Epoch 43/100\n",
            "1/1 [==============================] - 0s 10ms/step - loss: 7.1944 - mae: 7.1944\n",
            "Epoch 44/100\n",
            "1/1 [==============================] - 0s 4ms/step - loss: 7.1887 - mae: 7.1887\n",
            "Epoch 45/100\n",
            "1/1 [==============================] - 0s 4ms/step - loss: 7.1831 - mae: 7.1831\n",
            "Epoch 46/100\n",
            "1/1 [==============================] - 0s 4ms/step - loss: 7.1775 - mae: 7.1775\n",
            "Epoch 47/100\n",
            "1/1 [==============================] - 0s 4ms/step - loss: 7.1719 - mae: 7.1719\n",
            "Epoch 48/100\n",
            "1/1 [==============================] - 0s 4ms/step - loss: 7.1663 - mae: 7.1663\n",
            "Epoch 49/100\n",
            "1/1 [==============================] - 0s 12ms/step - loss: 7.1606 - mae: 7.1606\n",
            "Epoch 50/100\n",
            "1/1 [==============================] - 0s 5ms/step - loss: 7.1550 - mae: 7.1550\n",
            "Epoch 51/100\n",
            "1/1 [==============================] - 0s 4ms/step - loss: 7.1494 - mae: 7.1494\n",
            "Epoch 52/100\n",
            "1/1 [==============================] - 0s 4ms/step - loss: 7.1438 - mae: 7.1438\n",
            "Epoch 53/100\n",
            "1/1 [==============================] - 0s 4ms/step - loss: 7.1381 - mae: 7.1381\n",
            "Epoch 54/100\n",
            "1/1 [==============================] - 0s 4ms/step - loss: 7.1325 - mae: 7.1325\n",
            "Epoch 55/100\n",
            "1/1 [==============================] - 0s 5ms/step - loss: 7.1269 - mae: 7.1269\n",
            "Epoch 56/100\n",
            "1/1 [==============================] - 0s 3ms/step - loss: 7.1213 - mae: 7.1213\n",
            "Epoch 57/100\n",
            "1/1 [==============================] - 0s 4ms/step - loss: 7.1156 - mae: 7.1156\n",
            "Epoch 58/100\n",
            "1/1 [==============================] - 0s 4ms/step - loss: 7.1100 - mae: 7.1100\n",
            "Epoch 59/100\n",
            "1/1 [==============================] - 0s 6ms/step - loss: 7.1044 - mae: 7.1044\n",
            "Epoch 60/100\n",
            "1/1 [==============================] - 0s 10ms/step - loss: 7.0988 - mae: 7.0988\n",
            "Epoch 61/100\n",
            "1/1 [==============================] - 0s 11ms/step - loss: 7.0931 - mae: 7.0931\n",
            "Epoch 62/100\n",
            "1/1 [==============================] - 0s 4ms/step - loss: 7.0875 - mae: 7.0875\n",
            "Epoch 63/100\n",
            "1/1 [==============================] - 0s 4ms/step - loss: 7.0819 - mae: 7.0819\n",
            "Epoch 64/100\n",
            "1/1 [==============================] - 0s 4ms/step - loss: 7.0763 - mae: 7.0763\n",
            "Epoch 65/100\n",
            "1/1 [==============================] - 0s 4ms/step - loss: 7.0706 - mae: 7.0706\n",
            "Epoch 66/100\n",
            "1/1 [==============================] - 0s 7ms/step - loss: 7.0650 - mae: 7.0650\n",
            "Epoch 67/100\n",
            "1/1 [==============================] - 0s 13ms/step - loss: 7.0594 - mae: 7.0594\n",
            "Epoch 68/100\n",
            "1/1 [==============================] - 0s 8ms/step - loss: 7.0538 - mae: 7.0538\n",
            "Epoch 69/100\n",
            "1/1 [==============================] - 0s 10ms/step - loss: 7.0481 - mae: 7.0481\n",
            "Epoch 70/100\n",
            "1/1 [==============================] - 0s 12ms/step - loss: 7.0425 - mae: 7.0425\n",
            "Epoch 71/100\n",
            "1/1 [==============================] - 0s 4ms/step - loss: 7.0369 - mae: 7.0369\n",
            "Epoch 72/100\n",
            "1/1 [==============================] - 0s 10ms/step - loss: 7.0312 - mae: 7.0312\n",
            "Epoch 73/100\n",
            "1/1 [==============================] - 0s 13ms/step - loss: 7.0256 - mae: 7.0256\n",
            "Epoch 74/100\n",
            "1/1 [==============================] - 0s 8ms/step - loss: 7.0200 - mae: 7.0200\n",
            "Epoch 75/100\n",
            "1/1 [==============================] - 0s 7ms/step - loss: 7.0144 - mae: 7.0144\n",
            "Epoch 76/100\n",
            "1/1 [==============================] - 0s 5ms/step - loss: 7.0087 - mae: 7.0087\n",
            "Epoch 77/100\n",
            "1/1 [==============================] - 0s 7ms/step - loss: 7.0031 - mae: 7.0031\n",
            "Epoch 78/100\n",
            "1/1 [==============================] - 0s 8ms/step - loss: 6.9975 - mae: 6.9975\n",
            "Epoch 79/100\n",
            "1/1 [==============================] - 0s 6ms/step - loss: 6.9919 - mae: 6.9919\n",
            "Epoch 80/100\n",
            "1/1 [==============================] - 0s 14ms/step - loss: 6.9863 - mae: 6.9863\n",
            "Epoch 81/100\n",
            "1/1 [==============================] - 0s 8ms/step - loss: 6.9806 - mae: 6.9806\n",
            "Epoch 82/100\n",
            "1/1 [==============================] - 0s 6ms/step - loss: 6.9750 - mae: 6.9750\n",
            "Epoch 83/100\n",
            "1/1 [==============================] - 0s 7ms/step - loss: 6.9694 - mae: 6.9694\n",
            "Epoch 84/100\n",
            "1/1 [==============================] - 0s 4ms/step - loss: 6.9638 - mae: 6.9638\n",
            "Epoch 85/100\n",
            "1/1 [==============================] - 0s 7ms/step - loss: 6.9581 - mae: 6.9581\n",
            "Epoch 86/100\n",
            "1/1 [==============================] - 0s 9ms/step - loss: 6.9525 - mae: 6.9525\n",
            "Epoch 87/100\n",
            "1/1 [==============================] - 0s 6ms/step - loss: 6.9469 - mae: 6.9469\n",
            "Epoch 88/100\n",
            "1/1 [==============================] - 0s 8ms/step - loss: 6.9413 - mae: 6.9413\n",
            "Epoch 89/100\n",
            "1/1 [==============================] - 0s 6ms/step - loss: 6.9356 - mae: 6.9356\n",
            "Epoch 90/100\n",
            "1/1 [==============================] - 0s 5ms/step - loss: 6.9300 - mae: 6.9300\n",
            "Epoch 91/100\n",
            "1/1 [==============================] - 0s 9ms/step - loss: 6.9244 - mae: 6.9244\n",
            "Epoch 92/100\n",
            "1/1 [==============================] - 0s 4ms/step - loss: 6.9188 - mae: 6.9188\n",
            "Epoch 93/100\n",
            "1/1 [==============================] - 0s 6ms/step - loss: 6.9131 - mae: 6.9131\n",
            "Epoch 94/100\n",
            "1/1 [==============================] - 0s 4ms/step - loss: 6.9075 - mae: 6.9075\n",
            "Epoch 95/100\n",
            "1/1 [==============================] - 0s 6ms/step - loss: 6.9019 - mae: 6.9019\n",
            "Epoch 96/100\n",
            "1/1 [==============================] - 0s 4ms/step - loss: 6.8963 - mae: 6.8963\n",
            "Epoch 97/100\n",
            "1/1 [==============================] - 0s 6ms/step - loss: 6.8906 - mae: 6.8906\n",
            "Epoch 98/100\n",
            "1/1 [==============================] - 0s 4ms/step - loss: 6.8850 - mae: 6.8850\n",
            "Epoch 99/100\n",
            "1/1 [==============================] - 0s 8ms/step - loss: 6.8794 - mae: 6.8794\n",
            "Epoch 100/100\n",
            "1/1 [==============================] - 0s 5ms/step - loss: 6.8738 - mae: 6.8738\n"
          ],
          "name": "stdout"
        },
        {
          "output_type": "execute_result",
          "data": {
            "text/plain": [
              "<tensorflow.python.keras.callbacks.History at 0x7fcbcb76ab10>"
            ]
          },
          "metadata": {
            "tags": []
          },
          "execution_count": 7
        }
      ]
    },
    {
      "cell_type": "code",
      "metadata": {
        "colab": {
          "base_uri": "https://localhost:8080/"
        },
        "id": "z-naaOgmvs1K",
        "outputId": "299da248-0dc6-4e60-8b52-4202fda3e62c"
      },
      "source": [
        "model.predict([17.0])"
      ],
      "execution_count": null,
      "outputs": [
        {
          "output_type": "execute_result",
          "data": {
            "text/plain": [
              "array([[29.854897]], dtype=float32)"
            ]
          },
          "metadata": {
            "tags": []
          },
          "execution_count": 8
        }
      ]
    },
    {
      "cell_type": "markdown",
      "metadata": {
        "id": "bL6be1HgxMWp"
      },
      "source": [
        "model perfoemnace is improved as we can see mae loss decreased than earlier model"
      ]
    },
    {
      "cell_type": "markdown",
      "metadata": {
        "id": "6OP6eJKixTD1"
      },
      "source": [
        "###### Try changing optimizer"
      ]
    },
    {
      "cell_type": "code",
      "metadata": {
        "colab": {
          "base_uri": "https://localhost:8080/"
        },
        "id": "lJa38nLlv1c_",
        "outputId": "3de86728-19f9-4218-dd31-1ada3f6b522c"
      },
      "source": [
        "model2=tf.keras.Sequential()\n",
        "model2.add(tf.keras.layers.Dense(1))\n",
        "\n",
        "model2.compile(loss=tf.keras.losses.mae,optimizer=tf.keras.optimizers.Adam(lr=0.0001),metrics=[\"mae\"])\n",
        "\n",
        "model2.fit(X,y,epochs=100,verbose=1)"
      ],
      "execution_count": null,
      "outputs": [
        {
          "output_type": "stream",
          "text": [
            "Epoch 1/100\n",
            "1/1 [==============================] - 0s 292ms/step - loss: 8.9781 - mae: 8.9781\n",
            "Epoch 2/100\n",
            "1/1 [==============================] - 0s 8ms/step - loss: 8.9777 - mae: 8.9777\n",
            "Epoch 3/100\n",
            "1/1 [==============================] - 0s 6ms/step - loss: 8.9772 - mae: 8.9772\n",
            "Epoch 4/100\n",
            "1/1 [==============================] - 0s 3ms/step - loss: 8.9768 - mae: 8.9768\n",
            "Epoch 5/100\n",
            "1/1 [==============================] - 0s 5ms/step - loss: 8.9763 - mae: 8.9763\n",
            "Epoch 6/100\n",
            "1/1 [==============================] - 0s 7ms/step - loss: 8.9759 - mae: 8.9759\n",
            "Epoch 7/100\n",
            "1/1 [==============================] - 0s 3ms/step - loss: 8.9754 - mae: 8.9754\n",
            "Epoch 8/100\n",
            "1/1 [==============================] - 0s 3ms/step - loss: 8.9750 - mae: 8.9750\n",
            "Epoch 9/100\n",
            "1/1 [==============================] - 0s 3ms/step - loss: 8.9745 - mae: 8.9745\n",
            "Epoch 10/100\n",
            "1/1 [==============================] - 0s 4ms/step - loss: 8.9741 - mae: 8.9741\n",
            "Epoch 11/100\n",
            "1/1 [==============================] - 0s 6ms/step - loss: 8.9736 - mae: 8.9736\n",
            "Epoch 12/100\n",
            "1/1 [==============================] - 0s 5ms/step - loss: 8.9732 - mae: 8.9732\n",
            "Epoch 13/100\n",
            "1/1 [==============================] - 0s 3ms/step - loss: 8.9727 - mae: 8.9727\n",
            "Epoch 14/100\n",
            "1/1 [==============================] - 0s 8ms/step - loss: 8.9723 - mae: 8.9723\n",
            "Epoch 15/100\n",
            "1/1 [==============================] - 0s 8ms/step - loss: 8.9718 - mae: 8.9718\n",
            "Epoch 16/100\n",
            "1/1 [==============================] - 0s 5ms/step - loss: 8.9714 - mae: 8.9714\n",
            "Epoch 17/100\n",
            "1/1 [==============================] - 0s 4ms/step - loss: 8.9709 - mae: 8.9709\n",
            "Epoch 18/100\n",
            "1/1 [==============================] - 0s 4ms/step - loss: 8.9705 - mae: 8.9705\n",
            "Epoch 19/100\n",
            "1/1 [==============================] - 0s 5ms/step - loss: 8.9700 - mae: 8.9700\n",
            "Epoch 20/100\n",
            "1/1 [==============================] - 0s 4ms/step - loss: 8.9696 - mae: 8.9696\n",
            "Epoch 21/100\n",
            "1/1 [==============================] - 0s 4ms/step - loss: 8.9691 - mae: 8.9691\n",
            "Epoch 22/100\n",
            "1/1 [==============================] - 0s 4ms/step - loss: 8.9687 - mae: 8.9687\n",
            "Epoch 23/100\n",
            "1/1 [==============================] - 0s 4ms/step - loss: 8.9682 - mae: 8.9682\n",
            "Epoch 24/100\n",
            "1/1 [==============================] - 0s 3ms/step - loss: 8.9678 - mae: 8.9678\n",
            "Epoch 25/100\n",
            "1/1 [==============================] - 0s 4ms/step - loss: 8.9673 - mae: 8.9673\n",
            "Epoch 26/100\n",
            "1/1 [==============================] - 0s 5ms/step - loss: 8.9669 - mae: 8.9669\n",
            "Epoch 27/100\n",
            "1/1 [==============================] - 0s 4ms/step - loss: 8.9664 - mae: 8.9664\n",
            "Epoch 28/100\n",
            "1/1 [==============================] - 0s 5ms/step - loss: 8.9660 - mae: 8.9660\n",
            "Epoch 29/100\n",
            "1/1 [==============================] - 0s 4ms/step - loss: 8.9655 - mae: 8.9655\n",
            "Epoch 30/100\n",
            "1/1 [==============================] - 0s 5ms/step - loss: 8.9651 - mae: 8.9651\n",
            "Epoch 31/100\n",
            "1/1 [==============================] - 0s 5ms/step - loss: 8.9646 - mae: 8.9646\n",
            "Epoch 32/100\n",
            "1/1 [==============================] - 0s 5ms/step - loss: 8.9642 - mae: 8.9642\n",
            "Epoch 33/100\n",
            "1/1 [==============================] - 0s 4ms/step - loss: 8.9637 - mae: 8.9637\n",
            "Epoch 34/100\n",
            "1/1 [==============================] - 0s 5ms/step - loss: 8.9633 - mae: 8.9633\n",
            "Epoch 35/100\n",
            "1/1 [==============================] - 0s 6ms/step - loss: 8.9628 - mae: 8.9628\n",
            "Epoch 36/100\n",
            "1/1 [==============================] - 0s 4ms/step - loss: 8.9624 - mae: 8.9624\n",
            "Epoch 37/100\n",
            "1/1 [==============================] - 0s 6ms/step - loss: 8.9619 - mae: 8.9619\n",
            "Epoch 38/100\n",
            "1/1 [==============================] - 0s 3ms/step - loss: 8.9615 - mae: 8.9615\n",
            "Epoch 39/100\n",
            "1/1 [==============================] - 0s 4ms/step - loss: 8.9610 - mae: 8.9610\n",
            "Epoch 40/100\n",
            "1/1 [==============================] - 0s 5ms/step - loss: 8.9606 - mae: 8.9606\n",
            "Epoch 41/100\n",
            "1/1 [==============================] - 0s 3ms/step - loss: 8.9601 - mae: 8.9601\n",
            "Epoch 42/100\n",
            "1/1 [==============================] - 0s 6ms/step - loss: 8.9597 - mae: 8.9597\n",
            "Epoch 43/100\n",
            "1/1 [==============================] - 0s 3ms/step - loss: 8.9592 - mae: 8.9592\n",
            "Epoch 44/100\n",
            "1/1 [==============================] - 0s 18ms/step - loss: 8.9588 - mae: 8.9588\n",
            "Epoch 45/100\n",
            "1/1 [==============================] - 0s 8ms/step - loss: 8.9583 - mae: 8.9583\n",
            "Epoch 46/100\n",
            "1/1 [==============================] - 0s 5ms/step - loss: 8.9579 - mae: 8.9579\n",
            "Epoch 47/100\n",
            "1/1 [==============================] - 0s 6ms/step - loss: 8.9574 - mae: 8.9574\n",
            "Epoch 48/100\n",
            "1/1 [==============================] - 0s 4ms/step - loss: 8.9570 - mae: 8.9570\n",
            "Epoch 49/100\n",
            "1/1 [==============================] - 0s 8ms/step - loss: 8.9565 - mae: 8.9565\n",
            "Epoch 50/100\n",
            "1/1 [==============================] - 0s 4ms/step - loss: 8.9561 - mae: 8.9561\n",
            "Epoch 51/100\n",
            "1/1 [==============================] - 0s 3ms/step - loss: 8.9556 - mae: 8.9556\n",
            "Epoch 52/100\n",
            "1/1 [==============================] - 0s 5ms/step - loss: 8.9552 - mae: 8.9552\n",
            "Epoch 53/100\n",
            "1/1 [==============================] - 0s 6ms/step - loss: 8.9547 - mae: 8.9547\n",
            "Epoch 54/100\n",
            "1/1 [==============================] - 0s 5ms/step - loss: 8.9543 - mae: 8.9543\n",
            "Epoch 55/100\n",
            "1/1 [==============================] - 0s 4ms/step - loss: 8.9538 - mae: 8.9538\n",
            "Epoch 56/100\n",
            "1/1 [==============================] - 0s 6ms/step - loss: 8.9534 - mae: 8.9534\n",
            "Epoch 57/100\n",
            "1/1 [==============================] - 0s 4ms/step - loss: 8.9529 - mae: 8.9529\n",
            "Epoch 58/100\n",
            "1/1 [==============================] - 0s 4ms/step - loss: 8.9525 - mae: 8.9525\n",
            "Epoch 59/100\n",
            "1/1 [==============================] - 0s 11ms/step - loss: 8.9520 - mae: 8.9520\n",
            "Epoch 60/100\n",
            "1/1 [==============================] - 0s 7ms/step - loss: 8.9516 - mae: 8.9516\n",
            "Epoch 61/100\n",
            "1/1 [==============================] - 0s 4ms/step - loss: 8.9511 - mae: 8.9511\n",
            "Epoch 62/100\n",
            "1/1 [==============================] - 0s 5ms/step - loss: 8.9507 - mae: 8.9507\n",
            "Epoch 63/100\n",
            "1/1 [==============================] - 0s 7ms/step - loss: 8.9502 - mae: 8.9502\n",
            "Epoch 64/100\n",
            "1/1 [==============================] - 0s 7ms/step - loss: 8.9498 - mae: 8.9498\n",
            "Epoch 65/100\n",
            "1/1 [==============================] - 0s 3ms/step - loss: 8.9493 - mae: 8.9493\n",
            "Epoch 66/100\n",
            "1/1 [==============================] - 0s 7ms/step - loss: 8.9489 - mae: 8.9489\n",
            "Epoch 67/100\n",
            "1/1 [==============================] - 0s 4ms/step - loss: 8.9484 - mae: 8.9484\n",
            "Epoch 68/100\n",
            "1/1 [==============================] - 0s 7ms/step - loss: 8.9480 - mae: 8.9480\n",
            "Epoch 69/100\n",
            "1/1 [==============================] - 0s 6ms/step - loss: 8.9475 - mae: 8.9475\n",
            "Epoch 70/100\n",
            "1/1 [==============================] - 0s 5ms/step - loss: 8.9471 - mae: 8.9471\n",
            "Epoch 71/100\n",
            "1/1 [==============================] - 0s 8ms/step - loss: 8.9466 - mae: 8.9466\n",
            "Epoch 72/100\n",
            "1/1 [==============================] - 0s 6ms/step - loss: 8.9462 - mae: 8.9462\n",
            "Epoch 73/100\n",
            "1/1 [==============================] - 0s 8ms/step - loss: 8.9457 - mae: 8.9457\n",
            "Epoch 74/100\n",
            "1/1 [==============================] - 0s 4ms/step - loss: 8.9453 - mae: 8.9453\n",
            "Epoch 75/100\n",
            "1/1 [==============================] - 0s 4ms/step - loss: 8.9448 - mae: 8.9448\n",
            "Epoch 76/100\n",
            "1/1 [==============================] - 0s 5ms/step - loss: 8.9444 - mae: 8.9444\n",
            "Epoch 77/100\n",
            "1/1 [==============================] - 0s 8ms/step - loss: 8.9439 - mae: 8.9439\n",
            "Epoch 78/100\n",
            "1/1 [==============================] - 0s 3ms/step - loss: 8.9435 - mae: 8.9435\n",
            "Epoch 79/100\n",
            "1/1 [==============================] - 0s 3ms/step - loss: 8.9430 - mae: 8.9430\n",
            "Epoch 80/100\n",
            "1/1 [==============================] - 0s 4ms/step - loss: 8.9426 - mae: 8.9426\n",
            "Epoch 81/100\n",
            "1/1 [==============================] - 0s 5ms/step - loss: 8.9421 - mae: 8.9421\n",
            "Epoch 82/100\n",
            "1/1 [==============================] - 0s 8ms/step - loss: 8.9417 - mae: 8.9417\n",
            "Epoch 83/100\n",
            "1/1 [==============================] - 0s 6ms/step - loss: 8.9412 - mae: 8.9412\n",
            "Epoch 84/100\n",
            "1/1 [==============================] - 0s 7ms/step - loss: 8.9408 - mae: 8.9408\n",
            "Epoch 85/100\n",
            "1/1 [==============================] - 0s 4ms/step - loss: 8.9403 - mae: 8.9403\n",
            "Epoch 86/100\n",
            "1/1 [==============================] - 0s 4ms/step - loss: 8.9399 - mae: 8.9399\n",
            "Epoch 87/100\n",
            "1/1 [==============================] - 0s 6ms/step - loss: 8.9394 - mae: 8.9394\n",
            "Epoch 88/100\n",
            "1/1 [==============================] - 0s 4ms/step - loss: 8.9390 - mae: 8.9390\n",
            "Epoch 89/100\n",
            "1/1 [==============================] - 0s 6ms/step - loss: 8.9385 - mae: 8.9385\n",
            "Epoch 90/100\n",
            "1/1 [==============================] - 0s 4ms/step - loss: 8.9381 - mae: 8.9381\n",
            "Epoch 91/100\n",
            "1/1 [==============================] - 0s 5ms/step - loss: 8.9376 - mae: 8.9376\n",
            "Epoch 92/100\n",
            "1/1 [==============================] - 0s 4ms/step - loss: 8.9372 - mae: 8.9372\n",
            "Epoch 93/100\n",
            "1/1 [==============================] - 0s 6ms/step - loss: 8.9367 - mae: 8.9367\n",
            "Epoch 94/100\n",
            "1/1 [==============================] - 0s 4ms/step - loss: 8.9363 - mae: 8.9363\n",
            "Epoch 95/100\n",
            "1/1 [==============================] - 0s 10ms/step - loss: 8.9358 - mae: 8.9358\n",
            "Epoch 96/100\n",
            "1/1 [==============================] - 0s 5ms/step - loss: 8.9354 - mae: 8.9354\n",
            "Epoch 97/100\n",
            "1/1 [==============================] - 0s 6ms/step - loss: 8.9349 - mae: 8.9349\n",
            "Epoch 98/100\n",
            "1/1 [==============================] - 0s 17ms/step - loss: 8.9345 - mae: 8.9345\n",
            "Epoch 99/100\n",
            "1/1 [==============================] - 0s 5ms/step - loss: 8.9340 - mae: 8.9340\n",
            "Epoch 100/100\n",
            "1/1 [==============================] - 0s 5ms/step - loss: 8.9336 - mae: 8.9336\n"
          ],
          "name": "stdout"
        },
        {
          "output_type": "execute_result",
          "data": {
            "text/plain": [
              "<tensorflow.python.keras.callbacks.History at 0x7fcbc9e0a050>"
            ]
          },
          "metadata": {
            "tags": []
          },
          "execution_count": 12
        }
      ]
    },
    {
      "cell_type": "code",
      "metadata": {
        "colab": {
          "base_uri": "https://localhost:8080/"
        },
        "id": "AAKtatHCx2Xw",
        "outputId": "23d2cce6-4406-4181-9794-7cbf31d1d54b"
      },
      "source": [
        "model2.predict([17.0])"
      ],
      "execution_count": null,
      "outputs": [
        {
          "output_type": "execute_result",
          "data": {
            "text/plain": [
              "array([[22.143314]], dtype=float32)"
            ]
          },
          "metadata": {
            "tags": []
          },
          "execution_count": 13
        }
      ]
    },
    {
      "cell_type": "markdown",
      "metadata": {
        "id": "dOPPul3Azavu"
      },
      "source": [
        "###### Try changing number of hidden layers"
      ]
    },
    {
      "cell_type": "code",
      "metadata": {
        "colab": {
          "base_uri": "https://localhost:8080/"
        },
        "id": "2BX2M_jIx906",
        "outputId": "ba6ca6ef-d376-417b-8382-ff20f478c4c2"
      },
      "source": [
        "model3=tf.keras.Sequential()\n",
        "model3.add(tf.keras.layers.Dense(100))\n",
        "model3.add(tf.keras.layers.Activation(tf.keras.activations.relu))\n",
        "model3.add(tf.keras.layers.Dense(1))\n",
        "\n",
        "\n",
        "model3.compile(loss=tf.keras.losses.mae,optimizer=tf.keras.optimizers.SGD(),metrics=[\"mae\"])\n",
        "\n",
        "model3.fit(X,y,epochs=100,verbose=1)"
      ],
      "execution_count": null,
      "outputs": [
        {
          "output_type": "stream",
          "text": [
            "Epoch 1/100\n",
            "1/1 [==============================] - 0s 295ms/step - loss: 13.9521 - mae: 13.9521\n",
            "Epoch 2/100\n",
            "1/1 [==============================] - 0s 5ms/step - loss: 13.4446 - mae: 13.4446\n",
            "Epoch 3/100\n",
            "1/1 [==============================] - 0s 4ms/step - loss: 12.9549 - mae: 12.9549\n",
            "Epoch 4/100\n",
            "1/1 [==============================] - 0s 4ms/step - loss: 12.4617 - mae: 12.4617\n",
            "Epoch 5/100\n",
            "1/1 [==============================] - 0s 4ms/step - loss: 11.9696 - mae: 11.9696\n",
            "Epoch 6/100\n",
            "1/1 [==============================] - 0s 3ms/step - loss: 11.4670 - mae: 11.4670\n",
            "Epoch 7/100\n",
            "1/1 [==============================] - 0s 10ms/step - loss: 10.9509 - mae: 10.9509\n",
            "Epoch 8/100\n",
            "1/1 [==============================] - 0s 7ms/step - loss: 10.4312 - mae: 10.4312\n",
            "Epoch 9/100\n",
            "1/1 [==============================] - 0s 6ms/step - loss: 9.8846 - mae: 9.8846\n",
            "Epoch 10/100\n",
            "1/1 [==============================] - 0s 6ms/step - loss: 9.3138 - mae: 9.3138\n",
            "Epoch 11/100\n",
            "1/1 [==============================] - 0s 4ms/step - loss: 8.7174 - mae: 8.7174\n",
            "Epoch 12/100\n",
            "1/1 [==============================] - 0s 4ms/step - loss: 8.0840 - mae: 8.0840\n",
            "Epoch 13/100\n",
            "1/1 [==============================] - 0s 4ms/step - loss: 7.4181 - mae: 7.4181\n",
            "Epoch 14/100\n",
            "1/1 [==============================] - 0s 5ms/step - loss: 6.7458 - mae: 6.7458\n",
            "Epoch 15/100\n",
            "1/1 [==============================] - 0s 4ms/step - loss: 6.0225 - mae: 6.0225\n",
            "Epoch 16/100\n",
            "1/1 [==============================] - 0s 4ms/step - loss: 5.2325 - mae: 5.2325\n",
            "Epoch 17/100\n",
            "1/1 [==============================] - 0s 7ms/step - loss: 4.3710 - mae: 4.3710\n",
            "Epoch 18/100\n",
            "1/1 [==============================] - 0s 4ms/step - loss: 3.9541 - mae: 3.9541\n",
            "Epoch 19/100\n",
            "1/1 [==============================] - 0s 4ms/step - loss: 3.9177 - mae: 3.9177\n",
            "Epoch 20/100\n",
            "1/1 [==============================] - 0s 9ms/step - loss: 3.9291 - mae: 3.9291\n",
            "Epoch 21/100\n",
            "1/1 [==============================] - 0s 6ms/step - loss: 3.9242 - mae: 3.9242\n",
            "Epoch 22/100\n",
            "1/1 [==============================] - 0s 5ms/step - loss: 3.9040 - mae: 3.9040\n",
            "Epoch 23/100\n",
            "1/1 [==============================] - 0s 6ms/step - loss: 3.9336 - mae: 3.9336\n",
            "Epoch 24/100\n",
            "1/1 [==============================] - 0s 6ms/step - loss: 3.8864 - mae: 3.8864\n",
            "Epoch 25/100\n",
            "1/1 [==============================] - 0s 6ms/step - loss: 3.9459 - mae: 3.9459\n",
            "Epoch 26/100\n",
            "1/1 [==============================] - 0s 4ms/step - loss: 3.8801 - mae: 3.8801\n",
            "Epoch 27/100\n",
            "1/1 [==============================] - 0s 6ms/step - loss: 3.9327 - mae: 3.9327\n",
            "Epoch 28/100\n",
            "1/1 [==============================] - 0s 6ms/step - loss: 3.8867 - mae: 3.8867\n",
            "Epoch 29/100\n",
            "1/1 [==============================] - 0s 9ms/step - loss: 3.9075 - mae: 3.9075\n",
            "Epoch 30/100\n",
            "1/1 [==============================] - 0s 4ms/step - loss: 3.8935 - mae: 3.8935\n",
            "Epoch 31/100\n",
            "1/1 [==============================] - 0s 5ms/step - loss: 3.8834 - mae: 3.8834\n",
            "Epoch 32/100\n",
            "1/1 [==============================] - 0s 4ms/step - loss: 3.9085 - mae: 3.9085\n",
            "Epoch 33/100\n",
            "1/1 [==============================] - 0s 3ms/step - loss: 3.8642 - mae: 3.8642\n",
            "Epoch 34/100\n",
            "1/1 [==============================] - 0s 4ms/step - loss: 3.9155 - mae: 3.9155\n",
            "Epoch 35/100\n",
            "1/1 [==============================] - 0s 4ms/step - loss: 3.8501 - mae: 3.8501\n",
            "Epoch 36/100\n",
            "1/1 [==============================] - 0s 5ms/step - loss: 3.9100 - mae: 3.9100\n",
            "Epoch 37/100\n",
            "1/1 [==============================] - 0s 4ms/step - loss: 3.8569 - mae: 3.8569\n",
            "Epoch 38/100\n",
            "1/1 [==============================] - 0s 5ms/step - loss: 3.8846 - mae: 3.8846\n",
            "Epoch 39/100\n",
            "1/1 [==============================] - 0s 4ms/step - loss: 3.8639 - mae: 3.8639\n",
            "Epoch 40/100\n",
            "1/1 [==============================] - 0s 5ms/step - loss: 3.8661 - mae: 3.8661\n",
            "Epoch 41/100\n",
            "1/1 [==============================] - 0s 4ms/step - loss: 3.8791 - mae: 3.8791\n",
            "Epoch 42/100\n",
            "1/1 [==============================] - 0s 4ms/step - loss: 3.8407 - mae: 3.8407\n",
            "Epoch 43/100\n",
            "1/1 [==============================] - 0s 5ms/step - loss: 3.8863 - mae: 3.8863\n",
            "Epoch 44/100\n",
            "1/1 [==============================] - 0s 4ms/step - loss: 3.8212 - mae: 3.8212\n",
            "Epoch 45/100\n",
            "1/1 [==============================] - 0s 5ms/step - loss: 3.8862 - mae: 3.8862\n",
            "Epoch 46/100\n",
            "1/1 [==============================] - 0s 4ms/step - loss: 3.8283 - mae: 3.8283\n",
            "Epoch 47/100\n",
            "1/1 [==============================] - 0s 5ms/step - loss: 3.8604 - mae: 3.8604\n",
            "Epoch 48/100\n",
            "1/1 [==============================] - 0s 4ms/step - loss: 3.8403 - mae: 3.8403\n",
            "Epoch 49/100\n",
            "1/1 [==============================] - 0s 6ms/step - loss: 3.8421 - mae: 3.8421\n",
            "Epoch 50/100\n",
            "1/1 [==============================] - 0s 4ms/step - loss: 3.8508 - mae: 3.8508\n",
            "Epoch 51/100\n",
            "1/1 [==============================] - 0s 4ms/step - loss: 3.8160 - mae: 3.8160\n",
            "Epoch 52/100\n",
            "1/1 [==============================] - 0s 5ms/step - loss: 3.8582 - mae: 3.8582\n",
            "Epoch 53/100\n",
            "1/1 [==============================] - 0s 4ms/step - loss: 3.7935 - mae: 3.7935\n",
            "Epoch 54/100\n",
            "1/1 [==============================] - 0s 3ms/step - loss: 3.8610 - mae: 3.8610\n",
            "Epoch 55/100\n",
            "1/1 [==============================] - 0s 5ms/step - loss: 3.8007 - mae: 3.8007\n",
            "Epoch 56/100\n",
            "1/1 [==============================] - 0s 4ms/step - loss: 3.8380 - mae: 3.8380\n",
            "Epoch 57/100\n",
            "1/1 [==============================] - 0s 6ms/step - loss: 3.8162 - mae: 3.8162\n",
            "Epoch 58/100\n",
            "1/1 [==============================] - 0s 4ms/step - loss: 3.8163 - mae: 3.8163\n",
            "Epoch 59/100\n",
            "1/1 [==============================] - 0s 11ms/step - loss: 3.8236 - mae: 3.8236\n",
            "Epoch 60/100\n",
            "1/1 [==============================] - 0s 5ms/step - loss: 3.7900 - mae: 3.7900\n",
            "Epoch 61/100\n",
            "1/1 [==============================] - 0s 5ms/step - loss: 3.8312 - mae: 3.8312\n",
            "Epoch 62/100\n",
            "1/1 [==============================] - 0s 6ms/step - loss: 3.7668 - mae: 3.7668\n",
            "Epoch 63/100\n",
            "1/1 [==============================] - 0s 4ms/step - loss: 3.8346 - mae: 3.8346\n",
            "Epoch 64/100\n",
            "1/1 [==============================] - 0s 4ms/step - loss: 3.7747 - mae: 3.7747\n",
            "Epoch 65/100\n",
            "1/1 [==============================] - 0s 4ms/step - loss: 3.8158 - mae: 3.8158\n",
            "Epoch 66/100\n",
            "1/1 [==============================] - 0s 4ms/step - loss: 3.7899 - mae: 3.7899\n",
            "Epoch 67/100\n",
            "1/1 [==============================] - 0s 4ms/step - loss: 3.7893 - mae: 3.7893\n",
            "Epoch 68/100\n",
            "1/1 [==============================] - 0s 5ms/step - loss: 3.7976 - mae: 3.7976\n",
            "Epoch 69/100\n",
            "1/1 [==============================] - 0s 5ms/step - loss: 3.7626 - mae: 3.7626\n",
            "Epoch 70/100\n",
            "1/1 [==============================] - 0s 4ms/step - loss: 3.8053 - mae: 3.8053\n",
            "Epoch 71/100\n",
            "1/1 [==============================] - 0s 5ms/step - loss: 3.7413 - mae: 3.7413\n",
            "Epoch 72/100\n",
            "1/1 [==============================] - 0s 4ms/step - loss: 3.8069 - mae: 3.8069\n",
            "Epoch 73/100\n",
            "1/1 [==============================] - 0s 5ms/step - loss: 3.7545 - mae: 3.7545\n",
            "Epoch 74/100\n",
            "1/1 [==============================] - 0s 6ms/step - loss: 3.7877 - mae: 3.7877\n",
            "Epoch 75/100\n",
            "1/1 [==============================] - 0s 5ms/step - loss: 3.7647 - mae: 3.7647\n",
            "Epoch 76/100\n",
            "1/1 [==============================] - 0s 4ms/step - loss: 3.7610 - mae: 3.7610\n",
            "Epoch 77/100\n",
            "1/1 [==============================] - 0s 7ms/step - loss: 3.7726 - mae: 3.7726\n",
            "Epoch 78/100\n",
            "1/1 [==============================] - 0s 5ms/step - loss: 3.7340 - mae: 3.7340\n",
            "Epoch 79/100\n",
            "1/1 [==============================] - 0s 6ms/step - loss: 3.7806 - mae: 3.7806\n",
            "Epoch 80/100\n",
            "1/1 [==============================] - 0s 5ms/step - loss: 3.7167 - mae: 3.7167\n",
            "Epoch 81/100\n",
            "1/1 [==============================] - 0s 12ms/step - loss: 3.7811 - mae: 3.7811\n",
            "Epoch 82/100\n",
            "1/1 [==============================] - 0s 4ms/step - loss: 3.7326 - mae: 3.7326\n",
            "Epoch 83/100\n",
            "1/1 [==============================] - 0s 5ms/step - loss: 3.7584 - mae: 3.7584\n",
            "Epoch 84/100\n",
            "1/1 [==============================] - 0s 7ms/step - loss: 3.7405 - mae: 3.7405\n",
            "Epoch 85/100\n",
            "1/1 [==============================] - 0s 8ms/step - loss: 3.7313 - mae: 3.7313\n",
            "Epoch 86/100\n",
            "1/1 [==============================] - 0s 9ms/step - loss: 3.7486 - mae: 3.7486\n",
            "Epoch 87/100\n",
            "1/1 [==============================] - 0s 9ms/step - loss: 3.7041 - mae: 3.7041\n",
            "Epoch 88/100\n",
            "1/1 [==============================] - 0s 5ms/step - loss: 3.7568 - mae: 3.7568\n",
            "Epoch 89/100\n",
            "1/1 [==============================] - 0s 5ms/step - loss: 3.6934 - mae: 3.6934\n",
            "Epoch 90/100\n",
            "1/1 [==============================] - 0s 5ms/step - loss: 3.7550 - mae: 3.7550\n",
            "Epoch 91/100\n",
            "1/1 [==============================] - 0s 7ms/step - loss: 3.7092 - mae: 3.7092\n",
            "Epoch 92/100\n",
            "1/1 [==============================] - 0s 6ms/step - loss: 3.7278 - mae: 3.7278\n",
            "Epoch 93/100\n",
            "1/1 [==============================] - 0s 6ms/step - loss: 3.7173 - mae: 3.7173\n",
            "Epoch 94/100\n",
            "1/1 [==============================] - 0s 15ms/step - loss: 3.7004 - mae: 3.7004\n",
            "Epoch 95/100\n",
            "1/1 [==============================] - 0s 8ms/step - loss: 3.7256 - mae: 3.7256\n",
            "Epoch 96/100\n",
            "1/1 [==============================] - 0s 8ms/step - loss: 3.6728 - mae: 3.6728\n",
            "Epoch 97/100\n",
            "1/1 [==============================] - 0s 7ms/step - loss: 3.7340 - mae: 3.7340\n",
            "Epoch 98/100\n",
            "1/1 [==============================] - 0s 5ms/step - loss: 3.6755 - mae: 3.6755\n",
            "Epoch 99/100\n",
            "1/1 [==============================] - 0s 5ms/step - loss: 3.7234 - mae: 3.7234\n",
            "Epoch 100/100\n",
            "1/1 [==============================] - 0s 4ms/step - loss: 3.6868 - mae: 3.6868\n"
          ],
          "name": "stdout"
        },
        {
          "output_type": "execute_result",
          "data": {
            "text/plain": [
              "<tensorflow.python.keras.callbacks.History at 0x7fcbc83f1850>"
            ]
          },
          "metadata": {
            "tags": []
          },
          "execution_count": 16
        }
      ]
    },
    {
      "cell_type": "code",
      "metadata": {
        "colab": {
          "base_uri": "https://localhost:8080/"
        },
        "id": "qMus3D6_0AJ7",
        "outputId": "c55358e0-f7a1-441f-d777-921e9804de97"
      },
      "source": [
        "model3.predict([17.0])"
      ],
      "execution_count": null,
      "outputs": [
        {
          "output_type": "stream",
          "text": [
            "WARNING:tensorflow:5 out of the last 5 calls to <function Model.make_predict_function.<locals>.predict_function at 0x7fcbd1e51ef0> triggered tf.function retracing. Tracing is expensive and the excessive number of tracings could be due to (1) creating @tf.function repeatedly in a loop, (2) passing tensors with different shapes, (3) passing Python objects instead of tensors. For (1), please define your @tf.function outside of the loop. For (2), @tf.function has experimental_relax_shapes=True option that relaxes argument shapes that can avoid unnecessary retracing. For (3), please refer to https://www.tensorflow.org/guide/function#controlling_retracing and https://www.tensorflow.org/api_docs/python/tf/function for  more details.\n"
          ],
          "name": "stdout"
        },
        {
          "output_type": "execute_result",
          "data": {
            "text/plain": [
              "array([[31.47713]], dtype=float32)"
            ]
          },
          "metadata": {
            "tags": []
          },
          "execution_count": 17
        }
      ]
    },
    {
      "cell_type": "markdown",
      "metadata": {
        "id": "RGhFeo3R12fi"
      },
      "source": [
        "Common ways to improve the model\n",
        "\n",
        "Better we can change only one parameter at a time to identify what is affecting model.\n",
        "\n",
        "1. Add hidden layers\n",
        "2. increase number of hidden units\n",
        "3. change the activation function\n",
        "4. Change optimizers\n",
        "5. Change the learning rate\n",
        "6. Fitting on more data\n",
        "7. Fitting for longer\n",
        "\n",
        "\n",
        "\n",
        "Learning rate is most important parameter\n"
      ]
    },
    {
      "cell_type": "code",
      "metadata": {
        "colab": {
          "base_uri": "https://localhost:8080/"
        },
        "id": "58RsK00A01Ts",
        "outputId": "1766d0cd-13fd-473f-b801-85a389e8914f"
      },
      "source": [
        "model4=tf.keras.Sequential([\n",
        "                            tf.keras.layers.Dense(50,activation=None),\n",
        "                            tf.keras.layers.Dense(1)\n",
        "])\n",
        "\n",
        "model4.compile(loss=tf.keras.losses.mae,optimizer=tf.keras.optimizers.Adam(learning_rate=0.01),metrics=['mae'])\n",
        "\n",
        "model4.fit(X,y,epochs=100,verbose=1)"
      ],
      "execution_count": null,
      "outputs": [
        {
          "output_type": "stream",
          "text": [
            "Epoch 1/100\n",
            "1/1 [==============================] - 0s 332ms/step - loss: 13.3249 - mae: 13.3249\n",
            "Epoch 2/100\n",
            "1/1 [==============================] - 0s 5ms/step - loss: 12.6854 - mae: 12.6854\n",
            "Epoch 3/100\n",
            "1/1 [==============================] - 0s 5ms/step - loss: 12.0448 - mae: 12.0448\n",
            "Epoch 4/100\n",
            "1/1 [==============================] - 0s 4ms/step - loss: 11.3997 - mae: 11.3997\n",
            "Epoch 5/100\n",
            "1/1 [==============================] - 0s 4ms/step - loss: 10.7465 - mae: 10.7465\n",
            "Epoch 6/100\n",
            "1/1 [==============================] - 0s 6ms/step - loss: 10.0817 - mae: 10.0817\n",
            "Epoch 7/100\n",
            "1/1 [==============================] - 0s 19ms/step - loss: 9.4019 - mae: 9.4019\n",
            "Epoch 8/100\n",
            "1/1 [==============================] - 0s 6ms/step - loss: 8.7039 - mae: 8.7039\n",
            "Epoch 9/100\n",
            "1/1 [==============================] - 0s 11ms/step - loss: 7.9847 - mae: 7.9847\n",
            "Epoch 10/100\n",
            "1/1 [==============================] - 0s 10ms/step - loss: 7.2413 - mae: 7.2413\n",
            "Epoch 11/100\n",
            "1/1 [==============================] - 0s 5ms/step - loss: 6.7059 - mae: 6.7059\n",
            "Epoch 12/100\n",
            "1/1 [==============================] - 0s 7ms/step - loss: 6.8140 - mae: 6.8140\n",
            "Epoch 13/100\n",
            "1/1 [==============================] - 0s 4ms/step - loss: 7.0919 - mae: 7.0919\n",
            "Epoch 14/100\n",
            "1/1 [==============================] - 0s 3ms/step - loss: 7.2832 - mae: 7.2832\n",
            "Epoch 15/100\n",
            "1/1 [==============================] - 0s 5ms/step - loss: 7.3787 - mae: 7.3787\n",
            "Epoch 16/100\n",
            "1/1 [==============================] - 0s 4ms/step - loss: 7.2762 - mae: 7.2762\n",
            "Epoch 17/100\n",
            "1/1 [==============================] - 0s 3ms/step - loss: 7.0256 - mae: 7.0256\n",
            "Epoch 18/100\n",
            "1/1 [==============================] - 0s 6ms/step - loss: 6.7870 - mae: 6.7870\n",
            "Epoch 19/100\n",
            "1/1 [==============================] - 0s 3ms/step - loss: 6.5361 - mae: 6.5361\n",
            "Epoch 20/100\n",
            "1/1 [==============================] - 0s 7ms/step - loss: 6.2701 - mae: 6.2701\n",
            "Epoch 21/100\n",
            "1/1 [==============================] - 0s 6ms/step - loss: 6.0616 - mae: 6.0616\n",
            "Epoch 22/100\n",
            "1/1 [==============================] - 0s 7ms/step - loss: 6.0187 - mae: 6.0187\n",
            "Epoch 23/100\n",
            "1/1 [==============================] - 0s 9ms/step - loss: 5.9997 - mae: 5.9997\n",
            "Epoch 24/100\n",
            "1/1 [==============================] - 0s 5ms/step - loss: 6.0567 - mae: 6.0567\n",
            "Epoch 25/100\n",
            "1/1 [==============================] - 0s 4ms/step - loss: 6.0092 - mae: 6.0092\n",
            "Epoch 26/100\n",
            "1/1 [==============================] - 0s 6ms/step - loss: 5.8703 - mae: 5.8703\n",
            "Epoch 27/100\n",
            "1/1 [==============================] - 0s 4ms/step - loss: 5.6530 - mae: 5.6530\n",
            "Epoch 28/100\n",
            "1/1 [==============================] - 0s 4ms/step - loss: 5.5529 - mae: 5.5529\n",
            "Epoch 29/100\n",
            "1/1 [==============================] - 0s 4ms/step - loss: 5.4495 - mae: 5.4495\n",
            "Epoch 30/100\n",
            "1/1 [==============================] - 0s 5ms/step - loss: 5.3425 - mae: 5.3425\n",
            "Epoch 31/100\n",
            "1/1 [==============================] - 0s 6ms/step - loss: 5.2494 - mae: 5.2494\n",
            "Epoch 32/100\n",
            "1/1 [==============================] - 0s 4ms/step - loss: 5.2012 - mae: 5.2012\n",
            "Epoch 33/100\n",
            "1/1 [==============================] - 0s 8ms/step - loss: 5.1134 - mae: 5.1134\n",
            "Epoch 34/100\n",
            "1/1 [==============================] - 0s 4ms/step - loss: 4.9893 - mae: 4.9893\n",
            "Epoch 35/100\n",
            "1/1 [==============================] - 0s 6ms/step - loss: 4.8400 - mae: 4.8400\n",
            "Epoch 36/100\n",
            "1/1 [==============================] - 0s 5ms/step - loss: 4.7422 - mae: 4.7422\n",
            "Epoch 37/100\n",
            "1/1 [==============================] - 0s 5ms/step - loss: 4.6372 - mae: 4.6372\n",
            "Epoch 38/100\n",
            "1/1 [==============================] - 0s 5ms/step - loss: 4.5252 - mae: 4.5252\n",
            "Epoch 39/100\n",
            "1/1 [==============================] - 0s 5ms/step - loss: 4.4059 - mae: 4.4059\n",
            "Epoch 40/100\n",
            "1/1 [==============================] - 0s 8ms/step - loss: 4.2790 - mae: 4.2790\n",
            "Epoch 41/100\n",
            "1/1 [==============================] - 0s 9ms/step - loss: 4.1445 - mae: 4.1445\n",
            "Epoch 42/100\n",
            "1/1 [==============================] - 0s 5ms/step - loss: 4.0021 - mae: 4.0021\n",
            "Epoch 43/100\n",
            "1/1 [==============================] - 0s 3ms/step - loss: 3.8515 - mae: 3.8515\n",
            "Epoch 44/100\n",
            "1/1 [==============================] - 0s 3ms/step - loss: 3.6925 - mae: 3.6925\n",
            "Epoch 45/100\n",
            "1/1 [==============================] - 0s 5ms/step - loss: 3.5664 - mae: 3.5664\n",
            "Epoch 46/100\n",
            "1/1 [==============================] - 0s 5ms/step - loss: 3.3970 - mae: 3.3970\n",
            "Epoch 47/100\n",
            "1/1 [==============================] - 0s 5ms/step - loss: 3.2019 - mae: 3.2019\n",
            "Epoch 48/100\n",
            "1/1 [==============================] - 0s 4ms/step - loss: 3.0310 - mae: 3.0310\n",
            "Epoch 49/100\n",
            "1/1 [==============================] - 0s 5ms/step - loss: 2.8489 - mae: 2.8489\n",
            "Epoch 50/100\n",
            "1/1 [==============================] - 0s 6ms/step - loss: 2.6553 - mae: 2.6553\n",
            "Epoch 51/100\n",
            "1/1 [==============================] - 0s 4ms/step - loss: 2.4501 - mae: 2.4501\n",
            "Epoch 52/100\n",
            "1/1 [==============================] - 0s 6ms/step - loss: 2.2331 - mae: 2.2331\n",
            "Epoch 53/100\n",
            "1/1 [==============================] - 0s 4ms/step - loss: 2.0040 - mae: 2.0040\n",
            "Epoch 54/100\n",
            "1/1 [==============================] - 0s 4ms/step - loss: 1.7627 - mae: 1.7627\n",
            "Epoch 55/100\n",
            "1/1 [==============================] - 0s 5ms/step - loss: 1.5161 - mae: 1.5161\n",
            "Epoch 56/100\n",
            "1/1 [==============================] - 0s 28ms/step - loss: 1.2577 - mae: 1.2577\n",
            "Epoch 57/100\n",
            "1/1 [==============================] - 0s 7ms/step - loss: 0.9925 - mae: 0.9925\n",
            "Epoch 58/100\n",
            "1/1 [==============================] - 0s 7ms/step - loss: 0.7205 - mae: 0.7205\n",
            "Epoch 59/100\n",
            "1/1 [==============================] - 0s 5ms/step - loss: 0.5173 - mae: 0.5173\n",
            "Epoch 60/100\n",
            "1/1 [==============================] - 0s 6ms/step - loss: 0.2153 - mae: 0.2153\n",
            "Epoch 61/100\n",
            "1/1 [==============================] - 0s 5ms/step - loss: 0.4173 - mae: 0.4173\n",
            "Epoch 62/100\n",
            "1/1 [==============================] - 0s 6ms/step - loss: 0.5762 - mae: 0.5762\n",
            "Epoch 63/100\n",
            "1/1 [==============================] - 0s 7ms/step - loss: 0.5975 - mae: 0.5975\n",
            "Epoch 64/100\n",
            "1/1 [==============================] - 0s 4ms/step - loss: 0.8474 - mae: 0.8474\n",
            "Epoch 65/100\n",
            "1/1 [==============================] - 0s 5ms/step - loss: 0.8695 - mae: 0.8695\n",
            "Epoch 66/100\n",
            "1/1 [==============================] - 0s 5ms/step - loss: 0.8410 - mae: 0.8410\n",
            "Epoch 67/100\n",
            "1/1 [==============================] - 0s 6ms/step - loss: 0.8863 - mae: 0.8863\n",
            "Epoch 68/100\n",
            "1/1 [==============================] - 0s 4ms/step - loss: 0.7648 - mae: 0.7648\n",
            "Epoch 69/100\n",
            "1/1 [==============================] - 0s 5ms/step - loss: 0.7065 - mae: 0.7065\n",
            "Epoch 70/100\n",
            "1/1 [==============================] - 0s 4ms/step - loss: 0.5911 - mae: 0.5911\n",
            "Epoch 71/100\n",
            "1/1 [==============================] - 0s 5ms/step - loss: 0.4363 - mae: 0.4363\n",
            "Epoch 72/100\n",
            "1/1 [==============================] - 0s 5ms/step - loss: 0.2905 - mae: 0.2905\n",
            "Epoch 73/100\n",
            "1/1 [==============================] - 0s 4ms/step - loss: 0.1794 - mae: 0.1794\n",
            "Epoch 74/100\n",
            "1/1 [==============================] - 0s 5ms/step - loss: 0.1967 - mae: 0.1967\n",
            "Epoch 75/100\n",
            "1/1 [==============================] - 0s 6ms/step - loss: 0.3262 - mae: 0.3262\n",
            "Epoch 76/100\n",
            "1/1 [==============================] - 0s 4ms/step - loss: 0.4484 - mae: 0.4484\n",
            "Epoch 77/100\n",
            "1/1 [==============================] - 0s 6ms/step - loss: 0.3864 - mae: 0.3864\n",
            "Epoch 78/100\n",
            "1/1 [==============================] - 0s 5ms/step - loss: 0.5309 - mae: 0.5309\n",
            "Epoch 79/100\n",
            "1/1 [==============================] - 0s 6ms/step - loss: 0.6070 - mae: 0.6070\n",
            "Epoch 80/100\n",
            "1/1 [==============================] - 0s 4ms/step - loss: 0.4313 - mae: 0.4313\n",
            "Epoch 81/100\n",
            "1/1 [==============================] - 0s 4ms/step - loss: 0.3837 - mae: 0.3837\n",
            "Epoch 82/100\n",
            "1/1 [==============================] - 0s 7ms/step - loss: 0.4021 - mae: 0.4021\n",
            "Epoch 83/100\n",
            "1/1 [==============================] - 0s 4ms/step - loss: 0.2554 - mae: 0.2554\n",
            "Epoch 84/100\n",
            "1/1 [==============================] - 0s 7ms/step - loss: 0.0459 - mae: 0.0459\n",
            "Epoch 85/100\n",
            "1/1 [==============================] - 0s 5ms/step - loss: 0.1229 - mae: 0.1229\n",
            "Epoch 86/100\n",
            "1/1 [==============================] - 0s 6ms/step - loss: 0.1967 - mae: 0.1967\n",
            "Epoch 87/100\n",
            "1/1 [==============================] - 0s 4ms/step - loss: 0.2765 - mae: 0.2765\n",
            "Epoch 88/100\n",
            "1/1 [==============================] - 0s 6ms/step - loss: 0.2318 - mae: 0.2318\n",
            "Epoch 89/100\n",
            "1/1 [==============================] - 0s 4ms/step - loss: 0.2346 - mae: 0.2346\n",
            "Epoch 90/100\n",
            "1/1 [==============================] - 0s 6ms/step - loss: 0.1395 - mae: 0.1395\n",
            "Epoch 91/100\n",
            "1/1 [==============================] - 0s 4ms/step - loss: 0.2349 - mae: 0.2349\n",
            "Epoch 92/100\n",
            "1/1 [==============================] - 0s 4ms/step - loss: 0.1472 - mae: 0.1472\n",
            "Epoch 93/100\n",
            "1/1 [==============================] - 0s 8ms/step - loss: 0.2359 - mae: 0.2359\n",
            "Epoch 94/100\n",
            "1/1 [==============================] - 0s 5ms/step - loss: 0.2869 - mae: 0.2869\n",
            "Epoch 95/100\n",
            "1/1 [==============================] - 0s 8ms/step - loss: 0.1659 - mae: 0.1659\n",
            "Epoch 96/100\n",
            "1/1 [==============================] - 0s 5ms/step - loss: 0.1626 - mae: 0.1626\n",
            "Epoch 97/100\n",
            "1/1 [==============================] - 0s 9ms/step - loss: 0.1946 - mae: 0.1946\n",
            "Epoch 98/100\n",
            "1/1 [==============================] - 0s 7ms/step - loss: 0.0711 - mae: 0.0711\n",
            "Epoch 99/100\n",
            "1/1 [==============================] - 0s 7ms/step - loss: 0.2429 - mae: 0.2429\n",
            "Epoch 100/100\n",
            "1/1 [==============================] - 0s 6ms/step - loss: 0.2325 - mae: 0.2325\n"
          ],
          "name": "stdout"
        },
        {
          "output_type": "execute_result",
          "data": {
            "text/plain": [
              "<tensorflow.python.keras.callbacks.History at 0x7fcbcaec45d0>"
            ]
          },
          "metadata": {
            "tags": []
          },
          "execution_count": 20
        }
      ]
    },
    {
      "cell_type": "code",
      "metadata": {
        "colab": {
          "base_uri": "https://localhost:8080/"
        },
        "id": "0KlZUnko3CCl",
        "outputId": "0e938b72-e521-4d2a-821b-36a214d4207c"
      },
      "source": [
        "model4.predict([17.0])"
      ],
      "execution_count": null,
      "outputs": [
        {
          "output_type": "stream",
          "text": [
            "WARNING:tensorflow:6 out of the last 6 calls to <function Model.make_predict_function.<locals>.predict_function at 0x7fcbc83fad40> triggered tf.function retracing. Tracing is expensive and the excessive number of tracings could be due to (1) creating @tf.function repeatedly in a loop, (2) passing tensors with different shapes, (3) passing Python objects instead of tensors. For (1), please define your @tf.function outside of the loop. For (2), @tf.function has experimental_relax_shapes=True option that relaxes argument shapes that can avoid unnecessary retracing. For (3), please refer to https://www.tensorflow.org/guide/function#controlling_retracing and https://www.tensorflow.org/api_docs/python/tf/function for  more details.\n"
          ],
          "name": "stdout"
        },
        {
          "output_type": "execute_result",
          "data": {
            "text/plain": [
              "array([[27.153084]], dtype=float32)"
            ]
          },
          "metadata": {
            "tags": []
          },
          "execution_count": 21
        }
      ]
    },
    {
      "cell_type": "markdown",
      "metadata": {
        "id": "5cFXqfz03s8W"
      },
      "source": [
        "**Evaluating model**"
      ]
    },
    {
      "cell_type": "markdown",
      "metadata": {
        "id": "Z2LmPcFI3s4_"
      },
      "source": [
        "```In practice typical workflow you will go through when building neaural networks ```\n",
        "\n",
        "```Build model- fit model - evaluate model - tune the model```\n",
        "\n",
        "\n"
      ]
    },
    {
      "cell_type": "code",
      "metadata": {
        "id": "jGo_OS-wHzM8"
      },
      "source": [
        "import numpy as np\n",
        "import matplotlib.pyplot as plt\n",
        "import tensorflow as tf"
      ],
      "execution_count": null,
      "outputs": []
    },
    {
      "cell_type": "code",
      "metadata": {
        "colab": {
          "base_uri": "https://localhost:8080/"
        },
        "id": "l9JKGKpA3Pv3",
        "outputId": "a75c7c25-2b62-4eb7-f3a9-032aba21e150"
      },
      "source": [
        "# make bigger dataset\n",
        "X=tf.range(-100,100,4)\n",
        "X"
      ],
      "execution_count": null,
      "outputs": [
        {
          "output_type": "execute_result",
          "data": {
            "text/plain": [
              "<tf.Tensor: shape=(50,), dtype=int32, numpy=\n",
              "array([-100,  -96,  -92,  -88,  -84,  -80,  -76,  -72,  -68,  -64,  -60,\n",
              "        -56,  -52,  -48,  -44,  -40,  -36,  -32,  -28,  -24,  -20,  -16,\n",
              "        -12,   -8,   -4,    0,    4,    8,   12,   16,   20,   24,   28,\n",
              "         32,   36,   40,   44,   48,   52,   56,   60,   64,   68,   72,\n",
              "         76,   80,   84,   88,   92,   96], dtype=int32)>"
            ]
          },
          "metadata": {
            "tags": []
          },
          "execution_count": 2
        }
      ]
    },
    {
      "cell_type": "code",
      "metadata": {
        "colab": {
          "base_uri": "https://localhost:8080/"
        },
        "id": "NiDQnct3HM65",
        "outputId": "33bb11d6-f1e0-4404-d19a-bdc526fc876f"
      },
      "source": [
        "#make labels for data set\n",
        "y=X+10\n",
        "y"
      ],
      "execution_count": null,
      "outputs": [
        {
          "output_type": "execute_result",
          "data": {
            "text/plain": [
              "<tf.Tensor: shape=(50,), dtype=int32, numpy=\n",
              "array([-90, -86, -82, -78, -74, -70, -66, -62, -58, -54, -50, -46, -42,\n",
              "       -38, -34, -30, -26, -22, -18, -14, -10,  -6,  -2,   2,   6,  10,\n",
              "        14,  18,  22,  26,  30,  34,  38,  42,  46,  50,  54,  58,  62,\n",
              "        66,  70,  74,  78,  82,  86,  90,  94,  98, 102, 106], dtype=int32)>"
            ]
          },
          "metadata": {
            "tags": []
          },
          "execution_count": 3
        }
      ]
    },
    {
      "cell_type": "code",
      "metadata": {
        "colab": {
          "base_uri": "https://localhost:8080/",
          "height": 282
        },
        "id": "yb4mkNR0Hd6h",
        "outputId": "0a0bda4f-2fb4-4324-8f3f-53a74aa24929"
      },
      "source": [
        "plt.scatter(X,y)"
      ],
      "execution_count": null,
      "outputs": [
        {
          "output_type": "execute_result",
          "data": {
            "text/plain": [
              "<matplotlib.collections.PathCollection at 0x7f7d7fd59c50>"
            ]
          },
          "metadata": {
            "tags": []
          },
          "execution_count": 4
        },
        {
          "output_type": "display_data",
          "data": {
            "image/png": "[encoded data removed]",
            "text/plain": [
              "<Figure size 432x288 with 1 Axes>"
            ]
          },
          "metadata": {
            "tags": [],
            "needs_background": "light"
          }
        }
      ]
    },
    {
      "cell_type": "markdown",
      "metadata": {
        "id": "oPW_N8NSIQO6"
      },
      "source": [
        "**Data need to be devided into 3 parts:**\n",
        "\n",
        "1. Training set : this covers almost 70-80 % of data points from entire data set\n",
        "\n",
        "2. Validation set : The model gets tuned on this data 10-15 % of available data\n",
        "\n",
        "3. Test set : model gets evaluated on this data (10-15% of available data)\n",
        "\n",
        "\n",
        "\n",
        "Depending on available data we can keep validation data as optional set."
      ]
    },
    {
      "cell_type": "code",
      "metadata": {
        "colab": {
          "base_uri": "https://localhost:8080/"
        },
        "id": "kyb2IaNoJGXX",
        "outputId": "e0140b73-cffd-4810-d118-e2513a1b7e23"
      },
      "source": [
        "len(X)"
      ],
      "execution_count": null,
      "outputs": [
        {
          "output_type": "execute_result",
          "data": {
            "text/plain": [
              "50"
            ]
          },
          "metadata": {
            "tags": []
          },
          "execution_count": 5
        }
      ]
    },
    {
      "cell_type": "code",
      "metadata": {
        "id": "UYUpdP4OJGT_"
      },
      "source": [
        "#split the data in train and test data\n",
        "\n",
        "from sklearn.model_selection import train_test_split\n",
        "\n",
        "X_train,X_test,y_train,y_test=train_test_split(np.array(X),np.array(y), test_size=0.20, random_state=42)"
      ],
      "execution_count": null,
      "outputs": []
    },
    {
      "cell_type": "code",
      "metadata": {
        "colab": {
          "base_uri": "https://localhost:8080/"
        },
        "id": "Ok1QOHYHKZLJ",
        "outputId": "df25ccbf-4dfe-48df-f8e9-c779fef0f7b0"
      },
      "source": [
        "X_train.shape, X_test.shape,y_train.shape,y_test.shape\n"
      ],
      "execution_count": null,
      "outputs": [
        {
          "output_type": "execute_result",
          "data": {
            "text/plain": [
              "((40,), (10,), (40,), (10,))"
            ]
          },
          "metadata": {
            "tags": []
          },
          "execution_count": 7
        }
      ]
    },
    {
      "cell_type": "code",
      "metadata": {
        "colab": {
          "base_uri": "https://localhost:8080/",
          "height": 445
        },
        "id": "hYQiiBqOIVJp",
        "outputId": "758edd72-2500-4c00-c219-0b9b72d7a192"
      },
      "source": [
        "plt.figure(figsize=(10,7))\n",
        "plt.scatter(X_train,y_train,c=\"b\",label=\"Training data\")\n",
        "\n",
        "plt.scatter(X_test,y_test,c=\"g\",label=\"Testing data\")\n",
        "\n",
        "plt.legend()"
      ],
      "execution_count": null,
      "outputs": [
        {
          "output_type": "execute_result",
          "data": {
            "text/plain": [
              "<matplotlib.legend.Legend at 0x7f7d7fd2a190>"
            ]
          },
          "metadata": {
            "tags": []
          },
          "execution_count": 8
        },
        {
          "output_type": "display_data",
          "data": {
            "image/png": "[encoded data removed]",
            "text/plain": [
              "<Figure size 720x504 with 1 Axes>"
            ]
          },
          "metadata": {
            "tags": [],
            "needs_background": "light"
          }
        }
      ]
    },
    {
      "cell_type": "code",
      "metadata": {
        "id": "d99cGgwaOBUz"
      },
      "source": [
        "#create model\n",
        "model=tf.keras.Sequential([\n",
        "                           tf.keras.layers.Dense(1)\n",
        "])\n",
        "\n",
        "#compile the model\n",
        "model.compile(loss=tf.keras.losses.mae,optimizer=tf.keras.optimizers.Adam(learning_rate=0.01),metrics=[\"mae\"])\n",
        "\n",
        "#fit the model\n",
        "#model.fit(X_train,y_train,epochs=10,verbose=1)"
      ],
      "execution_count": null,
      "outputs": []
    },
    {
      "cell_type": "markdown",
      "metadata": {
        "id": "RVlHbow2O2eP"
      },
      "source": [
        "###### visualize model\n"
      ]
    },
    {
      "cell_type": "code",
      "metadata": {
        "colab": {
          "base_uri": "https://localhost:8080/",
          "height": 316
        },
        "id": "REX7f2mxOBRW",
        "outputId": "f8f0be35-31dc-4f4b-f22d-234266e95303"
      },
      "source": [
        "model.summary()"
      ],
      "execution_count": null,
      "outputs": [
        {
          "output_type": "error",
          "ename": "ValueError",
          "evalue": "ignored",
          "traceback": [
            "\u001b[0;31m---------------------------------------------------------------------------\u001b[0m",
            "\u001b[0;31mValueError\u001b[0m                                Traceback (most recent call last)",
            "\u001b[0;32m<ipython-input-14-5f15418b3570>\u001b[0m in \u001b[0;36m<module>\u001b[0;34m()\u001b[0m\n\u001b[0;32m----> 1\u001b[0;31m \u001b[0mmodel\u001b[0m\u001b[0;34m.\u001b[0m\u001b[0msummary\u001b[0m\u001b[0;34m(\u001b[0m\u001b[0;34m)\u001b[0m\u001b[0;34m\u001b[0m\u001b[0;34m\u001b[0m\u001b[0m\n\u001b[0m",
            "\u001b[0;32m/usr/local/lib/python3.7/dist-packages/tensorflow/python/keras/engine/training.py\u001b[0m in \u001b[0;36msummary\u001b[0;34m(self, line_length, positions, print_fn)\u001b[0m\n\u001b[1;32m   2374\u001b[0m     \"\"\"\n\u001b[1;32m   2375\u001b[0m     \u001b[0;32mif\u001b[0m \u001b[0;32mnot\u001b[0m \u001b[0mself\u001b[0m\u001b[0;34m.\u001b[0m\u001b[0mbuilt\u001b[0m\u001b[0;34m:\u001b[0m\u001b[0;34m\u001b[0m\u001b[0;34m\u001b[0m\u001b[0m\n\u001b[0;32m-> 2376\u001b[0;31m       raise ValueError('This model has not yet been built. '\n\u001b[0m\u001b[1;32m   2377\u001b[0m                        \u001b[0;34m'Build the model first by calling `build()` or calling '\u001b[0m\u001b[0;34m\u001b[0m\u001b[0;34m\u001b[0m\u001b[0m\n\u001b[1;32m   2378\u001b[0m                        \u001b[0;34m'`fit()` with some data, or specify '\u001b[0m\u001b[0;34m\u001b[0m\u001b[0;34m\u001b[0m\u001b[0m\n",
            "\u001b[0;31mValueError\u001b[0m: This model has not yet been built. Build the model first by calling `build()` or calling `fit()` with some data, or specify an `input_shape` argument in the first layer(s) for automatic build."
          ]
        }
      ]
    },
    {
      "cell_type": "code",
      "metadata": {
        "colab": {
          "base_uri": "https://localhost:8080/"
        },
        "id": "cAd45G-eOBON",
        "outputId": "4e52c037-c01b-4315-e038-cd13d78b5910"
      },
      "source": [
        "#lets define input shape\n",
        "\n",
        "model=tf.keras.Sequential([\n",
        "                           tf.keras.layers.Dense(1,input_shape=[1])# one input which is scalar number here\n",
        "])\n",
        "\n",
        "model.compile(loss=tf.keras.losses.mae,\n",
        "              optimizer=tf.keras.optimizers.Adam(learning_rate=0.1),\n",
        "              metrics=[\"mae\"])\n",
        "\n",
        "model.summary()"
      ],
      "execution_count": null,
      "outputs": [
        {
          "output_type": "stream",
          "text": [
            "Model: \"sequential_4\"\n",
            "_________________________________________________________________\n",
            "Layer (type)                 Output Shape              Param #   \n",
            "=================================================================\n",
            "dense_4 (Dense)              (None, 1)                 2         \n",
            "=================================================================\n",
            "Total params: 2\n",
            "Trainable params: 2\n",
            "Non-trainable params: 0\n",
            "_________________________________________________________________\n"
          ],
          "name": "stdout"
        }
      ]
    },
    {
      "cell_type": "markdown",
      "metadata": {
        "id": "fGkBYIMeQ7fu"
      },
      "source": [
        "1. Total param : total number of parameters in the model\n",
        "2. Total trainable param : These are parameters the model can update while training\n",
        "3. Non trainable param : when we bring already learn parameters or during transfer learning\n",
        "\n",
        "\n",
        "MIT's introduction to deep learning\n"
      ]
    },
    {
      "cell_type": "code",
      "metadata": {
        "colab": {
          "base_uri": "https://localhost:8080/"
        },
        "id": "EEdb94MbHjB1",
        "outputId": "42b82b18-88a8-4114-830a-dec93c956681"
      },
      "source": [
        "model.fit(X_train,y_train,epochs=100,verbose=1)"
      ],
      "execution_count": null,
      "outputs": [
        {
          "output_type": "stream",
          "text": [
            "Epoch 1/100\n",
            "2/2 [==============================] - 0s 9ms/step - loss: 96.7977 - mae: 96.7977\n",
            "Epoch 2/100\n",
            "2/2 [==============================] - 0s 3ms/step - loss: 90.2296 - mae: 90.2296\n",
            "Epoch 3/100\n",
            "2/2 [==============================] - 0s 6ms/step - loss: 77.0137 - mae: 77.0137\n",
            "Epoch 4/100\n",
            "2/2 [==============================] - 0s 5ms/step - loss: 69.7416 - mae: 69.7416\n",
            "Epoch 5/100\n",
            "2/2 [==============================] - 0s 3ms/step - loss: 59.6857 - mae: 59.6857\n",
            "Epoch 6/100\n",
            "2/2 [==============================] - 0s 5ms/step - loss: 49.1298 - mae: 49.1298\n",
            "Epoch 7/100\n",
            "2/2 [==============================] - 0s 3ms/step - loss: 37.5523 - mae: 37.5523\n",
            "Epoch 8/100\n",
            "2/2 [==============================] - 0s 3ms/step - loss: 29.1574 - mae: 29.1574\n",
            "Epoch 9/100\n",
            "2/2 [==============================] - 0s 8ms/step - loss: 19.0393 - mae: 19.0393\n",
            "Epoch 10/100\n",
            "2/2 [==============================] - 0s 3ms/step - loss: 10.4080 - mae: 10.4080\n",
            "Epoch 11/100\n",
            "2/2 [==============================] - 0s 7ms/step - loss: 9.8980 - mae: 9.8980\n",
            "Epoch 12/100\n",
            "2/2 [==============================] - 0s 6ms/step - loss: 12.2797 - mae: 12.2797\n",
            "Epoch 13/100\n",
            "2/2 [==============================] - 0s 7ms/step - loss: 15.9499 - mae: 15.9499\n",
            "Epoch 14/100\n",
            "2/2 [==============================] - 0s 7ms/step - loss: 17.6146 - mae: 17.6146\n",
            "Epoch 15/100\n",
            "2/2 [==============================] - 0s 4ms/step - loss: 16.6612 - mae: 16.6612\n",
            "Epoch 16/100\n",
            "2/2 [==============================] - 0s 4ms/step - loss: 14.6624 - mae: 14.6624\n",
            "Epoch 17/100\n",
            "2/2 [==============================] - 0s 9ms/step - loss: 11.4624 - mae: 11.4624\n",
            "Epoch 18/100\n",
            "2/2 [==============================] - 0s 5ms/step - loss: 9.2024 - mae: 9.2024\n",
            "Epoch 19/100\n",
            "2/2 [==============================] - 0s 3ms/step - loss: 8.5694 - mae: 8.5694\n",
            "Epoch 20/100\n",
            "2/2 [==============================] - 0s 3ms/step - loss: 7.8713 - mae: 7.8713\n",
            "Epoch 21/100\n",
            "2/2 [==============================] - 0s 6ms/step - loss: 7.7790 - mae: 7.7790\n",
            "Epoch 22/100\n",
            "2/2 [==============================] - 0s 4ms/step - loss: 8.0543 - mae: 8.0543\n",
            "Epoch 23/100\n",
            "2/2 [==============================] - 0s 4ms/step - loss: 7.3090 - mae: 7.3090\n",
            "Epoch 24/100\n",
            "2/2 [==============================] - 0s 10ms/step - loss: 6.9158 - mae: 6.9158\n",
            "Epoch 25/100\n",
            "2/2 [==============================] - 0s 7ms/step - loss: 6.9903 - mae: 6.9903\n",
            "Epoch 26/100\n",
            "2/2 [==============================] - 0s 5ms/step - loss: 6.8584 - mae: 6.8584\n",
            "Epoch 27/100\n",
            "2/2 [==============================] - 0s 6ms/step - loss: 6.6290 - mae: 6.6290\n",
            "Epoch 28/100\n",
            "2/2 [==============================] - 0s 3ms/step - loss: 6.3675 - mae: 6.3675\n",
            "Epoch 29/100\n",
            "2/2 [==============================] - 0s 7ms/step - loss: 6.0712 - mae: 6.0712\n",
            "Epoch 30/100\n",
            "2/2 [==============================] - 0s 5ms/step - loss: 5.7714 - mae: 5.7714\n",
            "Epoch 31/100\n",
            "2/2 [==============================] - 0s 4ms/step - loss: 5.4888 - mae: 5.4888\n",
            "Epoch 32/100\n",
            "2/2 [==============================] - 0s 7ms/step - loss: 5.1532 - mae: 5.1532\n",
            "Epoch 33/100\n",
            "2/2 [==============================] - 0s 6ms/step - loss: 4.9048 - mae: 4.9048\n",
            "Epoch 34/100\n",
            "2/2 [==============================] - 0s 6ms/step - loss: 4.7025 - mae: 4.7025\n",
            "Epoch 35/100\n",
            "2/2 [==============================] - 0s 4ms/step - loss: 4.4553 - mae: 4.4553\n",
            "Epoch 36/100\n",
            "2/2 [==============================] - 0s 12ms/step - loss: 4.0879 - mae: 4.0879\n",
            "Epoch 37/100\n",
            "2/2 [==============================] - 0s 7ms/step - loss: 3.8279 - mae: 3.8279\n",
            "Epoch 38/100\n",
            "2/2 [==============================] - 0s 7ms/step - loss: 3.6834 - mae: 3.6834\n",
            "Epoch 39/100\n",
            "2/2 [==============================] - 0s 6ms/step - loss: 3.3457 - mae: 3.3457\n",
            "Epoch 40/100\n",
            "2/2 [==============================] - 0s 10ms/step - loss: 3.1677 - mae: 3.1677\n",
            "Epoch 41/100\n",
            "2/2 [==============================] - 0s 8ms/step - loss: 2.9762 - mae: 2.9762\n",
            "Epoch 42/100\n",
            "2/2 [==============================] - 0s 5ms/step - loss: 2.7176 - mae: 2.7176\n",
            "Epoch 43/100\n",
            "2/2 [==============================] - 0s 5ms/step - loss: 2.4528 - mae: 2.4528\n",
            "Epoch 44/100\n",
            "2/2 [==============================] - 0s 8ms/step - loss: 2.2372 - mae: 2.2372\n",
            "Epoch 45/100\n",
            "2/2 [==============================] - 0s 3ms/step - loss: 1.9910 - mae: 1.9910\n",
            "Epoch 46/100\n",
            "2/2 [==============================] - 0s 9ms/step - loss: 1.7926 - mae: 1.7926\n",
            "Epoch 47/100\n",
            "2/2 [==============================] - 0s 3ms/step - loss: 1.6433 - mae: 1.6433\n",
            "Epoch 48/100\n",
            "2/2 [==============================] - 0s 3ms/step - loss: 1.3911 - mae: 1.3911\n",
            "Epoch 49/100\n",
            "2/2 [==============================] - 0s 3ms/step - loss: 1.4492 - mae: 1.4492\n",
            "Epoch 50/100\n",
            "2/2 [==============================] - 0s 3ms/step - loss: 1.0097 - mae: 1.0097\n",
            "Epoch 51/100\n",
            "2/2 [==============================] - 0s 3ms/step - loss: 0.9906 - mae: 0.9906\n",
            "Epoch 52/100\n",
            "2/2 [==============================] - 0s 3ms/step - loss: 0.6078 - mae: 0.6078\n",
            "Epoch 53/100\n",
            "2/2 [==============================] - 0s 3ms/step - loss: 1.2247 - mae: 1.2247\n",
            "Epoch 54/100\n",
            "2/2 [==============================] - 0s 4ms/step - loss: 0.3850 - mae: 0.3850\n",
            "Epoch 55/100\n",
            "2/2 [==============================] - 0s 3ms/step - loss: 0.7928 - mae: 0.7928\n",
            "Epoch 56/100\n",
            "2/2 [==============================] - 0s 4ms/step - loss: 0.2982 - mae: 0.2982\n",
            "Epoch 57/100\n",
            "2/2 [==============================] - 0s 3ms/step - loss: 0.1931 - mae: 0.1931\n",
            "Epoch 58/100\n",
            "2/2 [==============================] - 0s 3ms/step - loss: 0.3332 - mae: 0.3332\n",
            "Epoch 59/100\n",
            "2/2 [==============================] - 0s 3ms/step - loss: 0.2954 - mae: 0.2954\n",
            "Epoch 60/100\n",
            "2/2 [==============================] - 0s 3ms/step - loss: 0.2920 - mae: 0.2920\n",
            "Epoch 61/100\n",
            "2/2 [==============================] - 0s 4ms/step - loss: 0.5672 - mae: 0.5672\n",
            "Epoch 62/100\n",
            "2/2 [==============================] - 0s 4ms/step - loss: 0.8394 - mae: 0.8394\n",
            "Epoch 63/100\n",
            "2/2 [==============================] - 0s 4ms/step - loss: 0.2713 - mae: 0.2713\n",
            "Epoch 64/100\n",
            "2/2 [==============================] - 0s 4ms/step - loss: 0.2456 - mae: 0.2456\n",
            "Epoch 65/100\n",
            "2/2 [==============================] - 0s 3ms/step - loss: 0.2888 - mae: 0.2888\n",
            "Epoch 66/100\n",
            "2/2 [==============================] - 0s 3ms/step - loss: 0.3887 - mae: 0.3887\n",
            "Epoch 67/100\n",
            "2/2 [==============================] - 0s 4ms/step - loss: 0.4107 - mae: 0.4107\n",
            "Epoch 68/100\n",
            "2/2 [==============================] - 0s 3ms/step - loss: 0.7694 - mae: 0.7694\n",
            "Epoch 69/100\n",
            "2/2 [==============================] - 0s 7ms/step - loss: 1.1082 - mae: 1.1082\n",
            "Epoch 70/100\n",
            "2/2 [==============================] - 0s 4ms/step - loss: 0.9441 - mae: 0.9441\n",
            "Epoch 71/100\n",
            "2/2 [==============================] - 0s 3ms/step - loss: 0.3436 - mae: 0.3436\n",
            "Epoch 72/100\n",
            "2/2 [==============================] - 0s 8ms/step - loss: 0.3669 - mae: 0.3669\n",
            "Epoch 73/100\n",
            "2/2 [==============================] - 0s 4ms/step - loss: 1.3122 - mae: 1.3122\n",
            "Epoch 74/100\n",
            "2/2 [==============================] - 0s 3ms/step - loss: 1.1232 - mae: 1.1232\n",
            "Epoch 75/100\n",
            "2/2 [==============================] - 0s 3ms/step - loss: 1.7726 - mae: 1.7726\n",
            "Epoch 76/100\n",
            "2/2 [==============================] - 0s 5ms/step - loss: 2.3421 - mae: 2.3421\n",
            "Epoch 77/100\n",
            "2/2 [==============================] - 0s 4ms/step - loss: 0.5047 - mae: 0.5047\n",
            "Epoch 78/100\n",
            "2/2 [==============================] - 0s 4ms/step - loss: 2.6123 - mae: 2.6123\n",
            "Epoch 79/100\n",
            "2/2 [==============================] - 0s 3ms/step - loss: 1.8309 - mae: 1.8309\n",
            "Epoch 80/100\n",
            "2/2 [==============================] - 0s 4ms/step - loss: 1.2410 - mae: 1.2410\n",
            "Epoch 81/100\n",
            "2/2 [==============================] - 0s 4ms/step - loss: 2.0355 - mae: 2.0355\n",
            "Epoch 82/100\n",
            "2/2 [==============================] - 0s 4ms/step - loss: 0.4173 - mae: 0.4173\n",
            "Epoch 83/100\n",
            "2/2 [==============================] - 0s 3ms/step - loss: 2.5004 - mae: 2.5004\n",
            "Epoch 84/100\n",
            "2/2 [==============================] - 0s 3ms/step - loss: 1.8134 - mae: 1.8134\n",
            "Epoch 85/100\n",
            "2/2 [==============================] - 0s 3ms/step - loss: 1.2452 - mae: 1.2452\n",
            "Epoch 86/100\n",
            "2/2 [==============================] - 0s 4ms/step - loss: 2.1408 - mae: 2.1408\n",
            "Epoch 87/100\n",
            "2/2 [==============================] - 0s 4ms/step - loss: 0.5575 - mae: 0.5575\n",
            "Epoch 88/100\n",
            "2/2 [==============================] - 0s 4ms/step - loss: 2.2097 - mae: 2.2097\n",
            "Epoch 89/100\n",
            "2/2 [==============================] - 0s 4ms/step - loss: 1.3766 - mae: 1.3766\n",
            "Epoch 90/100\n",
            "2/2 [==============================] - 0s 4ms/step - loss: 1.7378 - mae: 1.7378\n",
            "Epoch 91/100\n",
            "2/2 [==============================] - 0s 3ms/step - loss: 2.7992 - mae: 2.7992\n",
            "Epoch 92/100\n",
            "2/2 [==============================] - 0s 4ms/step - loss: 1.1370 - mae: 1.1370\n",
            "Epoch 93/100\n",
            "2/2 [==============================] - 0s 4ms/step - loss: 1.4556 - mae: 1.4556\n",
            "Epoch 94/100\n",
            "2/2 [==============================] - 0s 4ms/step - loss: 0.8602 - mae: 0.8602\n",
            "Epoch 95/100\n",
            "2/2 [==============================] - 0s 3ms/step - loss: 0.6608 - mae: 0.6608\n",
            "Epoch 96/100\n",
            "2/2 [==============================] - 0s 3ms/step - loss: 0.5060 - mae: 0.5060\n",
            "Epoch 97/100\n",
            "2/2 [==============================] - 0s 4ms/step - loss: 0.2169 - mae: 0.2169\n",
            "Epoch 98/100\n",
            "2/2 [==============================] - 0s 3ms/step - loss: 0.3075 - mae: 0.3075\n",
            "Epoch 99/100\n",
            "2/2 [==============================] - 0s 4ms/step - loss: 0.6038 - mae: 0.6038\n",
            "Epoch 100/100\n",
            "2/2 [==============================] - 0s 4ms/step - loss: 0.9502 - mae: 0.9502\n"
          ],
          "name": "stdout"
        },
        {
          "output_type": "execute_result",
          "data": {
            "text/plain": [
              "<tensorflow.python.keras.callbacks.History at 0x7f1e99883650>"
            ]
          },
          "metadata": {
            "tags": []
          },
          "execution_count": 38
        }
      ]
    },
    {
      "cell_type": "code",
      "metadata": {
        "colab": {
          "base_uri": "https://localhost:8080/",
          "height": 312
        },
        "id": "-hkdQNq5TL9M",
        "outputId": "fb734e94-d647-4d7c-f87c-7859a93a295a"
      },
      "source": [
        "from tensorflow.keras.utils import plot_model\n",
        "\n",
        "plot_model(model=model,show_shapes=True)"
      ],
      "execution_count": null,
      "outputs": [
        {
          "output_type": "execute_result",
          "data": {
            "image/png": "[encoded data removed]",
            "text/plain": [
              "<IPython.core.display.Image object>"
            ]
          },
          "metadata": {
            "tags": []
          },
          "execution_count": 13
        }
      ]
    },
    {
      "cell_type": "code",
      "metadata": {
        "id": "rNTql1gATt1-"
      },
      "source": [
        "#Create model with 2layers input layer and output layer\n",
        "\n",
        "model=tf.keras.Sequential([\n",
        "                           \n",
        "                           tf.keras.layers.Dense(10,input_shape=[1],name=\"input_layer\"),\n",
        "                           tf.keras.layers.Dense(1,name=\"output_layer\")\n",
        "],name=\"model_1\")\n",
        "\n",
        "\n",
        "model.compile(loss=tf.keras.losses.mae,optimizer=tf.keras.optimizers.Adam(learning_rate=0.1),metrics=[\"mae\"])"
      ],
      "execution_count": null,
      "outputs": []
    },
    {
      "cell_type": "code",
      "metadata": {
        "colab": {
          "base_uri": "https://localhost:8080/"
        },
        "id": "qOUwd3cKUt7n",
        "outputId": "445aae82-ca61-4f88-cb34-c144c9ed750c"
      },
      "source": [
        "model.summary()"
      ],
      "execution_count": null,
      "outputs": [
        {
          "output_type": "stream",
          "text": [
            "Model: \"model_1\"\n",
            "_________________________________________________________________\n",
            "Layer (type)                 Output Shape              Param #   \n",
            "=================================================================\n",
            "input_layer (Dense)          (None, 10)                20        \n",
            "_________________________________________________________________\n",
            "output_layer (Dense)         (None, 1)                 11        \n",
            "=================================================================\n",
            "Total params: 31\n",
            "Trainable params: 31\n",
            "Non-trainable params: 0\n",
            "_________________________________________________________________\n"
          ],
          "name": "stdout"
        }
      ]
    },
    {
      "cell_type": "code",
      "metadata": {
        "colab": {
          "base_uri": "https://localhost:8080/",
          "height": 312
        },
        "id": "Gl5c82EWUw1r",
        "outputId": "804baaac-2ecf-4820-df1f-2e87f0ee806c"
      },
      "source": [
        "plot_model(model,show_shapes=True,show_dtype=True,show_layer_names=True)"
      ],
      "execution_count": null,
      "outputs": [
        {
          "output_type": "execute_result",
          "data": {
            "image/png": "[encoded data removed]",
            "text/plain": [
              "<IPython.core.display.Image object>"
            ]
          },
          "metadata": {
            "tags": []
          },
          "execution_count": 14
        }
      ]
    },
    {
      "cell_type": "code",
      "metadata": {
        "colab": {
          "base_uri": "https://localhost:8080/"
        },
        "id": "Kz_028RxVLee",
        "outputId": "22c700c8-9c0f-407a-c275-e4b0d55cd3cb"
      },
      "source": [
        "model.fit(X_train,y_train,epochs=100,verbose=0)"
      ],
      "execution_count": null,
      "outputs": [
        {
          "output_type": "execute_result",
          "data": {
            "text/plain": [
              "<tensorflow.python.keras.callbacks.History at 0x7f7d74ad44d0>"
            ]
          },
          "metadata": {
            "tags": []
          },
          "execution_count": 15
        }
      ]
    },
    {
      "cell_type": "markdown",
      "metadata": {
        "id": "OETtOfcGVvft"
      },
      "source": [
        "###### Visualizing model prediction"
      ]
    },
    {
      "cell_type": "code",
      "metadata": {
        "colab": {
          "base_uri": "https://localhost:8080/"
        },
        "id": "ROlZBXg4Vhhn",
        "outputId": "2b91b463-6d46-49e9-ce63-d757635e8485"
      },
      "source": [
        "y_pred=model.predict(X_test)\n",
        "y_pred"
      ],
      "execution_count": null,
      "outputs": [
        {
          "output_type": "execute_result",
          "data": {
            "text/plain": [
              "array([[-40.885323],\n",
              "       [ 70.03674 ],\n",
              "       [ 31.640648],\n",
              "       [ 95.63414 ],\n",
              "       [-23.820387],\n",
              "       [108.43285 ],\n",
              "       [ 14.575712],\n",
              "       [ 10.309479],\n",
              "       [ 40.17312 ],\n",
              "       [-15.287922]], dtype=float32)"
            ]
          },
          "metadata": {
            "tags": []
          },
          "execution_count": 16
        }
      ]
    },
    {
      "cell_type": "code",
      "metadata": {
        "colab": {
          "base_uri": "https://localhost:8080/"
        },
        "id": "_x42Iscs2rDa",
        "outputId": "a002fac7-3590-4501-bac3-1db009ac72d3"
      },
      "source": [
        "y_test"
      ],
      "execution_count": null,
      "outputs": [
        {
          "output_type": "execute_result",
          "data": {
            "text/plain": [
              "array([-38,  66,  30,  90, -22, 102,  14,  10,  38, -14], dtype=int32)"
            ]
          },
          "metadata": {
            "tags": []
          },
          "execution_count": 17
        }
      ]
    },
    {
      "cell_type": "code",
      "metadata": {
        "id": "KT9sdsj32y7w"
      },
      "source": [
        "def plot_predictions(train_data=X_train,\n",
        "                     train_labels=y_train,\n",
        "                     test_data=X_test,\n",
        "                     test_labels=y_test,\n",
        "                     predictions=y_pred):\n",
        "  plt.figure(figsize=(10,7))\n",
        "  plt.scatter(train_data,train_labels,c=\"b\",label=\"Training data\")\n",
        "  plt.scatter(test_data,test_labels,c=\"r\",label=\"Testing data \")\n",
        "  plt.scatter(test_data,predictions,c=\"g\",label=\"Predictions\")\n",
        "  plt.legend()"
      ],
      "execution_count": null,
      "outputs": []
    },
    {
      "cell_type": "code",
      "metadata": {
        "colab": {
          "base_uri": "https://localhost:8080/",
          "height": 428
        },
        "id": "CTgKFkmN4Vfy",
        "outputId": "b5f8fb68-0436-41f7-cd47-8f43e7b78181"
      },
      "source": [
        "plot_predictions(X_train,y_train,X_test,y_test,y_pred)"
      ],
      "execution_count": null,
      "outputs": [
        {
          "output_type": "display_data",
          "data": {
            "image/png": "[encoded data removed]",
            "text/plain": [
              "<Figure size 720x504 with 1 Axes>"
            ]
          },
          "metadata": {
            "tags": [],
            "needs_background": "light"
          }
        }
      ]
    },
    {
      "cell_type": "code",
      "metadata": {
        "colab": {
          "base_uri": "https://localhost:8080/"
        },
        "id": "LgGOp3HF-eul",
        "outputId": "585a04a3-a374-4def-a98a-066ed80dbcef"
      },
      "source": [
        "model.predict([104])"
      ],
      "execution_count": null,
      "outputs": [
        {
          "output_type": "execute_result",
          "data": {
            "text/plain": [
              "array([[121.231544]], dtype=float32)"
            ]
          },
          "metadata": {
            "tags": []
          },
          "execution_count": 20
        }
      ]
    },
    {
      "cell_type": "code",
      "metadata": {
        "colab": {
          "base_uri": "https://localhost:8080/"
        },
        "id": "d-e5jCTk4nIb",
        "outputId": "86b2a3ce-1dd7-4110-f951-fd51bd58dbf9"
      },
      "source": [
        "model.evaluate(X_test,y_test)"
      ],
      "execution_count": null,
      "outputs": [
        {
          "output_type": "stream",
          "text": [
            "1/1 [==============================] - 0s 145ms/step - loss: 2.6796 - mae: 2.6796\n"
          ],
          "name": "stdout"
        },
        {
          "output_type": "execute_result",
          "data": {
            "text/plain": [
              "[2.679631233215332, 2.679631233215332]"
            ]
          },
          "metadata": {
            "tags": []
          },
          "execution_count": 21
        }
      ]
    },
    {
      "cell_type": "code",
      "metadata": {
        "colab": {
          "base_uri": "https://localhost:8080/"
        },
        "id": "LB0ZB0U964xG",
        "outputId": "a7c25a9c-5160-49b0-d1c9-bff96d7fd690"
      },
      "source": [
        "tf.metrics.mean_absolute_error(y_test,y_pred) # here y_test and y pred are not in same shape and type is not same"
      ],
      "execution_count": null,
      "outputs": [
        {
          "output_type": "execute_result",
          "data": {
            "text/plain": [
              "<tf.Tensor: shape=(10,), dtype=float32, numpy=\n",
              "array([68.48531 , 52.822044, 37.92813 , 69.30731 , 54.25631 , 80.83286 ,\n",
              "       37.6     , 38.338104, 40.069252, 48.77275 ], dtype=float32)>"
            ]
          },
          "metadata": {
            "tags": []
          },
          "execution_count": 22
        }
      ]
    },
    {
      "cell_type": "code",
      "metadata": {
        "colab": {
          "base_uri": "https://localhost:8080/"
        },
        "id": "oj4p9aqx8Fyd",
        "outputId": "f662ad91-203d-4c07-f2be-43530197fc70"
      },
      "source": [
        "tf.metrics.mean_absolute_error(y_test,tf.squeeze(tf.constant(y_pred)))"
      ],
      "execution_count": null,
      "outputs": [
        {
          "output_type": "execute_result",
          "data": {
            "text/plain": [
              "<tf.Tensor: shape=(), dtype=float32, numpy=2.6796327>"
            ]
          },
          "metadata": {
            "tags": []
          },
          "execution_count": 23
        }
      ]
    },
    {
      "cell_type": "code",
      "metadata": {
        "colab": {
          "base_uri": "https://localhost:8080/"
        },
        "id": "PdhSZl489Csd",
        "outputId": "899d764d-4744-425b-d41f-52099e24e10d"
      },
      "source": [
        "tf.metrics.mean_squared_error(y_test,tf.squeeze(tf.constant(y_pred)))"
      ],
      "execution_count": null,
      "outputs": [
        {
          "output_type": "execute_result",
          "data": {
            "text/plain": [
              "<tf.Tensor: shape=(), dtype=float32, numpy=11.055946>"
            ]
          },
          "metadata": {
            "tags": []
          },
          "execution_count": 24
        }
      ]
    },
    {
      "cell_type": "code",
      "metadata": {
        "id": "jTygSpHn9X4K"
      },
      "source": [
        "def mae(y_test,y_pred):\n",
        "  return tf.metrics.mean_absolute_error(y_test,tf.squeeze(y_pred))\n",
        "\n",
        "def mse(y_test,y_pred):\n",
        "  return tf.metrics.mean_squared_error(y_test,tf.squeeze(y_pred))\n"
      ],
      "execution_count": null,
      "outputs": []
    },
    {
      "cell_type": "markdown",
      "metadata": {
        "id": "qygXn7qQ-RuD"
      },
      "source": [
        "#####  Tracking your experiments\n",
        "\n",
        "1. Tensorboard - tensorflow library to help track modelling experiments\n",
        "2. Weights and biases - a tool for tracking all kinds of experiments(plug straight into tensorboard)\n",
        "\n",
        "\n",
        "\n"
      ]
    },
    {
      "cell_type": "markdown",
      "metadata": {
        "id": "ilkbSwinDGnV"
      },
      "source": [
        "##### Saving the model\n",
        "\n",
        "Saving a model allows us to use models outside of coding platform such as in mobile application/web applications\n",
        "\n",
        "\n",
        "There are 2 main formats that model can be saved\n",
        "\n",
        "1. savedModel format\n",
        "2. HDF5 format"
      ]
    },
    {
      "cell_type": "code",
      "metadata": {
        "colab": {
          "base_uri": "https://localhost:8080/"
        },
        "id": "j0P4nWxSDuhd",
        "outputId": "c083b17e-a73a-4287-d5e1-a55f483ccef4"
      },
      "source": [
        "model.save(\"best_model_savedFormat\")"
      ],
      "execution_count": null,
      "outputs": [
        {
          "output_type": "stream",
          "text": [
            "INFO:tensorflow:Assets written to: best_model_savedFormat/assets\n"
          ],
          "name": "stdout"
        }
      ]
    },
    {
      "cell_type": "code",
      "metadata": {
        "id": "ee2twauKFHzw"
      },
      "source": [
        "model.save(\"best_model_HDF5.h5\")"
      ],
      "execution_count": null,
      "outputs": []
    },
    {
      "cell_type": "markdown",
      "metadata": {
        "id": "8lz3plxIGaN7"
      },
      "source": [
        "Loading in saved model"
      ]
    },
    {
      "cell_type": "code",
      "metadata": {
        "colab": {
          "base_uri": "https://localhost:8080/"
        },
        "id": "ln_hVI1MGDjQ",
        "outputId": "e4dac2d5-aed8-47d6-fc60-36ed25e47eb4"
      },
      "source": [
        "#Load in savedModel format\n",
        "Savedmodel=tf.keras.models.load_model(\"/content/best_model_savedFormat\")\n",
        "Savedmodel.summary()\n",
        "\n"
      ],
      "execution_count": null,
      "outputs": [
        {
          "output_type": "stream",
          "text": [
            "Model: \"model_1\"\n",
            "_________________________________________________________________\n",
            "Layer (type)                 Output Shape              Param #   \n",
            "=================================================================\n",
            "input_layer (Dense)          (None, 10)                20        \n",
            "_________________________________________________________________\n",
            "output_layer (Dense)         (None, 1)                 11        \n",
            "=================================================================\n",
            "Total params: 31\n",
            "Trainable params: 31\n",
            "Non-trainable params: 0\n",
            "_________________________________________________________________\n"
          ],
          "name": "stdout"
        }
      ]
    },
    {
      "cell_type": "code",
      "metadata": {
        "colab": {
          "base_uri": "https://localhost:8080/"
        },
        "id": "VsSC-IQEGtb_",
        "outputId": "ea46072b-c423-4b36-ca63-d69895eb1623"
      },
      "source": [
        "model_pred=model.predict(X_test)\n",
        "loadedmodel_pred=Savedmodel.predict(X_test)\n",
        "\n",
        "#compare predictions\n",
        "model_pred==loadedmodel_pred"
      ],
      "execution_count": null,
      "outputs": [
        {
          "output_type": "execute_result",
          "data": {
            "text/plain": [
              "array([[ True],\n",
              "       [ True],\n",
              "       [ True],\n",
              "       [ True],\n",
              "       [ True],\n",
              "       [ True],\n",
              "       [ True],\n",
              "       [ True],\n",
              "       [ True],\n",
              "       [ True]])"
            ]
          },
          "metadata": {
            "tags": []
          },
          "execution_count": 33
        }
      ]
    },
    {
      "cell_type": "code",
      "metadata": {
        "colab": {
          "base_uri": "https://localhost:8080/"
        },
        "id": "_SeWj11CHV-W",
        "outputId": "8e9b7e21-5bdc-4e37-9356-0bf3058c820d"
      },
      "source": [
        "#load h5 format\n",
        "\n",
        "loadedh5=tf.keras.models.load_model(\"/content/best_model_HDF5.h5\")\n",
        "h5model_pred=loadedh5.predict(X_test)\n",
        "\n",
        "#compare predictions\n",
        "h5model_pred==model_pred"
      ],
      "execution_count": null,
      "outputs": [
        {
          "output_type": "execute_result",
          "data": {
            "text/plain": [
              "array([[ True],\n",
              "       [ True],\n",
              "       [ True],\n",
              "       [ True],\n",
              "       [ True],\n",
              "       [ True],\n",
              "       [ True],\n",
              "       [ True],\n",
              "       [ True],\n",
              "       [ True]])"
            ]
          },
          "metadata": {
            "tags": []
          },
          "execution_count": 34
        }
      ]
    },
    {
      "cell_type": "code",
      "metadata": {
        "id": "1L_8ePrnImMl"
      },
      "source": [
        "#download model\n",
        "\n",
        "from google.colab import files\n",
        "#files.download(\"/content/best_model_HDF5.h5\")"
      ],
      "execution_count": null,
      "outputs": []
    },
    {
      "cell_type": "markdown",
      "metadata": {
        "id": "glgLbIEIPHkt"
      },
      "source": [
        "## Create model on larger data set"
      ]
    },
    {
      "cell_type": "code",
      "metadata": {
        "id": "E6Ix4aUMKD1j"
      },
      "source": [
        "import tensorflow as tf\n",
        "import pandas as pd\n",
        "\n",
        "import matplotlib.pyplot as plt\n",
        "import numpy as np"
      ],
      "execution_count": null,
      "outputs": []
    },
    {
      "cell_type": "code",
      "metadata": {
        "id": "RUprLDQWP0qD"
      },
      "source": [
        "insurance=pd.read_csv(\"https://raw.githubusercontent.com/stedy/Machine-Learning-with-R-datasets/master/insurance.csv\")"
      ],
      "execution_count": null,
      "outputs": []
    },
    {
      "cell_type": "code",
      "metadata": {
        "colab": {
          "base_uri": "https://localhost:8080/",
          "height": 419
        },
        "id": "au0nCxsgP5DB",
        "outputId": "348833cc-4652-46d3-b4cf-9da9f900efaf"
      },
      "source": [
        "insurance"
      ],
      "execution_count": null,
      "outputs": [
        {
          "output_type": "execute_result",
          "data": {
            "text/html": [
              "<div>\n",
              "<style scoped>\n",
              "    .dataframe tbody tr th:only-of-type {\n",
              "        vertical-align: middle;\n",
              "    }\n",
              "\n",
              "    .dataframe tbody tr th {\n",
              "        vertical-align: top;\n",
              "    }\n",
              "\n",
              "    .dataframe thead th {\n",
              "        text-align: right;\n",
              "    }\n",
              "</style>\n",
              "<table border=\"1\" class=\"dataframe\">\n",
              "  <thead>\n",
              "    <tr style=\"text-align: right;\">\n",
              "      <th></th>\n",
              "      <th>age</th>\n",
              "      <th>sex</th>\n",
              "      <th>bmi</th>\n",
              "      <th>children</th>\n",
              "      <th>smoker</th>\n",
              "      <th>region</th>\n",
              "      <th>charges</th>\n",
              "    </tr>\n",
              "  </thead>\n",
              "  <tbody>\n",
              "    <tr>\n",
              "      <th>0</th>\n",
              "      <td>19</td>\n",
              "      <td>female</td>\n",
              "      <td>27.900</td>\n",
              "      <td>0</td>\n",
              "      <td>yes</td>\n",
              "      <td>southwest</td>\n",
              "      <td>16884.92400</td>\n",
              "    </tr>\n",
              "    <tr>\n",
              "      <th>1</th>\n",
              "      <td>18</td>\n",
              "      <td>male</td>\n",
              "      <td>33.770</td>\n",
              "      <td>1</td>\n",
              "      <td>no</td>\n",
              "      <td>southeast</td>\n",
              "      <td>1725.55230</td>\n",
              "    </tr>\n",
              "    <tr>\n",
              "      <th>2</th>\n",
              "      <td>28</td>\n",
              "      <td>male</td>\n",
              "      <td>33.000</td>\n",
              "      <td>3</td>\n",
              "      <td>no</td>\n",
              "      <td>southeast</td>\n",
              "      <td>4449.46200</td>\n",
              "    </tr>\n",
              "    <tr>\n",
              "      <th>3</th>\n",
              "      <td>33</td>\n",
              "      <td>male</td>\n",
              "      <td>22.705</td>\n",
              "      <td>0</td>\n",
              "      <td>no</td>\n",
              "      <td>northwest</td>\n",
              "      <td>21984.47061</td>\n",
              "    </tr>\n",
              "    <tr>\n",
              "      <th>4</th>\n",
              "      <td>32</td>\n",
              "      <td>male</td>\n",
              "      <td>28.880</td>\n",
              "      <td>0</td>\n",
              "      <td>no</td>\n",
              "      <td>northwest</td>\n",
              "      <td>3866.85520</td>\n",
              "    </tr>\n",
              "    <tr>\n",
              "      <th>...</th>\n",
              "      <td>...</td>\n",
              "      <td>...</td>\n",
              "      <td>...</td>\n",
              "      <td>...</td>\n",
              "      <td>...</td>\n",
              "      <td>...</td>\n",
              "      <td>...</td>\n",
              "    </tr>\n",
              "    <tr>\n",
              "      <th>1333</th>\n",
              "      <td>50</td>\n",
              "      <td>male</td>\n",
              "      <td>30.970</td>\n",
              "      <td>3</td>\n",
              "      <td>no</td>\n",
              "      <td>northwest</td>\n",
              "      <td>10600.54830</td>\n",
              "    </tr>\n",
              "    <tr>\n",
              "      <th>1334</th>\n",
              "      <td>18</td>\n",
              "      <td>female</td>\n",
              "      <td>31.920</td>\n",
              "      <td>0</td>\n",
              "      <td>no</td>\n",
              "      <td>northeast</td>\n",
              "      <td>2205.98080</td>\n",
              "    </tr>\n",
              "    <tr>\n",
              "      <th>1335</th>\n",
              "      <td>18</td>\n",
              "      <td>female</td>\n",
              "      <td>36.850</td>\n",
              "      <td>0</td>\n",
              "      <td>no</td>\n",
              "      <td>southeast</td>\n",
              "      <td>1629.83350</td>\n",
              "    </tr>\n",
              "    <tr>\n",
              "      <th>1336</th>\n",
              "      <td>21</td>\n",
              "      <td>female</td>\n",
              "      <td>25.800</td>\n",
              "      <td>0</td>\n",
              "      <td>no</td>\n",
              "      <td>southwest</td>\n",
              "      <td>2007.94500</td>\n",
              "    </tr>\n",
              "    <tr>\n",
              "      <th>1337</th>\n",
              "      <td>61</td>\n",
              "      <td>female</td>\n",
              "      <td>29.070</td>\n",
              "      <td>0</td>\n",
              "      <td>yes</td>\n",
              "      <td>northwest</td>\n",
              "      <td>29141.36030</td>\n",
              "    </tr>\n",
              "  </tbody>\n",
              "</table>\n",
              "<p>1338 rows × 7 columns</p>\n",
              "</div>"
            ],
            "text/plain": [
              "      age     sex     bmi  children smoker     region      charges\n",
              "0      19  female  27.900         0    yes  southwest  16884.92400\n",
              "1      18    male  33.770         1     no  southeast   1725.55230\n",
              "2      28    male  33.000         3     no  southeast   4449.46200\n",
              "3      33    male  22.705         0     no  northwest  21984.47061\n",
              "4      32    male  28.880         0     no  northwest   3866.85520\n",
              "...   ...     ...     ...       ...    ...        ...          ...\n",
              "1333   50    male  30.970         3     no  northwest  10600.54830\n",
              "1334   18  female  31.920         0     no  northeast   2205.98080\n",
              "1335   18  female  36.850         0     no  southeast   1629.83350\n",
              "1336   21  female  25.800         0     no  southwest   2007.94500\n",
              "1337   61  female  29.070         0    yes  northwest  29141.36030\n",
              "\n",
              "[1338 rows x 7 columns]"
            ]
          },
          "metadata": {
            "tags": []
          },
          "execution_count": 38
        }
      ]
    },
    {
      "cell_type": "code",
      "metadata": {
        "colab": {
          "base_uri": "https://localhost:8080/"
        },
        "id": "bOBIZfksP6Qj",
        "outputId": "d47ffbe9-4f5a-4486-d361-16cf29cddbe7"
      },
      "source": [
        "insurance.info()"
      ],
      "execution_count": null,
      "outputs": [
        {
          "output_type": "stream",
          "text": [
            "<class 'pandas.core.frame.DataFrame'>\n",
            "RangeIndex: 1338 entries, 0 to 1337\n",
            "Data columns (total 7 columns):\n",
            " #   Column    Non-Null Count  Dtype  \n",
            "---  ------    --------------  -----  \n",
            " 0   age       1338 non-null   int64  \n",
            " 1   sex       1338 non-null   object \n",
            " 2   bmi       1338 non-null   float64\n",
            " 3   children  1338 non-null   int64  \n",
            " 4   smoker    1338 non-null   object \n",
            " 5   region    1338 non-null   object \n",
            " 6   charges   1338 non-null   float64\n",
            "dtypes: float64(2), int64(2), object(3)\n",
            "memory usage: 73.3+ KB\n"
          ],
          "name": "stdout"
        }
      ]
    },
    {
      "cell_type": "markdown",
      "metadata": {
        "id": "uNPaTUEgercV"
      },
      "source": [
        "All columns are not in numbers some of them are in object.To convert them into numbers we convert them into one hot encoding.\n",
        "\n",
        "We use pandas `get_dummies()` function"
      ]
    },
    {
      "cell_type": "code",
      "metadata": {
        "id": "Ni5AvxLSdNZs"
      },
      "source": [
        "df=pd.get_dummies(insurance )"
      ],
      "execution_count": null,
      "outputs": []
    },
    {
      "cell_type": "code",
      "metadata": {
        "colab": {
          "base_uri": "https://localhost:8080/"
        },
        "id": "FKYV0U4MfOFY",
        "outputId": "5dbfba8e-11a9-4289-8ac7-465ed3cbce99"
      },
      "source": [
        "df.info()"
      ],
      "execution_count": null,
      "outputs": [
        {
          "output_type": "stream",
          "text": [
            "<class 'pandas.core.frame.DataFrame'>\n",
            "RangeIndex: 1338 entries, 0 to 1337\n",
            "Data columns (total 12 columns):\n",
            " #   Column            Non-Null Count  Dtype  \n",
            "---  ------            --------------  -----  \n",
            " 0   age               1338 non-null   int64  \n",
            " 1   bmi               1338 non-null   float64\n",
            " 2   children          1338 non-null   int64  \n",
            " 3   charges           1338 non-null   float64\n",
            " 4   sex_female        1338 non-null   uint8  \n",
            " 5   sex_male          1338 non-null   uint8  \n",
            " 6   smoker_no         1338 non-null   uint8  \n",
            " 7   smoker_yes        1338 non-null   uint8  \n",
            " 8   region_northeast  1338 non-null   uint8  \n",
            " 9   region_northwest  1338 non-null   uint8  \n",
            " 10  region_southeast  1338 non-null   uint8  \n",
            " 11  region_southwest  1338 non-null   uint8  \n",
            "dtypes: float64(2), int64(2), uint8(8)\n",
            "memory usage: 52.4 KB\n"
          ],
          "name": "stdout"
        }
      ]
    },
    {
      "cell_type": "code",
      "metadata": {
        "colab": {
          "base_uri": "https://localhost:8080/"
        },
        "id": "CweTQOdQfXMt",
        "outputId": "0b99927d-e56f-468c-cd1b-4f650a53a6aa"
      },
      "source": [
        "df.isnull().sum()"
      ],
      "execution_count": null,
      "outputs": [
        {
          "output_type": "execute_result",
          "data": {
            "text/plain": [
              "age                 0\n",
              "bmi                 0\n",
              "children            0\n",
              "charges             0\n",
              "sex_female          0\n",
              "sex_male            0\n",
              "smoker_no           0\n",
              "smoker_yes          0\n",
              "region_northeast    0\n",
              "region_northwest    0\n",
              "region_southeast    0\n",
              "region_southwest    0\n",
              "dtype: int64"
            ]
          },
          "metadata": {
            "tags": []
          },
          "execution_count": 44
        }
      ]
    },
    {
      "cell_type": "code",
      "metadata": {
        "colab": {
          "base_uri": "https://localhost:8080/"
        },
        "id": "Sy9PcFjGfsWO",
        "outputId": "a2cb87e9-35bb-43cb-fe9b-26044cea221f"
      },
      "source": [
        "# create X and y\n",
        "X=df.drop(\"charges\",axis=1)\n",
        "y=df[\"charges\"]\n",
        "\n",
        "X.shape, y.shape"
      ],
      "execution_count": null,
      "outputs": [
        {
          "output_type": "execute_result",
          "data": {
            "text/plain": [
              "((1338, 11), (1338,))"
            ]
          },
          "metadata": {
            "tags": []
          },
          "execution_count": 45
        }
      ]
    },
    {
      "cell_type": "code",
      "metadata": {
        "id": "0zUeK-83ga3E"
      },
      "source": [
        "from sklearn.model_selection import train_test_split"
      ],
      "execution_count": null,
      "outputs": []
    },
    {
      "cell_type": "code",
      "metadata": {
        "id": "sqPTx3uMgpiy"
      },
      "source": [
        "X_train,X_test,y_train,y_test=train_test_split(X,y,test_size=0.2,random_state=42)"
      ],
      "execution_count": null,
      "outputs": []
    },
    {
      "cell_type": "code",
      "metadata": {
        "colab": {
          "base_uri": "https://localhost:8080/"
        },
        "id": "bh8SY9M-hM8n",
        "outputId": "9a9ad2cf-f551-4c1f-854b-456849a10344"
      },
      "source": [
        "len(X_train) ,len(X_test)"
      ],
      "execution_count": null,
      "outputs": [
        {
          "output_type": "execute_result",
          "data": {
            "text/plain": [
              "(1070, 268)"
            ]
          },
          "metadata": {
            "tags": []
          },
          "execution_count": 48
        }
      ]
    },
    {
      "cell_type": "markdown",
      "metadata": {
        "id": "PoHHiKPBhSu1"
      },
      "source": [
        "There will be 1070 values in train data and 268 data points in test data."
      ]
    },
    {
      "cell_type": "code",
      "metadata": {
        "colab": {
          "base_uri": "https://localhost:8080/"
        },
        "id": "hpQw5IyPhPwi",
        "outputId": "30e9d1f3-0867-49c1-91c8-553e15d9559b"
      },
      "source": [
        "#build neural network\n",
        "tf.random.set_seed(42)\n",
        "model_insurance=tf.keras.Sequential([\n",
        "                                     tf.keras.layers.Dense(10),\n",
        "                                     tf.keras.layers.Dense(1)\n",
        "])\n",
        "\n",
        "#compile model\n",
        "model_insurance.compile(loss=tf.keras.losses.mae,\n",
        "                        optimizer=tf.keras.optimizers.SGD(),\n",
        "                        metrics=[\"mae\"])\n",
        "\n",
        "\n",
        "#fit model\n",
        "model_insurance.fit(X_train,y_train,epochs=100)"
      ],
      "execution_count": null,
      "outputs": [
        {
          "output_type": "stream",
          "text": [
            "Epoch 1/100\n",
            "34/34 [==============================] - 0s 1ms/step - loss: 10200.7270 - mae: 10200.7270\n",
            "Epoch 2/100\n",
            "34/34 [==============================] - 0s 1ms/step - loss: 7718.1919 - mae: 7718.1919\n",
            "Epoch 3/100\n",
            "34/34 [==============================] - 0s 970us/step - loss: 6983.7824 - mae: 6983.7824\n",
            "Epoch 4/100\n",
            "34/34 [==============================] - 0s 969us/step - loss: 8083.4829 - mae: 8083.4829\n",
            "Epoch 5/100\n",
            "34/34 [==============================] - 0s 1ms/step - loss: 7793.8446 - mae: 7793.8446\n",
            "Epoch 6/100\n",
            "34/34 [==============================] - 0s 1ms/step - loss: 7618.4107 - mae: 7618.4107\n",
            "Epoch 7/100\n",
            "34/34 [==============================] - 0s 1ms/step - loss: 7678.4977 - mae: 7678.4977\n",
            "Epoch 8/100\n",
            "34/34 [==============================] - 0s 1ms/step - loss: 7780.4291 - mae: 7780.4291\n",
            "Epoch 9/100\n",
            "34/34 [==============================] - 0s 1ms/step - loss: 7588.8130 - mae: 7588.8130\n",
            "Epoch 10/100\n",
            "34/34 [==============================] - 0s 1ms/step - loss: 7520.6838 - mae: 7520.6838\n",
            "Epoch 11/100\n",
            "34/34 [==============================] - 0s 1ms/step - loss: 8309.7820 - mae: 8309.7820\n",
            "Epoch 12/100\n",
            "34/34 [==============================] - 0s 1ms/step - loss: 7748.0188 - mae: 7748.0188\n",
            "Epoch 13/100\n",
            "34/34 [==============================] - 0s 1ms/step - loss: 7888.3563 - mae: 7888.3563\n",
            "Epoch 14/100\n",
            "34/34 [==============================] - 0s 1ms/step - loss: 7731.1164 - mae: 7731.1164\n",
            "Epoch 15/100\n",
            "34/34 [==============================] - 0s 1ms/step - loss: 7786.1045 - mae: 7786.1045\n",
            "Epoch 16/100\n",
            "34/34 [==============================] - 0s 972us/step - loss: 8343.8852 - mae: 8343.8852\n",
            "Epoch 17/100\n",
            "34/34 [==============================] - 0s 1ms/step - loss: 7142.3603 - mae: 7142.3603\n",
            "Epoch 18/100\n",
            "34/34 [==============================] - 0s 1ms/step - loss: 8070.0509 - mae: 8070.0509\n",
            "Epoch 19/100\n",
            "34/34 [==============================] - 0s 1ms/step - loss: 7604.8297 - mae: 7604.8297\n",
            "Epoch 20/100\n",
            "34/34 [==============================] - 0s 1ms/step - loss: 7945.1267 - mae: 7945.1267\n",
            "Epoch 21/100\n",
            "34/34 [==============================] - 0s 1ms/step - loss: 6864.6824 - mae: 6864.6824\n",
            "Epoch 22/100\n",
            "34/34 [==============================] - 0s 1ms/step - loss: 7505.7910 - mae: 7505.7910\n",
            "Epoch 23/100\n",
            "34/34 [==============================] - 0s 1ms/step - loss: 7621.7374 - mae: 7621.7374\n",
            "Epoch 24/100\n",
            "34/34 [==============================] - 0s 1ms/step - loss: 7262.7539 - mae: 7262.7539\n",
            "Epoch 25/100\n",
            "34/34 [==============================] - 0s 951us/step - loss: 8156.1943 - mae: 8156.1943\n",
            "Epoch 26/100\n",
            "34/34 [==============================] - 0s 1ms/step - loss: 7246.2709 - mae: 7246.2709\n",
            "Epoch 27/100\n",
            "34/34 [==============================] - 0s 1ms/step - loss: 7562.7814 - mae: 7562.7814\n",
            "Epoch 28/100\n",
            "34/34 [==============================] - 0s 996us/step - loss: 7842.6213 - mae: 7842.6213\n",
            "Epoch 29/100\n",
            "34/34 [==============================] - 0s 1ms/step - loss: 7153.8769 - mae: 7153.8769\n",
            "Epoch 30/100\n",
            "34/34 [==============================] - 0s 1ms/step - loss: 7723.4945 - mae: 7723.4945\n",
            "Epoch 31/100\n",
            "34/34 [==============================] - 0s 1ms/step - loss: 8310.0634 - mae: 8310.0634\n",
            "Epoch 32/100\n",
            "34/34 [==============================] - 0s 1ms/step - loss: 7734.9641 - mae: 7734.9641\n",
            "Epoch 33/100\n",
            "34/34 [==============================] - 0s 1000us/step - loss: 7403.4651 - mae: 7403.4651\n",
            "Epoch 34/100\n",
            "34/34 [==============================] - 0s 1ms/step - loss: 7482.6278 - mae: 7482.6278\n",
            "Epoch 35/100\n",
            "34/34 [==============================] - 0s 1ms/step - loss: 7198.8921 - mae: 7198.8921\n",
            "Epoch 36/100\n",
            "34/34 [==============================] - 0s 1ms/step - loss: 7484.1010 - mae: 7484.1010\n",
            "Epoch 37/100\n",
            "34/34 [==============================] - 0s 1ms/step - loss: 7701.6285 - mae: 7701.6285\n",
            "Epoch 38/100\n",
            "34/34 [==============================] - 0s 1ms/step - loss: 6923.6144 - mae: 6923.6144\n",
            "Epoch 39/100\n",
            "34/34 [==============================] - 0s 1ms/step - loss: 7673.7911 - mae: 7673.7911\n",
            "Epoch 40/100\n",
            "34/34 [==============================] - 0s 1ms/step - loss: 7670.9191 - mae: 7670.9191\n",
            "Epoch 41/100\n",
            "34/34 [==============================] - 0s 1ms/step - loss: 7774.5872 - mae: 7774.5872\n",
            "Epoch 42/100\n",
            "34/34 [==============================] - 0s 1ms/step - loss: 7413.0886 - mae: 7413.0886\n",
            "Epoch 43/100\n",
            "34/34 [==============================] - 0s 1ms/step - loss: 7793.8665 - mae: 7793.8665\n",
            "Epoch 44/100\n",
            "34/34 [==============================] - 0s 1ms/step - loss: 7239.3577 - mae: 7239.3577\n",
            "Epoch 45/100\n",
            "34/34 [==============================] - 0s 1ms/step - loss: 7402.6549 - mae: 7402.6549\n",
            "Epoch 46/100\n",
            "34/34 [==============================] - 0s 1ms/step - loss: 7167.7284 - mae: 7167.7284\n",
            "Epoch 47/100\n",
            "34/34 [==============================] - 0s 1ms/step - loss: 7716.9022 - mae: 7716.9022\n",
            "Epoch 48/100\n",
            "34/34 [==============================] - 0s 1ms/step - loss: 7509.9133 - mae: 7509.9133\n",
            "Epoch 49/100\n",
            "34/34 [==============================] - 0s 1ms/step - loss: 7216.6765 - mae: 7216.6765\n",
            "Epoch 50/100\n",
            "34/34 [==============================] - 0s 1ms/step - loss: 7354.2577 - mae: 7354.2577\n",
            "Epoch 51/100\n",
            "34/34 [==============================] - 0s 1ms/step - loss: 7587.3343 - mae: 7587.3343\n",
            "Epoch 52/100\n",
            "34/34 [==============================] - 0s 1ms/step - loss: 7697.7618 - mae: 7697.7618\n",
            "Epoch 53/100\n",
            "34/34 [==============================] - 0s 1ms/step - loss: 7084.7635 - mae: 7084.7635\n",
            "Epoch 54/100\n",
            "34/34 [==============================] - 0s 1ms/step - loss: 7366.1160 - mae: 7366.1160\n",
            "Epoch 55/100\n",
            "34/34 [==============================] - 0s 1ms/step - loss: 7354.5013 - mae: 7354.5013\n",
            "Epoch 56/100\n",
            "34/34 [==============================] - 0s 1ms/step - loss: 7201.4705 - mae: 7201.4705\n",
            "Epoch 57/100\n",
            "34/34 [==============================] - 0s 1ms/step - loss: 7612.1701 - mae: 7612.1701\n",
            "Epoch 58/100\n",
            "34/34 [==============================] - 0s 1ms/step - loss: 7684.3347 - mae: 7684.3347\n",
            "Epoch 59/100\n",
            "34/34 [==============================] - 0s 1ms/step - loss: 7315.3647 - mae: 7315.3647\n",
            "Epoch 60/100\n",
            "34/34 [==============================] - 0s 1ms/step - loss: 7381.6661 - mae: 7381.6661\n",
            "Epoch 61/100\n",
            "34/34 [==============================] - 0s 1ms/step - loss: 7842.5244 - mae: 7842.5244\n",
            "Epoch 62/100\n",
            "34/34 [==============================] - 0s 1ms/step - loss: 7346.2639 - mae: 7346.2639\n",
            "Epoch 63/100\n",
            "34/34 [==============================] - 0s 1ms/step - loss: 7634.5369 - mae: 7634.5369\n",
            "Epoch 64/100\n",
            "34/34 [==============================] - 0s 1ms/step - loss: 6976.2133 - mae: 6976.2133\n",
            "Epoch 65/100\n",
            "34/34 [==============================] - 0s 1ms/step - loss: 7608.7967 - mae: 7608.7967\n",
            "Epoch 66/100\n",
            "34/34 [==============================] - 0s 1ms/step - loss: 7275.7896 - mae: 7275.7896\n",
            "Epoch 67/100\n",
            "34/34 [==============================] - 0s 1ms/step - loss: 7244.1635 - mae: 7244.1635\n",
            "Epoch 68/100\n",
            "34/34 [==============================] - 0s 1ms/step - loss: 7553.0939 - mae: 7553.0939\n",
            "Epoch 69/100\n",
            "34/34 [==============================] - 0s 1ms/step - loss: 8028.1948 - mae: 8028.1948\n",
            "Epoch 70/100\n",
            "34/34 [==============================] - 0s 1ms/step - loss: 7150.7139 - mae: 7150.7139\n",
            "Epoch 71/100\n",
            "34/34 [==============================] - 0s 1ms/step - loss: 7137.5192 - mae: 7137.5192\n",
            "Epoch 72/100\n",
            "34/34 [==============================] - 0s 981us/step - loss: 6708.9293 - mae: 6708.9293\n",
            "Epoch 73/100\n",
            "34/34 [==============================] - 0s 1ms/step - loss: 7554.2729 - mae: 7554.2729\n",
            "Epoch 74/100\n",
            "34/34 [==============================] - 0s 1ms/step - loss: 7060.4082 - mae: 7060.4082\n",
            "Epoch 75/100\n",
            "34/34 [==============================] - 0s 1ms/step - loss: 7564.8154 - mae: 7564.8154\n",
            "Epoch 76/100\n",
            "34/34 [==============================] - 0s 1ms/step - loss: 7016.7828 - mae: 7016.7828\n",
            "Epoch 77/100\n",
            "34/34 [==============================] - 0s 1ms/step - loss: 7936.9772 - mae: 7936.9772\n",
            "Epoch 78/100\n",
            "34/34 [==============================] - 0s 1ms/step - loss: 6828.1390 - mae: 6828.1390\n",
            "Epoch 79/100\n",
            "34/34 [==============================] - 0s 1ms/step - loss: 6875.0795 - mae: 6875.0795\n",
            "Epoch 80/100\n",
            "34/34 [==============================] - 0s 1ms/step - loss: 6770.6307 - mae: 6770.6307\n",
            "Epoch 81/100\n",
            "34/34 [==============================] - 0s 1ms/step - loss: 7216.2089 - mae: 7216.2089\n",
            "Epoch 82/100\n",
            "34/34 [==============================] - 0s 1ms/step - loss: 7774.2735 - mae: 7774.2735\n",
            "Epoch 83/100\n",
            "34/34 [==============================] - 0s 1ms/step - loss: 7156.2550 - mae: 7156.2550\n",
            "Epoch 84/100\n",
            "34/34 [==============================] - 0s 1ms/step - loss: 7436.0035 - mae: 7436.0035\n",
            "Epoch 85/100\n",
            "34/34 [==============================] - 0s 1ms/step - loss: 6855.7935 - mae: 6855.7935\n",
            "Epoch 86/100\n",
            "34/34 [==============================] - 0s 1ms/step - loss: 7768.8281 - mae: 7768.8281\n",
            "Epoch 87/100\n",
            "34/34 [==============================] - 0s 1ms/step - loss: 7014.5800 - mae: 7014.5800\n",
            "Epoch 88/100\n",
            "34/34 [==============================] - 0s 1ms/step - loss: 7525.7778 - mae: 7525.7778\n",
            "Epoch 89/100\n",
            "34/34 [==============================] - 0s 1ms/step - loss: 6994.6077 - mae: 6994.6077\n",
            "Epoch 90/100\n",
            "34/34 [==============================] - 0s 1ms/step - loss: 7677.9612 - mae: 7677.9612\n",
            "Epoch 91/100\n",
            "34/34 [==============================] - 0s 1ms/step - loss: 7210.0508 - mae: 7210.0508\n",
            "Epoch 92/100\n",
            "34/34 [==============================] - 0s 1ms/step - loss: 7335.2236 - mae: 7335.2236\n",
            "Epoch 93/100\n",
            "34/34 [==============================] - 0s 1ms/step - loss: 7235.0912 - mae: 7235.0912\n",
            "Epoch 94/100\n",
            "34/34 [==============================] - 0s 1ms/step - loss: 6728.8874 - mae: 6728.8874\n",
            "Epoch 95/100\n",
            "34/34 [==============================] - 0s 1ms/step - loss: 7811.5180 - mae: 7811.5180\n",
            "Epoch 96/100\n",
            "34/34 [==============================] - 0s 1ms/step - loss: 7430.2760 - mae: 7430.2760\n",
            "Epoch 97/100\n",
            "34/34 [==============================] - 0s 1ms/step - loss: 6876.5969 - mae: 6876.5969\n",
            "Epoch 98/100\n",
            "34/34 [==============================] - 0s 1ms/step - loss: 7070.8696 - mae: 7070.8696\n",
            "Epoch 99/100\n",
            "34/34 [==============================] - 0s 1ms/step - loss: 7118.6875 - mae: 7118.6875\n",
            "Epoch 100/100\n",
            "34/34 [==============================] - 0s 1ms/step - loss: 6880.6744 - mae: 6880.6744\n"
          ],
          "name": "stdout"
        },
        {
          "output_type": "execute_result",
          "data": {
            "text/plain": [
              "<tensorflow.python.keras.callbacks.History at 0x7f7d6dc0ddd0>"
            ]
          },
          "metadata": {
            "tags": []
          },
          "execution_count": 50
        }
      ]
    },
    {
      "cell_type": "code",
      "metadata": {
        "colab": {
          "base_uri": "https://localhost:8080/"
        },
        "id": "pMi0cLT4iU0W",
        "outputId": "75bb6f21-fe76-4185-a912-b83cde54b6c7"
      },
      "source": [
        "#check results on insurance model on test data\n",
        "model_insurance.evaluate(X_test,y_test)"
      ],
      "execution_count": null,
      "outputs": [
        {
          "output_type": "stream",
          "text": [
            "9/9 [==============================] - 0s 1ms/step - loss: 7023.3291 - mae: 7023.3291\n"
          ],
          "name": "stdout"
        },
        {
          "output_type": "execute_result",
          "data": {
            "text/plain": [
              "[7023.3291015625, 7023.3291015625]"
            ]
          },
          "metadata": {
            "tags": []
          },
          "execution_count": 51
        }
      ]
    },
    {
      "cell_type": "code",
      "metadata": {
        "colab": {
          "base_uri": "https://localhost:8080/"
        },
        "id": "KbwA9XXii49R",
        "outputId": "e9209bd4-b7b2-4c69-9620-698b91b5fa26"
      },
      "source": [
        "y_train.median(),y_train.mean()"
      ],
      "execution_count": null,
      "outputs": [
        {
          "output_type": "execute_result",
          "data": {
            "text/plain": [
              "(9575.4421, 13346.089736364489)"
            ]
          },
          "metadata": {
            "tags": []
          },
          "execution_count": 52
        }
      ]
    },
    {
      "cell_type": "markdown",
      "metadata": {
        "id": "tbDsMDFSjQL6"
      },
      "source": [
        "Seems like model is not performing well."
      ]
    },
    {
      "cell_type": "markdown",
      "metadata": {
        "id": "RlOyQv0zjUX7"
      },
      "source": [
        "#### improve model"
      ]
    },
    {
      "cell_type": "markdown",
      "metadata": {
        "id": "P5-oar37msCC"
      },
      "source": [
        "`Experiment 1`\n",
        "\n",
        "Increase number of layers"
      ]
    },
    {
      "cell_type": "code",
      "metadata": {
        "colab": {
          "base_uri": "https://localhost:8080/"
        },
        "id": "x4exUPhjjGxn",
        "outputId": "a1ee93f4-529a-4684-afc8-a3d8c0f0d162"
      },
      "source": [
        "#increase number of layers\n",
        "tf.random.set_seed(42)\n",
        "exp1_model=tf.keras.Sequential([                                \n",
        "                                tf.keras.layers.Dense(50,activation='relu'),\n",
        "                                tf.keras.layers.Dense(10,activation='relu'),\n",
        "                                tf.keras.layers.Dense(1)\n",
        "])\n",
        "exp1_model.compile(loss=tf.keras.losses.mae,\n",
        "                   optimizer=tf.keras.optimizers.SGD(),\n",
        "                   metrics=[\"mae\"])\n",
        "\n",
        "exp1_model.fit(X_train,y_train,epochs=100)"
      ],
      "execution_count": null,
      "outputs": [
        {
          "output_type": "stream",
          "text": [
            "Epoch 1/100\n",
            "34/34 [==============================] - 0s 1ms/step - loss: 12972.1132 - mae: 12972.1132\n",
            "Epoch 2/100\n",
            "34/34 [==============================] - 0s 1ms/step - loss: 12957.6859 - mae: 12957.6859\n",
            "Epoch 3/100\n",
            "34/34 [==============================] - 0s 1ms/step - loss: 12731.7528 - mae: 12731.7528\n",
            "Epoch 4/100\n",
            "34/34 [==============================] - 0s 1ms/step - loss: 13433.7703 - mae: 13433.7703\n",
            "Epoch 5/100\n",
            "34/34 [==============================] - 0s 1ms/step - loss: 13363.3660 - mae: 13363.3660\n",
            "Epoch 6/100\n",
            "34/34 [==============================] - 0s 1ms/step - loss: 13239.4486 - mae: 13239.4486\n",
            "Epoch 7/100\n",
            "34/34 [==============================] - 0s 1ms/step - loss: 13284.9590 - mae: 13284.9590\n",
            "Epoch 8/100\n",
            "34/34 [==============================] - 0s 1ms/step - loss: 13642.1977 - mae: 13642.1977\n",
            "Epoch 9/100\n",
            "34/34 [==============================] - 0s 1ms/step - loss: 13443.5910 - mae: 13443.5910\n",
            "Epoch 10/100\n",
            "34/34 [==============================] - 0s 1ms/step - loss: 13624.6299 - mae: 13624.6299\n",
            "Epoch 11/100\n",
            "34/34 [==============================] - 0s 1ms/step - loss: 13975.9950 - mae: 13975.9950\n",
            "Epoch 12/100\n",
            "34/34 [==============================] - 0s 1ms/step - loss: 13215.1266 - mae: 13215.1266\n",
            "Epoch 13/100\n",
            "34/34 [==============================] - 0s 996us/step - loss: 13825.1335 - mae: 13825.1335\n",
            "Epoch 14/100\n",
            "34/34 [==============================] - 0s 1ms/step - loss: 13494.3477 - mae: 13494.3477\n",
            "Epoch 15/100\n",
            "34/34 [==============================] - 0s 1ms/step - loss: 13755.6170 - mae: 13755.6170\n",
            "Epoch 16/100\n",
            "34/34 [==============================] - 0s 1ms/step - loss: 13627.3844 - mae: 13627.3844\n",
            "Epoch 17/100\n",
            "34/34 [==============================] - 0s 1ms/step - loss: 13111.3864 - mae: 13111.3864\n",
            "Epoch 18/100\n",
            "34/34 [==============================] - 0s 1ms/step - loss: 13397.2390 - mae: 13397.2390\n",
            "Epoch 19/100\n",
            "34/34 [==============================] - 0s 1ms/step - loss: 13109.2902 - mae: 13109.2902\n",
            "Epoch 20/100\n",
            "34/34 [==============================] - 0s 1ms/step - loss: 13248.2925 - mae: 13248.2925\n",
            "Epoch 21/100\n",
            "34/34 [==============================] - 0s 1ms/step - loss: 12459.4143 - mae: 12459.4143\n",
            "Epoch 22/100\n",
            "34/34 [==============================] - 0s 1ms/step - loss: 12627.4218 - mae: 12627.4218\n",
            "Epoch 23/100\n",
            "34/34 [==============================] - 0s 1ms/step - loss: 13159.3972 - mae: 13159.3972\n",
            "Epoch 24/100\n",
            "34/34 [==============================] - 0s 1ms/step - loss: 12573.8719 - mae: 12573.8719\n",
            "Epoch 25/100\n",
            "34/34 [==============================] - 0s 1ms/step - loss: 13222.0542 - mae: 13222.0542\n",
            "Epoch 26/100\n",
            "34/34 [==============================] - 0s 1ms/step - loss: 11311.0524 - mae: 11311.0524\n",
            "Epoch 27/100\n",
            "34/34 [==============================] - 0s 1ms/step - loss: 10601.2696 - mae: 10601.2696\n",
            "Epoch 28/100\n",
            "34/34 [==============================] - 0s 1ms/step - loss: 10085.5449 - mae: 10085.5449\n",
            "Epoch 29/100\n",
            "34/34 [==============================] - 0s 1ms/step - loss: 8636.1196 - mae: 8636.1196\n",
            "Epoch 30/100\n",
            "34/34 [==============================] - 0s 1ms/step - loss: 8620.0992 - mae: 8620.0992\n",
            "Epoch 31/100\n",
            "34/34 [==============================] - 0s 1ms/step - loss: 8704.8139 - mae: 8704.8139\n",
            "Epoch 32/100\n",
            "34/34 [==============================] - 0s 1ms/step - loss: 8293.8875 - mae: 8293.8875\n",
            "Epoch 33/100\n",
            "34/34 [==============================] - 0s 1ms/step - loss: 8514.2111 - mae: 8514.2111\n",
            "Epoch 34/100\n",
            "34/34 [==============================] - 0s 1ms/step - loss: 8292.6737 - mae: 8292.6737\n",
            "Epoch 35/100\n",
            "34/34 [==============================] - 0s 1ms/step - loss: 8295.6103 - mae: 8295.6103\n",
            "Epoch 36/100\n",
            "34/34 [==============================] - 0s 1ms/step - loss: 8321.5265 - mae: 8321.5265\n",
            "Epoch 37/100\n",
            "34/34 [==============================] - 0s 1ms/step - loss: 8434.3766 - mae: 8434.3766\n",
            "Epoch 38/100\n",
            "34/34 [==============================] - 0s 1ms/step - loss: 8028.6310 - mae: 8028.6310\n",
            "Epoch 39/100\n",
            "34/34 [==============================] - 0s 1ms/step - loss: 8463.0017 - mae: 8463.0017\n",
            "Epoch 40/100\n",
            "34/34 [==============================] - 0s 1ms/step - loss: 8261.3791 - mae: 8261.3791\n",
            "Epoch 41/100\n",
            "34/34 [==============================] - 0s 1ms/step - loss: 8260.7401 - mae: 8260.7401\n",
            "Epoch 42/100\n",
            "34/34 [==============================] - 0s 1ms/step - loss: 8184.3087 - mae: 8184.3087\n",
            "Epoch 43/100\n",
            "34/34 [==============================] - 0s 1ms/step - loss: 8138.2574 - mae: 8138.2574\n",
            "Epoch 44/100\n",
            "34/34 [==============================] - 0s 1ms/step - loss: 8028.2826 - mae: 8028.2826\n",
            "Epoch 45/100\n",
            "34/34 [==============================] - 0s 1ms/step - loss: 8062.9408 - mae: 8062.9408\n",
            "Epoch 46/100\n",
            "34/34 [==============================] - 0s 1ms/step - loss: 8036.3320 - mae: 8036.3320\n",
            "Epoch 47/100\n",
            "34/34 [==============================] - 0s 1ms/step - loss: 8401.9858 - mae: 8401.9858\n",
            "Epoch 48/100\n",
            "34/34 [==============================] - 0s 1ms/step - loss: 8336.3523 - mae: 8336.3523\n",
            "Epoch 49/100\n",
            "34/34 [==============================] - 0s 1ms/step - loss: 8082.4371 - mae: 8082.4371\n",
            "Epoch 50/100\n",
            "34/34 [==============================] - 0s 1ms/step - loss: 8437.6031 - mae: 8437.6031\n",
            "Epoch 51/100\n",
            "34/34 [==============================] - 0s 1ms/step - loss: 8246.2598 - mae: 8246.2598\n",
            "Epoch 52/100\n",
            "34/34 [==============================] - 0s 1ms/step - loss: 8167.7571 - mae: 8167.7571\n",
            "Epoch 53/100\n",
            "34/34 [==============================] - 0s 1ms/step - loss: 7936.4947 - mae: 7936.4947\n",
            "Epoch 54/100\n",
            "34/34 [==============================] - 0s 1ms/step - loss: 8396.3022 - mae: 8396.3022\n",
            "Epoch 55/100\n",
            "34/34 [==============================] - 0s 1ms/step - loss: 8026.6041 - mae: 8026.6041\n",
            "Epoch 56/100\n",
            "34/34 [==============================] - 0s 1ms/step - loss: 8191.6859 - mae: 8191.6859\n",
            "Epoch 57/100\n",
            "34/34 [==============================] - 0s 1ms/step - loss: 8436.6055 - mae: 8436.6055\n",
            "Epoch 58/100\n",
            "34/34 [==============================] - 0s 1ms/step - loss: 8252.7172 - mae: 8252.7172\n",
            "Epoch 59/100\n",
            "34/34 [==============================] - 0s 1ms/step - loss: 8032.4080 - mae: 8032.4080\n",
            "Epoch 60/100\n",
            "34/34 [==============================] - 0s 1ms/step - loss: 8228.2709 - mae: 8228.2709\n",
            "Epoch 61/100\n",
            "34/34 [==============================] - 0s 1ms/step - loss: 8652.1195 - mae: 8652.1195\n",
            "Epoch 62/100\n",
            "34/34 [==============================] - 0s 1ms/step - loss: 8346.7597 - mae: 8346.7597\n",
            "Epoch 63/100\n",
            "34/34 [==============================] - 0s 1ms/step - loss: 8374.2399 - mae: 8374.2399\n",
            "Epoch 64/100\n",
            "34/34 [==============================] - 0s 1ms/step - loss: 8085.0492 - mae: 8085.0492\n",
            "Epoch 65/100\n",
            "34/34 [==============================] - 0s 1ms/step - loss: 8381.2327 - mae: 8381.2327\n",
            "Epoch 66/100\n",
            "34/34 [==============================] - 0s 2ms/step - loss: 8021.3414 - mae: 8021.3414\n",
            "Epoch 67/100\n",
            "34/34 [==============================] - 0s 1ms/step - loss: 8173.8699 - mae: 8173.8699\n",
            "Epoch 68/100\n",
            "34/34 [==============================] - 0s 1ms/step - loss: 8277.0823 - mae: 8277.0823\n",
            "Epoch 69/100\n",
            "34/34 [==============================] - 0s 1ms/step - loss: 8667.8961 - mae: 8667.8961\n",
            "Epoch 70/100\n",
            "34/34 [==============================] - 0s 1ms/step - loss: 7997.3955 - mae: 7997.3955\n",
            "Epoch 71/100\n",
            "34/34 [==============================] - 0s 1ms/step - loss: 8334.1047 - mae: 8334.1047\n",
            "Epoch 72/100\n",
            "34/34 [==============================] - 0s 1ms/step - loss: 7998.4558 - mae: 7998.4558\n",
            "Epoch 73/100\n",
            "34/34 [==============================] - 0s 1ms/step - loss: 8416.7646 - mae: 8416.7646\n",
            "Epoch 74/100\n",
            "34/34 [==============================] - 0s 1ms/step - loss: 8401.8529 - mae: 8401.8529\n",
            "Epoch 75/100\n",
            "34/34 [==============================] - 0s 1ms/step - loss: 8607.7521 - mae: 8607.7521\n",
            "Epoch 76/100\n",
            "34/34 [==============================] - 0s 1ms/step - loss: 8054.9321 - mae: 8054.9321\n",
            "Epoch 77/100\n",
            "34/34 [==============================] - 0s 1ms/step - loss: 8800.6459 - mae: 8800.6459\n",
            "Epoch 78/100\n",
            "34/34 [==============================] - 0s 1ms/step - loss: 7959.2368 - mae: 7959.2368\n",
            "Epoch 79/100\n",
            "34/34 [==============================] - 0s 1ms/step - loss: 7519.3049 - mae: 7519.3049\n",
            "Epoch 80/100\n",
            "34/34 [==============================] - 0s 1ms/step - loss: 7679.4647 - mae: 7679.4647\n",
            "Epoch 81/100\n",
            "34/34 [==============================] - 0s 1ms/step - loss: 8202.2975 - mae: 8202.2975\n",
            "Epoch 82/100\n",
            "34/34 [==============================] - 0s 1ms/step - loss: 8860.9681 - mae: 8860.9681\n",
            "Epoch 83/100\n",
            "34/34 [==============================] - 0s 1ms/step - loss: 8251.0944 - mae: 8251.0944\n",
            "Epoch 84/100\n",
            "34/34 [==============================] - 0s 1ms/step - loss: 8210.7214 - mae: 8210.7214\n",
            "Epoch 85/100\n",
            "34/34 [==============================] - 0s 1ms/step - loss: 7819.7938 - mae: 7819.7938\n",
            "Epoch 86/100\n",
            "34/34 [==============================] - 0s 1ms/step - loss: 8551.5044 - mae: 8551.5044\n",
            "Epoch 87/100\n",
            "34/34 [==============================] - 0s 1ms/step - loss: 7982.7742 - mae: 7982.7742\n",
            "Epoch 88/100\n",
            "34/34 [==============================] - 0s 1ms/step - loss: 8398.4132 - mae: 8398.4132\n",
            "Epoch 89/100\n",
            "34/34 [==============================] - 0s 1ms/step - loss: 8133.6296 - mae: 8133.6296\n",
            "Epoch 90/100\n",
            "34/34 [==============================] - 0s 1ms/step - loss: 8571.1449 - mae: 8571.1449\n",
            "Epoch 91/100\n",
            "34/34 [==============================] - 0s 1ms/step - loss: 8431.6323 - mae: 8431.6323\n",
            "Epoch 92/100\n",
            "34/34 [==============================] - 0s 1ms/step - loss: 8339.4247 - mae: 8339.4247\n",
            "Epoch 93/100\n",
            "34/34 [==============================] - 0s 1ms/step - loss: 7963.4448 - mae: 7963.4448\n",
            "Epoch 94/100\n",
            "34/34 [==============================] - 0s 1ms/step - loss: 7952.1278 - mae: 7952.1278\n",
            "Epoch 95/100\n",
            "34/34 [==============================] - 0s 1ms/step - loss: 8370.7747 - mae: 8370.7747\n",
            "Epoch 96/100\n",
            "34/34 [==============================] - 0s 1ms/step - loss: 8597.6112 - mae: 8597.6112\n",
            "Epoch 97/100\n",
            "34/34 [==============================] - 0s 1ms/step - loss: 7869.9509 - mae: 7869.9509\n",
            "Epoch 98/100\n",
            "34/34 [==============================] - 0s 1ms/step - loss: 7960.6623 - mae: 7960.6623\n",
            "Epoch 99/100\n",
            "34/34 [==============================] - 0s 2ms/step - loss: 7855.5256 - mae: 7855.5256\n",
            "Epoch 100/100\n",
            "34/34 [==============================] - 0s 1ms/step - loss: 7898.7822 - mae: 7898.7822\n"
          ],
          "name": "stdout"
        },
        {
          "output_type": "execute_result",
          "data": {
            "text/plain": [
              "<tensorflow.python.keras.callbacks.History at 0x7f7dc1f2aa90>"
            ]
          },
          "metadata": {
            "tags": []
          },
          "execution_count": 58
        }
      ]
    },
    {
      "cell_type": "code",
      "metadata": {
        "colab": {
          "base_uri": "https://localhost:8080/"
        },
        "id": "eTvT5rE3kFBl",
        "outputId": "582af1b8-91a4-4ab1-b88b-c408f9d21049"
      },
      "source": [
        "#check results on insurance model on test data\n",
        "exp1_model.evaluate(X_test,y_test)"
      ],
      "execution_count": null,
      "outputs": [
        {
          "output_type": "stream",
          "text": [
            "9/9 [==============================] - 0s 2ms/step - loss: 8649.5664 - mae: 8649.5664\n"
          ],
          "name": "stdout"
        },
        {
          "output_type": "execute_result",
          "data": {
            "text/plain": [
              "[8649.56640625, 8649.56640625]"
            ]
          },
          "metadata": {
            "tags": []
          },
          "execution_count": 68
        }
      ]
    },
    {
      "cell_type": "markdown",
      "metadata": {
        "id": "CGmwXsvplBY2"
      },
      "source": [
        "WE can see here model performance is not improved.lets change some few parameters"
      ]
    },
    {
      "cell_type": "markdown",
      "metadata": {
        "id": "Gjxs16AjmjuS"
      },
      "source": [
        "`Experiment 2`\n",
        "\n",
        "Increase number of epoch from 100 to 500"
      ]
    },
    {
      "cell_type": "code",
      "metadata": {
        "colab": {
          "base_uri": "https://localhost:8080/"
        },
        "id": "ll-yloRxk-A4",
        "outputId": "74a9b7cc-0498-4c48-e815-fde9bb212487"
      },
      "source": [
        "tf.random.set_seed(42)\n",
        "exp2_model=tf.keras.Sequential([\n",
        "                                tf.keras.layers.Dense(16),                                \n",
        "                                tf.keras.layers.Dense(1)\n",
        "])\n",
        "\n",
        "exp2_model.compile(loss=tf.keras.losses.mae,\n",
        "                   optimizer=tf.keras.optimizers.SGD(),\n",
        "                   metrics=[\"mae\"]\n",
        "                   )\n",
        "\n",
        "exp2_model.fit(X_train,y_train,epochs=500)"
      ],
      "execution_count": null,
      "outputs": [
        {
          "output_type": "stream",
          "text": [
            "Epoch 1/500\n",
            "34/34 [==============================] - 0s 1ms/step - loss: 10145.7747 - mae: 10145.7747\n",
            "Epoch 2/500\n",
            "34/34 [==============================] - 0s 1ms/step - loss: 7718.0042 - mae: 7718.0042\n",
            "Epoch 3/500\n",
            "34/34 [==============================] - 0s 1ms/step - loss: 6992.7157 - mae: 6992.7157\n",
            "Epoch 4/500\n",
            "34/34 [==============================] - 0s 983us/step - loss: 7972.3278 - mae: 7972.3278\n",
            "Epoch 5/500\n",
            "34/34 [==============================] - 0s 1ms/step - loss: 7759.4733 - mae: 7759.4733\n",
            "Epoch 6/500\n",
            "34/34 [==============================] - 0s 1ms/step - loss: 7632.7485 - mae: 7632.7485\n",
            "Epoch 7/500\n",
            "34/34 [==============================] - 0s 1ms/step - loss: 7608.9336 - mae: 7608.9336\n",
            "Epoch 8/500\n",
            "34/34 [==============================] - 0s 1ms/step - loss: 7810.7687 - mae: 7810.7687\n",
            "Epoch 9/500\n",
            "34/34 [==============================] - 0s 1ms/step - loss: 7584.9142 - mae: 7584.9142\n",
            "Epoch 10/500\n",
            "34/34 [==============================] - 0s 1ms/step - loss: 8081.9557 - mae: 8081.9557\n",
            "Epoch 11/500\n",
            "34/34 [==============================] - 0s 1ms/step - loss: 7829.3289 - mae: 7829.3289\n",
            "Epoch 12/500\n",
            "34/34 [==============================] - 0s 1ms/step - loss: 7771.0722 - mae: 7771.0722\n",
            "Epoch 13/500\n",
            "34/34 [==============================] - 0s 1ms/step - loss: 7897.3048 - mae: 7897.3048\n",
            "Epoch 14/500\n",
            "34/34 [==============================] - 0s 1ms/step - loss: 7909.2186 - mae: 7909.2186\n",
            "Epoch 15/500\n",
            "34/34 [==============================] - 0s 977us/step - loss: 7774.6580 - mae: 7774.6580\n",
            "Epoch 16/500\n",
            "34/34 [==============================] - 0s 1ms/step - loss: 8222.6879 - mae: 8222.6879\n",
            "Epoch 17/500\n",
            "34/34 [==============================] - 0s 1ms/step - loss: 7141.3973 - mae: 7141.3973\n",
            "Epoch 18/500\n",
            "34/34 [==============================] - 0s 1ms/step - loss: 8065.7584 - mae: 8065.7584\n",
            "Epoch 19/500\n",
            "34/34 [==============================] - 0s 1ms/step - loss: 7607.3572 - mae: 7607.3572\n",
            "Epoch 20/500\n",
            "34/34 [==============================] - 0s 1ms/step - loss: 7957.8883 - mae: 7957.8883\n",
            "Epoch 21/500\n",
            "34/34 [==============================] - 0s 1ms/step - loss: 6881.3339 - mae: 6881.3339\n",
            "Epoch 22/500\n",
            "34/34 [==============================] - 0s 1ms/step - loss: 7293.9201 - mae: 7293.9201\n",
            "Epoch 23/500\n",
            "34/34 [==============================] - 0s 1ms/step - loss: 7601.5169 - mae: 7601.5169\n",
            "Epoch 24/500\n",
            "34/34 [==============================] - 0s 1ms/step - loss: 7262.9634 - mae: 7262.9634\n",
            "Epoch 25/500\n",
            "34/34 [==============================] - 0s 1ms/step - loss: 8104.2753 - mae: 8104.2753\n",
            "Epoch 26/500\n",
            "34/34 [==============================] - 0s 1ms/step - loss: 7238.0726 - mae: 7238.0726\n",
            "Epoch 27/500\n",
            "34/34 [==============================] - 0s 1ms/step - loss: 7526.0651 - mae: 7526.0651\n",
            "Epoch 28/500\n",
            "34/34 [==============================] - 0s 1ms/step - loss: 7756.4442 - mae: 7756.4442\n",
            "Epoch 29/500\n",
            "34/34 [==============================] - 0s 1ms/step - loss: 7406.0076 - mae: 7406.0076\n",
            "Epoch 30/500\n",
            "34/34 [==============================] - 0s 1ms/step - loss: 7729.9739 - mae: 7729.9739\n",
            "Epoch 31/500\n",
            "34/34 [==============================] - 0s 1ms/step - loss: 7981.4753 - mae: 7981.4753\n",
            "Epoch 32/500\n",
            "34/34 [==============================] - 0s 1ms/step - loss: 7655.7436 - mae: 7655.7436\n",
            "Epoch 33/500\n",
            "34/34 [==============================] - 0s 1ms/step - loss: 7437.6198 - mae: 7437.6198\n",
            "Epoch 34/500\n",
            "34/34 [==============================] - 0s 1ms/step - loss: 7416.2646 - mae: 7416.2646\n",
            "Epoch 35/500\n",
            "34/34 [==============================] - 0s 1ms/step - loss: 7762.2063 - mae: 7762.2063\n",
            "Epoch 36/500\n",
            "34/34 [==============================] - 0s 1ms/step - loss: 7598.1910 - mae: 7598.1910\n",
            "Epoch 37/500\n",
            "34/34 [==============================] - 0s 1ms/step - loss: 7738.6543 - mae: 7738.6543\n",
            "Epoch 38/500\n",
            "34/34 [==============================] - 0s 1ms/step - loss: 6912.4054 - mae: 6912.4054\n",
            "Epoch 39/500\n",
            "34/34 [==============================] - 0s 1ms/step - loss: 7668.3071 - mae: 7668.3071\n",
            "Epoch 40/500\n",
            "34/34 [==============================] - 0s 1ms/step - loss: 7405.2725 - mae: 7405.2725\n",
            "Epoch 41/500\n",
            "34/34 [==============================] - 0s 1ms/step - loss: 7938.2235 - mae: 7938.2235\n",
            "Epoch 42/500\n",
            "34/34 [==============================] - 0s 1ms/step - loss: 7547.5942 - mae: 7547.5942\n",
            "Epoch 43/500\n",
            "34/34 [==============================] - 0s 1ms/step - loss: 7792.5739 - mae: 7792.5739\n",
            "Epoch 44/500\n",
            "34/34 [==============================] - 0s 1ms/step - loss: 7142.0546 - mae: 7142.0546\n",
            "Epoch 45/500\n",
            "34/34 [==============================] - 0s 1ms/step - loss: 7444.6264 - mae: 7444.6264\n",
            "Epoch 46/500\n",
            "34/34 [==============================] - 0s 1ms/step - loss: 7258.0248 - mae: 7258.0248\n",
            "Epoch 47/500\n",
            "34/34 [==============================] - 0s 1ms/step - loss: 7688.1759 - mae: 7688.1759\n",
            "Epoch 48/500\n",
            "34/34 [==============================] - 0s 1ms/step - loss: 7582.7944 - mae: 7582.7944\n",
            "Epoch 49/500\n",
            "34/34 [==============================] - 0s 1ms/step - loss: 7216.9485 - mae: 7216.9485\n",
            "Epoch 50/500\n",
            "34/34 [==============================] - 0s 1ms/step - loss: 7413.2442 - mae: 7413.2442\n",
            "Epoch 51/500\n",
            "34/34 [==============================] - 0s 1ms/step - loss: 7621.5048 - mae: 7621.5048\n",
            "Epoch 52/500\n",
            "34/34 [==============================] - 0s 1ms/step - loss: 7790.9488 - mae: 7790.9488\n",
            "Epoch 53/500\n",
            "34/34 [==============================] - 0s 1ms/step - loss: 7180.7055 - mae: 7180.7055\n",
            "Epoch 54/500\n",
            "34/34 [==============================] - 0s 1ms/step - loss: 7407.2501 - mae: 7407.2501\n",
            "Epoch 55/500\n",
            "34/34 [==============================] - 0s 1ms/step - loss: 7398.5990 - mae: 7398.5990\n",
            "Epoch 56/500\n",
            "34/34 [==============================] - 0s 1ms/step - loss: 7123.4300 - mae: 7123.4300\n",
            "Epoch 57/500\n",
            "34/34 [==============================] - 0s 1ms/step - loss: 7582.7982 - mae: 7582.7982\n",
            "Epoch 58/500\n",
            "34/34 [==============================] - 0s 1ms/step - loss: 7676.3020 - mae: 7676.3020\n",
            "Epoch 59/500\n",
            "34/34 [==============================] - 0s 1ms/step - loss: 7385.6297 - mae: 7385.6297\n",
            "Epoch 60/500\n",
            "34/34 [==============================] - 0s 1ms/step - loss: 7189.2892 - mae: 7189.2892\n",
            "Epoch 61/500\n",
            "34/34 [==============================] - 0s 1ms/step - loss: 7879.7724 - mae: 7879.7724\n",
            "Epoch 62/500\n",
            "34/34 [==============================] - 0s 1ms/step - loss: 7447.3652 - mae: 7447.3652\n",
            "Epoch 63/500\n",
            "34/34 [==============================] - 0s 1ms/step - loss: 7590.8597 - mae: 7590.8597\n",
            "Epoch 64/500\n",
            "34/34 [==============================] - 0s 1ms/step - loss: 6797.1889 - mae: 6797.1889\n",
            "Epoch 65/500\n",
            "34/34 [==============================] - 0s 1ms/step - loss: 7481.5637 - mae: 7481.5637\n",
            "Epoch 66/500\n",
            "34/34 [==============================] - 0s 1ms/step - loss: 7370.8120 - mae: 7370.8120\n",
            "Epoch 67/500\n",
            "34/34 [==============================] - 0s 1ms/step - loss: 7401.9370 - mae: 7401.9370\n",
            "Epoch 68/500\n",
            "34/34 [==============================] - 0s 1ms/step - loss: 7345.6956 - mae: 7345.6956\n",
            "Epoch 69/500\n",
            "34/34 [==============================] - 0s 1ms/step - loss: 7754.2380 - mae: 7754.2380\n",
            "Epoch 70/500\n",
            "34/34 [==============================] - 0s 1ms/step - loss: 7095.0429 - mae: 7095.0429\n",
            "Epoch 71/500\n",
            "34/34 [==============================] - 0s 1ms/step - loss: 7308.0199 - mae: 7308.0199\n",
            "Epoch 72/500\n",
            "34/34 [==============================] - 0s 1ms/step - loss: 7309.4827 - mae: 7309.4827\n",
            "Epoch 73/500\n",
            "34/34 [==============================] - 0s 1ms/step - loss: 7625.3036 - mae: 7625.3036\n",
            "Epoch 74/500\n",
            "34/34 [==============================] - 0s 1ms/step - loss: 7118.8189 - mae: 7118.8189\n",
            "Epoch 75/500\n",
            "34/34 [==============================] - 0s 1ms/step - loss: 7696.7583 - mae: 7696.7583\n",
            "Epoch 76/500\n",
            "34/34 [==============================] - 0s 1ms/step - loss: 7153.4270 - mae: 7153.4270\n",
            "Epoch 77/500\n",
            "34/34 [==============================] - 0s 1ms/step - loss: 7916.4207 - mae: 7916.4207\n",
            "Epoch 78/500\n",
            "34/34 [==============================] - 0s 1ms/step - loss: 6670.2433 - mae: 6670.2433\n",
            "Epoch 79/500\n",
            "34/34 [==============================] - 0s 1ms/step - loss: 6898.7285 - mae: 6898.7285\n",
            "Epoch 80/500\n",
            "34/34 [==============================] - 0s 1ms/step - loss: 6755.2957 - mae: 6755.2957\n",
            "Epoch 81/500\n",
            "34/34 [==============================] - 0s 1ms/step - loss: 7261.0749 - mae: 7261.0749\n",
            "Epoch 82/500\n",
            "34/34 [==============================] - 0s 1ms/step - loss: 7830.9580 - mae: 7830.9580\n",
            "Epoch 83/500\n",
            "34/34 [==============================] - 0s 1ms/step - loss: 7231.2006 - mae: 7231.2006\n",
            "Epoch 84/500\n",
            "34/34 [==============================] - 0s 1ms/step - loss: 7288.4438 - mae: 7288.4438\n",
            "Epoch 85/500\n",
            "34/34 [==============================] - 0s 1ms/step - loss: 6755.6824 - mae: 6755.6824\n",
            "Epoch 86/500\n",
            "34/34 [==============================] - 0s 1ms/step - loss: 7919.7909 - mae: 7919.7909\n",
            "Epoch 87/500\n",
            "34/34 [==============================] - 0s 1ms/step - loss: 7081.4867 - mae: 7081.4867\n",
            "Epoch 88/500\n",
            "34/34 [==============================] - 0s 1ms/step - loss: 7932.0440 - mae: 7932.0440\n",
            "Epoch 89/500\n",
            "34/34 [==============================] - 0s 1ms/step - loss: 7107.7218 - mae: 7107.7218\n",
            "Epoch 90/500\n",
            "34/34 [==============================] - 0s 1ms/step - loss: 7485.6959 - mae: 7485.6960\n",
            "Epoch 91/500\n",
            "34/34 [==============================] - 0s 1ms/step - loss: 7093.4442 - mae: 7093.4442\n",
            "Epoch 92/500\n",
            "34/34 [==============================] - 0s 1ms/step - loss: 7384.1486 - mae: 7384.1486\n",
            "Epoch 93/500\n",
            "34/34 [==============================] - 0s 1ms/step - loss: 7268.4417 - mae: 7268.4417\n",
            "Epoch 94/500\n",
            "34/34 [==============================] - 0s 1ms/step - loss: 6886.2934 - mae: 6886.2934\n",
            "Epoch 95/500\n",
            "34/34 [==============================] - 0s 1ms/step - loss: 7690.3233 - mae: 7690.3233\n",
            "Epoch 96/500\n",
            "34/34 [==============================] - 0s 1ms/step - loss: 7496.0326 - mae: 7496.0326\n",
            "Epoch 97/500\n",
            "34/34 [==============================] - 0s 1ms/step - loss: 6825.2500 - mae: 6825.2500\n",
            "Epoch 98/500\n",
            "34/34 [==============================] - 0s 1ms/step - loss: 7183.0692 - mae: 7183.0692\n",
            "Epoch 99/500\n",
            "34/34 [==============================] - 0s 1ms/step - loss: 7017.6297 - mae: 7017.6297\n",
            "Epoch 100/500\n",
            "34/34 [==============================] - 0s 1ms/step - loss: 7315.5253 - mae: 7315.5253\n",
            "Epoch 101/500\n",
            "34/34 [==============================] - 0s 1ms/step - loss: 7568.1400 - mae: 7568.1400\n",
            "Epoch 102/500\n",
            "34/34 [==============================] - 0s 1ms/step - loss: 6853.3983 - mae: 6853.3983\n",
            "Epoch 103/500\n",
            "34/34 [==============================] - 0s 1ms/step - loss: 6700.9429 - mae: 6700.9429\n",
            "Epoch 104/500\n",
            "34/34 [==============================] - 0s 1ms/step - loss: 7440.8772 - mae: 7440.8772\n",
            "Epoch 105/500\n",
            "34/34 [==============================] - 0s 1ms/step - loss: 6763.1258 - mae: 6763.1258\n",
            "Epoch 106/500\n",
            "34/34 [==============================] - 0s 1ms/step - loss: 7506.7986 - mae: 7506.7986\n",
            "Epoch 107/500\n",
            "34/34 [==============================] - 0s 1ms/step - loss: 7064.4908 - mae: 7064.4908\n",
            "Epoch 108/500\n",
            "34/34 [==============================] - 0s 1ms/step - loss: 7424.9568 - mae: 7424.9568\n",
            "Epoch 109/500\n",
            "34/34 [==============================] - 0s 1ms/step - loss: 7315.5006 - mae: 7315.5006\n",
            "Epoch 110/500\n",
            "34/34 [==============================] - 0s 1ms/step - loss: 7520.9793 - mae: 7520.9793\n",
            "Epoch 111/500\n",
            "34/34 [==============================] - 0s 1ms/step - loss: 6803.9485 - mae: 6803.9485\n",
            "Epoch 112/500\n",
            "34/34 [==============================] - 0s 1ms/step - loss: 7311.4328 - mae: 7311.4328\n",
            "Epoch 113/500\n",
            "34/34 [==============================] - 0s 1ms/step - loss: 7273.8557 - mae: 7273.8557\n",
            "Epoch 114/500\n",
            "34/34 [==============================] - 0s 1ms/step - loss: 7364.0316 - mae: 7364.0316\n",
            "Epoch 115/500\n",
            "34/34 [==============================] - 0s 1ms/step - loss: 6828.2778 - mae: 6828.2778\n",
            "Epoch 116/500\n",
            "34/34 [==============================] - 0s 1ms/step - loss: 7741.6443 - mae: 7741.6443\n",
            "Epoch 117/500\n",
            "34/34 [==============================] - 0s 1ms/step - loss: 6899.3439 - mae: 6899.3439\n",
            "Epoch 118/500\n",
            "34/34 [==============================] - 0s 1ms/step - loss: 7152.5638 - mae: 7152.5638\n",
            "Epoch 119/500\n",
            "34/34 [==============================] - 0s 1ms/step - loss: 7108.9425 - mae: 7108.9425\n",
            "Epoch 120/500\n",
            "34/34 [==============================] - 0s 1ms/step - loss: 7589.5620 - mae: 7589.5620\n",
            "Epoch 121/500\n",
            "34/34 [==============================] - 0s 1ms/step - loss: 7579.5488 - mae: 7579.5488\n",
            "Epoch 122/500\n",
            "34/34 [==============================] - 0s 1ms/step - loss: 7071.2775 - mae: 7071.2775\n",
            "Epoch 123/500\n",
            "34/34 [==============================] - 0s 1ms/step - loss: 6990.6937 - mae: 6990.6937\n",
            "Epoch 124/500\n",
            "34/34 [==============================] - 0s 1ms/step - loss: 6882.3879 - mae: 6882.3879\n",
            "Epoch 125/500\n",
            "34/34 [==============================] - 0s 1ms/step - loss: 7299.9195 - mae: 7299.9195\n",
            "Epoch 126/500\n",
            "34/34 [==============================] - 0s 2ms/step - loss: 6678.5550 - mae: 6678.5550\n",
            "Epoch 127/500\n",
            "34/34 [==============================] - 0s 1ms/step - loss: 7112.2979 - mae: 7112.2979\n",
            "Epoch 128/500\n",
            "34/34 [==============================] - 0s 1ms/step - loss: 7212.1678 - mae: 7212.1678\n",
            "Epoch 129/500\n",
            "34/34 [==============================] - 0s 1ms/step - loss: 7680.6576 - mae: 7680.6576\n",
            "Epoch 130/500\n",
            "34/34 [==============================] - 0s 1ms/step - loss: 7308.5261 - mae: 7308.5261\n",
            "Epoch 131/500\n",
            "34/34 [==============================] - 0s 1ms/step - loss: 7200.0954 - mae: 7200.0954\n",
            "Epoch 132/500\n",
            "34/34 [==============================] - 0s 1ms/step - loss: 7779.9176 - mae: 7779.9176\n",
            "Epoch 133/500\n",
            "34/34 [==============================] - 0s 1ms/step - loss: 7272.1390 - mae: 7272.1390\n",
            "Epoch 134/500\n",
            "34/34 [==============================] - 0s 1ms/step - loss: 7293.4552 - mae: 7293.4552\n",
            "Epoch 135/500\n",
            "34/34 [==============================] - 0s 1ms/step - loss: 7154.6510 - mae: 7154.6510\n",
            "Epoch 136/500\n",
            "34/34 [==============================] - 0s 1ms/step - loss: 7179.3959 - mae: 7179.3959\n",
            "Epoch 137/500\n",
            "34/34 [==============================] - 0s 1ms/step - loss: 7217.3842 - mae: 7217.3842\n",
            "Epoch 138/500\n",
            "34/34 [==============================] - 0s 1ms/step - loss: 7540.9427 - mae: 7540.9427\n",
            "Epoch 139/500\n",
            "34/34 [==============================] - 0s 1ms/step - loss: 7285.6411 - mae: 7285.6411\n",
            "Epoch 140/500\n",
            "34/34 [==============================] - 0s 1ms/step - loss: 7415.0570 - mae: 7415.0570\n",
            "Epoch 141/500\n",
            "34/34 [==============================] - 0s 1ms/step - loss: 7257.1747 - mae: 7257.1747\n",
            "Epoch 142/500\n",
            "34/34 [==============================] - 0s 1ms/step - loss: 6572.5183 - mae: 6572.5183\n",
            "Epoch 143/500\n",
            "34/34 [==============================] - 0s 1ms/step - loss: 7104.3438 - mae: 7104.3438\n",
            "Epoch 144/500\n",
            "34/34 [==============================] - 0s 1ms/step - loss: 6966.0744 - mae: 6966.0744\n",
            "Epoch 145/500\n",
            "34/34 [==============================] - 0s 1ms/step - loss: 7306.3668 - mae: 7306.3668\n",
            "Epoch 146/500\n",
            "34/34 [==============================] - 0s 1ms/step - loss: 7115.5755 - mae: 7115.5755\n",
            "Epoch 147/500\n",
            "34/34 [==============================] - 0s 1ms/step - loss: 7038.6016 - mae: 7038.6016\n",
            "Epoch 148/500\n",
            "34/34 [==============================] - 0s 1ms/step - loss: 6503.6362 - mae: 6503.6362\n",
            "Epoch 149/500\n",
            "34/34 [==============================] - 0s 1ms/step - loss: 6705.2415 - mae: 6705.2415\n",
            "Epoch 150/500\n",
            "34/34 [==============================] - 0s 1ms/step - loss: 7073.4376 - mae: 7073.4376\n",
            "Epoch 151/500\n",
            "34/34 [==============================] - 0s 1ms/step - loss: 7307.1442 - mae: 7307.1442\n",
            "Epoch 152/500\n",
            "34/34 [==============================] - 0s 1ms/step - loss: 6716.7269 - mae: 6716.7269\n",
            "Epoch 153/500\n",
            "34/34 [==============================] - 0s 1ms/step - loss: 7209.0426 - mae: 7209.0426\n",
            "Epoch 154/500\n",
            "34/34 [==============================] - 0s 1ms/step - loss: 7179.2681 - mae: 7179.2681\n",
            "Epoch 155/500\n",
            "34/34 [==============================] - 0s 1ms/step - loss: 6992.4009 - mae: 6992.4009\n",
            "Epoch 156/500\n",
            "34/34 [==============================] - 0s 1ms/step - loss: 6697.2045 - mae: 6697.2045\n",
            "Epoch 157/500\n",
            "34/34 [==============================] - 0s 1ms/step - loss: 6776.8393 - mae: 6776.8393\n",
            "Epoch 158/500\n",
            "34/34 [==============================] - 0s 1ms/step - loss: 7080.2228 - mae: 7080.2228\n",
            "Epoch 159/500\n",
            "34/34 [==============================] - 0s 1ms/step - loss: 6863.9076 - mae: 6863.9076\n",
            "Epoch 160/500\n",
            "34/34 [==============================] - 0s 1ms/step - loss: 6804.7127 - mae: 6804.7127\n",
            "Epoch 161/500\n",
            "34/34 [==============================] - 0s 1ms/step - loss: 7102.7894 - mae: 7102.7894\n",
            "Epoch 162/500\n",
            "34/34 [==============================] - 0s 1ms/step - loss: 7225.0673 - mae: 7225.0673\n",
            "Epoch 163/500\n",
            "34/34 [==============================] - 0s 1ms/step - loss: 6413.2818 - mae: 6413.2818\n",
            "Epoch 164/500\n",
            "34/34 [==============================] - 0s 1ms/step - loss: 7006.3432 - mae: 7006.3432\n",
            "Epoch 165/500\n",
            "34/34 [==============================] - 0s 1ms/step - loss: 7129.6763 - mae: 7129.6763\n",
            "Epoch 166/500\n",
            "34/34 [==============================] - 0s 1ms/step - loss: 6949.9197 - mae: 6949.9197\n",
            "Epoch 167/500\n",
            "34/34 [==============================] - 0s 1ms/step - loss: 7267.4066 - mae: 7267.4066\n",
            "Epoch 168/500\n",
            "34/34 [==============================] - 0s 1ms/step - loss: 7088.9555 - mae: 7088.9555\n",
            "Epoch 169/500\n",
            "34/34 [==============================] - 0s 1ms/step - loss: 6931.5313 - mae: 6931.5313\n",
            "Epoch 170/500\n",
            "34/34 [==============================] - 0s 1ms/step - loss: 7196.4694 - mae: 7196.4694\n",
            "Epoch 171/500\n",
            "34/34 [==============================] - 0s 1ms/step - loss: 6775.0957 - mae: 6775.0957\n",
            "Epoch 172/500\n",
            "34/34 [==============================] - 0s 1ms/step - loss: 6796.5909 - mae: 6796.5909\n",
            "Epoch 173/500\n",
            "34/34 [==============================] - 0s 1ms/step - loss: 6696.9791 - mae: 6696.9791\n",
            "Epoch 174/500\n",
            "34/34 [==============================] - 0s 1ms/step - loss: 7392.0529 - mae: 7392.0529\n",
            "Epoch 175/500\n",
            "34/34 [==============================] - 0s 1ms/step - loss: 6945.3127 - mae: 6945.3127\n",
            "Epoch 176/500\n",
            "34/34 [==============================] - 0s 1ms/step - loss: 6682.0501 - mae: 6682.0501\n",
            "Epoch 177/500\n",
            "34/34 [==============================] - 0s 1ms/step - loss: 6724.6346 - mae: 6724.6346\n",
            "Epoch 178/500\n",
            "34/34 [==============================] - 0s 1ms/step - loss: 6694.9604 - mae: 6694.9604\n",
            "Epoch 179/500\n",
            "34/34 [==============================] - 0s 1ms/step - loss: 6285.6219 - mae: 6285.6219\n",
            "Epoch 180/500\n",
            "34/34 [==============================] - 0s 2ms/step - loss: 7186.5117 - mae: 7186.5117\n",
            "Epoch 181/500\n",
            "34/34 [==============================] - 0s 1ms/step - loss: 7365.2631 - mae: 7365.2631\n",
            "Epoch 182/500\n",
            "34/34 [==============================] - 0s 1ms/step - loss: 6778.9063 - mae: 6778.9063\n",
            "Epoch 183/500\n",
            "34/34 [==============================] - 0s 1ms/step - loss: 7031.7233 - mae: 7031.7233\n",
            "Epoch 184/500\n",
            "34/34 [==============================] - 0s 1ms/step - loss: 6662.8084 - mae: 6662.8084\n",
            "Epoch 185/500\n",
            "34/34 [==============================] - 0s 2ms/step - loss: 6386.7218 - mae: 6386.7218\n",
            "Epoch 186/500\n",
            "34/34 [==============================] - 0s 1ms/step - loss: 7253.9799 - mae: 7253.9799\n",
            "Epoch 187/500\n",
            "34/34 [==============================] - 0s 1ms/step - loss: 6841.8348 - mae: 6841.8348\n",
            "Epoch 188/500\n",
            "34/34 [==============================] - 0s 1ms/step - loss: 7449.4610 - mae: 7449.4610\n",
            "Epoch 189/500\n",
            "34/34 [==============================] - 0s 1ms/step - loss: 6414.1755 - mae: 6414.1755\n",
            "Epoch 190/500\n",
            "34/34 [==============================] - 0s 1ms/step - loss: 6850.8686 - mae: 6850.8686\n",
            "Epoch 191/500\n",
            "34/34 [==============================] - 0s 1ms/step - loss: 7396.9886 - mae: 7396.9886\n",
            "Epoch 192/500\n",
            "34/34 [==============================] - 0s 2ms/step - loss: 7375.8135 - mae: 7375.8135\n",
            "Epoch 193/500\n",
            "34/34 [==============================] - 0s 2ms/step - loss: 6985.7598 - mae: 6985.7598\n",
            "Epoch 194/500\n",
            "34/34 [==============================] - 0s 1ms/step - loss: 7144.4749 - mae: 7144.4749\n",
            "Epoch 195/500\n",
            "34/34 [==============================] - 0s 1ms/step - loss: 6314.4988 - mae: 6314.4988\n",
            "Epoch 196/500\n",
            "34/34 [==============================] - 0s 1ms/step - loss: 6758.8858 - mae: 6758.8858\n",
            "Epoch 197/500\n",
            "34/34 [==============================] - 0s 1ms/step - loss: 6721.9855 - mae: 6721.9855\n",
            "Epoch 198/500\n",
            "34/34 [==============================] - 0s 1ms/step - loss: 7050.8915 - mae: 7050.8915\n",
            "Epoch 199/500\n",
            "34/34 [==============================] - 0s 1ms/step - loss: 6652.8062 - mae: 6652.8062\n",
            "Epoch 200/500\n",
            "34/34 [==============================] - 0s 1ms/step - loss: 7033.2057 - mae: 7033.2057\n",
            "Epoch 201/500\n",
            "34/34 [==============================] - 0s 1ms/step - loss: 6777.6543 - mae: 6777.6543\n",
            "Epoch 202/500\n",
            "34/34 [==============================] - 0s 1ms/step - loss: 6643.2524 - mae: 6643.2524\n",
            "Epoch 203/500\n",
            "34/34 [==============================] - 0s 1ms/step - loss: 6520.2735 - mae: 6520.2735\n",
            "Epoch 204/500\n",
            "34/34 [==============================] - 0s 1ms/step - loss: 7033.7577 - mae: 7033.7577\n",
            "Epoch 205/500\n",
            "34/34 [==============================] - 0s 1ms/step - loss: 6948.2160 - mae: 6948.2160\n",
            "Epoch 206/500\n",
            "34/34 [==============================] - 0s 1ms/step - loss: 6766.6936 - mae: 6766.6936\n",
            "Epoch 207/500\n",
            "34/34 [==============================] - 0s 1ms/step - loss: 6770.8405 - mae: 6770.8405\n",
            "Epoch 208/500\n",
            "34/34 [==============================] - 0s 1ms/step - loss: 6432.0216 - mae: 6432.0216\n",
            "Epoch 209/500\n",
            "34/34 [==============================] - 0s 1ms/step - loss: 6549.2005 - mae: 6549.2005\n",
            "Epoch 210/500\n",
            "34/34 [==============================] - 0s 1ms/step - loss: 6974.0344 - mae: 6974.0344\n",
            "Epoch 211/500\n",
            "34/34 [==============================] - 0s 1ms/step - loss: 6922.6305 - mae: 6922.6305\n",
            "Epoch 212/500\n",
            "34/34 [==============================] - 0s 1ms/step - loss: 6749.1045 - mae: 6749.1045\n",
            "Epoch 213/500\n",
            "34/34 [==============================] - 0s 1ms/step - loss: 6554.6537 - mae: 6554.6537\n",
            "Epoch 214/500\n",
            "34/34 [==============================] - 0s 1ms/step - loss: 6093.0045 - mae: 6093.0045\n",
            "Epoch 215/500\n",
            "34/34 [==============================] - 0s 1ms/step - loss: 6872.5696 - mae: 6872.5696\n",
            "Epoch 216/500\n",
            "34/34 [==============================] - 0s 1ms/step - loss: 6698.4516 - mae: 6698.4516\n",
            "Epoch 217/500\n",
            "34/34 [==============================] - 0s 1ms/step - loss: 6953.6757 - mae: 6953.6757\n",
            "Epoch 218/500\n",
            "34/34 [==============================] - 0s 1ms/step - loss: 6355.9621 - mae: 6355.9621\n",
            "Epoch 219/500\n",
            "34/34 [==============================] - 0s 1ms/step - loss: 6682.7488 - mae: 6682.7488\n",
            "Epoch 220/500\n",
            "34/34 [==============================] - 0s 1ms/step - loss: 6639.9627 - mae: 6639.9627\n",
            "Epoch 221/500\n",
            "34/34 [==============================] - 0s 1ms/step - loss: 7219.4140 - mae: 7219.4140\n",
            "Epoch 222/500\n",
            "34/34 [==============================] - 0s 1ms/step - loss: 7347.7847 - mae: 7347.7847\n",
            "Epoch 223/500\n",
            "34/34 [==============================] - 0s 1ms/step - loss: 6571.1139 - mae: 6571.1139\n",
            "Epoch 224/500\n",
            "34/34 [==============================] - 0s 1ms/step - loss: 6921.6598 - mae: 6921.6598\n",
            "Epoch 225/500\n",
            "34/34 [==============================] - 0s 1ms/step - loss: 7014.9117 - mae: 7014.9117\n",
            "Epoch 226/500\n",
            "34/34 [==============================] - 0s 1ms/step - loss: 6301.2441 - mae: 6301.2441\n",
            "Epoch 227/500\n",
            "34/34 [==============================] - 0s 1ms/step - loss: 6082.1867 - mae: 6082.1867\n",
            "Epoch 228/500\n",
            "34/34 [==============================] - 0s 1ms/step - loss: 6854.8964 - mae: 6854.8964\n",
            "Epoch 229/500\n",
            "34/34 [==============================] - 0s 1ms/step - loss: 6996.8908 - mae: 6996.8908\n",
            "Epoch 230/500\n",
            "34/34 [==============================] - 0s 1ms/step - loss: 6618.2918 - mae: 6618.2918\n",
            "Epoch 231/500\n",
            "34/34 [==============================] - 0s 1ms/step - loss: 6962.0716 - mae: 6962.0716\n",
            "Epoch 232/500\n",
            "34/34 [==============================] - 0s 1ms/step - loss: 6544.8549 - mae: 6544.8549\n",
            "Epoch 233/500\n",
            "34/34 [==============================] - 0s 1ms/step - loss: 7231.5097 - mae: 7231.5097\n",
            "Epoch 234/500\n",
            "34/34 [==============================] - 0s 1ms/step - loss: 6103.4435 - mae: 6103.4435\n",
            "Epoch 235/500\n",
            "34/34 [==============================] - 0s 1ms/step - loss: 6306.4873 - mae: 6306.4873\n",
            "Epoch 236/500\n",
            "34/34 [==============================] - 0s 1ms/step - loss: 6312.3731 - mae: 6312.3731\n",
            "Epoch 237/500\n",
            "34/34 [==============================] - 0s 1ms/step - loss: 6202.6956 - mae: 6202.6956\n",
            "Epoch 238/500\n",
            "34/34 [==============================] - 0s 1ms/step - loss: 6221.7497 - mae: 6221.7497\n",
            "Epoch 239/500\n",
            "34/34 [==============================] - 0s 1ms/step - loss: 6656.8719 - mae: 6656.8719\n",
            "Epoch 240/500\n",
            "34/34 [==============================] - 0s 1ms/step - loss: 6263.2930 - mae: 6263.2930\n",
            "Epoch 241/500\n",
            "34/34 [==============================] - 0s 1ms/step - loss: 6547.4110 - mae: 6547.4110\n",
            "Epoch 242/500\n",
            "34/34 [==============================] - 0s 1ms/step - loss: 6739.9836 - mae: 6739.9836\n",
            "Epoch 243/500\n",
            "34/34 [==============================] - 0s 1ms/step - loss: 7307.6326 - mae: 7307.6326\n",
            "Epoch 244/500\n",
            "34/34 [==============================] - 0s 1ms/step - loss: 6544.4123 - mae: 6544.4123\n",
            "Epoch 245/500\n",
            "34/34 [==============================] - 0s 1ms/step - loss: 6331.4587 - mae: 6331.4587\n",
            "Epoch 246/500\n",
            "34/34 [==============================] - 0s 1ms/step - loss: 6591.2028 - mae: 6591.2028\n",
            "Epoch 247/500\n",
            "34/34 [==============================] - 0s 1ms/step - loss: 6936.6430 - mae: 6936.6430\n",
            "Epoch 248/500\n",
            "34/34 [==============================] - 0s 1ms/step - loss: 6362.6299 - mae: 6362.6299\n",
            "Epoch 249/500\n",
            "34/34 [==============================] - 0s 1ms/step - loss: 6885.6601 - mae: 6885.6601\n",
            "Epoch 250/500\n",
            "34/34 [==============================] - 0s 1ms/step - loss: 6494.4521 - mae: 6494.4521\n",
            "Epoch 251/500\n",
            "34/34 [==============================] - 0s 1ms/step - loss: 6620.0003 - mae: 6620.0003\n",
            "Epoch 252/500\n",
            "34/34 [==============================] - 0s 1ms/step - loss: 6636.7658 - mae: 6636.7658\n",
            "Epoch 253/500\n",
            "34/34 [==============================] - 0s 1ms/step - loss: 6097.6705 - mae: 6097.6705\n",
            "Epoch 254/500\n",
            "34/34 [==============================] - 0s 2ms/step - loss: 6963.1225 - mae: 6963.1225\n",
            "Epoch 255/500\n",
            "34/34 [==============================] - 0s 1ms/step - loss: 6590.7237 - mae: 6590.7237\n",
            "Epoch 256/500\n",
            "34/34 [==============================] - 0s 1ms/step - loss: 7029.3260 - mae: 7029.3260\n",
            "Epoch 257/500\n",
            "34/34 [==============================] - 0s 1ms/step - loss: 6310.6087 - mae: 6310.6087\n",
            "Epoch 258/500\n",
            "34/34 [==============================] - 0s 1ms/step - loss: 6816.3162 - mae: 6816.3162\n",
            "Epoch 259/500\n",
            "34/34 [==============================] - 0s 1ms/step - loss: 7064.1070 - mae: 7064.1070\n",
            "Epoch 260/500\n",
            "34/34 [==============================] - 0s 1ms/step - loss: 6066.3494 - mae: 6066.3494\n",
            "Epoch 261/500\n",
            "34/34 [==============================] - 0s 1ms/step - loss: 7424.0191 - mae: 7424.0191\n",
            "Epoch 262/500\n",
            "34/34 [==============================] - 0s 1ms/step - loss: 6089.9306 - mae: 6089.9306\n",
            "Epoch 263/500\n",
            "34/34 [==============================] - 0s 1ms/step - loss: 6510.4960 - mae: 6510.4960\n",
            "Epoch 264/500\n",
            "34/34 [==============================] - 0s 1ms/step - loss: 6492.0356 - mae: 6492.0356\n",
            "Epoch 265/500\n",
            "34/34 [==============================] - 0s 1ms/step - loss: 6249.6589 - mae: 6249.6589\n",
            "Epoch 266/500\n",
            "34/34 [==============================] - 0s 1ms/step - loss: 6462.6312 - mae: 6462.6312\n",
            "Epoch 267/500\n",
            "34/34 [==============================] - 0s 1ms/step - loss: 6793.8551 - mae: 6793.8551\n",
            "Epoch 268/500\n",
            "34/34 [==============================] - 0s 1ms/step - loss: 6535.4272 - mae: 6535.4272\n",
            "Epoch 269/500\n",
            "34/34 [==============================] - 0s 1ms/step - loss: 6463.2364 - mae: 6463.2364\n",
            "Epoch 270/500\n",
            "34/34 [==============================] - 0s 1ms/step - loss: 7197.2753 - mae: 7197.2753\n",
            "Epoch 271/500\n",
            "34/34 [==============================] - 0s 1ms/step - loss: 6417.4530 - mae: 6417.4530\n",
            "Epoch 272/500\n",
            "34/34 [==============================] - 0s 2ms/step - loss: 6523.4596 - mae: 6523.4596\n",
            "Epoch 273/500\n",
            "34/34 [==============================] - 0s 1ms/step - loss: 6212.8921 - mae: 6212.8921\n",
            "Epoch 274/500\n",
            "34/34 [==============================] - 0s 1ms/step - loss: 7507.0165 - mae: 7507.0165\n",
            "Epoch 275/500\n",
            "34/34 [==============================] - 0s 1ms/step - loss: 6313.5383 - mae: 6313.5383\n",
            "Epoch 276/500\n",
            "34/34 [==============================] - 0s 1ms/step - loss: 6750.8032 - mae: 6750.8032\n",
            "Epoch 277/500\n",
            "34/34 [==============================] - 0s 1ms/step - loss: 6873.2407 - mae: 6873.2407\n",
            "Epoch 278/500\n",
            "34/34 [==============================] - 0s 1ms/step - loss: 6378.2629 - mae: 6378.2629\n",
            "Epoch 279/500\n",
            "34/34 [==============================] - 0s 2ms/step - loss: 6663.7885 - mae: 6663.7885\n",
            "Epoch 280/500\n",
            "34/34 [==============================] - 0s 1ms/step - loss: 6862.4674 - mae: 6862.4674\n",
            "Epoch 281/500\n",
            "34/34 [==============================] - 0s 1ms/step - loss: 6781.2742 - mae: 6781.2742\n",
            "Epoch 282/500\n",
            "34/34 [==============================] - 0s 1ms/step - loss: 6459.0439 - mae: 6459.0439\n",
            "Epoch 283/500\n",
            "34/34 [==============================] - 0s 1ms/step - loss: 6480.2950 - mae: 6480.2950\n",
            "Epoch 284/500\n",
            "34/34 [==============================] - 0s 1ms/step - loss: 6560.3967 - mae: 6560.3967\n",
            "Epoch 285/500\n",
            "34/34 [==============================] - 0s 1ms/step - loss: 6247.3512 - mae: 6247.3512\n",
            "Epoch 286/500\n",
            "34/34 [==============================] - 0s 1ms/step - loss: 6437.7063 - mae: 6437.7063\n",
            "Epoch 287/500\n",
            "34/34 [==============================] - 0s 1ms/step - loss: 6760.2873 - mae: 6760.2873\n",
            "Epoch 288/500\n",
            "34/34 [==============================] - 0s 1ms/step - loss: 6830.4881 - mae: 6830.4881\n",
            "Epoch 289/500\n",
            "34/34 [==============================] - 0s 1ms/step - loss: 6263.1548 - mae: 6263.1548\n",
            "Epoch 290/500\n",
            "34/34 [==============================] - 0s 1ms/step - loss: 6356.6924 - mae: 6356.6924\n",
            "Epoch 291/500\n",
            "34/34 [==============================] - 0s 1ms/step - loss: 6806.0458 - mae: 6806.0458\n",
            "Epoch 292/500\n",
            "34/34 [==============================] - 0s 1ms/step - loss: 6703.8047 - mae: 6703.8047\n",
            "Epoch 293/500\n",
            "34/34 [==============================] - 0s 1ms/step - loss: 6196.1752 - mae: 6196.1752\n",
            "Epoch 294/500\n",
            "34/34 [==============================] - 0s 1ms/step - loss: 6116.9419 - mae: 6116.9419\n",
            "Epoch 295/500\n",
            "34/34 [==============================] - 0s 1ms/step - loss: 6155.4425 - mae: 6155.4425\n",
            "Epoch 296/500\n",
            "34/34 [==============================] - 0s 1ms/step - loss: 6546.9059 - mae: 6546.9059\n",
            "Epoch 297/500\n",
            "34/34 [==============================] - 0s 1ms/step - loss: 7090.0240 - mae: 7090.0240\n",
            "Epoch 298/500\n",
            "34/34 [==============================] - 0s 2ms/step - loss: 6449.3816 - mae: 6449.3816\n",
            "Epoch 299/500\n",
            "34/34 [==============================] - 0s 1ms/step - loss: 6471.6701 - mae: 6471.6701\n",
            "Epoch 300/500\n",
            "34/34 [==============================] - 0s 1ms/step - loss: 6107.7174 - mae: 6107.7174\n",
            "Epoch 301/500\n",
            "34/34 [==============================] - 0s 1ms/step - loss: 6872.1628 - mae: 6872.1628\n",
            "Epoch 302/500\n",
            "34/34 [==============================] - 0s 1ms/step - loss: 6579.8770 - mae: 6579.8770\n",
            "Epoch 303/500\n",
            "34/34 [==============================] - 0s 1ms/step - loss: 6892.3730 - mae: 6892.3730\n",
            "Epoch 304/500\n",
            "34/34 [==============================] - 0s 1ms/step - loss: 6695.8913 - mae: 6695.8913\n",
            "Epoch 305/500\n",
            "34/34 [==============================] - 0s 1ms/step - loss: 6500.8262 - mae: 6500.8262\n",
            "Epoch 306/500\n",
            "34/34 [==============================] - 0s 1ms/step - loss: 6579.8372 - mae: 6579.8372\n",
            "Epoch 307/500\n",
            "34/34 [==============================] - 0s 1ms/step - loss: 6303.4877 - mae: 6303.4877\n",
            "Epoch 308/500\n",
            "34/34 [==============================] - 0s 1ms/step - loss: 6476.3523 - mae: 6476.3523\n",
            "Epoch 309/500\n",
            "34/34 [==============================] - 0s 1ms/step - loss: 6853.4110 - mae: 6853.4110\n",
            "Epoch 310/500\n",
            "34/34 [==============================] - 0s 1ms/step - loss: 6315.1344 - mae: 6315.1344\n",
            "Epoch 311/500\n",
            "34/34 [==============================] - 0s 1ms/step - loss: 6849.2817 - mae: 6849.2817\n",
            "Epoch 312/500\n",
            "34/34 [==============================] - 0s 1ms/step - loss: 6536.1123 - mae: 6536.1123\n",
            "Epoch 313/500\n",
            "34/34 [==============================] - 0s 1ms/step - loss: 6601.5123 - mae: 6601.5123\n",
            "Epoch 314/500\n",
            "34/34 [==============================] - 0s 1ms/step - loss: 6761.2860 - mae: 6761.2860\n",
            "Epoch 315/500\n",
            "34/34 [==============================] - 0s 2ms/step - loss: 6101.8275 - mae: 6101.8275\n",
            "Epoch 316/500\n",
            "34/34 [==============================] - 0s 1ms/step - loss: 6154.1369 - mae: 6154.1369\n",
            "Epoch 317/500\n",
            "34/34 [==============================] - 0s 1ms/step - loss: 6190.4092 - mae: 6190.4092\n",
            "Epoch 318/500\n",
            "34/34 [==============================] - 0s 1ms/step - loss: 6334.7234 - mae: 6334.7234\n",
            "Epoch 319/500\n",
            "34/34 [==============================] - 0s 1ms/step - loss: 6835.6648 - mae: 6835.6648\n",
            "Epoch 320/500\n",
            "34/34 [==============================] - 0s 1ms/step - loss: 6472.5021 - mae: 6472.5021\n",
            "Epoch 321/500\n",
            "34/34 [==============================] - 0s 1ms/step - loss: 6098.6725 - mae: 6098.6725\n",
            "Epoch 322/500\n",
            "34/34 [==============================] - 0s 1ms/step - loss: 6502.6767 - mae: 6502.6767\n",
            "Epoch 323/500\n",
            "34/34 [==============================] - 0s 1ms/step - loss: 6601.2943 - mae: 6601.2943\n",
            "Epoch 324/500\n",
            "34/34 [==============================] - 0s 1ms/step - loss: 6605.7669 - mae: 6605.7669\n",
            "Epoch 325/500\n",
            "34/34 [==============================] - 0s 1ms/step - loss: 6510.5242 - mae: 6510.5242\n",
            "Epoch 326/500\n",
            "34/34 [==============================] - 0s 1ms/step - loss: 6837.9492 - mae: 6837.9492\n",
            "Epoch 327/500\n",
            "34/34 [==============================] - 0s 1ms/step - loss: 5870.4147 - mae: 5870.4147\n",
            "Epoch 328/500\n",
            "34/34 [==============================] - 0s 1ms/step - loss: 6594.3397 - mae: 6594.3397\n",
            "Epoch 329/500\n",
            "34/34 [==============================] - 0s 1ms/step - loss: 6012.8898 - mae: 6012.8898\n",
            "Epoch 330/500\n",
            "34/34 [==============================] - 0s 1ms/step - loss: 6378.9988 - mae: 6378.9988\n",
            "Epoch 331/500\n",
            "34/34 [==============================] - 0s 1ms/step - loss: 6933.9567 - mae: 6933.9567\n",
            "Epoch 332/500\n",
            "34/34 [==============================] - 0s 1ms/step - loss: 6647.2414 - mae: 6647.2414\n",
            "Epoch 333/500\n",
            "34/34 [==============================] - 0s 1ms/step - loss: 6091.1553 - mae: 6091.1553\n",
            "Epoch 334/500\n",
            "34/34 [==============================] - 0s 1ms/step - loss: 6311.0399 - mae: 6311.0399\n",
            "Epoch 335/500\n",
            "34/34 [==============================] - 0s 1ms/step - loss: 6633.3051 - mae: 6633.3051\n",
            "Epoch 336/500\n",
            "34/34 [==============================] - 0s 1ms/step - loss: 6443.3515 - mae: 6443.3515\n",
            "Epoch 337/500\n",
            "34/34 [==============================] - 0s 1ms/step - loss: 6548.2677 - mae: 6548.2677\n",
            "Epoch 338/500\n",
            "34/34 [==============================] - 0s 1ms/step - loss: 6212.6573 - mae: 6212.6573\n",
            "Epoch 339/500\n",
            "34/34 [==============================] - 0s 1ms/step - loss: 6489.4590 - mae: 6489.4590\n",
            "Epoch 340/500\n",
            "34/34 [==============================] - 0s 1ms/step - loss: 6415.0370 - mae: 6415.0370\n",
            "Epoch 341/500\n",
            "34/34 [==============================] - 0s 1ms/step - loss: 6788.2070 - mae: 6788.2070\n",
            "Epoch 342/500\n",
            "34/34 [==============================] - 0s 1ms/step - loss: 6432.9351 - mae: 6432.9351\n",
            "Epoch 343/500\n",
            "34/34 [==============================] - 0s 1ms/step - loss: 7031.4738 - mae: 7031.4738\n",
            "Epoch 344/500\n",
            "34/34 [==============================] - 0s 1ms/step - loss: 6351.0100 - mae: 6351.0100\n",
            "Epoch 345/500\n",
            "34/34 [==============================] - 0s 1ms/step - loss: 6308.2183 - mae: 6308.2183\n",
            "Epoch 346/500\n",
            "34/34 [==============================] - 0s 1ms/step - loss: 6638.1667 - mae: 6638.1667\n",
            "Epoch 347/500\n",
            "34/34 [==============================] - 0s 1ms/step - loss: 6910.2771 - mae: 6910.2771\n",
            "Epoch 348/500\n",
            "34/34 [==============================] - 0s 1ms/step - loss: 6548.6981 - mae: 6548.6981\n",
            "Epoch 349/500\n",
            "34/34 [==============================] - 0s 1ms/step - loss: 6622.9443 - mae: 6622.9443\n",
            "Epoch 350/500\n",
            "34/34 [==============================] - 0s 1ms/step - loss: 6031.4396 - mae: 6031.4396\n",
            "Epoch 351/500\n",
            "34/34 [==============================] - 0s 1ms/step - loss: 6649.7702 - mae: 6649.7702\n",
            "Epoch 352/500\n",
            "34/34 [==============================] - 0s 1ms/step - loss: 6775.8914 - mae: 6775.8914\n",
            "Epoch 353/500\n",
            "34/34 [==============================] - 0s 1ms/step - loss: 6688.4794 - mae: 6688.4794\n",
            "Epoch 354/500\n",
            "34/34 [==============================] - 0s 1ms/step - loss: 6017.7875 - mae: 6017.7875\n",
            "Epoch 355/500\n",
            "34/34 [==============================] - 0s 1ms/step - loss: 6419.0420 - mae: 6419.0420\n",
            "Epoch 356/500\n",
            "34/34 [==============================] - 0s 1ms/step - loss: 6369.1841 - mae: 6369.1841\n",
            "Epoch 357/500\n",
            "34/34 [==============================] - 0s 1ms/step - loss: 6341.5390 - mae: 6341.5390\n",
            "Epoch 358/500\n",
            "34/34 [==============================] - 0s 1ms/step - loss: 6365.3133 - mae: 6365.3133\n",
            "Epoch 359/500\n",
            "34/34 [==============================] - 0s 1ms/step - loss: 6935.2958 - mae: 6935.2958\n",
            "Epoch 360/500\n",
            "34/34 [==============================] - 0s 1ms/step - loss: 6450.0611 - mae: 6450.0611\n",
            "Epoch 361/500\n",
            "34/34 [==============================] - 0s 1ms/step - loss: 6060.8653 - mae: 6060.8653\n",
            "Epoch 362/500\n",
            "34/34 [==============================] - 0s 1ms/step - loss: 6258.6492 - mae: 6258.6492\n",
            "Epoch 363/500\n",
            "34/34 [==============================] - 0s 1ms/step - loss: 6338.2663 - mae: 6338.2663\n",
            "Epoch 364/500\n",
            "34/34 [==============================] - 0s 1ms/step - loss: 6227.8466 - mae: 6227.8466\n",
            "Epoch 365/500\n",
            "34/34 [==============================] - 0s 1ms/step - loss: 6391.5818 - mae: 6391.5818\n",
            "Epoch 366/500\n",
            "34/34 [==============================] - 0s 1ms/step - loss: 6084.2798 - mae: 6084.2798\n",
            "Epoch 367/500\n",
            "34/34 [==============================] - 0s 1ms/step - loss: 6718.3594 - mae: 6718.3594\n",
            "Epoch 368/500\n",
            "34/34 [==============================] - 0s 1ms/step - loss: 6440.1082 - mae: 6440.1082\n",
            "Epoch 369/500\n",
            "34/34 [==============================] - 0s 2ms/step - loss: 6517.6586 - mae: 6517.6586\n",
            "Epoch 370/500\n",
            "34/34 [==============================] - 0s 1ms/step - loss: 6704.0201 - mae: 6704.0201\n",
            "Epoch 371/500\n",
            "34/34 [==============================] - 0s 1ms/step - loss: 5994.7505 - mae: 5994.7505\n",
            "Epoch 372/500\n",
            "34/34 [==============================] - 0s 1ms/step - loss: 5796.5099 - mae: 5796.5099\n",
            "Epoch 373/500\n",
            "34/34 [==============================] - 0s 1ms/step - loss: 6016.0552 - mae: 6016.0552\n",
            "Epoch 374/500\n",
            "34/34 [==============================] - 0s 1ms/step - loss: 6317.3298 - mae: 6317.3298\n",
            "Epoch 375/500\n",
            "34/34 [==============================] - 0s 1ms/step - loss: 6621.3863 - mae: 6621.3863\n",
            "Epoch 376/500\n",
            "34/34 [==============================] - 0s 1ms/step - loss: 6359.0642 - mae: 6359.0642\n",
            "Epoch 377/500\n",
            "34/34 [==============================] - 0s 2ms/step - loss: 6815.3969 - mae: 6815.3969\n",
            "Epoch 378/500\n",
            "34/34 [==============================] - 0s 1ms/step - loss: 6425.3335 - mae: 6425.3335\n",
            "Epoch 379/500\n",
            "34/34 [==============================] - 0s 1ms/step - loss: 6320.5956 - mae: 6320.5956\n",
            "Epoch 380/500\n",
            "34/34 [==============================] - 0s 1ms/step - loss: 5892.4242 - mae: 5892.4242\n",
            "Epoch 381/500\n",
            "34/34 [==============================] - 0s 1ms/step - loss: 6675.5678 - mae: 6675.5678\n",
            "Epoch 382/500\n",
            "34/34 [==============================] - 0s 1ms/step - loss: 6431.8400 - mae: 6431.8400\n",
            "Epoch 383/500\n",
            "34/34 [==============================] - 0s 1ms/step - loss: 6242.7966 - mae: 6242.7966\n",
            "Epoch 384/500\n",
            "34/34 [==============================] - 0s 1ms/step - loss: 6931.4093 - mae: 6931.4093\n",
            "Epoch 385/500\n",
            "34/34 [==============================] - 0s 1ms/step - loss: 6222.4426 - mae: 6222.4426\n",
            "Epoch 386/500\n",
            "34/34 [==============================] - 0s 1ms/step - loss: 6993.2448 - mae: 6993.2448\n",
            "Epoch 387/500\n",
            "34/34 [==============================] - 0s 1ms/step - loss: 6156.7938 - mae: 6156.7938\n",
            "Epoch 388/500\n",
            "34/34 [==============================] - 0s 1ms/step - loss: 5665.9353 - mae: 5665.9353\n",
            "Epoch 389/500\n",
            "34/34 [==============================] - 0s 1ms/step - loss: 6512.3374 - mae: 6512.3374\n",
            "Epoch 390/500\n",
            "34/34 [==============================] - 0s 1ms/step - loss: 6157.9293 - mae: 6157.9293\n",
            "Epoch 391/500\n",
            "34/34 [==============================] - 0s 1ms/step - loss: 6394.4213 - mae: 6394.4213\n",
            "Epoch 392/500\n",
            "34/34 [==============================] - 0s 1ms/step - loss: 6267.8154 - mae: 6267.8154\n",
            "Epoch 393/500\n",
            "34/34 [==============================] - 0s 1ms/step - loss: 6507.7616 - mae: 6507.7616\n",
            "Epoch 394/500\n",
            "34/34 [==============================] - 0s 1ms/step - loss: 6257.7490 - mae: 6257.7490\n",
            "Epoch 395/500\n",
            "34/34 [==============================] - 0s 2ms/step - loss: 7315.4647 - mae: 7315.4647\n",
            "Epoch 396/500\n",
            "34/34 [==============================] - 0s 1ms/step - loss: 6107.1607 - mae: 6107.1607\n",
            "Epoch 397/500\n",
            "34/34 [==============================] - 0s 2ms/step - loss: 6522.7883 - mae: 6522.7883\n",
            "Epoch 398/500\n",
            "34/34 [==============================] - 0s 1ms/step - loss: 6329.6752 - mae: 6329.6752\n",
            "Epoch 399/500\n",
            "34/34 [==============================] - 0s 1ms/step - loss: 6101.3791 - mae: 6101.3791\n",
            "Epoch 400/500\n",
            "34/34 [==============================] - 0s 1ms/step - loss: 7037.6418 - mae: 7037.6418\n",
            "Epoch 401/500\n",
            "34/34 [==============================] - 0s 1ms/step - loss: 6819.4778 - mae: 6819.4778\n",
            "Epoch 402/500\n",
            "34/34 [==============================] - 0s 1ms/step - loss: 6107.3948 - mae: 6107.3948\n",
            "Epoch 403/500\n",
            "34/34 [==============================] - 0s 1ms/step - loss: 6213.8220 - mae: 6213.8220\n",
            "Epoch 404/500\n",
            "34/34 [==============================] - 0s 1ms/step - loss: 6416.4878 - mae: 6416.4878\n",
            "Epoch 405/500\n",
            "34/34 [==============================] - 0s 2ms/step - loss: 6266.4985 - mae: 6266.4985\n",
            "Epoch 406/500\n",
            "34/34 [==============================] - 0s 2ms/step - loss: 6505.5696 - mae: 6505.5696\n",
            "Epoch 407/500\n",
            "34/34 [==============================] - 0s 1ms/step - loss: 5852.5233 - mae: 5852.5233\n",
            "Epoch 408/500\n",
            "34/34 [==============================] - 0s 1ms/step - loss: 6387.7900 - mae: 6387.7900\n",
            "Epoch 409/500\n",
            "34/34 [==============================] - 0s 1ms/step - loss: 6294.6554 - mae: 6294.6554\n",
            "Epoch 410/500\n",
            "34/34 [==============================] - 0s 1ms/step - loss: 6068.0021 - mae: 6068.0021\n",
            "Epoch 411/500\n",
            "34/34 [==============================] - 0s 2ms/step - loss: 6683.0822 - mae: 6683.0822\n",
            "Epoch 412/500\n",
            "34/34 [==============================] - 0s 2ms/step - loss: 6230.1127 - mae: 6230.1127\n",
            "Epoch 413/500\n",
            "34/34 [==============================] - 0s 1ms/step - loss: 5824.3982 - mae: 5824.3982\n",
            "Epoch 414/500\n",
            "34/34 [==============================] - 0s 1ms/step - loss: 6578.0864 - mae: 6578.0864\n",
            "Epoch 415/500\n",
            "34/34 [==============================] - 0s 1ms/step - loss: 5914.8583 - mae: 5914.8583\n",
            "Epoch 416/500\n",
            "34/34 [==============================] - 0s 2ms/step - loss: 6365.2344 - mae: 6365.2344\n",
            "Epoch 417/500\n",
            "34/34 [==============================] - 0s 1ms/step - loss: 6202.3942 - mae: 6202.3942\n",
            "Epoch 418/500\n",
            "34/34 [==============================] - 0s 1ms/step - loss: 5804.4392 - mae: 5804.4392\n",
            "Epoch 419/500\n",
            "34/34 [==============================] - 0s 1ms/step - loss: 5689.8509 - mae: 5689.8509\n",
            "Epoch 420/500\n",
            "34/34 [==============================] - 0s 1ms/step - loss: 5674.9663 - mae: 5674.9663\n",
            "Epoch 421/500\n",
            "34/34 [==============================] - 0s 1ms/step - loss: 6157.8356 - mae: 6157.8356\n",
            "Epoch 422/500\n",
            "34/34 [==============================] - 0s 1ms/step - loss: 6462.6616 - mae: 6462.6616\n",
            "Epoch 423/500\n",
            "34/34 [==============================] - 0s 1ms/step - loss: 6720.6584 - mae: 6720.6584\n",
            "Epoch 424/500\n",
            "34/34 [==============================] - 0s 1ms/step - loss: 6781.7337 - mae: 6781.7337\n",
            "Epoch 425/500\n",
            "34/34 [==============================] - 0s 2ms/step - loss: 6226.9966 - mae: 6226.9966\n",
            "Epoch 426/500\n",
            "34/34 [==============================] - 0s 1ms/step - loss: 7008.4316 - mae: 7008.4316\n",
            "Epoch 427/500\n",
            "34/34 [==============================] - 0s 1ms/step - loss: 5798.6656 - mae: 5798.6656\n",
            "Epoch 428/500\n",
            "34/34 [==============================] - 0s 1ms/step - loss: 6560.1877 - mae: 6560.1877\n",
            "Epoch 429/500\n",
            "34/34 [==============================] - 0s 1ms/step - loss: 6108.7948 - mae: 6108.7948\n",
            "Epoch 430/500\n",
            "34/34 [==============================] - 0s 1ms/step - loss: 6537.4936 - mae: 6537.4936\n",
            "Epoch 431/500\n",
            "34/34 [==============================] - 0s 1ms/step - loss: 6125.1320 - mae: 6125.1320\n",
            "Epoch 432/500\n",
            "34/34 [==============================] - 0s 1ms/step - loss: 5907.1857 - mae: 5907.1857\n",
            "Epoch 433/500\n",
            "34/34 [==============================] - 0s 2ms/step - loss: 6364.2306 - mae: 6364.2306\n",
            "Epoch 434/500\n",
            "34/34 [==============================] - 0s 1ms/step - loss: 5900.8733 - mae: 5900.8733\n",
            "Epoch 435/500\n",
            "34/34 [==============================] - 0s 1ms/step - loss: 6477.3520 - mae: 6477.3520\n",
            "Epoch 436/500\n",
            "34/34 [==============================] - 0s 1ms/step - loss: 6242.2908 - mae: 6242.2908\n",
            "Epoch 437/500\n",
            "34/34 [==============================] - 0s 1ms/step - loss: 6196.0827 - mae: 6196.0827\n",
            "Epoch 438/500\n",
            "34/34 [==============================] - 0s 1ms/step - loss: 5959.8531 - mae: 5959.8531\n",
            "Epoch 439/500\n",
            "34/34 [==============================] - 0s 1ms/step - loss: 6454.2073 - mae: 6454.2073\n",
            "Epoch 440/500\n",
            "34/34 [==============================] - 0s 1ms/step - loss: 6034.2571 - mae: 6034.2571\n",
            "Epoch 441/500\n",
            "34/34 [==============================] - 0s 1ms/step - loss: 6322.9415 - mae: 6322.9415\n",
            "Epoch 442/500\n",
            "34/34 [==============================] - 0s 1ms/step - loss: 6021.9548 - mae: 6021.9548\n",
            "Epoch 443/500\n",
            "34/34 [==============================] - 0s 1ms/step - loss: 6248.8466 - mae: 6248.8466\n",
            "Epoch 444/500\n",
            "34/34 [==============================] - 0s 1ms/step - loss: 6404.1820 - mae: 6404.1820\n",
            "Epoch 445/500\n",
            "34/34 [==============================] - 0s 1ms/step - loss: 6230.9535 - mae: 6230.9535\n",
            "Epoch 446/500\n",
            "34/34 [==============================] - 0s 1ms/step - loss: 5824.3878 - mae: 5824.3878\n",
            "Epoch 447/500\n",
            "34/34 [==============================] - 0s 1ms/step - loss: 6309.0637 - mae: 6309.0637\n",
            "Epoch 448/500\n",
            "34/34 [==============================] - 0s 1ms/step - loss: 5880.4667 - mae: 5880.4667\n",
            "Epoch 449/500\n",
            "34/34 [==============================] - 0s 1ms/step - loss: 6226.7665 - mae: 6226.7665\n",
            "Epoch 450/500\n",
            "34/34 [==============================] - 0s 1ms/step - loss: 6044.2258 - mae: 6044.2258\n",
            "Epoch 451/500\n",
            "34/34 [==============================] - 0s 1ms/step - loss: 5517.4905 - mae: 5517.4905\n",
            "Epoch 452/500\n",
            "34/34 [==============================] - 0s 1ms/step - loss: 6162.6322 - mae: 6162.6322\n",
            "Epoch 453/500\n",
            "34/34 [==============================] - 0s 1ms/step - loss: 5949.0949 - mae: 5949.0949\n",
            "Epoch 454/500\n",
            "34/34 [==============================] - 0s 1ms/step - loss: 6366.2902 - mae: 6366.2902\n",
            "Epoch 455/500\n",
            "34/34 [==============================] - 0s 1ms/step - loss: 6092.3877 - mae: 6092.3877\n",
            "Epoch 456/500\n",
            "34/34 [==============================] - 0s 2ms/step - loss: 6368.8243 - mae: 6368.8243\n",
            "Epoch 457/500\n",
            "34/34 [==============================] - 0s 1ms/step - loss: 6118.4055 - mae: 6118.4055\n",
            "Epoch 458/500\n",
            "34/34 [==============================] - 0s 1ms/step - loss: 5803.6804 - mae: 5803.6804\n",
            "Epoch 459/500\n",
            "34/34 [==============================] - 0s 1ms/step - loss: 6234.9299 - mae: 6234.9299\n",
            "Epoch 460/500\n",
            "34/34 [==============================] - 0s 1ms/step - loss: 5983.8185 - mae: 5983.8185\n",
            "Epoch 461/500\n",
            "34/34 [==============================] - 0s 1ms/step - loss: 6096.7707 - mae: 6096.7707\n",
            "Epoch 462/500\n",
            "34/34 [==============================] - 0s 1ms/step - loss: 6262.8593 - mae: 6262.8593\n",
            "Epoch 463/500\n",
            "34/34 [==============================] - 0s 2ms/step - loss: 6234.7567 - mae: 6234.7567\n",
            "Epoch 464/500\n",
            "34/34 [==============================] - 0s 1ms/step - loss: 6078.6539 - mae: 6078.6539\n",
            "Epoch 465/500\n",
            "34/34 [==============================] - 0s 1ms/step - loss: 6160.6632 - mae: 6160.6632\n",
            "Epoch 466/500\n",
            "34/34 [==============================] - 0s 1ms/step - loss: 6486.3749 - mae: 6486.3749\n",
            "Epoch 467/500\n",
            "34/34 [==============================] - 0s 1ms/step - loss: 6262.0768 - mae: 6262.0768\n",
            "Epoch 468/500\n",
            "34/34 [==============================] - 0s 1ms/step - loss: 5295.0882 - mae: 5295.0882\n",
            "Epoch 469/500\n",
            "34/34 [==============================] - 0s 1ms/step - loss: 6091.0791 - mae: 6091.0791\n",
            "Epoch 470/500\n",
            "34/34 [==============================] - 0s 1ms/step - loss: 5751.9081 - mae: 5751.9081\n",
            "Epoch 471/500\n",
            "34/34 [==============================] - 0s 1ms/step - loss: 6075.6194 - mae: 6075.6194\n",
            "Epoch 472/500\n",
            "34/34 [==============================] - 0s 1ms/step - loss: 5951.3530 - mae: 5951.3530\n",
            "Epoch 473/500\n",
            "34/34 [==============================] - 0s 1ms/step - loss: 6754.7855 - mae: 6754.7855\n",
            "Epoch 474/500\n",
            "34/34 [==============================] - 0s 2ms/step - loss: 5915.2992 - mae: 5915.2992\n",
            "Epoch 475/500\n",
            "34/34 [==============================] - 0s 2ms/step - loss: 5999.7898 - mae: 5999.7898\n",
            "Epoch 476/500\n",
            "34/34 [==============================] - 0s 1ms/step - loss: 6038.6827 - mae: 6038.6827\n",
            "Epoch 477/500\n",
            "34/34 [==============================] - 0s 1ms/step - loss: 5824.0307 - mae: 5824.0307\n",
            "Epoch 478/500\n",
            "34/34 [==============================] - 0s 1ms/step - loss: 5902.0379 - mae: 5902.0379\n",
            "Epoch 479/500\n",
            "34/34 [==============================] - 0s 1ms/step - loss: 6223.3051 - mae: 6223.3051\n",
            "Epoch 480/500\n",
            "34/34 [==============================] - 0s 1ms/step - loss: 6230.0933 - mae: 6230.0933\n",
            "Epoch 481/500\n",
            "34/34 [==============================] - 0s 1ms/step - loss: 6222.6860 - mae: 6222.6860\n",
            "Epoch 482/500\n",
            "34/34 [==============================] - 0s 2ms/step - loss: 5888.3318 - mae: 5888.3318\n",
            "Epoch 483/500\n",
            "34/34 [==============================] - 0s 1ms/step - loss: 5753.5235 - mae: 5753.5235\n",
            "Epoch 484/500\n",
            "34/34 [==============================] - 0s 1ms/step - loss: 6722.4625 - mae: 6722.4625\n",
            "Epoch 485/500\n",
            "34/34 [==============================] - 0s 2ms/step - loss: 5611.5456 - mae: 5611.5456\n",
            "Epoch 486/500\n",
            "34/34 [==============================] - 0s 1ms/step - loss: 5454.2812 - mae: 5454.2812\n",
            "Epoch 487/500\n",
            "34/34 [==============================] - 0s 1ms/step - loss: 6479.3587 - mae: 6479.3587\n",
            "Epoch 488/500\n",
            "34/34 [==============================] - 0s 1ms/step - loss: 6103.7487 - mae: 6103.7487\n",
            "Epoch 489/500\n",
            "34/34 [==============================] - 0s 1ms/step - loss: 6560.1251 - mae: 6560.1251\n",
            "Epoch 490/500\n",
            "34/34 [==============================] - 0s 2ms/step - loss: 6780.1914 - mae: 6780.1914\n",
            "Epoch 491/500\n",
            "34/34 [==============================] - 0s 2ms/step - loss: 5783.7104 - mae: 5783.7104\n",
            "Epoch 492/500\n",
            "34/34 [==============================] - 0s 1ms/step - loss: 6093.1057 - mae: 6093.1057\n",
            "Epoch 493/500\n",
            "34/34 [==============================] - 0s 1ms/step - loss: 5984.2110 - mae: 5984.2110\n",
            "Epoch 494/500\n",
            "34/34 [==============================] - 0s 1ms/step - loss: 6201.3998 - mae: 6201.3998\n",
            "Epoch 495/500\n",
            "34/34 [==============================] - 0s 1ms/step - loss: 6340.4798 - mae: 6340.4798\n",
            "Epoch 496/500\n",
            "34/34 [==============================] - 0s 1ms/step - loss: 6038.2237 - mae: 6038.2237\n",
            "Epoch 497/500\n",
            "34/34 [==============================] - 0s 1ms/step - loss: 6054.0938 - mae: 6054.0938\n",
            "Epoch 498/500\n",
            "34/34 [==============================] - 0s 1ms/step - loss: 6273.1610 - mae: 6273.1610\n",
            "Epoch 499/500\n",
            "34/34 [==============================] - 0s 1ms/step - loss: 5935.5730 - mae: 5935.5730\n",
            "Epoch 500/500\n",
            "34/34 [==============================] - 0s 2ms/step - loss: 6313.2700 - mae: 6313.2700\n"
          ],
          "name": "stdout"
        },
        {
          "output_type": "execute_result",
          "data": {
            "text/plain": [
              "<tensorflow.python.keras.callbacks.History at 0x7f7d75ee0550>"
            ]
          },
          "metadata": {
            "tags": []
          },
          "execution_count": 66
        }
      ]
    },
    {
      "cell_type": "code",
      "metadata": {
        "colab": {
          "base_uri": "https://localhost:8080/"
        },
        "id": "S0jDw4sblnsU",
        "outputId": "78be57f7-5c84-4de1-fdd1-d7966cdb3d1c"
      },
      "source": [
        "#check results on insurance model on test data\n",
        "exp2_model.evaluate(X_test,y_test)"
      ],
      "execution_count": null,
      "outputs": [
        {
          "output_type": "stream",
          "text": [
            "9/9 [==============================] - 0s 1ms/step - loss: 4487.1475 - mae: 4487.1475\n"
          ],
          "name": "stdout"
        },
        {
          "output_type": "execute_result",
          "data": {
            "text/plain": [
              "[4487.1474609375, 4487.1474609375]"
            ]
          },
          "metadata": {
            "tags": []
          },
          "execution_count": 67
        }
      ]
    },
    {
      "cell_type": "markdown",
      "metadata": {
        "id": "QjwposPfmgYn"
      },
      "source": [
        "`experiment 3`\n",
        "\n",
        "Here we can see from experiment 2 that Mae loss i reduced to half .So model is making less error.lets try increaseing epocs to 1000"
      ]
    },
    {
      "cell_type": "code",
      "metadata": {
        "colab": {
          "base_uri": "https://localhost:8080/"
        },
        "id": "KCYHPczJnHil",
        "outputId": "ed895672-e14f-4736-c5e6-583744f7778c"
      },
      "source": [
        "tf.random.set_seed(42)\n",
        "exp3_model=tf.keras.Sequential([\n",
        "                                tf.keras.layers.Dense(16),\n",
        "                                tf.keras.layers.Dense(1)\n",
        "])\n",
        "\n",
        "exp3_model.compile(loss=tf.keras.losses.mae,\n",
        "                   optimizer=tf.keras.optimizers.SGD(),\n",
        "                   metrics=[\"mae\"])\n",
        "\n",
        "exp3_model.fit(X_train,y_train,epochs=1000,verbose=2)"
      ],
      "execution_count": null,
      "outputs": [
        {
          "output_type": "stream",
          "text": [
            "Epoch 1/1000\n",
            "34/34 - 0s - loss: 8618.3154 - mae: 8618.3154\n",
            "Epoch 2/1000\n",
            "34/34 - 0s - loss: 7886.0889 - mae: 7886.0889\n",
            "Epoch 3/1000\n",
            "34/34 - 0s - loss: 7580.2642 - mae: 7580.2642\n",
            "Epoch 4/1000\n",
            "34/34 - 0s - loss: 7529.0020 - mae: 7529.0020\n",
            "Epoch 5/1000\n",
            "34/34 - 0s - loss: 7725.6338 - mae: 7725.6338\n",
            "Epoch 6/1000\n",
            "34/34 - 0s - loss: 7643.9248 - mae: 7643.9248\n",
            "Epoch 7/1000\n",
            "34/34 - 0s - loss: 7495.2046 - mae: 7495.2046\n",
            "Epoch 8/1000\n",
            "34/34 - 0s - loss: 7727.2856 - mae: 7727.2856\n",
            "Epoch 9/1000\n",
            "34/34 - 0s - loss: 7488.4067 - mae: 7488.4067\n",
            "Epoch 10/1000\n",
            "34/34 - 0s - loss: 7717.1860 - mae: 7717.1860\n",
            "Epoch 11/1000\n",
            "34/34 - 0s - loss: 7578.8315 - mae: 7578.8315\n",
            "Epoch 12/1000\n",
            "34/34 - 0s - loss: 7692.7432 - mae: 7692.7432\n",
            "Epoch 13/1000\n",
            "34/34 - 0s - loss: 7671.8032 - mae: 7671.8032\n",
            "Epoch 14/1000\n",
            "34/34 - 0s - loss: 7703.2656 - mae: 7703.2656\n",
            "Epoch 15/1000\n",
            "34/34 - 0s - loss: 7376.2979 - mae: 7376.2979\n",
            "Epoch 16/1000\n",
            "34/34 - 0s - loss: 7742.2959 - mae: 7742.2959\n",
            "Epoch 17/1000\n",
            "34/34 - 0s - loss: 7577.5649 - mae: 7577.5649\n",
            "Epoch 18/1000\n",
            "34/34 - 0s - loss: 7745.7090 - mae: 7745.7090\n",
            "Epoch 19/1000\n",
            "34/34 - 0s - loss: 7744.0381 - mae: 7744.0381\n",
            "Epoch 20/1000\n",
            "34/34 - 0s - loss: 7933.6187 - mae: 7933.6187\n",
            "Epoch 21/1000\n",
            "34/34 - 0s - loss: 7469.1045 - mae: 7469.1045\n",
            "Epoch 22/1000\n",
            "34/34 - 0s - loss: 7700.9883 - mae: 7700.9883\n",
            "Epoch 23/1000\n",
            "34/34 - 0s - loss: 7632.5874 - mae: 7632.5874\n",
            "Epoch 24/1000\n",
            "34/34 - 0s - loss: 7520.4365 - mae: 7520.4365\n",
            "Epoch 25/1000\n",
            "34/34 - 0s - loss: 7627.5493 - mae: 7627.5493\n",
            "Epoch 26/1000\n",
            "34/34 - 0s - loss: 7575.0806 - mae: 7575.0806\n",
            "Epoch 27/1000\n",
            "34/34 - 0s - loss: 7445.1904 - mae: 7445.1904\n",
            "Epoch 28/1000\n",
            "34/34 - 0s - loss: 7439.9951 - mae: 7439.9951\n",
            "Epoch 29/1000\n",
            "34/34 - 0s - loss: 7688.3008 - mae: 7688.3008\n",
            "Epoch 30/1000\n",
            "34/34 - 0s - loss: 7522.9683 - mae: 7522.9683\n",
            "Epoch 31/1000\n",
            "34/34 - 0s - loss: 7423.5059 - mae: 7423.5059\n",
            "Epoch 32/1000\n",
            "34/34 - 0s - loss: 7570.0195 - mae: 7570.0195\n",
            "Epoch 33/1000\n",
            "34/34 - 0s - loss: 7423.5439 - mae: 7423.5439\n",
            "Epoch 34/1000\n",
            "34/34 - 0s - loss: 7446.7617 - mae: 7446.7617\n",
            "Epoch 35/1000\n",
            "34/34 - 0s - loss: 7608.2085 - mae: 7608.2085\n",
            "Epoch 36/1000\n",
            "34/34 - 0s - loss: 7598.5288 - mae: 7598.5288\n",
            "Epoch 37/1000\n",
            "34/34 - 0s - loss: 7630.4385 - mae: 7630.4385\n",
            "Epoch 38/1000\n",
            "34/34 - 0s - loss: 7332.0586 - mae: 7332.0586\n",
            "Epoch 39/1000\n",
            "34/34 - 0s - loss: 7548.7935 - mae: 7548.7935\n",
            "Epoch 40/1000\n",
            "34/34 - 0s - loss: 7408.9575 - mae: 7408.9575\n",
            "Epoch 41/1000\n",
            "34/34 - 0s - loss: 7725.2061 - mae: 7725.2061\n",
            "Epoch 42/1000\n",
            "34/34 - 0s - loss: 7697.8618 - mae: 7697.8618\n",
            "Epoch 43/1000\n",
            "34/34 - 0s - loss: 7622.7305 - mae: 7622.7305\n",
            "Epoch 44/1000\n",
            "34/34 - 0s - loss: 7378.8867 - mae: 7378.8867\n",
            "Epoch 45/1000\n",
            "34/34 - 0s - loss: 7525.3662 - mae: 7525.3662\n",
            "Epoch 46/1000\n",
            "34/34 - 0s - loss: 7462.3496 - mae: 7462.3496\n",
            "Epoch 47/1000\n",
            "34/34 - 0s - loss: 7373.2988 - mae: 7373.2988\n",
            "Epoch 48/1000\n",
            "34/34 - 0s - loss: 7563.3921 - mae: 7563.3921\n",
            "Epoch 49/1000\n",
            "34/34 - 0s - loss: 7548.4028 - mae: 7548.4028\n",
            "Epoch 50/1000\n",
            "34/34 - 0s - loss: 7510.4590 - mae: 7510.4590\n",
            "Epoch 51/1000\n",
            "34/34 - 0s - loss: 7408.2925 - mae: 7408.2925\n",
            "Epoch 52/1000\n",
            "34/34 - 0s - loss: 7557.7612 - mae: 7557.7612\n",
            "Epoch 53/1000\n",
            "34/34 - 0s - loss: 7572.3003 - mae: 7572.3003\n",
            "Epoch 54/1000\n",
            "34/34 - 0s - loss: 7250.6143 - mae: 7250.6143\n",
            "Epoch 55/1000\n",
            "34/34 - 0s - loss: 7499.3379 - mae: 7499.3379\n",
            "Epoch 56/1000\n",
            "34/34 - 0s - loss: 7243.4717 - mae: 7243.4717\n",
            "Epoch 57/1000\n",
            "34/34 - 0s - loss: 7494.2539 - mae: 7494.2539\n",
            "Epoch 58/1000\n",
            "34/34 - 0s - loss: 7589.9819 - mae: 7589.9819\n",
            "Epoch 59/1000\n",
            "34/34 - 0s - loss: 7683.1182 - mae: 7683.1182\n",
            "Epoch 60/1000\n",
            "34/34 - 0s - loss: 7413.4727 - mae: 7413.4727\n",
            "Epoch 61/1000\n",
            "34/34 - 0s - loss: 7392.7983 - mae: 7392.7983\n",
            "Epoch 62/1000\n",
            "34/34 - 0s - loss: 7352.0972 - mae: 7352.0972\n",
            "Epoch 63/1000\n",
            "34/34 - 0s - loss: 7383.3242 - mae: 7383.3242\n",
            "Epoch 64/1000\n",
            "34/34 - 0s - loss: 7448.7856 - mae: 7448.7856\n",
            "Epoch 65/1000\n",
            "34/34 - 0s - loss: 7268.7881 - mae: 7268.7881\n",
            "Epoch 66/1000\n",
            "34/34 - 0s - loss: 7560.7363 - mae: 7560.7363\n",
            "Epoch 67/1000\n",
            "34/34 - 0s - loss: 7330.6372 - mae: 7330.6372\n",
            "Epoch 68/1000\n",
            "34/34 - 0s - loss: 7448.1572 - mae: 7448.1572\n",
            "Epoch 69/1000\n",
            "34/34 - 0s - loss: 7380.4805 - mae: 7380.4805\n",
            "Epoch 70/1000\n",
            "34/34 - 0s - loss: 7619.2646 - mae: 7619.2646\n",
            "Epoch 71/1000\n",
            "34/34 - 0s - loss: 7329.2129 - mae: 7329.2129\n",
            "Epoch 72/1000\n",
            "34/34 - 0s - loss: 7330.4766 - mae: 7330.4766\n",
            "Epoch 73/1000\n",
            "34/34 - 0s - loss: 7448.7603 - mae: 7448.7603\n",
            "Epoch 74/1000\n",
            "34/34 - 0s - loss: 7324.8228 - mae: 7324.8228\n",
            "Epoch 75/1000\n",
            "34/34 - 0s - loss: 7305.7866 - mae: 7305.7866\n",
            "Epoch 76/1000\n",
            "34/34 - 0s - loss: 7294.3530 - mae: 7294.3530\n",
            "Epoch 77/1000\n",
            "34/34 - 0s - loss: 7505.1294 - mae: 7505.1294\n",
            "Epoch 78/1000\n",
            "34/34 - 0s - loss: 7064.8594 - mae: 7064.8594\n",
            "Epoch 79/1000\n",
            "34/34 - 0s - loss: 7519.4214 - mae: 7519.4214\n",
            "Epoch 80/1000\n",
            "34/34 - 0s - loss: 7202.8423 - mae: 7202.8423\n",
            "Epoch 81/1000\n",
            "34/34 - 0s - loss: 7266.5308 - mae: 7266.5308\n",
            "Epoch 82/1000\n",
            "34/34 - 0s - loss: 7247.4546 - mae: 7247.4546\n",
            "Epoch 83/1000\n",
            "34/34 - 0s - loss: 7286.1226 - mae: 7286.1226\n",
            "Epoch 84/1000\n",
            "34/34 - 0s - loss: 7242.9751 - mae: 7242.9751\n",
            "Epoch 85/1000\n",
            "34/34 - 0s - loss: 7391.8833 - mae: 7391.8833\n",
            "Epoch 86/1000\n",
            "34/34 - 0s - loss: 7567.7739 - mae: 7567.7739\n",
            "Epoch 87/1000\n",
            "34/34 - 0s - loss: 7238.7354 - mae: 7238.7354\n",
            "Epoch 88/1000\n",
            "34/34 - 0s - loss: 7420.6123 - mae: 7420.6123\n",
            "Epoch 89/1000\n",
            "34/34 - 0s - loss: 7400.6958 - mae: 7400.6958\n",
            "Epoch 90/1000\n",
            "34/34 - 0s - loss: 6992.3110 - mae: 6992.3115\n",
            "Epoch 91/1000\n",
            "34/34 - 0s - loss: 7237.2969 - mae: 7237.2969\n",
            "Epoch 92/1000\n",
            "34/34 - 0s - loss: 7322.2827 - mae: 7322.2827\n",
            "Epoch 93/1000\n",
            "34/34 - 0s - loss: 7478.8848 - mae: 7478.8848\n",
            "Epoch 94/1000\n",
            "34/34 - 0s - loss: 7270.4463 - mae: 7270.4463\n",
            "Epoch 95/1000\n",
            "34/34 - 0s - loss: 7342.5703 - mae: 7342.5703\n",
            "Epoch 96/1000\n",
            "34/34 - 0s - loss: 7327.9150 - mae: 7327.9150\n",
            "Epoch 97/1000\n",
            "34/34 - 0s - loss: 7162.0186 - mae: 7162.0186\n",
            "Epoch 98/1000\n",
            "34/34 - 0s - loss: 7438.4775 - mae: 7438.4775\n",
            "Epoch 99/1000\n",
            "34/34 - 0s - loss: 7338.5317 - mae: 7338.5317\n",
            "Epoch 100/1000\n",
            "34/34 - 0s - loss: 7447.5703 - mae: 7447.5703\n",
            "Epoch 101/1000\n",
            "34/34 - 0s - loss: 7461.1025 - mae: 7461.1025\n",
            "Epoch 102/1000\n",
            "34/34 - 0s - loss: 7251.0815 - mae: 7251.0815\n",
            "Epoch 103/1000\n",
            "34/34 - 0s - loss: 7165.6240 - mae: 7165.6240\n",
            "Epoch 104/1000\n",
            "34/34 - 0s - loss: 7397.2388 - mae: 7397.2388\n",
            "Epoch 105/1000\n",
            "34/34 - 0s - loss: 7334.4707 - mae: 7334.4707\n",
            "Epoch 106/1000\n",
            "34/34 - 0s - loss: 7277.5303 - mae: 7277.5303\n",
            "Epoch 107/1000\n",
            "34/34 - 0s - loss: 7111.8374 - mae: 7111.8374\n",
            "Epoch 108/1000\n",
            "34/34 - 0s - loss: 7052.0083 - mae: 7052.0083\n",
            "Epoch 109/1000\n",
            "34/34 - 0s - loss: 7170.8525 - mae: 7170.8525\n",
            "Epoch 110/1000\n",
            "34/34 - 0s - loss: 7306.9438 - mae: 7306.9438\n",
            "Epoch 111/1000\n",
            "34/34 - 0s - loss: 6794.4497 - mae: 6794.4497\n",
            "Epoch 112/1000\n",
            "34/34 - 0s - loss: 7288.7012 - mae: 7288.7012\n",
            "Epoch 113/1000\n",
            "34/34 - 0s - loss: 7121.2515 - mae: 7121.2515\n",
            "Epoch 114/1000\n",
            "34/34 - 0s - loss: 7201.0620 - mae: 7201.0620\n",
            "Epoch 115/1000\n",
            "34/34 - 0s - loss: 6898.7031 - mae: 6898.7031\n",
            "Epoch 116/1000\n",
            "34/34 - 0s - loss: 7321.3394 - mae: 7321.3394\n",
            "Epoch 117/1000\n",
            "34/34 - 0s - loss: 7177.5386 - mae: 7177.5386\n",
            "Epoch 118/1000\n",
            "34/34 - 0s - loss: 7069.1118 - mae: 7069.1118\n",
            "Epoch 119/1000\n",
            "34/34 - 0s - loss: 7038.3843 - mae: 7038.3843\n",
            "Epoch 120/1000\n",
            "34/34 - 0s - loss: 7163.8525 - mae: 7163.8525\n",
            "Epoch 121/1000\n",
            "34/34 - 0s - loss: 7282.1016 - mae: 7282.1016\n",
            "Epoch 122/1000\n",
            "34/34 - 0s - loss: 7078.6191 - mae: 7078.6191\n",
            "Epoch 123/1000\n",
            "34/34 - 0s - loss: 7065.1826 - mae: 7065.1826\n",
            "Epoch 124/1000\n",
            "34/34 - 0s - loss: 7013.7285 - mae: 7013.7285\n",
            "Epoch 125/1000\n",
            "34/34 - 0s - loss: 7134.3833 - mae: 7134.3833\n",
            "Epoch 126/1000\n",
            "34/34 - 0s - loss: 6963.2856 - mae: 6963.2856\n",
            "Epoch 127/1000\n",
            "34/34 - 0s - loss: 7273.3477 - mae: 7273.3477\n",
            "Epoch 128/1000\n",
            "34/34 - 0s - loss: 7366.4097 - mae: 7366.4097\n",
            "Epoch 129/1000\n",
            "34/34 - 0s - loss: 7192.0430 - mae: 7192.0430\n",
            "Epoch 130/1000\n",
            "34/34 - 0s - loss: 7290.1460 - mae: 7290.1460\n",
            "Epoch 131/1000\n",
            "34/34 - 0s - loss: 7009.8599 - mae: 7009.8599\n",
            "Epoch 132/1000\n",
            "34/34 - 0s - loss: 7165.0156 - mae: 7165.0156\n",
            "Epoch 133/1000\n",
            "34/34 - 0s - loss: 7033.4414 - mae: 7033.4414\n",
            "Epoch 134/1000\n",
            "34/34 - 0s - loss: 7327.7227 - mae: 7327.7227\n",
            "Epoch 135/1000\n",
            "34/34 - 0s - loss: 7210.3809 - mae: 7210.3809\n",
            "Epoch 136/1000\n",
            "34/34 - 0s - loss: 7225.2217 - mae: 7225.2217\n",
            "Epoch 137/1000\n",
            "34/34 - 0s - loss: 7089.1533 - mae: 7089.1533\n",
            "Epoch 138/1000\n",
            "34/34 - 0s - loss: 7235.1504 - mae: 7235.1504\n",
            "Epoch 139/1000\n",
            "34/34 - 0s - loss: 7321.9961 - mae: 7321.9961\n",
            "Epoch 140/1000\n",
            "34/34 - 0s - loss: 7045.3784 - mae: 7045.3784\n",
            "Epoch 141/1000\n",
            "34/34 - 0s - loss: 7329.2700 - mae: 7329.2700\n",
            "Epoch 142/1000\n",
            "34/34 - 0s - loss: 6714.9531 - mae: 6714.9531\n",
            "Epoch 143/1000\n",
            "34/34 - 0s - loss: 7160.2837 - mae: 7160.2837\n",
            "Epoch 144/1000\n",
            "34/34 - 0s - loss: 6934.8359 - mae: 6934.8359\n",
            "Epoch 145/1000\n",
            "34/34 - 0s - loss: 6965.2134 - mae: 6965.2134\n",
            "Epoch 146/1000\n",
            "34/34 - 0s - loss: 6887.8491 - mae: 6887.8491\n",
            "Epoch 147/1000\n",
            "34/34 - 0s - loss: 7088.6250 - mae: 7088.6250\n",
            "Epoch 148/1000\n",
            "34/34 - 0s - loss: 7129.7051 - mae: 7129.7051\n",
            "Epoch 149/1000\n",
            "34/34 - 0s - loss: 6984.8496 - mae: 6984.8496\n",
            "Epoch 150/1000\n",
            "34/34 - 0s - loss: 7203.1265 - mae: 7203.1265\n",
            "Epoch 151/1000\n",
            "34/34 - 0s - loss: 7129.3770 - mae: 7129.3770\n",
            "Epoch 152/1000\n",
            "34/34 - 0s - loss: 6772.6880 - mae: 6772.6880\n",
            "Epoch 153/1000\n",
            "34/34 - 0s - loss: 7162.8369 - mae: 7162.8369\n",
            "Epoch 154/1000\n",
            "34/34 - 0s - loss: 6967.8882 - mae: 6967.8882\n",
            "Epoch 155/1000\n",
            "34/34 - 0s - loss: 6936.8828 - mae: 6936.8828\n",
            "Epoch 156/1000\n",
            "34/34 - 0s - loss: 6893.4712 - mae: 6893.4712\n",
            "Epoch 157/1000\n",
            "34/34 - 0s - loss: 6966.2930 - mae: 6966.2930\n",
            "Epoch 158/1000\n",
            "34/34 - 0s - loss: 6794.9512 - mae: 6794.9512\n",
            "Epoch 159/1000\n",
            "34/34 - 0s - loss: 6866.3809 - mae: 6866.3809\n",
            "Epoch 160/1000\n",
            "34/34 - 0s - loss: 6860.6655 - mae: 6860.6655\n",
            "Epoch 161/1000\n",
            "34/34 - 0s - loss: 6947.3301 - mae: 6947.3301\n",
            "Epoch 162/1000\n",
            "34/34 - 0s - loss: 7067.2124 - mae: 7067.2124\n",
            "Epoch 163/1000\n",
            "34/34 - 0s - loss: 6989.3257 - mae: 6989.3257\n",
            "Epoch 164/1000\n",
            "34/34 - 0s - loss: 7197.3882 - mae: 7197.3882\n",
            "Epoch 165/1000\n",
            "34/34 - 0s - loss: 7195.5547 - mae: 7195.5547\n",
            "Epoch 166/1000\n",
            "34/34 - 0s - loss: 6910.5391 - mae: 6910.5391\n",
            "Epoch 167/1000\n",
            "34/34 - 0s - loss: 6841.0371 - mae: 6841.0371\n",
            "Epoch 168/1000\n",
            "34/34 - 0s - loss: 6932.6670 - mae: 6932.6670\n",
            "Epoch 169/1000\n",
            "34/34 - 0s - loss: 7057.8076 - mae: 7057.8076\n",
            "Epoch 170/1000\n",
            "34/34 - 0s - loss: 7073.7871 - mae: 7073.7871\n",
            "Epoch 171/1000\n",
            "34/34 - 0s - loss: 7048.2715 - mae: 7048.2715\n",
            "Epoch 172/1000\n",
            "34/34 - 0s - loss: 6828.0166 - mae: 6828.0166\n",
            "Epoch 173/1000\n",
            "34/34 - 0s - loss: 6580.2168 - mae: 6580.2168\n",
            "Epoch 174/1000\n",
            "34/34 - 0s - loss: 6982.7207 - mae: 6982.7207\n",
            "Epoch 175/1000\n",
            "34/34 - 0s - loss: 7058.7827 - mae: 7058.7827\n",
            "Epoch 176/1000\n",
            "34/34 - 0s - loss: 6802.2319 - mae: 6802.2319\n",
            "Epoch 177/1000\n",
            "34/34 - 0s - loss: 6524.2920 - mae: 6524.2920\n",
            "Epoch 178/1000\n",
            "34/34 - 0s - loss: 7003.7349 - mae: 7003.7349\n",
            "Epoch 179/1000\n",
            "34/34 - 0s - loss: 6615.8154 - mae: 6615.8154\n",
            "Epoch 180/1000\n",
            "34/34 - 0s - loss: 6762.9780 - mae: 6762.9780\n",
            "Epoch 181/1000\n",
            "34/34 - 0s - loss: 7066.9717 - mae: 7066.9717\n",
            "Epoch 182/1000\n",
            "34/34 - 0s - loss: 6672.6177 - mae: 6672.6177\n",
            "Epoch 183/1000\n",
            "34/34 - 0s - loss: 6851.4292 - mae: 6851.4292\n",
            "Epoch 184/1000\n",
            "34/34 - 0s - loss: 6728.9326 - mae: 6728.9326\n",
            "Epoch 185/1000\n",
            "34/34 - 0s - loss: 6746.7295 - mae: 6746.7295\n",
            "Epoch 186/1000\n",
            "34/34 - 0s - loss: 6950.5122 - mae: 6950.5122\n",
            "Epoch 187/1000\n",
            "34/34 - 0s - loss: 6775.3530 - mae: 6775.3530\n",
            "Epoch 188/1000\n",
            "34/34 - 0s - loss: 7001.9019 - mae: 7001.9019\n",
            "Epoch 189/1000\n",
            "34/34 - 0s - loss: 6866.0527 - mae: 6866.0527\n",
            "Epoch 190/1000\n",
            "34/34 - 0s - loss: 6709.5698 - mae: 6709.5698\n",
            "Epoch 191/1000\n",
            "34/34 - 0s - loss: 6821.0840 - mae: 6821.0840\n",
            "Epoch 192/1000\n",
            "34/34 - 0s - loss: 7076.3433 - mae: 7076.3433\n",
            "Epoch 193/1000\n",
            "34/34 - 0s - loss: 6831.0854 - mae: 6831.0854\n",
            "Epoch 194/1000\n",
            "34/34 - 0s - loss: 6899.8872 - mae: 6899.8872\n",
            "Epoch 195/1000\n",
            "34/34 - 0s - loss: 6750.8062 - mae: 6750.8062\n",
            "Epoch 196/1000\n",
            "34/34 - 0s - loss: 6758.2930 - mae: 6758.2930\n",
            "Epoch 197/1000\n",
            "34/34 - 0s - loss: 6680.9668 - mae: 6680.9668\n",
            "Epoch 198/1000\n",
            "34/34 - 0s - loss: 7039.0317 - mae: 7039.0317\n",
            "Epoch 199/1000\n",
            "34/34 - 0s - loss: 6984.5244 - mae: 6984.5244\n",
            "Epoch 200/1000\n",
            "34/34 - 0s - loss: 6863.5923 - mae: 6863.5923\n",
            "Epoch 201/1000\n",
            "34/34 - 0s - loss: 6736.8555 - mae: 6736.8555\n",
            "Epoch 202/1000\n",
            "34/34 - 0s - loss: 6734.0020 - mae: 6734.0020\n",
            "Epoch 203/1000\n",
            "34/34 - 0s - loss: 6614.8936 - mae: 6614.8936\n",
            "Epoch 204/1000\n",
            "34/34 - 0s - loss: 6923.1597 - mae: 6923.1597\n",
            "Epoch 205/1000\n",
            "34/34 - 0s - loss: 6947.0669 - mae: 6947.0669\n",
            "Epoch 206/1000\n",
            "34/34 - 0s - loss: 6707.3335 - mae: 6707.3335\n",
            "Epoch 207/1000\n",
            "34/34 - 0s - loss: 6901.1196 - mae: 6901.1196\n",
            "Epoch 208/1000\n",
            "34/34 - 0s - loss: 6591.4585 - mae: 6591.4585\n",
            "Epoch 209/1000\n",
            "34/34 - 0s - loss: 6941.1479 - mae: 6941.1479\n",
            "Epoch 210/1000\n",
            "34/34 - 0s - loss: 6718.7017 - mae: 6718.7017\n",
            "Epoch 211/1000\n",
            "34/34 - 0s - loss: 7026.0425 - mae: 7026.0425\n",
            "Epoch 212/1000\n",
            "34/34 - 0s - loss: 6871.4619 - mae: 6871.4619\n",
            "Epoch 213/1000\n",
            "34/34 - 0s - loss: 6616.6948 - mae: 6616.6948\n",
            "Epoch 214/1000\n",
            "34/34 - 0s - loss: 6473.9805 - mae: 6473.9805\n",
            "Epoch 215/1000\n",
            "34/34 - 0s - loss: 6683.1455 - mae: 6683.1455\n",
            "Epoch 216/1000\n",
            "34/34 - 0s - loss: 6593.8159 - mae: 6593.8159\n",
            "Epoch 217/1000\n",
            "34/34 - 0s - loss: 6763.0981 - mae: 6763.0981\n",
            "Epoch 218/1000\n",
            "34/34 - 0s - loss: 6839.5488 - mae: 6839.5488\n",
            "Epoch 219/1000\n",
            "34/34 - 0s - loss: 6710.5200 - mae: 6710.5200\n",
            "Epoch 220/1000\n",
            "34/34 - 0s - loss: 6656.3394 - mae: 6656.3394\n",
            "Epoch 221/1000\n",
            "34/34 - 0s - loss: 6767.5073 - mae: 6767.5073\n",
            "Epoch 222/1000\n",
            "34/34 - 0s - loss: 7049.7402 - mae: 7049.7402\n",
            "Epoch 223/1000\n",
            "34/34 - 0s - loss: 6709.7681 - mae: 6709.7681\n",
            "Epoch 224/1000\n",
            "34/34 - 0s - loss: 6916.4512 - mae: 6916.4512\n",
            "Epoch 225/1000\n",
            "34/34 - 0s - loss: 6969.5156 - mae: 6969.5156\n",
            "Epoch 226/1000\n",
            "34/34 - 0s - loss: 6672.6748 - mae: 6672.6748\n",
            "Epoch 227/1000\n",
            "34/34 - 0s - loss: 6448.2944 - mae: 6448.2944\n",
            "Epoch 228/1000\n",
            "34/34 - 0s - loss: 6850.9775 - mae: 6850.9775\n",
            "Epoch 229/1000\n",
            "34/34 - 0s - loss: 6816.3267 - mae: 6816.3267\n",
            "Epoch 230/1000\n",
            "34/34 - 0s - loss: 6632.3701 - mae: 6632.3701\n",
            "Epoch 231/1000\n",
            "34/34 - 0s - loss: 7001.1245 - mae: 7001.1245\n",
            "Epoch 232/1000\n",
            "34/34 - 0s - loss: 6511.3799 - mae: 6511.3799\n",
            "Epoch 233/1000\n",
            "34/34 - 0s - loss: 7049.9204 - mae: 7049.9204\n",
            "Epoch 234/1000\n",
            "34/34 - 0s - loss: 6466.1748 - mae: 6466.1748\n",
            "Epoch 235/1000\n",
            "34/34 - 0s - loss: 6734.4639 - mae: 6734.4639\n",
            "Epoch 236/1000\n",
            "34/34 - 0s - loss: 6694.0137 - mae: 6694.0137\n",
            "Epoch 237/1000\n",
            "34/34 - 0s - loss: 6549.7817 - mae: 6549.7817\n",
            "Epoch 238/1000\n",
            "34/34 - 0s - loss: 6743.1030 - mae: 6743.1030\n",
            "Epoch 239/1000\n",
            "34/34 - 0s - loss: 6705.1279 - mae: 6705.1279\n",
            "Epoch 240/1000\n",
            "34/34 - 0s - loss: 6574.4937 - mae: 6574.4937\n",
            "Epoch 241/1000\n",
            "34/34 - 0s - loss: 6601.7642 - mae: 6601.7642\n",
            "Epoch 242/1000\n",
            "34/34 - 0s - loss: 6715.8628 - mae: 6715.8628\n",
            "Epoch 243/1000\n",
            "34/34 - 0s - loss: 6881.1982 - mae: 6881.1982\n",
            "Epoch 244/1000\n",
            "34/34 - 0s - loss: 6728.2778 - mae: 6728.2778\n",
            "Epoch 245/1000\n",
            "34/34 - 0s - loss: 6602.0107 - mae: 6602.0107\n",
            "Epoch 246/1000\n",
            "34/34 - 0s - loss: 6839.1353 - mae: 6839.1353\n",
            "Epoch 247/1000\n",
            "34/34 - 0s - loss: 6896.9331 - mae: 6896.9331\n",
            "Epoch 248/1000\n",
            "34/34 - 0s - loss: 6445.0146 - mae: 6445.0146\n",
            "Epoch 249/1000\n",
            "34/34 - 0s - loss: 6602.3525 - mae: 6602.3525\n",
            "Epoch 250/1000\n",
            "34/34 - 0s - loss: 6893.0054 - mae: 6893.0054\n",
            "Epoch 251/1000\n",
            "34/34 - 0s - loss: 6697.0596 - mae: 6697.0596\n",
            "Epoch 252/1000\n",
            "34/34 - 0s - loss: 6878.7007 - mae: 6878.7007\n",
            "Epoch 253/1000\n",
            "34/34 - 0s - loss: 6494.2710 - mae: 6494.2710\n",
            "Epoch 254/1000\n",
            "34/34 - 0s - loss: 6763.2046 - mae: 6763.2046\n",
            "Epoch 255/1000\n",
            "34/34 - 0s - loss: 6684.6938 - mae: 6684.6938\n",
            "Epoch 256/1000\n",
            "34/34 - 0s - loss: 6788.3203 - mae: 6788.3203\n",
            "Epoch 257/1000\n",
            "34/34 - 0s - loss: 6672.2832 - mae: 6672.2832\n",
            "Epoch 258/1000\n",
            "34/34 - 0s - loss: 6571.0537 - mae: 6571.0537\n",
            "Epoch 259/1000\n",
            "34/34 - 0s - loss: 6895.8379 - mae: 6895.8379\n",
            "Epoch 260/1000\n",
            "34/34 - 0s - loss: 6200.7437 - mae: 6200.7437\n",
            "Epoch 261/1000\n",
            "34/34 - 0s - loss: 6868.5815 - mae: 6868.5815\n",
            "Epoch 262/1000\n",
            "34/34 - 0s - loss: 6280.1387 - mae: 6280.1387\n",
            "Epoch 263/1000\n",
            "34/34 - 0s - loss: 6771.4229 - mae: 6771.4229\n",
            "Epoch 264/1000\n",
            "34/34 - 0s - loss: 6572.2998 - mae: 6572.2998\n",
            "Epoch 265/1000\n",
            "34/34 - 0s - loss: 6620.9263 - mae: 6620.9263\n",
            "Epoch 266/1000\n",
            "34/34 - 0s - loss: 6591.2505 - mae: 6591.2505\n",
            "Epoch 267/1000\n",
            "34/34 - 0s - loss: 6728.1411 - mae: 6728.1411\n",
            "Epoch 268/1000\n",
            "34/34 - 0s - loss: 6327.1685 - mae: 6327.1685\n",
            "Epoch 269/1000\n",
            "34/34 - 0s - loss: 6282.4849 - mae: 6282.4849\n",
            "Epoch 270/1000\n",
            "34/34 - 0s - loss: 7188.3838 - mae: 7188.3838\n",
            "Epoch 271/1000\n",
            "34/34 - 0s - loss: 6546.8242 - mae: 6546.8242\n",
            "Epoch 272/1000\n",
            "34/34 - 0s - loss: 6551.7935 - mae: 6551.7935\n",
            "Epoch 273/1000\n",
            "34/34 - 0s - loss: 6479.3779 - mae: 6479.3779\n",
            "Epoch 274/1000\n",
            "34/34 - 0s - loss: 6813.4253 - mae: 6813.4253\n",
            "Epoch 275/1000\n",
            "34/34 - 0s - loss: 6169.3721 - mae: 6169.3721\n",
            "Epoch 276/1000\n",
            "34/34 - 0s - loss: 7073.6157 - mae: 7073.6157\n",
            "Epoch 277/1000\n",
            "34/34 - 0s - loss: 6750.2817 - mae: 6750.2817\n",
            "Epoch 278/1000\n",
            "34/34 - 0s - loss: 6542.0361 - mae: 6542.0361\n",
            "Epoch 279/1000\n",
            "34/34 - 0s - loss: 6837.8818 - mae: 6837.8818\n",
            "Epoch 280/1000\n",
            "34/34 - 0s - loss: 6682.3442 - mae: 6682.3442\n",
            "Epoch 281/1000\n",
            "34/34 - 0s - loss: 6751.8765 - mae: 6751.8765\n",
            "Epoch 282/1000\n",
            "34/34 - 0s - loss: 6470.1133 - mae: 6470.1133\n",
            "Epoch 283/1000\n",
            "34/34 - 0s - loss: 6576.6802 - mae: 6576.6802\n",
            "Epoch 284/1000\n",
            "34/34 - 0s - loss: 6664.1216 - mae: 6664.1216\n",
            "Epoch 285/1000\n",
            "34/34 - 0s - loss: 6466.9839 - mae: 6466.9839\n",
            "Epoch 286/1000\n",
            "34/34 - 0s - loss: 6410.4717 - mae: 6410.4717\n",
            "Epoch 287/1000\n",
            "34/34 - 0s - loss: 6695.5479 - mae: 6695.5479\n",
            "Epoch 288/1000\n",
            "34/34 - 0s - loss: 6711.6372 - mae: 6711.6372\n",
            "Epoch 289/1000\n",
            "34/34 - 0s - loss: 6509.0869 - mae: 6509.0869\n",
            "Epoch 290/1000\n",
            "34/34 - 0s - loss: 6288.4229 - mae: 6288.4229\n",
            "Epoch 291/1000\n",
            "34/34 - 0s - loss: 6516.0532 - mae: 6516.0532\n",
            "Epoch 292/1000\n",
            "34/34 - 0s - loss: 6836.7598 - mae: 6836.7598\n",
            "Epoch 293/1000\n",
            "34/34 - 0s - loss: 6339.6592 - mae: 6339.6592\n",
            "Epoch 294/1000\n",
            "34/34 - 0s - loss: 6183.6270 - mae: 6183.6270\n",
            "Epoch 295/1000\n",
            "34/34 - 0s - loss: 6500.9600 - mae: 6500.9600\n",
            "Epoch 296/1000\n",
            "34/34 - 0s - loss: 6434.8940 - mae: 6434.8940\n",
            "Epoch 297/1000\n",
            "34/34 - 0s - loss: 6773.0493 - mae: 6773.0493\n",
            "Epoch 298/1000\n",
            "34/34 - 0s - loss: 6580.3706 - mae: 6580.3706\n",
            "Epoch 299/1000\n",
            "34/34 - 0s - loss: 6342.8730 - mae: 6342.8730\n",
            "Epoch 300/1000\n",
            "34/34 - 0s - loss: 6521.3208 - mae: 6521.3208\n",
            "Epoch 301/1000\n",
            "34/34 - 0s - loss: 6607.1143 - mae: 6607.1143\n",
            "Epoch 302/1000\n",
            "34/34 - 0s - loss: 6550.4019 - mae: 6550.4019\n",
            "Epoch 303/1000\n",
            "34/34 - 0s - loss: 6842.3813 - mae: 6842.3813\n",
            "Epoch 304/1000\n",
            "34/34 - 0s - loss: 6296.3833 - mae: 6296.3833\n",
            "Epoch 305/1000\n",
            "34/34 - 0s - loss: 6641.0181 - mae: 6641.0181\n",
            "Epoch 306/1000\n",
            "34/34 - 0s - loss: 6200.0513 - mae: 6200.0513\n",
            "Epoch 307/1000\n",
            "34/34 - 0s - loss: 6375.7964 - mae: 6375.7964\n",
            "Epoch 308/1000\n",
            "34/34 - 0s - loss: 6579.7998 - mae: 6579.7998\n",
            "Epoch 309/1000\n",
            "34/34 - 0s - loss: 6430.5625 - mae: 6430.5625\n",
            "Epoch 310/1000\n",
            "34/34 - 0s - loss: 6206.1792 - mae: 6206.1792\n",
            "Epoch 311/1000\n",
            "34/34 - 0s - loss: 6646.9766 - mae: 6646.9766\n",
            "Epoch 312/1000\n",
            "34/34 - 0s - loss: 6491.0200 - mae: 6491.0200\n",
            "Epoch 313/1000\n",
            "34/34 - 0s - loss: 6382.6099 - mae: 6382.6099\n",
            "Epoch 314/1000\n",
            "34/34 - 0s - loss: 6732.8516 - mae: 6732.8516\n",
            "Epoch 315/1000\n",
            "34/34 - 0s - loss: 6452.6309 - mae: 6452.6309\n",
            "Epoch 316/1000\n",
            "34/34 - 0s - loss: 6235.6396 - mae: 6235.6396\n",
            "Epoch 317/1000\n",
            "34/34 - 0s - loss: 6301.1689 - mae: 6301.1689\n",
            "Epoch 318/1000\n",
            "34/34 - 0s - loss: 6439.4839 - mae: 6439.4839\n",
            "Epoch 319/1000\n",
            "34/34 - 0s - loss: 6755.3560 - mae: 6755.3560\n",
            "Epoch 320/1000\n",
            "34/34 - 0s - loss: 6584.9365 - mae: 6584.9365\n",
            "Epoch 321/1000\n",
            "34/34 - 0s - loss: 6391.3633 - mae: 6391.3633\n",
            "Epoch 322/1000\n",
            "34/34 - 0s - loss: 6396.5742 - mae: 6396.5742\n",
            "Epoch 323/1000\n",
            "34/34 - 0s - loss: 6787.7832 - mae: 6787.7832\n",
            "Epoch 324/1000\n",
            "34/34 - 0s - loss: 6340.4810 - mae: 6340.4810\n",
            "Epoch 325/1000\n",
            "34/34 - 0s - loss: 6547.2046 - mae: 6547.2046\n",
            "Epoch 326/1000\n",
            "34/34 - 0s - loss: 6467.9150 - mae: 6467.9150\n",
            "Epoch 327/1000\n",
            "34/34 - 0s - loss: 6419.3853 - mae: 6419.3848\n",
            "Epoch 328/1000\n",
            "34/34 - 0s - loss: 6507.1865 - mae: 6507.1865\n",
            "Epoch 329/1000\n",
            "34/34 - 0s - loss: 6381.9009 - mae: 6381.9009\n",
            "Epoch 330/1000\n",
            "34/34 - 0s - loss: 6246.9800 - mae: 6246.9800\n",
            "Epoch 331/1000\n",
            "34/34 - 0s - loss: 6626.4146 - mae: 6626.4146\n",
            "Epoch 332/1000\n",
            "34/34 - 0s - loss: 6746.1738 - mae: 6746.1738\n",
            "Epoch 333/1000\n",
            "34/34 - 0s - loss: 6204.0806 - mae: 6204.0806\n",
            "Epoch 334/1000\n",
            "34/34 - 0s - loss: 6591.8940 - mae: 6591.8940\n",
            "Epoch 335/1000\n",
            "34/34 - 0s - loss: 6399.6968 - mae: 6399.6968\n",
            "Epoch 336/1000\n",
            "34/34 - 0s - loss: 6444.0322 - mae: 6444.0322\n",
            "Epoch 337/1000\n",
            "34/34 - 0s - loss: 6484.5122 - mae: 6484.5122\n",
            "Epoch 338/1000\n",
            "34/34 - 0s - loss: 6469.0347 - mae: 6469.0347\n",
            "Epoch 339/1000\n",
            "34/34 - 0s - loss: 6366.9971 - mae: 6366.9971\n",
            "Epoch 340/1000\n",
            "34/34 - 0s - loss: 6198.9429 - mae: 6198.9429\n",
            "Epoch 341/1000\n",
            "34/34 - 0s - loss: 6865.5063 - mae: 6865.5063\n",
            "Epoch 342/1000\n",
            "34/34 - 0s - loss: 6421.6890 - mae: 6421.6890\n",
            "Epoch 343/1000\n",
            "34/34 - 0s - loss: 6750.9707 - mae: 6750.9707\n",
            "Epoch 344/1000\n",
            "34/34 - 0s - loss: 6580.5054 - mae: 6580.5054\n",
            "Epoch 345/1000\n",
            "34/34 - 0s - loss: 6526.7583 - mae: 6526.7583\n",
            "Epoch 346/1000\n",
            "34/34 - 0s - loss: 6756.4541 - mae: 6756.4541\n",
            "Epoch 347/1000\n",
            "34/34 - 0s - loss: 6754.8970 - mae: 6754.8970\n",
            "Epoch 348/1000\n",
            "34/34 - 0s - loss: 6745.8110 - mae: 6745.8110\n",
            "Epoch 349/1000\n",
            "34/34 - 0s - loss: 6599.8965 - mae: 6599.8965\n",
            "Epoch 350/1000\n",
            "34/34 - 0s - loss: 6368.3813 - mae: 6368.3813\n",
            "Epoch 351/1000\n",
            "34/34 - 0s - loss: 6377.5210 - mae: 6377.5210\n",
            "Epoch 352/1000\n",
            "34/34 - 0s - loss: 6660.6567 - mae: 6660.6567\n",
            "Epoch 353/1000\n",
            "34/34 - 0s - loss: 6306.1470 - mae: 6306.1470\n",
            "Epoch 354/1000\n",
            "34/34 - 0s - loss: 6582.5322 - mae: 6582.5322\n",
            "Epoch 355/1000\n",
            "34/34 - 0s - loss: 6404.4678 - mae: 6404.4678\n",
            "Epoch 356/1000\n",
            "34/34 - 0s - loss: 6410.4805 - mae: 6410.4805\n",
            "Epoch 357/1000\n",
            "34/34 - 0s - loss: 6088.7080 - mae: 6088.7080\n",
            "Epoch 358/1000\n",
            "34/34 - 0s - loss: 6276.9673 - mae: 6276.9673\n",
            "Epoch 359/1000\n",
            "34/34 - 0s - loss: 6600.0298 - mae: 6600.0298\n",
            "Epoch 360/1000\n",
            "34/34 - 0s - loss: 6515.3462 - mae: 6515.3462\n",
            "Epoch 361/1000\n",
            "34/34 - 0s - loss: 6063.5396 - mae: 6063.5396\n",
            "Epoch 362/1000\n",
            "34/34 - 0s - loss: 6278.3818 - mae: 6278.3818\n",
            "Epoch 363/1000\n",
            "34/34 - 0s - loss: 6286.8599 - mae: 6286.8599\n",
            "Epoch 364/1000\n",
            "34/34 - 0s - loss: 6446.2412 - mae: 6446.2412\n",
            "Epoch 365/1000\n",
            "34/34 - 0s - loss: 6309.3418 - mae: 6309.3418\n",
            "Epoch 366/1000\n",
            "34/34 - 0s - loss: 6118.7666 - mae: 6118.7666\n",
            "Epoch 367/1000\n",
            "34/34 - 0s - loss: 6400.9238 - mae: 6400.9238\n",
            "Epoch 368/1000\n",
            "34/34 - 0s - loss: 6402.8750 - mae: 6402.8750\n",
            "Epoch 369/1000\n",
            "34/34 - 0s - loss: 6491.9258 - mae: 6491.9258\n",
            "Epoch 370/1000\n",
            "34/34 - 0s - loss: 6708.3154 - mae: 6708.3154\n",
            "Epoch 371/1000\n",
            "34/34 - 0s - loss: 5950.6782 - mae: 5950.6782\n",
            "Epoch 372/1000\n",
            "34/34 - 0s - loss: 6075.8433 - mae: 6075.8433\n",
            "Epoch 373/1000\n",
            "34/34 - 0s - loss: 6332.1758 - mae: 6332.1758\n",
            "Epoch 374/1000\n",
            "34/34 - 0s - loss: 6098.1484 - mae: 6098.1484\n",
            "Epoch 375/1000\n",
            "34/34 - 0s - loss: 6527.5996 - mae: 6527.5996\n",
            "Epoch 376/1000\n",
            "34/34 - 0s - loss: 6303.3403 - mae: 6303.3403\n",
            "Epoch 377/1000\n",
            "34/34 - 0s - loss: 6395.3862 - mae: 6395.3862\n",
            "Epoch 378/1000\n",
            "34/34 - 0s - loss: 6510.7573 - mae: 6510.7573\n",
            "Epoch 379/1000\n",
            "34/34 - 0s - loss: 6190.9839 - mae: 6190.9839\n",
            "Epoch 380/1000\n",
            "34/34 - 0s - loss: 6189.3813 - mae: 6189.3813\n",
            "Epoch 381/1000\n",
            "34/34 - 0s - loss: 6513.0322 - mae: 6513.0322\n",
            "Epoch 382/1000\n",
            "34/34 - 0s - loss: 6402.7661 - mae: 6402.7661\n",
            "Epoch 383/1000\n",
            "34/34 - 0s - loss: 6312.5396 - mae: 6312.5396\n",
            "Epoch 384/1000\n",
            "34/34 - 0s - loss: 6509.1143 - mae: 6509.1143\n",
            "Epoch 385/1000\n",
            "34/34 - 0s - loss: 6237.4385 - mae: 6237.4385\n",
            "Epoch 386/1000\n",
            "34/34 - 0s - loss: 6573.4414 - mae: 6573.4414\n",
            "Epoch 387/1000\n",
            "34/34 - 0s - loss: 6046.6436 - mae: 6046.6436\n",
            "Epoch 388/1000\n",
            "34/34 - 0s - loss: 6048.2954 - mae: 6048.2954\n",
            "Epoch 389/1000\n",
            "34/34 - 0s - loss: 6484.0894 - mae: 6484.0894\n",
            "Epoch 390/1000\n",
            "34/34 - 0s - loss: 6390.4136 - mae: 6390.4136\n",
            "Epoch 391/1000\n",
            "34/34 - 0s - loss: 6339.9004 - mae: 6339.9004\n",
            "Epoch 392/1000\n",
            "34/34 - 0s - loss: 6364.2441 - mae: 6364.2441\n",
            "Epoch 393/1000\n",
            "34/34 - 0s - loss: 6340.5122 - mae: 6340.5122\n",
            "Epoch 394/1000\n",
            "34/34 - 0s - loss: 6347.0166 - mae: 6347.0166\n",
            "Epoch 395/1000\n",
            "34/34 - 0s - loss: 6903.7241 - mae: 6903.7241\n",
            "Epoch 396/1000\n",
            "34/34 - 0s - loss: 6181.0981 - mae: 6181.0981\n",
            "Epoch 397/1000\n",
            "34/34 - 0s - loss: 6376.3398 - mae: 6376.3398\n",
            "Epoch 398/1000\n",
            "34/34 - 0s - loss: 6423.5186 - mae: 6423.5186\n",
            "Epoch 399/1000\n",
            "34/34 - 0s - loss: 6269.8530 - mae: 6269.8530\n",
            "Epoch 400/1000\n",
            "34/34 - 0s - loss: 6699.2295 - mae: 6699.2295\n",
            "Epoch 401/1000\n",
            "34/34 - 0s - loss: 6573.7778 - mae: 6573.7778\n",
            "Epoch 402/1000\n",
            "34/34 - 0s - loss: 6232.6016 - mae: 6232.6016\n",
            "Epoch 403/1000\n",
            "34/34 - 0s - loss: 6197.7876 - mae: 6197.7876\n",
            "Epoch 404/1000\n",
            "34/34 - 0s - loss: 6457.1387 - mae: 6457.1387\n",
            "Epoch 405/1000\n",
            "34/34 - 0s - loss: 6000.2329 - mae: 6000.2329\n",
            "Epoch 406/1000\n",
            "34/34 - 0s - loss: 6327.4106 - mae: 6327.4106\n",
            "Epoch 407/1000\n",
            "34/34 - 0s - loss: 6122.9307 - mae: 6122.9307\n",
            "Epoch 408/1000\n",
            "34/34 - 0s - loss: 6277.9185 - mae: 6277.9185\n",
            "Epoch 409/1000\n",
            "34/34 - 0s - loss: 6544.7305 - mae: 6544.7305\n",
            "Epoch 410/1000\n",
            "34/34 - 0s - loss: 6066.0591 - mae: 6066.0591\n",
            "Epoch 411/1000\n",
            "34/34 - 0s - loss: 6307.9736 - mae: 6307.9736\n",
            "Epoch 412/1000\n",
            "34/34 - 0s - loss: 6169.7559 - mae: 6169.7559\n",
            "Epoch 413/1000\n",
            "34/34 - 0s - loss: 6204.8931 - mae: 6204.8931\n",
            "Epoch 414/1000\n",
            "34/34 - 0s - loss: 6602.0664 - mae: 6602.0664\n",
            "Epoch 415/1000\n",
            "34/34 - 0s - loss: 6020.8472 - mae: 6020.8472\n",
            "Epoch 416/1000\n",
            "34/34 - 0s - loss: 6630.4092 - mae: 6630.4092\n",
            "Epoch 417/1000\n",
            "34/34 - 0s - loss: 6231.0288 - mae: 6231.0288\n",
            "Epoch 418/1000\n",
            "34/34 - 0s - loss: 5816.0493 - mae: 5816.0493\n",
            "Epoch 419/1000\n",
            "34/34 - 0s - loss: 6000.2373 - mae: 6000.2373\n",
            "Epoch 420/1000\n",
            "34/34 - 0s - loss: 6047.4458 - mae: 6047.4458\n",
            "Epoch 421/1000\n",
            "34/34 - 0s - loss: 6303.1577 - mae: 6303.1577\n",
            "Epoch 422/1000\n",
            "34/34 - 0s - loss: 6221.2510 - mae: 6221.2510\n",
            "Epoch 423/1000\n",
            "34/34 - 0s - loss: 6435.8398 - mae: 6435.8398\n",
            "Epoch 424/1000\n",
            "34/34 - 0s - loss: 6459.6104 - mae: 6459.6104\n",
            "Epoch 425/1000\n",
            "34/34 - 0s - loss: 5766.2910 - mae: 5766.2910\n",
            "Epoch 426/1000\n",
            "34/34 - 0s - loss: 6619.9648 - mae: 6619.9648\n",
            "Epoch 427/1000\n",
            "34/34 - 0s - loss: 6220.1968 - mae: 6220.1968\n",
            "Epoch 428/1000\n",
            "34/34 - 0s - loss: 6429.9258 - mae: 6429.9258\n",
            "Epoch 429/1000\n",
            "34/34 - 0s - loss: 6163.4199 - mae: 6163.4199\n",
            "Epoch 430/1000\n",
            "34/34 - 0s - loss: 6379.5908 - mae: 6379.5908\n",
            "Epoch 431/1000\n",
            "34/34 - 0s - loss: 6201.8638 - mae: 6201.8638\n",
            "Epoch 432/1000\n",
            "34/34 - 0s - loss: 6290.0996 - mae: 6290.0996\n",
            "Epoch 433/1000\n",
            "34/34 - 0s - loss: 6199.6685 - mae: 6199.6685\n",
            "Epoch 434/1000\n",
            "34/34 - 0s - loss: 5971.8208 - mae: 5971.8208\n",
            "Epoch 435/1000\n",
            "34/34 - 0s - loss: 6558.6138 - mae: 6558.6138\n",
            "Epoch 436/1000\n",
            "34/34 - 0s - loss: 6237.4639 - mae: 6237.4639\n",
            "Epoch 437/1000\n",
            "34/34 - 0s - loss: 6189.6299 - mae: 6189.6299\n",
            "Epoch 438/1000\n",
            "34/34 - 0s - loss: 6051.7026 - mae: 6051.7026\n",
            "Epoch 439/1000\n",
            "34/34 - 0s - loss: 6304.6040 - mae: 6304.6040\n",
            "Epoch 440/1000\n",
            "34/34 - 0s - loss: 6126.1719 - mae: 6126.1719\n",
            "Epoch 441/1000\n",
            "34/34 - 0s - loss: 5944.8589 - mae: 5944.8589\n",
            "Epoch 442/1000\n",
            "34/34 - 0s - loss: 6134.1841 - mae: 6134.1841\n",
            "Epoch 443/1000\n",
            "34/34 - 0s - loss: 6174.0869 - mae: 6174.0869\n",
            "Epoch 444/1000\n",
            "34/34 - 0s - loss: 6204.1274 - mae: 6204.1274\n",
            "Epoch 445/1000\n",
            "34/34 - 0s - loss: 6202.7246 - mae: 6202.7246\n",
            "Epoch 446/1000\n",
            "34/34 - 0s - loss: 6148.8477 - mae: 6148.8477\n",
            "Epoch 447/1000\n",
            "34/34 - 0s - loss: 6295.6646 - mae: 6295.6646\n",
            "Epoch 448/1000\n",
            "34/34 - 0s - loss: 6045.6899 - mae: 6045.6899\n",
            "Epoch 449/1000\n",
            "34/34 - 0s - loss: 6042.2759 - mae: 6042.2759\n",
            "Epoch 450/1000\n",
            "34/34 - 0s - loss: 6091.1963 - mae: 6091.1963\n",
            "Epoch 451/1000\n",
            "34/34 - 0s - loss: 5720.6494 - mae: 5720.6494\n",
            "Epoch 452/1000\n",
            "34/34 - 0s - loss: 5951.3608 - mae: 5951.3608\n",
            "Epoch 453/1000\n",
            "34/34 - 0s - loss: 6119.9360 - mae: 6119.9360\n",
            "Epoch 454/1000\n",
            "34/34 - 0s - loss: 6430.5859 - mae: 6430.5859\n",
            "Epoch 455/1000\n",
            "34/34 - 0s - loss: 6174.9917 - mae: 6174.9917\n",
            "Epoch 456/1000\n",
            "34/34 - 0s - loss: 6557.3281 - mae: 6557.3281\n",
            "Epoch 457/1000\n",
            "34/34 - 0s - loss: 6339.7026 - mae: 6339.7026\n",
            "Epoch 458/1000\n",
            "34/34 - 0s - loss: 6134.6826 - mae: 6134.6826\n",
            "Epoch 459/1000\n",
            "34/34 - 0s - loss: 6259.3672 - mae: 6259.3672\n",
            "Epoch 460/1000\n",
            "34/34 - 0s - loss: 5986.8203 - mae: 5986.8203\n",
            "Epoch 461/1000\n",
            "34/34 - 0s - loss: 6058.0161 - mae: 6058.0161\n",
            "Epoch 462/1000\n",
            "34/34 - 0s - loss: 5897.0034 - mae: 5897.0034\n",
            "Epoch 463/1000\n",
            "34/34 - 0s - loss: 6090.5967 - mae: 6090.5967\n",
            "Epoch 464/1000\n",
            "34/34 - 0s - loss: 6440.8086 - mae: 6440.8086\n",
            "Epoch 465/1000\n",
            "34/34 - 0s - loss: 6111.9956 - mae: 6111.9956\n",
            "Epoch 466/1000\n",
            "34/34 - 0s - loss: 6204.6738 - mae: 6204.6738\n",
            "Epoch 467/1000\n",
            "34/34 - 0s - loss: 6331.3076 - mae: 6331.3076\n",
            "Epoch 468/1000\n",
            "34/34 - 0s - loss: 5973.0039 - mae: 5973.0039\n",
            "Epoch 469/1000\n",
            "34/34 - 0s - loss: 5983.7529 - mae: 5983.7529\n",
            "Epoch 470/1000\n",
            "34/34 - 0s - loss: 5961.6680 - mae: 5961.6680\n",
            "Epoch 471/1000\n",
            "34/34 - 0s - loss: 5997.3027 - mae: 5997.3027\n",
            "Epoch 472/1000\n",
            "34/34 - 0s - loss: 5981.8477 - mae: 5981.8477\n",
            "Epoch 473/1000\n",
            "34/34 - 0s - loss: 6497.6099 - mae: 6497.6099\n",
            "Epoch 474/1000\n",
            "34/34 - 0s - loss: 6155.7515 - mae: 6155.7515\n",
            "Epoch 475/1000\n",
            "34/34 - 0s - loss: 6057.4907 - mae: 6057.4907\n",
            "Epoch 476/1000\n",
            "34/34 - 0s - loss: 6340.9121 - mae: 6340.9121\n",
            "Epoch 477/1000\n",
            "34/34 - 0s - loss: 6198.9136 - mae: 6198.9136\n",
            "Epoch 478/1000\n",
            "34/34 - 0s - loss: 6066.9482 - mae: 6066.9482\n",
            "Epoch 479/1000\n",
            "34/34 - 0s - loss: 6159.9634 - mae: 6159.9634\n",
            "Epoch 480/1000\n",
            "34/34 - 0s - loss: 6170.2002 - mae: 6170.2002\n",
            "Epoch 481/1000\n",
            "34/34 - 0s - loss: 6334.7402 - mae: 6334.7402\n",
            "Epoch 482/1000\n",
            "34/34 - 0s - loss: 6107.0977 - mae: 6107.0977\n",
            "Epoch 483/1000\n",
            "34/34 - 0s - loss: 6190.2119 - mae: 6190.2119\n",
            "Epoch 484/1000\n",
            "34/34 - 0s - loss: 6282.5513 - mae: 6282.5513\n",
            "Epoch 485/1000\n",
            "34/34 - 0s - loss: 6090.2031 - mae: 6090.2031\n",
            "Epoch 486/1000\n",
            "34/34 - 0s - loss: 5863.6104 - mae: 5863.6104\n",
            "Epoch 487/1000\n",
            "34/34 - 0s - loss: 6118.0659 - mae: 6118.0659\n",
            "Epoch 488/1000\n",
            "34/34 - 0s - loss: 5786.1289 - mae: 5786.1289\n",
            "Epoch 489/1000\n",
            "34/34 - 0s - loss: 6480.7227 - mae: 6480.7227\n",
            "Epoch 490/1000\n",
            "34/34 - 0s - loss: 6756.5947 - mae: 6756.5947\n",
            "Epoch 491/1000\n",
            "34/34 - 0s - loss: 6008.2710 - mae: 6008.2710\n",
            "Epoch 492/1000\n",
            "34/34 - 0s - loss: 6412.8477 - mae: 6412.8477\n",
            "Epoch 493/1000\n",
            "34/34 - 0s - loss: 6096.8550 - mae: 6096.8550\n",
            "Epoch 494/1000\n",
            "34/34 - 0s - loss: 5974.0122 - mae: 5974.0122\n",
            "Epoch 495/1000\n",
            "34/34 - 0s - loss: 5985.1562 - mae: 5985.1562\n",
            "Epoch 496/1000\n",
            "34/34 - 0s - loss: 6150.0083 - mae: 6150.0083\n",
            "Epoch 497/1000\n",
            "34/34 - 0s - loss: 6283.3696 - mae: 6283.3696\n",
            "Epoch 498/1000\n",
            "34/34 - 0s - loss: 6259.0952 - mae: 6259.0952\n",
            "Epoch 499/1000\n",
            "34/34 - 0s - loss: 6092.0161 - mae: 6092.0161\n",
            "Epoch 500/1000\n",
            "34/34 - 0s - loss: 6350.7969 - mae: 6350.7969\n",
            "Epoch 501/1000\n",
            "34/34 - 0s - loss: 5879.0356 - mae: 5879.0356\n",
            "Epoch 502/1000\n",
            "34/34 - 0s - loss: 5875.1636 - mae: 5875.1636\n",
            "Epoch 503/1000\n",
            "34/34 - 0s - loss: 6040.5923 - mae: 6040.5923\n",
            "Epoch 504/1000\n",
            "34/34 - 0s - loss: 5701.9365 - mae: 5701.9365\n",
            "Epoch 505/1000\n",
            "34/34 - 0s - loss: 5967.3018 - mae: 5967.3018\n",
            "Epoch 506/1000\n",
            "34/34 - 0s - loss: 6154.8916 - mae: 6154.8916\n",
            "Epoch 507/1000\n",
            "34/34 - 0s - loss: 6080.1807 - mae: 6080.1807\n",
            "Epoch 508/1000\n",
            "34/34 - 0s - loss: 5838.7715 - mae: 5838.7715\n",
            "Epoch 509/1000\n",
            "34/34 - 0s - loss: 6349.0205 - mae: 6349.0205\n",
            "Epoch 510/1000\n",
            "34/34 - 0s - loss: 6044.1294 - mae: 6044.1294\n",
            "Epoch 511/1000\n",
            "34/34 - 0s - loss: 6347.3521 - mae: 6347.3521\n",
            "Epoch 512/1000\n",
            "34/34 - 0s - loss: 6270.3730 - mae: 6270.3730\n",
            "Epoch 513/1000\n",
            "34/34 - 0s - loss: 5753.9390 - mae: 5753.9390\n",
            "Epoch 514/1000\n",
            "34/34 - 0s - loss: 6319.7852 - mae: 6319.7852\n",
            "Epoch 515/1000\n",
            "34/34 - 0s - loss: 6187.3418 - mae: 6187.3418\n",
            "Epoch 516/1000\n",
            "34/34 - 0s - loss: 6249.0269 - mae: 6249.0269\n",
            "Epoch 517/1000\n",
            "34/34 - 0s - loss: 5713.4424 - mae: 5713.4424\n",
            "Epoch 518/1000\n",
            "34/34 - 0s - loss: 5965.8540 - mae: 5965.8540\n",
            "Epoch 519/1000\n",
            "34/34 - 0s - loss: 6118.7324 - mae: 6118.7324\n",
            "Epoch 520/1000\n",
            "34/34 - 0s - loss: 5732.7480 - mae: 5732.7480\n",
            "Epoch 521/1000\n",
            "34/34 - 0s - loss: 6113.5083 - mae: 6113.5083\n",
            "Epoch 522/1000\n",
            "34/34 - 0s - loss: 5711.0132 - mae: 5711.0132\n",
            "Epoch 523/1000\n",
            "34/34 - 0s - loss: 5943.0303 - mae: 5943.0303\n",
            "Epoch 524/1000\n",
            "34/34 - 0s - loss: 6095.7026 - mae: 6095.7026\n",
            "Epoch 525/1000\n",
            "34/34 - 0s - loss: 5779.2017 - mae: 5779.2017\n",
            "Epoch 526/1000\n",
            "34/34 - 0s - loss: 5768.4360 - mae: 5768.4360\n",
            "Epoch 527/1000\n",
            "34/34 - 0s - loss: 5837.9136 - mae: 5837.9136\n",
            "Epoch 528/1000\n",
            "34/34 - 0s - loss: 6137.1562 - mae: 6137.1562\n",
            "Epoch 529/1000\n",
            "34/34 - 0s - loss: 5948.9780 - mae: 5948.9780\n",
            "Epoch 530/1000\n",
            "34/34 - 0s - loss: 6026.9146 - mae: 6026.9146\n",
            "Epoch 531/1000\n",
            "34/34 - 0s - loss: 6041.2744 - mae: 6041.2744\n",
            "Epoch 532/1000\n",
            "34/34 - 0s - loss: 5915.8398 - mae: 5915.8398\n",
            "Epoch 533/1000\n",
            "34/34 - 0s - loss: 5842.2178 - mae: 5842.2178\n",
            "Epoch 534/1000\n",
            "34/34 - 0s - loss: 5472.8843 - mae: 5472.8843\n",
            "Epoch 535/1000\n",
            "34/34 - 0s - loss: 5953.8472 - mae: 5953.8472\n",
            "Epoch 536/1000\n",
            "34/34 - 0s - loss: 5895.2588 - mae: 5895.2588\n",
            "Epoch 537/1000\n",
            "34/34 - 0s - loss: 5524.7920 - mae: 5524.7920\n",
            "Epoch 538/1000\n",
            "34/34 - 0s - loss: 6121.1118 - mae: 6121.1118\n",
            "Epoch 539/1000\n",
            "34/34 - 0s - loss: 5976.4053 - mae: 5976.4053\n",
            "Epoch 540/1000\n",
            "34/34 - 0s - loss: 6061.0659 - mae: 6061.0659\n",
            "Epoch 541/1000\n",
            "34/34 - 0s - loss: 5840.7480 - mae: 5840.7480\n",
            "Epoch 542/1000\n",
            "34/34 - 0s - loss: 5998.4814 - mae: 5998.4814\n",
            "Epoch 543/1000\n",
            "34/34 - 0s - loss: 5916.7163 - mae: 5916.7163\n",
            "Epoch 544/1000\n",
            "34/34 - 0s - loss: 5896.1934 - mae: 5896.1934\n",
            "Epoch 545/1000\n",
            "34/34 - 0s - loss: 6184.9233 - mae: 6184.9233\n",
            "Epoch 546/1000\n",
            "34/34 - 0s - loss: 5830.9497 - mae: 5830.9497\n",
            "Epoch 547/1000\n",
            "34/34 - 0s - loss: 5842.4609 - mae: 5842.4609\n",
            "Epoch 548/1000\n",
            "34/34 - 0s - loss: 6120.5161 - mae: 6120.5161\n",
            "Epoch 549/1000\n",
            "34/34 - 0s - loss: 6015.8345 - mae: 6015.8345\n",
            "Epoch 550/1000\n",
            "34/34 - 0s - loss: 6520.8496 - mae: 6520.8496\n",
            "Epoch 551/1000\n",
            "34/34 - 0s - loss: 5471.6060 - mae: 5471.6060\n",
            "Epoch 552/1000\n",
            "34/34 - 0s - loss: 5820.9868 - mae: 5820.9868\n",
            "Epoch 553/1000\n",
            "34/34 - 0s - loss: 6354.4468 - mae: 6354.4468\n",
            "Epoch 554/1000\n",
            "34/34 - 0s - loss: 5965.5112 - mae: 5965.5112\n",
            "Epoch 555/1000\n",
            "34/34 - 0s - loss: 5976.5527 - mae: 5976.5527\n",
            "Epoch 556/1000\n",
            "34/34 - 0s - loss: 5633.9741 - mae: 5633.9741\n",
            "Epoch 557/1000\n",
            "34/34 - 0s - loss: 5650.5894 - mae: 5650.5894\n",
            "Epoch 558/1000\n",
            "34/34 - 0s - loss: 5999.8340 - mae: 5999.8340\n",
            "Epoch 559/1000\n",
            "34/34 - 0s - loss: 6151.8931 - mae: 6151.8931\n",
            "Epoch 560/1000\n",
            "34/34 - 0s - loss: 5869.1475 - mae: 5869.1475\n",
            "Epoch 561/1000\n",
            "34/34 - 0s - loss: 5957.4927 - mae: 5957.4927\n",
            "Epoch 562/1000\n",
            "34/34 - 0s - loss: 5958.0771 - mae: 5958.0771\n",
            "Epoch 563/1000\n",
            "34/34 - 0s - loss: 5726.5308 - mae: 5726.5308\n",
            "Epoch 564/1000\n",
            "34/34 - 0s - loss: 5966.9897 - mae: 5966.9897\n",
            "Epoch 565/1000\n",
            "34/34 - 0s - loss: 6273.7080 - mae: 6273.7080\n",
            "Epoch 566/1000\n",
            "34/34 - 0s - loss: 6043.4072 - mae: 6043.4072\n",
            "Epoch 567/1000\n",
            "34/34 - 0s - loss: 6006.7207 - mae: 6006.7207\n",
            "Epoch 568/1000\n",
            "34/34 - 0s - loss: 6058.0015 - mae: 6058.0015\n",
            "Epoch 569/1000\n",
            "34/34 - 0s - loss: 5623.7920 - mae: 5623.7920\n",
            "Epoch 570/1000\n",
            "34/34 - 0s - loss: 5807.8232 - mae: 5807.8232\n",
            "Epoch 571/1000\n",
            "34/34 - 0s - loss: 6394.0034 - mae: 6394.0034\n",
            "Epoch 572/1000\n",
            "34/34 - 0s - loss: 6009.0928 - mae: 6009.0928\n",
            "Epoch 573/1000\n",
            "34/34 - 0s - loss: 5855.8062 - mae: 5855.8062\n",
            "Epoch 574/1000\n",
            "34/34 - 0s - loss: 6220.7295 - mae: 6220.7295\n",
            "Epoch 575/1000\n",
            "34/34 - 0s - loss: 6110.9346 - mae: 6110.9346\n",
            "Epoch 576/1000\n",
            "34/34 - 0s - loss: 5864.8477 - mae: 5864.8477\n",
            "Epoch 577/1000\n",
            "34/34 - 0s - loss: 5764.0879 - mae: 5764.0879\n",
            "Epoch 578/1000\n",
            "34/34 - 0s - loss: 6096.4155 - mae: 6096.4155\n",
            "Epoch 579/1000\n",
            "34/34 - 0s - loss: 6017.0923 - mae: 6017.0923\n",
            "Epoch 580/1000\n",
            "34/34 - 0s - loss: 5892.7788 - mae: 5892.7788\n",
            "Epoch 581/1000\n",
            "34/34 - 0s - loss: 5871.6313 - mae: 5871.6313\n",
            "Epoch 582/1000\n",
            "34/34 - 0s - loss: 6361.4521 - mae: 6361.4521\n",
            "Epoch 583/1000\n",
            "34/34 - 0s - loss: 5713.2539 - mae: 5713.2539\n",
            "Epoch 584/1000\n",
            "34/34 - 0s - loss: 5842.0371 - mae: 5842.0371\n",
            "Epoch 585/1000\n",
            "34/34 - 0s - loss: 6277.9492 - mae: 6277.9492\n",
            "Epoch 586/1000\n",
            "34/34 - 0s - loss: 6396.3550 - mae: 6396.3550\n",
            "Epoch 587/1000\n",
            "34/34 - 0s - loss: 5713.6113 - mae: 5713.6113\n",
            "Epoch 588/1000\n",
            "34/34 - 0s - loss: 5762.9873 - mae: 5762.9873\n",
            "Epoch 589/1000\n",
            "34/34 - 0s - loss: 6037.3228 - mae: 6037.3228\n",
            "Epoch 590/1000\n",
            "34/34 - 0s - loss: 6020.1392 - mae: 6020.1392\n",
            "Epoch 591/1000\n",
            "34/34 - 0s - loss: 5989.2271 - mae: 5989.2271\n",
            "Epoch 592/1000\n",
            "34/34 - 0s - loss: 5693.9116 - mae: 5693.9116\n",
            "Epoch 593/1000\n",
            "34/34 - 0s - loss: 6061.4692 - mae: 6061.4692\n",
            "Epoch 594/1000\n",
            "34/34 - 0s - loss: 5440.0381 - mae: 5440.0381\n",
            "Epoch 595/1000\n",
            "34/34 - 0s - loss: 5666.0635 - mae: 5666.0635\n",
            "Epoch 596/1000\n",
            "34/34 - 0s - loss: 5825.6094 - mae: 5825.6094\n",
            "Epoch 597/1000\n",
            "34/34 - 0s - loss: 6169.9688 - mae: 6169.9688\n",
            "Epoch 598/1000\n",
            "34/34 - 0s - loss: 5594.0303 - mae: 5594.0303\n",
            "Epoch 599/1000\n",
            "34/34 - 0s - loss: 5922.9800 - mae: 5922.9800\n",
            "Epoch 600/1000\n",
            "34/34 - 0s - loss: 5782.5376 - mae: 5782.5376\n",
            "Epoch 601/1000\n",
            "34/34 - 0s - loss: 5484.3945 - mae: 5484.3945\n",
            "Epoch 602/1000\n",
            "34/34 - 0s - loss: 5495.6309 - mae: 5495.6309\n",
            "Epoch 603/1000\n",
            "34/34 - 0s - loss: 6087.7524 - mae: 6087.7524\n",
            "Epoch 604/1000\n",
            "34/34 - 0s - loss: 5743.8584 - mae: 5743.8584\n",
            "Epoch 605/1000\n",
            "34/34 - 0s - loss: 5730.1431 - mae: 5730.1431\n",
            "Epoch 606/1000\n",
            "34/34 - 0s - loss: 5436.4272 - mae: 5436.4272\n",
            "Epoch 607/1000\n",
            "34/34 - 0s - loss: 5787.4937 - mae: 5787.4937\n",
            "Epoch 608/1000\n",
            "34/34 - 0s - loss: 6138.0000 - mae: 6138.0000\n",
            "Epoch 609/1000\n",
            "34/34 - 0s - loss: 5815.5781 - mae: 5815.5781\n",
            "Epoch 610/1000\n",
            "34/34 - 0s - loss: 5750.5938 - mae: 5750.5938\n",
            "Epoch 611/1000\n",
            "34/34 - 0s - loss: 6335.3457 - mae: 6335.3457\n",
            "Epoch 612/1000\n",
            "34/34 - 0s - loss: 6306.6387 - mae: 6306.6387\n",
            "Epoch 613/1000\n",
            "34/34 - 0s - loss: 6077.9419 - mae: 6077.9419\n",
            "Epoch 614/1000\n",
            "34/34 - 0s - loss: 5863.5806 - mae: 5863.5806\n",
            "Epoch 615/1000\n",
            "34/34 - 0s - loss: 6003.3032 - mae: 6003.3032\n",
            "Epoch 616/1000\n",
            "34/34 - 0s - loss: 6131.2886 - mae: 6131.2886\n",
            "Epoch 617/1000\n",
            "34/34 - 0s - loss: 5851.1069 - mae: 5851.1069\n",
            "Epoch 618/1000\n",
            "34/34 - 0s - loss: 6041.9160 - mae: 6041.9160\n",
            "Epoch 619/1000\n",
            "34/34 - 0s - loss: 5869.6655 - mae: 5869.6655\n",
            "Epoch 620/1000\n",
            "34/34 - 0s - loss: 5560.0205 - mae: 5560.0205\n",
            "Epoch 621/1000\n",
            "34/34 - 0s - loss: 5620.2441 - mae: 5620.2441\n",
            "Epoch 622/1000\n",
            "34/34 - 0s - loss: 5666.9785 - mae: 5666.9785\n",
            "Epoch 623/1000\n",
            "34/34 - 0s - loss: 5714.4585 - mae: 5714.4585\n",
            "Epoch 624/1000\n",
            "34/34 - 0s - loss: 5865.0415 - mae: 5865.0415\n",
            "Epoch 625/1000\n",
            "34/34 - 0s - loss: 5844.5142 - mae: 5844.5142\n",
            "Epoch 626/1000\n",
            "34/34 - 0s - loss: 6187.6401 - mae: 6187.6401\n",
            "Epoch 627/1000\n",
            "34/34 - 0s - loss: 5916.7559 - mae: 5916.7559\n",
            "Epoch 628/1000\n",
            "34/34 - 0s - loss: 5883.3828 - mae: 5883.3828\n",
            "Epoch 629/1000\n",
            "34/34 - 0s - loss: 5770.7070 - mae: 5770.7070\n",
            "Epoch 630/1000\n",
            "34/34 - 0s - loss: 5718.9326 - mae: 5718.9326\n",
            "Epoch 631/1000\n",
            "34/34 - 0s - loss: 5840.5054 - mae: 5840.5054\n",
            "Epoch 632/1000\n",
            "34/34 - 0s - loss: 6139.4365 - mae: 6139.4365\n",
            "Epoch 633/1000\n",
            "34/34 - 0s - loss: 5607.3652 - mae: 5607.3652\n",
            "Epoch 634/1000\n",
            "34/34 - 0s - loss: 5948.4321 - mae: 5948.4321\n",
            "Epoch 635/1000\n",
            "34/34 - 0s - loss: 5662.7686 - mae: 5662.7686\n",
            "Epoch 636/1000\n",
            "34/34 - 0s - loss: 6115.9194 - mae: 6115.9194\n",
            "Epoch 637/1000\n",
            "34/34 - 0s - loss: 5948.5161 - mae: 5948.5161\n",
            "Epoch 638/1000\n",
            "34/34 - 0s - loss: 5765.6870 - mae: 5765.6870\n",
            "Epoch 639/1000\n",
            "34/34 - 0s - loss: 5589.3975 - mae: 5589.3975\n",
            "Epoch 640/1000\n",
            "34/34 - 0s - loss: 5653.2954 - mae: 5653.2954\n",
            "Epoch 641/1000\n",
            "34/34 - 0s - loss: 5849.2222 - mae: 5849.2222\n",
            "Epoch 642/1000\n",
            "34/34 - 0s - loss: 5985.8984 - mae: 5985.8984\n",
            "Epoch 643/1000\n",
            "34/34 - 0s - loss: 5506.0923 - mae: 5506.0923\n",
            "Epoch 644/1000\n",
            "34/34 - 0s - loss: 5272.7637 - mae: 5272.7637\n",
            "Epoch 645/1000\n",
            "34/34 - 0s - loss: 6087.3062 - mae: 6087.3062\n",
            "Epoch 646/1000\n",
            "34/34 - 0s - loss: 5451.1362 - mae: 5451.1362\n",
            "Epoch 647/1000\n",
            "34/34 - 0s - loss: 5596.1802 - mae: 5596.1802\n",
            "Epoch 648/1000\n",
            "34/34 - 0s - loss: 5739.6353 - mae: 5739.6353\n",
            "Epoch 649/1000\n",
            "34/34 - 0s - loss: 5760.3672 - mae: 5760.3672\n",
            "Epoch 650/1000\n",
            "34/34 - 0s - loss: 5550.4634 - mae: 5550.4634\n",
            "Epoch 651/1000\n",
            "34/34 - 0s - loss: 5594.1543 - mae: 5594.1543\n",
            "Epoch 652/1000\n",
            "34/34 - 0s - loss: 5977.3062 - mae: 5977.3062\n",
            "Epoch 653/1000\n",
            "34/34 - 0s - loss: 6027.6191 - mae: 6027.6191\n",
            "Epoch 654/1000\n",
            "34/34 - 0s - loss: 5567.7393 - mae: 5567.7393\n",
            "Epoch 655/1000\n",
            "34/34 - 0s - loss: 5196.8330 - mae: 5196.8330\n",
            "Epoch 656/1000\n",
            "34/34 - 0s - loss: 5588.3579 - mae: 5588.3579\n",
            "Epoch 657/1000\n",
            "34/34 - 0s - loss: 5729.7710 - mae: 5729.7710\n",
            "Epoch 658/1000\n",
            "34/34 - 0s - loss: 5513.2485 - mae: 5513.2485\n",
            "Epoch 659/1000\n",
            "34/34 - 0s - loss: 5581.1372 - mae: 5581.1372\n",
            "Epoch 660/1000\n",
            "34/34 - 0s - loss: 5790.6890 - mae: 5790.6890\n",
            "Epoch 661/1000\n",
            "34/34 - 0s - loss: 5759.7197 - mae: 5759.7197\n",
            "Epoch 662/1000\n",
            "34/34 - 0s - loss: 5823.2432 - mae: 5823.2432\n",
            "Epoch 663/1000\n",
            "34/34 - 0s - loss: 5652.5757 - mae: 5652.5757\n",
            "Epoch 664/1000\n",
            "34/34 - 0s - loss: 5773.8730 - mae: 5773.8730\n",
            "Epoch 665/1000\n",
            "34/34 - 0s - loss: 5690.6719 - mae: 5690.6719\n",
            "Epoch 666/1000\n",
            "34/34 - 0s - loss: 5524.2778 - mae: 5524.2778\n",
            "Epoch 667/1000\n",
            "34/34 - 0s - loss: 5338.1069 - mae: 5338.1069\n",
            "Epoch 668/1000\n",
            "34/34 - 0s - loss: 5762.6553 - mae: 5762.6553\n",
            "Epoch 669/1000\n",
            "34/34 - 0s - loss: 5458.8823 - mae: 5458.8823\n",
            "Epoch 670/1000\n",
            "34/34 - 0s - loss: 5439.3501 - mae: 5439.3501\n",
            "Epoch 671/1000\n",
            "34/34 - 0s - loss: 6154.7769 - mae: 6154.7769\n",
            "Epoch 672/1000\n",
            "34/34 - 0s - loss: 5584.3892 - mae: 5584.3892\n",
            "Epoch 673/1000\n",
            "34/34 - 0s - loss: 6171.1255 - mae: 6171.1255\n",
            "Epoch 674/1000\n",
            "34/34 - 0s - loss: 5898.9658 - mae: 5898.9658\n",
            "Epoch 675/1000\n",
            "34/34 - 0s - loss: 5730.4233 - mae: 5730.4233\n",
            "Epoch 676/1000\n",
            "34/34 - 0s - loss: 5582.7993 - mae: 5582.7993\n",
            "Epoch 677/1000\n",
            "34/34 - 0s - loss: 5469.9365 - mae: 5469.9365\n",
            "Epoch 678/1000\n",
            "34/34 - 0s - loss: 5863.1406 - mae: 5863.1406\n",
            "Epoch 679/1000\n",
            "34/34 - 0s - loss: 5375.0557 - mae: 5375.0557\n",
            "Epoch 680/1000\n",
            "34/34 - 0s - loss: 5678.5381 - mae: 5678.5381\n",
            "Epoch 681/1000\n",
            "34/34 - 0s - loss: 5530.3140 - mae: 5530.3140\n",
            "Epoch 682/1000\n",
            "34/34 - 0s - loss: 5188.0122 - mae: 5188.0122\n",
            "Epoch 683/1000\n",
            "34/34 - 0s - loss: 5274.7500 - mae: 5274.7500\n",
            "Epoch 684/1000\n",
            "34/34 - 0s - loss: 5636.0659 - mae: 5636.0659\n",
            "Epoch 685/1000\n",
            "34/34 - 0s - loss: 5751.8403 - mae: 5751.8403\n",
            "Epoch 686/1000\n",
            "34/34 - 0s - loss: 5625.0566 - mae: 5625.0566\n",
            "Epoch 687/1000\n",
            "34/34 - 0s - loss: 5508.8115 - mae: 5508.8115\n",
            "Epoch 688/1000\n",
            "34/34 - 0s - loss: 6339.2744 - mae: 6339.2744\n",
            "Epoch 689/1000\n",
            "34/34 - 0s - loss: 5798.0684 - mae: 5798.0684\n",
            "Epoch 690/1000\n",
            "34/34 - 0s - loss: 5714.6753 - mae: 5714.6753\n",
            "Epoch 691/1000\n",
            "34/34 - 0s - loss: 5723.9854 - mae: 5723.9854\n",
            "Epoch 692/1000\n",
            "34/34 - 0s - loss: 5709.5015 - mae: 5709.5015\n",
            "Epoch 693/1000\n",
            "34/34 - 0s - loss: 5720.1631 - mae: 5720.1631\n",
            "Epoch 694/1000\n",
            "34/34 - 0s - loss: 5728.9395 - mae: 5728.9395\n",
            "Epoch 695/1000\n",
            "34/34 - 0s - loss: 5403.5400 - mae: 5403.5400\n",
            "Epoch 696/1000\n",
            "34/34 - 0s - loss: 5820.4741 - mae: 5820.4741\n",
            "Epoch 697/1000\n",
            "34/34 - 0s - loss: 5702.2866 - mae: 5702.2866\n",
            "Epoch 698/1000\n",
            "34/34 - 0s - loss: 5492.0542 - mae: 5492.0542\n",
            "Epoch 699/1000\n",
            "34/34 - 0s - loss: 5645.4419 - mae: 5645.4419\n",
            "Epoch 700/1000\n",
            "34/34 - 0s - loss: 6024.7612 - mae: 6024.7612\n",
            "Epoch 701/1000\n",
            "34/34 - 0s - loss: 5674.8164 - mae: 5674.8164\n",
            "Epoch 702/1000\n",
            "34/34 - 0s - loss: 5547.6816 - mae: 5547.6816\n",
            "Epoch 703/1000\n",
            "34/34 - 0s - loss: 5529.9263 - mae: 5529.9263\n",
            "Epoch 704/1000\n",
            "34/34 - 0s - loss: 5269.5381 - mae: 5269.5381\n",
            "Epoch 705/1000\n",
            "34/34 - 0s - loss: 5569.5596 - mae: 5569.5596\n",
            "Epoch 706/1000\n",
            "34/34 - 0s - loss: 5789.2534 - mae: 5789.2534\n",
            "Epoch 707/1000\n",
            "34/34 - 0s - loss: 5453.5103 - mae: 5453.5103\n",
            "Epoch 708/1000\n",
            "34/34 - 0s - loss: 5603.3677 - mae: 5603.3677\n",
            "Epoch 709/1000\n",
            "34/34 - 0s - loss: 5702.3208 - mae: 5702.3208\n",
            "Epoch 710/1000\n",
            "34/34 - 0s - loss: 5720.8169 - mae: 5720.8169\n",
            "Epoch 711/1000\n",
            "34/34 - 0s - loss: 5723.8198 - mae: 5723.8198\n",
            "Epoch 712/1000\n",
            "34/34 - 0s - loss: 5609.2715 - mae: 5609.2715\n",
            "Epoch 713/1000\n",
            "34/34 - 0s - loss: 5281.0303 - mae: 5281.0303\n",
            "Epoch 714/1000\n",
            "34/34 - 0s - loss: 5828.4351 - mae: 5828.4351\n",
            "Epoch 715/1000\n",
            "34/34 - 0s - loss: 5848.2627 - mae: 5848.2627\n",
            "Epoch 716/1000\n",
            "34/34 - 0s - loss: 5509.7432 - mae: 5509.7432\n",
            "Epoch 717/1000\n",
            "34/34 - 0s - loss: 5891.8203 - mae: 5891.8203\n",
            "Epoch 718/1000\n",
            "34/34 - 0s - loss: 5536.4565 - mae: 5536.4565\n",
            "Epoch 719/1000\n",
            "34/34 - 0s - loss: 5541.4116 - mae: 5541.4116\n",
            "Epoch 720/1000\n",
            "34/34 - 0s - loss: 5454.0127 - mae: 5454.0127\n",
            "Epoch 721/1000\n",
            "34/34 - 0s - loss: 5509.1313 - mae: 5509.1313\n",
            "Epoch 722/1000\n",
            "34/34 - 0s - loss: 6113.8657 - mae: 6113.8657\n",
            "Epoch 723/1000\n",
            "34/34 - 0s - loss: 5833.7881 - mae: 5833.7881\n",
            "Epoch 724/1000\n",
            "34/34 - 0s - loss: 5589.7744 - mae: 5589.7744\n",
            "Epoch 725/1000\n",
            "34/34 - 0s - loss: 5006.1562 - mae: 5006.1562\n",
            "Epoch 726/1000\n",
            "34/34 - 0s - loss: 5156.1782 - mae: 5156.1782\n",
            "Epoch 727/1000\n",
            "34/34 - 0s - loss: 5600.7354 - mae: 5600.7354\n",
            "Epoch 728/1000\n",
            "34/34 - 0s - loss: 5990.9888 - mae: 5990.9888\n",
            "Epoch 729/1000\n",
            "34/34 - 0s - loss: 5222.2280 - mae: 5222.2280\n",
            "Epoch 730/1000\n",
            "34/34 - 0s - loss: 5443.7529 - mae: 5443.7529\n",
            "Epoch 731/1000\n",
            "34/34 - 0s - loss: 5911.9590 - mae: 5911.9590\n",
            "Epoch 732/1000\n",
            "34/34 - 0s - loss: 5385.9736 - mae: 5385.9736\n",
            "Epoch 733/1000\n",
            "34/34 - 0s - loss: 5286.3931 - mae: 5286.3931\n",
            "Epoch 734/1000\n",
            "34/34 - 0s - loss: 5620.7407 - mae: 5620.7407\n",
            "Epoch 735/1000\n",
            "34/34 - 0s - loss: 5759.0762 - mae: 5759.0762\n",
            "Epoch 736/1000\n",
            "34/34 - 0s - loss: 5692.8599 - mae: 5692.8599\n",
            "Epoch 737/1000\n",
            "34/34 - 0s - loss: 5521.9844 - mae: 5521.9844\n",
            "Epoch 738/1000\n",
            "34/34 - 0s - loss: 5745.8857 - mae: 5745.8857\n",
            "Epoch 739/1000\n",
            "34/34 - 0s - loss: 5550.0996 - mae: 5550.0996\n",
            "Epoch 740/1000\n",
            "34/34 - 0s - loss: 5559.5684 - mae: 5559.5684\n",
            "Epoch 741/1000\n",
            "34/34 - 0s - loss: 5337.0649 - mae: 5337.0649\n",
            "Epoch 742/1000\n",
            "34/34 - 0s - loss: 5910.3701 - mae: 5910.3701\n",
            "Epoch 743/1000\n",
            "34/34 - 0s - loss: 5583.9854 - mae: 5583.9854\n",
            "Epoch 744/1000\n",
            "34/34 - 0s - loss: 5808.6846 - mae: 5808.6846\n",
            "Epoch 745/1000\n",
            "34/34 - 0s - loss: 5828.6455 - mae: 5828.6455\n",
            "Epoch 746/1000\n",
            "34/34 - 0s - loss: 5548.1323 - mae: 5548.1323\n",
            "Epoch 747/1000\n",
            "34/34 - 0s - loss: 5682.2739 - mae: 5682.2739\n",
            "Epoch 748/1000\n",
            "34/34 - 0s - loss: 5949.2168 - mae: 5949.2168\n",
            "Epoch 749/1000\n",
            "34/34 - 0s - loss: 5549.2476 - mae: 5549.2476\n",
            "Epoch 750/1000\n",
            "34/34 - 0s - loss: 5253.0342 - mae: 5253.0342\n",
            "Epoch 751/1000\n",
            "34/34 - 0s - loss: 5215.0815 - mae: 5215.0815\n",
            "Epoch 752/1000\n",
            "34/34 - 0s - loss: 4977.7969 - mae: 4977.7969\n",
            "Epoch 753/1000\n",
            "34/34 - 0s - loss: 5782.2671 - mae: 5782.2671\n",
            "Epoch 754/1000\n",
            "34/34 - 0s - loss: 5730.9565 - mae: 5730.9565\n",
            "Epoch 755/1000\n",
            "34/34 - 0s - loss: 5625.4268 - mae: 5625.4268\n",
            "Epoch 756/1000\n",
            "34/34 - 0s - loss: 5461.6724 - mae: 5461.6724\n",
            "Epoch 757/1000\n",
            "34/34 - 0s - loss: 5381.6216 - mae: 5381.6216\n",
            "Epoch 758/1000\n",
            "34/34 - 0s - loss: 5863.4707 - mae: 5863.4707\n",
            "Epoch 759/1000\n",
            "34/34 - 0s - loss: 5555.1060 - mae: 5555.1060\n",
            "Epoch 760/1000\n",
            "34/34 - 0s - loss: 5190.5845 - mae: 5190.5845\n",
            "Epoch 761/1000\n",
            "34/34 - 0s - loss: 5275.0859 - mae: 5275.0859\n",
            "Epoch 762/1000\n",
            "34/34 - 0s - loss: 5572.0645 - mae: 5572.0645\n",
            "Epoch 763/1000\n",
            "34/34 - 0s - loss: 5724.5732 - mae: 5724.5732\n",
            "Epoch 764/1000\n",
            "34/34 - 0s - loss: 5560.4746 - mae: 5560.4746\n",
            "Epoch 765/1000\n",
            "34/34 - 0s - loss: 5585.1270 - mae: 5585.1270\n",
            "Epoch 766/1000\n",
            "34/34 - 0s - loss: 5655.9043 - mae: 5655.9043\n",
            "Epoch 767/1000\n",
            "34/34 - 0s - loss: 5589.3545 - mae: 5589.3545\n",
            "Epoch 768/1000\n",
            "34/34 - 0s - loss: 5523.5605 - mae: 5523.5605\n",
            "Epoch 769/1000\n",
            "34/34 - 0s - loss: 5314.1812 - mae: 5314.1812\n",
            "Epoch 770/1000\n",
            "34/34 - 0s - loss: 5565.2773 - mae: 5565.2773\n",
            "Epoch 771/1000\n",
            "34/34 - 0s - loss: 5630.1772 - mae: 5630.1772\n",
            "Epoch 772/1000\n",
            "34/34 - 0s - loss: 5304.0474 - mae: 5304.0474\n",
            "Epoch 773/1000\n",
            "34/34 - 0s - loss: 5263.5083 - mae: 5263.5083\n",
            "Epoch 774/1000\n",
            "34/34 - 0s - loss: 5309.8452 - mae: 5309.8452\n",
            "Epoch 775/1000\n",
            "34/34 - 0s - loss: 5840.7144 - mae: 5840.7144\n",
            "Epoch 776/1000\n",
            "34/34 - 0s - loss: 5503.4561 - mae: 5503.4561\n",
            "Epoch 777/1000\n",
            "34/34 - 0s - loss: 5673.4521 - mae: 5673.4521\n",
            "Epoch 778/1000\n",
            "34/34 - 0s - loss: 5805.1685 - mae: 5805.1685\n",
            "Epoch 779/1000\n",
            "34/34 - 0s - loss: 5410.8818 - mae: 5410.8818\n",
            "Epoch 780/1000\n",
            "34/34 - 0s - loss: 5414.5410 - mae: 5414.5410\n",
            "Epoch 781/1000\n",
            "34/34 - 0s - loss: 5490.2388 - mae: 5490.2388\n",
            "Epoch 782/1000\n",
            "34/34 - 0s - loss: 5662.0806 - mae: 5662.0806\n",
            "Epoch 783/1000\n",
            "34/34 - 0s - loss: 5456.3174 - mae: 5456.3174\n",
            "Epoch 784/1000\n",
            "34/34 - 0s - loss: 5225.7705 - mae: 5225.7705\n",
            "Epoch 785/1000\n",
            "34/34 - 0s - loss: 5734.2305 - mae: 5734.2305\n",
            "Epoch 786/1000\n",
            "34/34 - 0s - loss: 5407.2861 - mae: 5407.2861\n",
            "Epoch 787/1000\n",
            "34/34 - 0s - loss: 5510.3623 - mae: 5510.3623\n",
            "Epoch 788/1000\n",
            "34/34 - 0s - loss: 5604.0410 - mae: 5604.0410\n",
            "Epoch 789/1000\n",
            "34/34 - 0s - loss: 5238.0308 - mae: 5238.0308\n",
            "Epoch 790/1000\n",
            "34/34 - 0s - loss: 5254.3843 - mae: 5254.3843\n",
            "Epoch 791/1000\n",
            "34/34 - 0s - loss: 5705.5132 - mae: 5705.5132\n",
            "Epoch 792/1000\n",
            "34/34 - 0s - loss: 5522.2817 - mae: 5522.2817\n",
            "Epoch 793/1000\n",
            "34/34 - 0s - loss: 5172.3428 - mae: 5172.3428\n",
            "Epoch 794/1000\n",
            "34/34 - 0s - loss: 5406.3008 - mae: 5406.3008\n",
            "Epoch 795/1000\n",
            "34/34 - 0s - loss: 5852.3657 - mae: 5852.3657\n",
            "Epoch 796/1000\n",
            "34/34 - 0s - loss: 5829.0215 - mae: 5829.0215\n",
            "Epoch 797/1000\n",
            "34/34 - 0s - loss: 5393.2861 - mae: 5393.2861\n",
            "Epoch 798/1000\n",
            "34/34 - 0s - loss: 5393.0728 - mae: 5393.0728\n",
            "Epoch 799/1000\n",
            "34/34 - 0s - loss: 6066.5625 - mae: 6066.5625\n",
            "Epoch 800/1000\n",
            "34/34 - 0s - loss: 5377.0229 - mae: 5377.0229\n",
            "Epoch 801/1000\n",
            "34/34 - 0s - loss: 5817.5615 - mae: 5817.5615\n",
            "Epoch 802/1000\n",
            "34/34 - 0s - loss: 5382.0234 - mae: 5382.0234\n",
            "Epoch 803/1000\n",
            "34/34 - 0s - loss: 5711.5752 - mae: 5711.5752\n",
            "Epoch 804/1000\n",
            "34/34 - 0s - loss: 5396.8281 - mae: 5396.8281\n",
            "Epoch 805/1000\n",
            "34/34 - 0s - loss: 5164.6484 - mae: 5164.6484\n",
            "Epoch 806/1000\n",
            "34/34 - 0s - loss: 5607.4541 - mae: 5607.4541\n",
            "Epoch 807/1000\n",
            "34/34 - 0s - loss: 5563.4097 - mae: 5563.4097\n",
            "Epoch 808/1000\n",
            "34/34 - 0s - loss: 5603.4058 - mae: 5603.4058\n",
            "Epoch 809/1000\n",
            "34/34 - 0s - loss: 5683.1309 - mae: 5683.1309\n",
            "Epoch 810/1000\n",
            "34/34 - 0s - loss: 5465.7588 - mae: 5465.7588\n",
            "Epoch 811/1000\n",
            "34/34 - 0s - loss: 5605.1597 - mae: 5605.1597\n",
            "Epoch 812/1000\n",
            "34/34 - 0s - loss: 5598.8354 - mae: 5598.8354\n",
            "Epoch 813/1000\n",
            "34/34 - 0s - loss: 5516.4028 - mae: 5516.4028\n",
            "Epoch 814/1000\n",
            "34/34 - 0s - loss: 5593.2974 - mae: 5593.2974\n",
            "Epoch 815/1000\n",
            "34/34 - 0s - loss: 5612.2520 - mae: 5612.2520\n",
            "Epoch 816/1000\n",
            "34/34 - 0s - loss: 5951.4312 - mae: 5951.4312\n",
            "Epoch 817/1000\n",
            "34/34 - 0s - loss: 5504.9351 - mae: 5504.9351\n",
            "Epoch 818/1000\n",
            "34/34 - 0s - loss: 5758.7310 - mae: 5758.7314\n",
            "Epoch 819/1000\n",
            "34/34 - 0s - loss: 5797.3921 - mae: 5797.3921\n",
            "Epoch 820/1000\n",
            "34/34 - 0s - loss: 5312.6094 - mae: 5312.6094\n",
            "Epoch 821/1000\n",
            "34/34 - 0s - loss: 5385.1138 - mae: 5385.1138\n",
            "Epoch 822/1000\n",
            "34/34 - 0s - loss: 5333.4922 - mae: 5333.4922\n",
            "Epoch 823/1000\n",
            "34/34 - 0s - loss: 5369.4961 - mae: 5369.4961\n",
            "Epoch 824/1000\n",
            "34/34 - 0s - loss: 5908.5132 - mae: 5908.5132\n",
            "Epoch 825/1000\n",
            "34/34 - 0s - loss: 5674.8838 - mae: 5674.8838\n",
            "Epoch 826/1000\n",
            "34/34 - 0s - loss: 5046.0557 - mae: 5046.0557\n",
            "Epoch 827/1000\n",
            "34/34 - 0s - loss: 5702.7300 - mae: 5702.7300\n",
            "Epoch 828/1000\n",
            "34/34 - 0s - loss: 5599.3403 - mae: 5599.3403\n",
            "Epoch 829/1000\n",
            "34/34 - 0s - loss: 5591.4438 - mae: 5591.4438\n",
            "Epoch 830/1000\n",
            "34/34 - 0s - loss: 5664.7446 - mae: 5664.7446\n",
            "Epoch 831/1000\n",
            "34/34 - 0s - loss: 5326.8364 - mae: 5326.8364\n",
            "Epoch 832/1000\n",
            "34/34 - 0s - loss: 5719.8975 - mae: 5719.8975\n",
            "Epoch 833/1000\n",
            "34/34 - 0s - loss: 5209.2490 - mae: 5209.2490\n",
            "Epoch 834/1000\n",
            "34/34 - 0s - loss: 5627.1484 - mae: 5627.1484\n",
            "Epoch 835/1000\n",
            "34/34 - 0s - loss: 5665.0376 - mae: 5665.0376\n",
            "Epoch 836/1000\n",
            "34/34 - 0s - loss: 5371.9526 - mae: 5371.9526\n",
            "Epoch 837/1000\n",
            "34/34 - 0s - loss: 5230.1694 - mae: 5230.1694\n",
            "Epoch 838/1000\n",
            "34/34 - 0s - loss: 5365.5342 - mae: 5365.5342\n",
            "Epoch 839/1000\n",
            "34/34 - 0s - loss: 5126.4077 - mae: 5126.4077\n",
            "Epoch 840/1000\n",
            "34/34 - 0s - loss: 5346.3921 - mae: 5346.3921\n",
            "Epoch 841/1000\n",
            "34/34 - 0s - loss: 5676.8823 - mae: 5676.8823\n",
            "Epoch 842/1000\n",
            "34/34 - 0s - loss: 5510.7002 - mae: 5510.7002\n",
            "Epoch 843/1000\n",
            "34/34 - 0s - loss: 5443.2417 - mae: 5443.2417\n",
            "Epoch 844/1000\n",
            "34/34 - 0s - loss: 5506.7148 - mae: 5506.7148\n",
            "Epoch 845/1000\n",
            "34/34 - 0s - loss: 5318.6904 - mae: 5318.6904\n",
            "Epoch 846/1000\n",
            "34/34 - 0s - loss: 5120.8193 - mae: 5120.8193\n",
            "Epoch 847/1000\n",
            "34/34 - 0s - loss: 5541.8521 - mae: 5541.8521\n",
            "Epoch 848/1000\n",
            "34/34 - 0s - loss: 5766.8940 - mae: 5766.8940\n",
            "Epoch 849/1000\n",
            "34/34 - 0s - loss: 5497.9722 - mae: 5497.9722\n",
            "Epoch 850/1000\n",
            "34/34 - 0s - loss: 5458.4253 - mae: 5458.4253\n",
            "Epoch 851/1000\n",
            "34/34 - 0s - loss: 5015.5176 - mae: 5015.5176\n",
            "Epoch 852/1000\n",
            "34/34 - 0s - loss: 5559.4121 - mae: 5559.4121\n",
            "Epoch 853/1000\n",
            "34/34 - 0s - loss: 5370.6445 - mae: 5370.6445\n",
            "Epoch 854/1000\n",
            "34/34 - 0s - loss: 5333.8467 - mae: 5333.8467\n",
            "Epoch 855/1000\n",
            "34/34 - 0s - loss: 5297.3779 - mae: 5297.3779\n",
            "Epoch 856/1000\n",
            "34/34 - 0s - loss: 5524.8701 - mae: 5524.8701\n",
            "Epoch 857/1000\n",
            "34/34 - 0s - loss: 5187.9702 - mae: 5187.9702\n",
            "Epoch 858/1000\n",
            "34/34 - 0s - loss: 5616.2163 - mae: 5616.2163\n",
            "Epoch 859/1000\n",
            "34/34 - 0s - loss: 5402.2178 - mae: 5402.2178\n",
            "Epoch 860/1000\n",
            "34/34 - 0s - loss: 5208.6089 - mae: 5208.6089\n",
            "Epoch 861/1000\n",
            "34/34 - 0s - loss: 5155.4341 - mae: 5155.4341\n",
            "Epoch 862/1000\n",
            "34/34 - 0s - loss: 5010.4004 - mae: 5010.4004\n",
            "Epoch 863/1000\n",
            "34/34 - 0s - loss: 5161.0786 - mae: 5161.0786\n",
            "Epoch 864/1000\n",
            "34/34 - 0s - loss: 5620.9731 - mae: 5620.9731\n",
            "Epoch 865/1000\n",
            "34/34 - 0s - loss: 5009.7363 - mae: 5009.7363\n",
            "Epoch 866/1000\n",
            "34/34 - 0s - loss: 5139.6226 - mae: 5139.6226\n",
            "Epoch 867/1000\n",
            "34/34 - 0s - loss: 5198.7944 - mae: 5198.7944\n",
            "Epoch 868/1000\n",
            "34/34 - 0s - loss: 5440.0273 - mae: 5440.0273\n",
            "Epoch 869/1000\n",
            "34/34 - 0s - loss: 5531.8516 - mae: 5531.8516\n",
            "Epoch 870/1000\n",
            "34/34 - 0s - loss: 5480.8604 - mae: 5480.8604\n",
            "Epoch 871/1000\n",
            "34/34 - 0s - loss: 5571.0869 - mae: 5571.0869\n",
            "Epoch 872/1000\n",
            "34/34 - 0s - loss: 5437.8423 - mae: 5437.8423\n",
            "Epoch 873/1000\n",
            "34/34 - 0s - loss: 5223.4517 - mae: 5223.4517\n",
            "Epoch 874/1000\n",
            "34/34 - 0s - loss: 5139.5698 - mae: 5139.5698\n",
            "Epoch 875/1000\n",
            "34/34 - 0s - loss: 5382.7476 - mae: 5382.7476\n",
            "Epoch 876/1000\n",
            "34/34 - 0s - loss: 5769.8960 - mae: 5769.8960\n",
            "Epoch 877/1000\n",
            "34/34 - 0s - loss: 5284.7378 - mae: 5284.7378\n",
            "Epoch 878/1000\n",
            "34/34 - 0s - loss: 5323.6982 - mae: 5323.6982\n",
            "Epoch 879/1000\n",
            "34/34 - 0s - loss: 5636.7197 - mae: 5636.7197\n",
            "Epoch 880/1000\n",
            "34/34 - 0s - loss: 5468.9849 - mae: 5468.9849\n",
            "Epoch 881/1000\n",
            "34/34 - 0s - loss: 5668.1758 - mae: 5668.1758\n",
            "Epoch 882/1000\n",
            "34/34 - 0s - loss: 5454.6406 - mae: 5454.6406\n",
            "Epoch 883/1000\n",
            "34/34 - 0s - loss: 5229.0312 - mae: 5229.0312\n",
            "Epoch 884/1000\n",
            "34/34 - 0s - loss: 5225.3623 - mae: 5225.3623\n",
            "Epoch 885/1000\n",
            "34/34 - 0s - loss: 5408.7339 - mae: 5408.7339\n",
            "Epoch 886/1000\n",
            "34/34 - 0s - loss: 5422.4746 - mae: 5422.4746\n",
            "Epoch 887/1000\n",
            "34/34 - 0s - loss: 5415.4658 - mae: 5415.4658\n",
            "Epoch 888/1000\n",
            "34/34 - 0s - loss: 5363.7656 - mae: 5363.7656\n",
            "Epoch 889/1000\n",
            "34/34 - 0s - loss: 5506.0264 - mae: 5506.0264\n",
            "Epoch 890/1000\n",
            "34/34 - 0s - loss: 5246.0562 - mae: 5246.0562\n",
            "Epoch 891/1000\n",
            "34/34 - 0s - loss: 5439.7222 - mae: 5439.7222\n",
            "Epoch 892/1000\n",
            "34/34 - 0s - loss: 5377.1934 - mae: 5377.1934\n",
            "Epoch 893/1000\n",
            "34/34 - 0s - loss: 5345.1753 - mae: 5345.1753\n",
            "Epoch 894/1000\n",
            "34/34 - 0s - loss: 5428.8970 - mae: 5428.8970\n",
            "Epoch 895/1000\n",
            "34/34 - 0s - loss: 5797.2251 - mae: 5797.2251\n",
            "Epoch 896/1000\n",
            "34/34 - 0s - loss: 5608.0625 - mae: 5608.0625\n",
            "Epoch 897/1000\n",
            "34/34 - 0s - loss: 5276.5342 - mae: 5276.5342\n",
            "Epoch 898/1000\n",
            "34/34 - 0s - loss: 5603.5200 - mae: 5603.5200\n",
            "Epoch 899/1000\n",
            "34/34 - 0s - loss: 5361.0488 - mae: 5361.0488\n",
            "Epoch 900/1000\n",
            "34/34 - 0s - loss: 5473.1235 - mae: 5473.1235\n",
            "Epoch 901/1000\n",
            "34/34 - 0s - loss: 5362.9399 - mae: 5362.9399\n",
            "Epoch 902/1000\n",
            "34/34 - 0s - loss: 5390.5088 - mae: 5390.5088\n",
            "Epoch 903/1000\n",
            "34/34 - 0s - loss: 5555.2100 - mae: 5555.2100\n",
            "Epoch 904/1000\n",
            "34/34 - 0s - loss: 5436.8896 - mae: 5436.8896\n",
            "Epoch 905/1000\n",
            "34/34 - 0s - loss: 5619.6548 - mae: 5619.6548\n",
            "Epoch 906/1000\n",
            "34/34 - 0s - loss: 5333.7808 - mae: 5333.7808\n",
            "Epoch 907/1000\n",
            "34/34 - 0s - loss: 5313.3027 - mae: 5313.3027\n",
            "Epoch 908/1000\n",
            "34/34 - 0s - loss: 5241.2446 - mae: 5241.2446\n",
            "Epoch 909/1000\n",
            "34/34 - 0s - loss: 5013.1875 - mae: 5013.1875\n",
            "Epoch 910/1000\n",
            "34/34 - 0s - loss: 5473.6411 - mae: 5473.6411\n",
            "Epoch 911/1000\n",
            "34/34 - 0s - loss: 5593.8687 - mae: 5593.8687\n",
            "Epoch 912/1000\n",
            "34/34 - 0s - loss: 5513.0078 - mae: 5513.0078\n",
            "Epoch 913/1000\n",
            "34/34 - 0s - loss: 5569.9272 - mae: 5569.9272\n",
            "Epoch 914/1000\n",
            "34/34 - 0s - loss: 5105.0225 - mae: 5105.0225\n",
            "Epoch 915/1000\n",
            "34/34 - 0s - loss: 5032.3550 - mae: 5032.3550\n",
            "Epoch 916/1000\n",
            "34/34 - 0s - loss: 5249.3477 - mae: 5249.3477\n",
            "Epoch 917/1000\n",
            "34/34 - 0s - loss: 4995.4082 - mae: 4995.4082\n",
            "Epoch 918/1000\n",
            "34/34 - 0s - loss: 5813.4727 - mae: 5813.4727\n",
            "Epoch 919/1000\n",
            "34/34 - 0s - loss: 5553.2432 - mae: 5553.2432\n",
            "Epoch 920/1000\n",
            "34/34 - 0s - loss: 5034.0068 - mae: 5034.0068\n",
            "Epoch 921/1000\n",
            "34/34 - 0s - loss: 5554.3374 - mae: 5554.3374\n",
            "Epoch 922/1000\n",
            "34/34 - 0s - loss: 5195.3643 - mae: 5195.3643\n",
            "Epoch 923/1000\n",
            "34/34 - 0s - loss: 5540.1343 - mae: 5540.1343\n",
            "Epoch 924/1000\n",
            "34/34 - 0s - loss: 5578.0547 - mae: 5578.0547\n",
            "Epoch 925/1000\n",
            "34/34 - 0s - loss: 5610.8159 - mae: 5610.8159\n",
            "Epoch 926/1000\n",
            "34/34 - 0s - loss: 5388.0723 - mae: 5388.0723\n",
            "Epoch 927/1000\n",
            "34/34 - 0s - loss: 5110.7939 - mae: 5110.7939\n",
            "Epoch 928/1000\n",
            "34/34 - 0s - loss: 5780.2563 - mae: 5780.2563\n",
            "Epoch 929/1000\n",
            "34/34 - 0s - loss: 5424.6807 - mae: 5424.6807\n",
            "Epoch 930/1000\n",
            "34/34 - 0s - loss: 5622.1172 - mae: 5622.1172\n",
            "Epoch 931/1000\n",
            "34/34 - 0s - loss: 5402.5811 - mae: 5402.5811\n",
            "Epoch 932/1000\n",
            "34/34 - 0s - loss: 5019.4570 - mae: 5019.4570\n",
            "Epoch 933/1000\n",
            "34/34 - 0s - loss: 5417.0161 - mae: 5417.0161\n",
            "Epoch 934/1000\n",
            "34/34 - 0s - loss: 5556.0044 - mae: 5556.0044\n",
            "Epoch 935/1000\n",
            "34/34 - 0s - loss: 5420.0820 - mae: 5420.0820\n",
            "Epoch 936/1000\n",
            "34/34 - 0s - loss: 5398.6147 - mae: 5398.6147\n",
            "Epoch 937/1000\n",
            "34/34 - 0s - loss: 5300.0850 - mae: 5300.0850\n",
            "Epoch 938/1000\n",
            "34/34 - 0s - loss: 5197.4185 - mae: 5197.4185\n",
            "Epoch 939/1000\n",
            "34/34 - 0s - loss: 5476.7832 - mae: 5476.7832\n",
            "Epoch 940/1000\n",
            "34/34 - 0s - loss: 5814.2310 - mae: 5814.2310\n",
            "Epoch 941/1000\n",
            "34/34 - 0s - loss: 5094.1465 - mae: 5094.1465\n",
            "Epoch 942/1000\n",
            "34/34 - 0s - loss: 5504.0288 - mae: 5504.0288\n",
            "Epoch 943/1000\n",
            "34/34 - 0s - loss: 5436.5786 - mae: 5436.5786\n",
            "Epoch 944/1000\n",
            "34/34 - 0s - loss: 5145.9048 - mae: 5145.9048\n",
            "Epoch 945/1000\n",
            "34/34 - 0s - loss: 5469.7534 - mae: 5469.7534\n",
            "Epoch 946/1000\n",
            "34/34 - 0s - loss: 5734.8862 - mae: 5734.8862\n",
            "Epoch 947/1000\n",
            "34/34 - 0s - loss: 5723.6660 - mae: 5723.6660\n",
            "Epoch 948/1000\n",
            "34/34 - 0s - loss: 5663.3403 - mae: 5663.3403\n",
            "Epoch 949/1000\n",
            "34/34 - 0s - loss: 5724.8945 - mae: 5724.8945\n",
            "Epoch 950/1000\n",
            "34/34 - 0s - loss: 5201.7847 - mae: 5201.7847\n",
            "Epoch 951/1000\n",
            "34/34 - 0s - loss: 5434.5962 - mae: 5434.5962\n",
            "Epoch 952/1000\n",
            "34/34 - 0s - loss: 4797.5225 - mae: 4797.5225\n",
            "Epoch 953/1000\n",
            "34/34 - 0s - loss: 5403.0952 - mae: 5403.0952\n",
            "Epoch 954/1000\n",
            "34/34 - 0s - loss: 5052.0913 - mae: 5052.0913\n",
            "Epoch 955/1000\n",
            "34/34 - 0s - loss: 5566.8208 - mae: 5566.8208\n",
            "Epoch 956/1000\n",
            "34/34 - 0s - loss: 5479.1592 - mae: 5479.1592\n",
            "Epoch 957/1000\n",
            "34/34 - 0s - loss: 5367.3867 - mae: 5367.3867\n",
            "Epoch 958/1000\n",
            "34/34 - 0s - loss: 5498.4062 - mae: 5498.4062\n",
            "Epoch 959/1000\n",
            "34/34 - 0s - loss: 5101.6016 - mae: 5101.6016\n",
            "Epoch 960/1000\n",
            "34/34 - 0s - loss: 5125.6211 - mae: 5125.6211\n",
            "Epoch 961/1000\n",
            "34/34 - 0s - loss: 5280.5005 - mae: 5280.5005\n",
            "Epoch 962/1000\n",
            "34/34 - 0s - loss: 5712.2168 - mae: 5712.2168\n",
            "Epoch 963/1000\n",
            "34/34 - 0s - loss: 5435.2480 - mae: 5435.2480\n",
            "Epoch 964/1000\n",
            "34/34 - 0s - loss: 5126.4092 - mae: 5126.4092\n",
            "Epoch 965/1000\n",
            "34/34 - 0s - loss: 5095.6855 - mae: 5095.6855\n",
            "Epoch 966/1000\n",
            "34/34 - 0s - loss: 5532.8164 - mae: 5532.8164\n",
            "Epoch 967/1000\n",
            "34/34 - 0s - loss: 5763.3477 - mae: 5763.3477\n",
            "Epoch 968/1000\n",
            "34/34 - 0s - loss: 5222.4463 - mae: 5222.4463\n",
            "Epoch 969/1000\n",
            "34/34 - 0s - loss: 5459.9556 - mae: 5459.9556\n",
            "Epoch 970/1000\n",
            "34/34 - 0s - loss: 5250.0840 - mae: 5250.0840\n",
            "Epoch 971/1000\n",
            "34/34 - 0s - loss: 5396.2168 - mae: 5396.2168\n",
            "Epoch 972/1000\n",
            "34/34 - 0s - loss: 5197.4702 - mae: 5197.4702\n",
            "Epoch 973/1000\n",
            "34/34 - 0s - loss: 5136.7671 - mae: 5136.7671\n",
            "Epoch 974/1000\n",
            "34/34 - 0s - loss: 5142.6318 - mae: 5142.6318\n",
            "Epoch 975/1000\n",
            "34/34 - 0s - loss: 5506.3940 - mae: 5506.3940\n",
            "Epoch 976/1000\n",
            "34/34 - 0s - loss: 5165.0493 - mae: 5165.0493\n",
            "Epoch 977/1000\n",
            "34/34 - 0s - loss: 5315.8320 - mae: 5315.8320\n",
            "Epoch 978/1000\n",
            "34/34 - 0s - loss: 5239.4058 - mae: 5239.4058\n",
            "Epoch 979/1000\n",
            "34/34 - 0s - loss: 5332.1953 - mae: 5332.1953\n",
            "Epoch 980/1000\n",
            "34/34 - 0s - loss: 5456.1211 - mae: 5456.1211\n",
            "Epoch 981/1000\n",
            "34/34 - 0s - loss: 5358.1895 - mae: 5358.1895\n",
            "Epoch 982/1000\n",
            "34/34 - 0s - loss: 4981.6387 - mae: 4981.6387\n",
            "Epoch 983/1000\n",
            "34/34 - 0s - loss: 5501.7783 - mae: 5501.7783\n",
            "Epoch 984/1000\n",
            "34/34 - 0s - loss: 4947.2490 - mae: 4947.2490\n",
            "Epoch 985/1000\n",
            "34/34 - 0s - loss: 4989.0195 - mae: 4989.0195\n",
            "Epoch 986/1000\n",
            "34/34 - 0s - loss: 5575.2490 - mae: 5575.2490\n",
            "Epoch 987/1000\n",
            "34/34 - 0s - loss: 4911.7466 - mae: 4911.7466\n",
            "Epoch 988/1000\n",
            "34/34 - 0s - loss: 5441.1943 - mae: 5441.1943\n",
            "Epoch 989/1000\n",
            "34/34 - 0s - loss: 5117.4551 - mae: 5117.4551\n",
            "Epoch 990/1000\n",
            "34/34 - 0s - loss: 5408.5557 - mae: 5408.5557\n",
            "Epoch 991/1000\n",
            "34/34 - 0s - loss: 5148.5234 - mae: 5148.5234\n",
            "Epoch 992/1000\n",
            "34/34 - 0s - loss: 5221.1006 - mae: 5221.1006\n",
            "Epoch 993/1000\n",
            "34/34 - 0s - loss: 4965.8394 - mae: 4965.8394\n",
            "Epoch 994/1000\n",
            "34/34 - 0s - loss: 5612.1069 - mae: 5612.1069\n",
            "Epoch 995/1000\n",
            "34/34 - 0s - loss: 5492.4302 - mae: 5492.4302\n",
            "Epoch 996/1000\n",
            "34/34 - 0s - loss: 5741.2983 - mae: 5741.2983\n",
            "Epoch 997/1000\n",
            "34/34 - 0s - loss: 5411.4019 - mae: 5411.4019\n",
            "Epoch 998/1000\n",
            "34/34 - 0s - loss: 5476.1089 - mae: 5476.1089\n",
            "Epoch 999/1000\n",
            "34/34 - 0s - loss: 4875.7119 - mae: 4875.7119\n",
            "Epoch 1000/1000\n",
            "34/34 - 0s - loss: 5349.7393 - mae: 5349.7393\n"
          ],
          "name": "stdout"
        },
        {
          "output_type": "execute_result",
          "data": {
            "text/plain": [
              "<tensorflow.python.keras.callbacks.History at 0x7f7d75ee0250>"
            ]
          },
          "metadata": {
            "tags": []
          },
          "execution_count": 69
        }
      ]
    },
    {
      "cell_type": "code",
      "metadata": {
        "colab": {
          "base_uri": "https://localhost:8080/"
        },
        "id": "FVjMA1o5nvfF",
        "outputId": "420f7143-bfb2-42b1-9d16-43867e3aeccb"
      },
      "source": [
        "exp3_model.evaluate(X_test,y_test)"
      ],
      "execution_count": null,
      "outputs": [
        {
          "output_type": "stream",
          "text": [
            "9/9 [==============================] - 0s 1ms/step - loss: 4566.6533 - mae: 4566.6533\n"
          ],
          "name": "stdout"
        },
        {
          "output_type": "execute_result",
          "data": {
            "text/plain": [
              "[4566.6533203125, 4566.6533203125]"
            ]
          },
          "metadata": {
            "tags": []
          },
          "execution_count": 70
        }
      ]
    },
    {
      "cell_type": "markdown",
      "metadata": {
        "id": "KllKbn8sn_3w"
      },
      "source": [
        "`experiment 4`\n",
        "\n",
        "Changing more epochs not decreasing the model error.Lets change learning rate"
      ]
    },
    {
      "cell_type": "code",
      "metadata": {
        "colab": {
          "base_uri": "https://localhost:8080/"
        },
        "id": "JOaOCwMLn82H",
        "outputId": "ee25affe-b964-41ee-91f8-2893e6b21a59"
      },
      "source": [
        "tf.random.set_seed(42)\n",
        "exp4_model=tf.keras.Sequential([\n",
        "                                tf.keras.layers.Dense(16),\n",
        "                                tf.keras.layers.Dense(1)\n",
        "])\n",
        "exp4_model.compile(loss=tf.keras.losses.mae,\n",
        "                   optimizer=tf.keras.optimizers.SGD(learning_rate=0.0001),\n",
        "                   metrics=[\"mae\"])\n",
        "\n",
        "exp4_model.fit(X_train,y_train,epochs=500,verbose=1)"
      ],
      "execution_count": null,
      "outputs": [
        {
          "output_type": "stream",
          "text": [
            "Epoch 1/500\n",
            "34/34 [==============================] - 0s 995us/step - loss: 13277.6179 - mae: 13277.6179\n",
            "Epoch 2/500\n",
            "34/34 [==============================] - 0s 1ms/step - loss: 12916.7549 - mae: 12916.7549\n",
            "Epoch 3/500\n",
            "34/34 [==============================] - 0s 1ms/step - loss: 12665.3965 - mae: 12665.3965\n",
            "Epoch 4/500\n",
            "34/34 [==============================] - 0s 1ms/step - loss: 13334.4350 - mae: 13334.4350\n",
            "Epoch 5/500\n",
            "34/34 [==============================] - 0s 1ms/step - loss: 13219.0100 - mae: 13219.0100\n",
            "Epoch 6/500\n",
            "34/34 [==============================] - 0s 1ms/step - loss: 13034.6153 - mae: 13034.6153\n",
            "Epoch 7/500\n",
            "34/34 [==============================] - 0s 978us/step - loss: 12992.2652 - mae: 12992.2652\n",
            "Epoch 8/500\n",
            "34/34 [==============================] - 0s 1ms/step - loss: 13225.8626 - mae: 13225.8626\n",
            "Epoch 9/500\n",
            "34/34 [==============================] - 0s 956us/step - loss: 12867.1679 - mae: 12867.1679\n",
            "Epoch 10/500\n",
            "34/34 [==============================] - 0s 1ms/step - loss: 12805.7571 - mae: 12805.7571\n",
            "Epoch 11/500\n",
            "34/34 [==============================] - 0s 1ms/step - loss: 12823.7592 - mae: 12823.7592\n",
            "Epoch 12/500\n",
            "34/34 [==============================] - 0s 1ms/step - loss: 11625.1968 - mae: 11625.1968\n",
            "Epoch 13/500\n",
            "34/34 [==============================] - 0s 1ms/step - loss: 11574.0452 - mae: 11574.0452\n",
            "Epoch 14/500\n",
            "34/34 [==============================] - 0s 1ms/step - loss: 10469.3188 - mae: 10469.3188\n",
            "Epoch 15/500\n",
            "34/34 [==============================] - 0s 1ms/step - loss: 9864.2591 - mae: 9864.2591\n",
            "Epoch 16/500\n",
            "34/34 [==============================] - 0s 1ms/step - loss: 8885.1989 - mae: 8885.1989\n",
            "Epoch 17/500\n",
            "34/34 [==============================] - 0s 1ms/step - loss: 7626.3745 - mae: 7626.3745\n",
            "Epoch 18/500\n",
            "34/34 [==============================] - 0s 977us/step - loss: 7436.8499 - mae: 7436.8499\n",
            "Epoch 19/500\n",
            "34/34 [==============================] - 0s 941us/step - loss: 7306.4709 - mae: 7306.4709\n",
            "Epoch 20/500\n",
            "34/34 [==============================] - 0s 950us/step - loss: 7206.0365 - mae: 7206.0365\n",
            "Epoch 21/500\n",
            "34/34 [==============================] - 0s 988us/step - loss: 6601.5964 - mae: 6601.5964\n",
            "Epoch 22/500\n",
            "34/34 [==============================] - 0s 943us/step - loss: 6821.7125 - mae: 6821.7125\n",
            "Epoch 23/500\n",
            "34/34 [==============================] - 0s 1ms/step - loss: 7277.2915 - mae: 7277.2915\n",
            "Epoch 24/500\n",
            "34/34 [==============================] - 0s 1ms/step - loss: 7020.6359 - mae: 7020.6359\n",
            "Epoch 25/500\n",
            "34/34 [==============================] - 0s 986us/step - loss: 7676.6437 - mae: 7676.6437\n",
            "Epoch 26/500\n",
            "34/34 [==============================] - 0s 973us/step - loss: 6934.1920 - mae: 6934.1920\n",
            "Epoch 27/500\n",
            "34/34 [==============================] - 0s 1ms/step - loss: 7346.6627 - mae: 7346.6627\n",
            "Epoch 28/500\n",
            "34/34 [==============================] - 0s 1ms/step - loss: 7605.5786 - mae: 7605.5786\n",
            "Epoch 29/500\n",
            "34/34 [==============================] - 0s 1ms/step - loss: 6957.9394 - mae: 6957.9394\n",
            "Epoch 30/500\n",
            "34/34 [==============================] - 0s 994us/step - loss: 7416.2559 - mae: 7416.2559\n",
            "Epoch 31/500\n",
            "34/34 [==============================] - 0s 1ms/step - loss: 7651.9123 - mae: 7651.9123\n",
            "Epoch 32/500\n",
            "34/34 [==============================] - 0s 1ms/step - loss: 7156.7402 - mae: 7156.7402\n",
            "Epoch 33/500\n",
            "34/34 [==============================] - 0s 1ms/step - loss: 7380.7708 - mae: 7380.7708\n",
            "Epoch 34/500\n",
            "34/34 [==============================] - 0s 964us/step - loss: 7230.3359 - mae: 7230.3359\n",
            "Epoch 35/500\n",
            "34/34 [==============================] - 0s 1ms/step - loss: 7302.9932 - mae: 7302.9932\n",
            "Epoch 36/500\n",
            "34/34 [==============================] - 0s 1ms/step - loss: 7228.7644 - mae: 7228.7644\n",
            "Epoch 37/500\n",
            "34/34 [==============================] - 0s 1ms/step - loss: 7378.1927 - mae: 7378.1927\n",
            "Epoch 38/500\n",
            "34/34 [==============================] - 0s 1ms/step - loss: 6924.1195 - mae: 6924.1195\n",
            "Epoch 39/500\n",
            "34/34 [==============================] - 0s 1ms/step - loss: 7323.6510 - mae: 7323.6510\n",
            "Epoch 40/500\n",
            "34/34 [==============================] - 0s 1ms/step - loss: 7239.0029 - mae: 7239.0029\n",
            "Epoch 41/500\n",
            "34/34 [==============================] - 0s 1ms/step - loss: 7177.7634 - mae: 7177.7634\n",
            "Epoch 42/500\n",
            "34/34 [==============================] - 0s 1ms/step - loss: 7093.0134 - mae: 7093.0134\n",
            "Epoch 43/500\n",
            "34/34 [==============================] - 0s 1ms/step - loss: 7106.9787 - mae: 7106.9787\n",
            "Epoch 44/500\n",
            "34/34 [==============================] - 0s 981us/step - loss: 6914.8588 - mae: 6914.8588\n",
            "Epoch 45/500\n",
            "34/34 [==============================] - 0s 994us/step - loss: 6947.0772 - mae: 6947.0772\n",
            "Epoch 46/500\n",
            "34/34 [==============================] - 0s 1ms/step - loss: 6802.6153 - mae: 6802.6153\n",
            "Epoch 47/500\n",
            "34/34 [==============================] - 0s 1ms/step - loss: 7320.6478 - mae: 7320.6478\n",
            "Epoch 48/500\n",
            "34/34 [==============================] - 0s 1ms/step - loss: 7139.2772 - mae: 7139.2772\n",
            "Epoch 49/500\n",
            "34/34 [==============================] - 0s 1ms/step - loss: 6854.4317 - mae: 6854.4317\n",
            "Epoch 50/500\n",
            "34/34 [==============================] - 0s 991us/step - loss: 7136.8062 - mae: 7136.8062\n",
            "Epoch 51/500\n",
            "34/34 [==============================] - 0s 1ms/step - loss: 7011.4408 - mae: 7011.4408\n",
            "Epoch 52/500\n",
            "34/34 [==============================] - 0s 1ms/step - loss: 7041.2747 - mae: 7041.2747\n",
            "Epoch 53/500\n",
            "34/34 [==============================] - 0s 1ms/step - loss: 6695.2142 - mae: 6695.2142\n",
            "Epoch 54/500\n",
            "34/34 [==============================] - 0s 1ms/step - loss: 7170.1144 - mae: 7170.1144\n",
            "Epoch 55/500\n",
            "34/34 [==============================] - 0s 1ms/step - loss: 6923.6625 - mae: 6923.6625\n",
            "Epoch 56/500\n",
            "34/34 [==============================] - 0s 1ms/step - loss: 7013.5759 - mae: 7013.5759\n",
            "Epoch 57/500\n",
            "34/34 [==============================] - 0s 1ms/step - loss: 7288.6862 - mae: 7288.6862\n",
            "Epoch 58/500\n",
            "34/34 [==============================] - 0s 1ms/step - loss: 7078.3541 - mae: 7078.3541\n",
            "Epoch 59/500\n",
            "34/34 [==============================] - 0s 1ms/step - loss: 6636.2344 - mae: 6636.2344\n",
            "Epoch 60/500\n",
            "34/34 [==============================] - 0s 1ms/step - loss: 6993.2309 - mae: 6993.2309\n",
            "Epoch 61/500\n",
            "34/34 [==============================] - 0s 1ms/step - loss: 7516.9023 - mae: 7516.9023\n",
            "Epoch 62/500\n",
            "34/34 [==============================] - 0s 1ms/step - loss: 7091.2842 - mae: 7091.2842\n",
            "Epoch 63/500\n",
            "34/34 [==============================] - 0s 1ms/step - loss: 7151.3516 - mae: 7151.3516\n",
            "Epoch 64/500\n",
            "34/34 [==============================] - 0s 1ms/step - loss: 6662.3216 - mae: 6662.3216\n",
            "Epoch 65/500\n",
            "34/34 [==============================] - 0s 1ms/step - loss: 7072.6570 - mae: 7072.6570\n",
            "Epoch 66/500\n",
            "34/34 [==============================] - 0s 956us/step - loss: 6794.9653 - mae: 6794.9653\n",
            "Epoch 67/500\n",
            "34/34 [==============================] - 0s 1ms/step - loss: 6912.9012 - mae: 6912.9012\n",
            "Epoch 68/500\n",
            "34/34 [==============================] - 0s 1ms/step - loss: 6891.0673 - mae: 6891.0673\n",
            "Epoch 69/500\n",
            "34/34 [==============================] - 0s 985us/step - loss: 7432.4911 - mae: 7432.4911\n",
            "Epoch 70/500\n",
            "34/34 [==============================] - 0s 1ms/step - loss: 6578.8004 - mae: 6578.8004\n",
            "Epoch 71/500\n",
            "34/34 [==============================] - 0s 1ms/step - loss: 7018.1542 - mae: 7018.1542\n",
            "Epoch 72/500\n",
            "34/34 [==============================] - 0s 1ms/step - loss: 6691.9309 - mae: 6691.9309\n",
            "Epoch 73/500\n",
            "34/34 [==============================] - 0s 1ms/step - loss: 7239.2713 - mae: 7239.2713\n",
            "Epoch 74/500\n",
            "34/34 [==============================] - 0s 1ms/step - loss: 7050.6708 - mae: 7050.6708\n",
            "Epoch 75/500\n",
            "34/34 [==============================] - 0s 1ms/step - loss: 7392.5785 - mae: 7392.5785\n",
            "Epoch 76/500\n",
            "34/34 [==============================] - 0s 1ms/step - loss: 6613.1358 - mae: 6613.1358\n",
            "Epoch 77/500\n",
            "34/34 [==============================] - 0s 1ms/step - loss: 7446.9469 - mae: 7446.9469\n",
            "Epoch 78/500\n",
            "34/34 [==============================] - 0s 1ms/step - loss: 6457.9454 - mae: 6457.9454\n",
            "Epoch 79/500\n",
            "34/34 [==============================] - 0s 982us/step - loss: 6098.2412 - mae: 6098.2412\n",
            "Epoch 80/500\n",
            "34/34 [==============================] - 0s 1ms/step - loss: 6199.6917 - mae: 6199.6917\n",
            "Epoch 81/500\n",
            "34/34 [==============================] - 0s 1ms/step - loss: 6855.2134 - mae: 6855.2134\n",
            "Epoch 82/500\n",
            "34/34 [==============================] - 0s 990us/step - loss: 7652.3163 - mae: 7652.3163\n",
            "Epoch 83/500\n",
            "34/34 [==============================] - 0s 1ms/step - loss: 6782.4635 - mae: 6782.4635\n",
            "Epoch 84/500\n",
            "34/34 [==============================] - 0s 1ms/step - loss: 6674.3508 - mae: 6674.3508\n",
            "Epoch 85/500\n",
            "34/34 [==============================] - 0s 992us/step - loss: 6273.6487 - mae: 6273.6487\n",
            "Epoch 86/500\n",
            "34/34 [==============================] - 0s 1ms/step - loss: 7142.0579 - mae: 7142.0579\n",
            "Epoch 87/500\n",
            "34/34 [==============================] - 0s 2ms/step - loss: 6609.9972 - mae: 6609.9972\n",
            "Epoch 88/500\n",
            "34/34 [==============================] - 0s 1ms/step - loss: 7048.9698 - mae: 7048.9698\n",
            "Epoch 89/500\n",
            "34/34 [==============================] - 0s 1ms/step - loss: 6712.8973 - mae: 6712.8973\n",
            "Epoch 90/500\n",
            "34/34 [==============================] - 0s 1ms/step - loss: 7306.8668 - mae: 7306.8668\n",
            "Epoch 91/500\n",
            "34/34 [==============================] - 0s 953us/step - loss: 6998.1525 - mae: 6998.1525\n",
            "Epoch 92/500\n",
            "34/34 [==============================] - 0s 1ms/step - loss: 7072.1375 - mae: 7072.1375\n",
            "Epoch 93/500\n",
            "34/34 [==============================] - 0s 1ms/step - loss: 6570.9981 - mae: 6570.9981\n",
            "Epoch 94/500\n",
            "34/34 [==============================] - 0s 1ms/step - loss: 6478.5986 - mae: 6478.5986\n",
            "Epoch 95/500\n",
            "34/34 [==============================] - 0s 1ms/step - loss: 6958.6197 - mae: 6958.6197\n",
            "Epoch 96/500\n",
            "34/34 [==============================] - 0s 1ms/step - loss: 7111.0973 - mae: 7111.0973\n",
            "Epoch 97/500\n",
            "34/34 [==============================] - 0s 1ms/step - loss: 6435.4063 - mae: 6435.4063\n",
            "Epoch 98/500\n",
            "34/34 [==============================] - 0s 2ms/step - loss: 6586.5024 - mae: 6586.5024\n",
            "Epoch 99/500\n",
            "34/34 [==============================] - 0s 1ms/step - loss: 6343.7817 - mae: 6343.7817\n",
            "Epoch 100/500\n",
            "34/34 [==============================] - 0s 1ms/step - loss: 6447.3230 - mae: 6447.3230\n",
            "Epoch 101/500\n",
            "34/34 [==============================] - 0s 1ms/step - loss: 6630.2672 - mae: 6630.2672\n",
            "Epoch 102/500\n",
            "34/34 [==============================] - 0s 1ms/step - loss: 6487.2633 - mae: 6487.2633\n",
            "Epoch 103/500\n",
            "34/34 [==============================] - 0s 1ms/step - loss: 6279.4569 - mae: 6279.4569\n",
            "Epoch 104/500\n",
            "34/34 [==============================] - 0s 1ms/step - loss: 6931.0363 - mae: 6931.0363\n",
            "Epoch 105/500\n",
            "34/34 [==============================] - 0s 1ms/step - loss: 6292.2073 - mae: 6292.2073\n",
            "Epoch 106/500\n",
            "34/34 [==============================] - 0s 968us/step - loss: 6997.8615 - mae: 6997.8615\n",
            "Epoch 107/500\n",
            "34/34 [==============================] - 0s 1ms/step - loss: 7113.8521 - mae: 7113.8521\n",
            "Epoch 108/500\n",
            "34/34 [==============================] - 0s 1ms/step - loss: 6998.1669 - mae: 6998.1669\n",
            "Epoch 109/500\n",
            "34/34 [==============================] - 0s 1ms/step - loss: 7386.6897 - mae: 7386.6897\n",
            "Epoch 110/500\n",
            "34/34 [==============================] - 0s 1ms/step - loss: 7216.5983 - mae: 7216.5983\n",
            "Epoch 111/500\n",
            "34/34 [==============================] - 0s 2ms/step - loss: 7028.7797 - mae: 7028.7797\n",
            "Epoch 112/500\n",
            "34/34 [==============================] - 0s 1ms/step - loss: 6745.5346 - mae: 6745.5346\n",
            "Epoch 113/500\n",
            "34/34 [==============================] - 0s 1ms/step - loss: 6802.0244 - mae: 6802.0244\n",
            "Epoch 114/500\n",
            "34/34 [==============================] - 0s 1ms/step - loss: 7135.3602 - mae: 7135.3602\n",
            "Epoch 115/500\n",
            "34/34 [==============================] - 0s 1ms/step - loss: 6922.2728 - mae: 6922.2728\n",
            "Epoch 116/500\n",
            "34/34 [==============================] - 0s 1ms/step - loss: 7362.6983 - mae: 7362.6983\n",
            "Epoch 117/500\n",
            "34/34 [==============================] - 0s 1ms/step - loss: 6664.0780 - mae: 6664.0780\n",
            "Epoch 118/500\n",
            "34/34 [==============================] - 0s 1ms/step - loss: 6800.5892 - mae: 6800.5892\n",
            "Epoch 119/500\n",
            "34/34 [==============================] - 0s 2ms/step - loss: 7074.1791 - mae: 7074.1791\n",
            "Epoch 120/500\n",
            "34/34 [==============================] - 0s 1ms/step - loss: 7071.3998 - mae: 7071.3998\n",
            "Epoch 121/500\n",
            "34/34 [==============================] - 0s 1ms/step - loss: 7162.7914 - mae: 7162.7914\n",
            "Epoch 122/500\n",
            "34/34 [==============================] - 0s 986us/step - loss: 6731.7136 - mae: 6731.7136\n",
            "Epoch 123/500\n",
            "34/34 [==============================] - 0s 1ms/step - loss: 6707.1050 - mae: 6707.1050\n",
            "Epoch 124/500\n",
            "34/34 [==============================] - 0s 1ms/step - loss: 6761.1933 - mae: 6761.1933\n",
            "Epoch 125/500\n",
            "34/34 [==============================] - 0s 1ms/step - loss: 7132.7118 - mae: 7132.7118\n",
            "Epoch 126/500\n",
            "34/34 [==============================] - 0s 1ms/step - loss: 6540.7051 - mae: 6540.7051\n",
            "Epoch 127/500\n",
            "34/34 [==============================] - 0s 1ms/step - loss: 7011.0664 - mae: 7011.0664\n",
            "Epoch 128/500\n",
            "34/34 [==============================] - 0s 1ms/step - loss: 6631.5752 - mae: 6631.5752\n",
            "Epoch 129/500\n",
            "34/34 [==============================] - 0s 1ms/step - loss: 7082.2501 - mae: 7082.2501\n",
            "Epoch 130/500\n",
            "34/34 [==============================] - 0s 1ms/step - loss: 6990.5782 - mae: 6990.5782\n",
            "Epoch 131/500\n",
            "34/34 [==============================] - 0s 1ms/step - loss: 6897.6722 - mae: 6897.6722\n",
            "Epoch 132/500\n",
            "34/34 [==============================] - 0s 1ms/step - loss: 7121.0817 - mae: 7121.0817\n",
            "Epoch 133/500\n",
            "34/34 [==============================] - 0s 1ms/step - loss: 7269.5417 - mae: 7269.5417\n",
            "Epoch 134/500\n",
            "34/34 [==============================] - 0s 1ms/step - loss: 6891.7156 - mae: 6891.7156\n",
            "Epoch 135/500\n",
            "34/34 [==============================] - 0s 1ms/step - loss: 7197.2123 - mae: 7197.2123\n",
            "Epoch 136/500\n",
            "34/34 [==============================] - 0s 1ms/step - loss: 6777.9966 - mae: 6777.9966\n",
            "Epoch 137/500\n",
            "34/34 [==============================] - 0s 1ms/step - loss: 6904.3914 - mae: 6904.3914\n",
            "Epoch 138/500\n",
            "34/34 [==============================] - 0s 1ms/step - loss: 7251.0373 - mae: 7251.0373\n",
            "Epoch 139/500\n",
            "34/34 [==============================] - 0s 1ms/step - loss: 6662.6572 - mae: 6662.6572\n",
            "Epoch 140/500\n",
            "34/34 [==============================] - 0s 1ms/step - loss: 6949.1398 - mae: 6949.1398\n",
            "Epoch 141/500\n",
            "34/34 [==============================] - 0s 981us/step - loss: 7014.8798 - mae: 7014.8798\n",
            "Epoch 142/500\n",
            "34/34 [==============================] - 0s 1ms/step - loss: 6695.3909 - mae: 6695.3909\n",
            "Epoch 143/500\n",
            "34/34 [==============================] - 0s 1ms/step - loss: 6997.8141 - mae: 6997.8141\n",
            "Epoch 144/500\n",
            "34/34 [==============================] - 0s 998us/step - loss: 7218.2746 - mae: 7218.2746\n",
            "Epoch 145/500\n",
            "34/34 [==============================] - 0s 1ms/step - loss: 7177.7255 - mae: 7177.7255\n",
            "Epoch 146/500\n",
            "34/34 [==============================] - 0s 1ms/step - loss: 7098.2079 - mae: 7098.2079\n",
            "Epoch 147/500\n",
            "34/34 [==============================] - 0s 1ms/step - loss: 6620.6479 - mae: 6620.6479\n",
            "Epoch 148/500\n",
            "34/34 [==============================] - 0s 1ms/step - loss: 6148.9098 - mae: 6148.9098\n",
            "Epoch 149/500\n",
            "34/34 [==============================] - 0s 2ms/step - loss: 6451.6482 - mae: 6451.6482\n",
            "Epoch 150/500\n",
            "34/34 [==============================] - 0s 1ms/step - loss: 6976.5302 - mae: 6976.5302\n",
            "Epoch 151/500\n",
            "34/34 [==============================] - 0s 1ms/step - loss: 7049.2613 - mae: 7049.2613\n",
            "Epoch 152/500\n",
            "34/34 [==============================] - 0s 1ms/step - loss: 6646.6524 - mae: 6646.6524\n",
            "Epoch 153/500\n",
            "34/34 [==============================] - 0s 1ms/step - loss: 6801.6510 - mae: 6801.6510\n",
            "Epoch 154/500\n",
            "34/34 [==============================] - 0s 1ms/step - loss: 7076.8040 - mae: 7076.8040\n",
            "Epoch 155/500\n",
            "34/34 [==============================] - 0s 1ms/step - loss: 6599.6269 - mae: 6599.6269\n",
            "Epoch 156/500\n",
            "34/34 [==============================] - 0s 1ms/step - loss: 6390.1036 - mae: 6390.1036\n",
            "Epoch 157/500\n",
            "34/34 [==============================] - 0s 1ms/step - loss: 6710.8247 - mae: 6710.8247\n",
            "Epoch 158/500\n",
            "34/34 [==============================] - 0s 1ms/step - loss: 7114.9514 - mae: 7114.9514\n",
            "Epoch 159/500\n",
            "34/34 [==============================] - 0s 1ms/step - loss: 6732.4379 - mae: 6732.4379\n",
            "Epoch 160/500\n",
            "34/34 [==============================] - 0s 1ms/step - loss: 6916.7172 - mae: 6916.7172\n",
            "Epoch 161/500\n",
            "34/34 [==============================] - 0s 1ms/step - loss: 6756.3168 - mae: 6756.3168\n",
            "Epoch 162/500\n",
            "34/34 [==============================] - 0s 1ms/step - loss: 7142.4971 - mae: 7142.4971\n",
            "Epoch 163/500\n",
            "34/34 [==============================] - 0s 1ms/step - loss: 6303.5471 - mae: 6303.5471\n",
            "Epoch 164/500\n",
            "34/34 [==============================] - 0s 1ms/step - loss: 6627.2247 - mae: 6627.2247\n",
            "Epoch 165/500\n",
            "34/34 [==============================] - 0s 1ms/step - loss: 7121.1862 - mae: 7121.1862\n",
            "Epoch 166/500\n",
            "34/34 [==============================] - 0s 1ms/step - loss: 7152.3439 - mae: 7152.3439\n",
            "Epoch 167/500\n",
            "34/34 [==============================] - 0s 1ms/step - loss: 7206.2829 - mae: 7206.2829\n",
            "Epoch 168/500\n",
            "34/34 [==============================] - 0s 1ms/step - loss: 6832.2420 - mae: 6832.2420\n",
            "Epoch 169/500\n",
            "34/34 [==============================] - 0s 1ms/step - loss: 6652.8374 - mae: 6652.8374\n",
            "Epoch 170/500\n",
            "34/34 [==============================] - 0s 1ms/step - loss: 7064.9111 - mae: 7064.9111\n",
            "Epoch 171/500\n",
            "34/34 [==============================] - 0s 1ms/step - loss: 6745.1487 - mae: 6745.1487\n",
            "Epoch 172/500\n",
            "34/34 [==============================] - 0s 1ms/step - loss: 6916.1069 - mae: 6916.1069\n",
            "Epoch 173/500\n",
            "34/34 [==============================] - 0s 1ms/step - loss: 6777.5044 - mae: 6777.5044\n",
            "Epoch 174/500\n",
            "34/34 [==============================] - 0s 1ms/step - loss: 6906.8514 - mae: 6906.8514\n",
            "Epoch 175/500\n",
            "34/34 [==============================] - 0s 1ms/step - loss: 6930.2511 - mae: 6930.2511\n",
            "Epoch 176/500\n",
            "34/34 [==============================] - 0s 1ms/step - loss: 7042.3471 - mae: 7042.3471\n",
            "Epoch 177/500\n",
            "34/34 [==============================] - 0s 1ms/step - loss: 7042.5139 - mae: 7042.5139\n",
            "Epoch 178/500\n",
            "34/34 [==============================] - 0s 1ms/step - loss: 6727.5735 - mae: 6727.5735\n",
            "Epoch 179/500\n",
            "34/34 [==============================] - 0s 1ms/step - loss: 6269.2197 - mae: 6269.2197\n",
            "Epoch 180/500\n",
            "34/34 [==============================] - 0s 1ms/step - loss: 7554.0085 - mae: 7554.0085\n",
            "Epoch 181/500\n",
            "34/34 [==============================] - 0s 1ms/step - loss: 7049.7807 - mae: 7049.7807\n",
            "Epoch 182/500\n",
            "34/34 [==============================] - 0s 1ms/step - loss: 6943.1247 - mae: 6943.1247\n",
            "Epoch 183/500\n",
            "34/34 [==============================] - 0s 1ms/step - loss: 6421.5715 - mae: 6421.5715\n",
            "Epoch 184/500\n",
            "34/34 [==============================] - 0s 1ms/step - loss: 6550.6132 - mae: 6550.6132\n",
            "Epoch 185/500\n",
            "34/34 [==============================] - 0s 2ms/step - loss: 6450.6524 - mae: 6450.6524\n",
            "Epoch 186/500\n",
            "34/34 [==============================] - 0s 1ms/step - loss: 6989.0430 - mae: 6989.0430\n",
            "Epoch 187/500\n",
            "34/34 [==============================] - 0s 1ms/step - loss: 7062.1002 - mae: 7062.1002\n",
            "Epoch 188/500\n",
            "34/34 [==============================] - 0s 1ms/step - loss: 7336.4217 - mae: 7336.4217\n",
            "Epoch 189/500\n",
            "34/34 [==============================] - 0s 1ms/step - loss: 6358.3174 - mae: 6358.3174\n",
            "Epoch 190/500\n",
            "34/34 [==============================] - 0s 1ms/step - loss: 7169.1195 - mae: 7169.1195\n",
            "Epoch 191/500\n",
            "34/34 [==============================] - 0s 1ms/step - loss: 7184.4301 - mae: 7184.4301\n",
            "Epoch 192/500\n",
            "34/34 [==============================] - 0s 1ms/step - loss: 6879.6537 - mae: 6879.6537\n",
            "Epoch 193/500\n",
            "34/34 [==============================] - 0s 1ms/step - loss: 7038.7609 - mae: 7038.7609\n",
            "Epoch 194/500\n",
            "34/34 [==============================] - 0s 1ms/step - loss: 7108.2374 - mae: 7108.2374\n",
            "Epoch 195/500\n",
            "34/34 [==============================] - 0s 1ms/step - loss: 6445.6540 - mae: 6445.6540\n",
            "Epoch 196/500\n",
            "34/34 [==============================] - 0s 1ms/step - loss: 6726.8841 - mae: 6726.8841\n",
            "Epoch 197/500\n",
            "34/34 [==============================] - 0s 1ms/step - loss: 7180.7728 - mae: 7180.7728\n",
            "Epoch 198/500\n",
            "34/34 [==============================] - 0s 1ms/step - loss: 6655.0624 - mae: 6655.0624\n",
            "Epoch 199/500\n",
            "34/34 [==============================] - 0s 1ms/step - loss: 6583.3791 - mae: 6583.3791\n",
            "Epoch 200/500\n",
            "34/34 [==============================] - 0s 1ms/step - loss: 6838.7067 - mae: 6838.7067\n",
            "Epoch 201/500\n",
            "34/34 [==============================] - 0s 1ms/step - loss: 7030.9810 - mae: 7030.9810\n",
            "Epoch 202/500\n",
            "34/34 [==============================] - 0s 1ms/step - loss: 7032.9644 - mae: 7032.9644\n",
            "Epoch 203/500\n",
            "34/34 [==============================] - 0s 1ms/step - loss: 7159.3846 - mae: 7159.3846\n",
            "Epoch 204/500\n",
            "34/34 [==============================] - 0s 1ms/step - loss: 6641.5244 - mae: 6641.5244\n",
            "Epoch 205/500\n",
            "34/34 [==============================] - 0s 2ms/step - loss: 6635.4204 - mae: 6635.4204\n",
            "Epoch 206/500\n",
            "34/34 [==============================] - 0s 1ms/step - loss: 7217.5145 - mae: 7217.5145\n",
            "Epoch 207/500\n",
            "34/34 [==============================] - 0s 1ms/step - loss: 6747.5675 - mae: 6747.5675\n",
            "Epoch 208/500\n",
            "34/34 [==============================] - 0s 1ms/step - loss: 6871.9124 - mae: 6871.9124\n",
            "Epoch 209/500\n",
            "34/34 [==============================] - 0s 1ms/step - loss: 6376.9665 - mae: 6376.9665\n",
            "Epoch 210/500\n",
            "34/34 [==============================] - 0s 1ms/step - loss: 7001.5330 - mae: 7001.5330\n",
            "Epoch 211/500\n",
            "34/34 [==============================] - 0s 1ms/step - loss: 6841.0813 - mae: 6841.0813\n",
            "Epoch 212/500\n",
            "34/34 [==============================] - 0s 1ms/step - loss: 6736.5388 - mae: 6736.5388\n",
            "Epoch 213/500\n",
            "34/34 [==============================] - 0s 1ms/step - loss: 6580.0165 - mae: 6580.0165\n",
            "Epoch 214/500\n",
            "34/34 [==============================] - 0s 1ms/step - loss: 6644.5829 - mae: 6644.5829\n",
            "Epoch 215/500\n",
            "34/34 [==============================] - 0s 1ms/step - loss: 7125.0609 - mae: 7125.0609\n",
            "Epoch 216/500\n",
            "34/34 [==============================] - 0s 1ms/step - loss: 6631.3098 - mae: 6631.3098\n",
            "Epoch 217/500\n",
            "34/34 [==============================] - 0s 1ms/step - loss: 6959.5201 - mae: 6959.5201\n",
            "Epoch 218/500\n",
            "34/34 [==============================] - 0s 1ms/step - loss: 6252.1255 - mae: 6252.1255\n",
            "Epoch 219/500\n",
            "34/34 [==============================] - 0s 1ms/step - loss: 7164.4231 - mae: 7164.4231\n",
            "Epoch 220/500\n",
            "34/34 [==============================] - 0s 1ms/step - loss: 6725.7296 - mae: 6725.7296\n",
            "Epoch 221/500\n",
            "34/34 [==============================] - 0s 1ms/step - loss: 7331.1282 - mae: 7331.1282\n",
            "Epoch 222/500\n",
            "34/34 [==============================] - 0s 1ms/step - loss: 7151.6670 - mae: 7151.6670\n",
            "Epoch 223/500\n",
            "34/34 [==============================] - 0s 1ms/step - loss: 6656.1437 - mae: 6656.1437\n",
            "Epoch 224/500\n",
            "34/34 [==============================] - 0s 2ms/step - loss: 6534.5958 - mae: 6534.5958\n",
            "Epoch 225/500\n",
            "34/34 [==============================] - 0s 1ms/step - loss: 6754.4672 - mae: 6754.4672\n",
            "Epoch 226/500\n",
            "34/34 [==============================] - 0s 1ms/step - loss: 6442.9106 - mae: 6442.9106\n",
            "Epoch 227/500\n",
            "34/34 [==============================] - 0s 1ms/step - loss: 6214.9794 - mae: 6214.9794\n",
            "Epoch 228/500\n",
            "34/34 [==============================] - 0s 1ms/step - loss: 6711.7975 - mae: 6711.7975\n",
            "Epoch 229/500\n",
            "34/34 [==============================] - 0s 1ms/step - loss: 7068.8511 - mae: 7068.8511\n",
            "Epoch 230/500\n",
            "34/34 [==============================] - 0s 1ms/step - loss: 6750.3546 - mae: 6750.3546\n",
            "Epoch 231/500\n",
            "34/34 [==============================] - 0s 1ms/step - loss: 6576.4368 - mae: 6576.4368\n",
            "Epoch 232/500\n",
            "34/34 [==============================] - 0s 1ms/step - loss: 6548.3778 - mae: 6548.3778\n",
            "Epoch 233/500\n",
            "34/34 [==============================] - 0s 1ms/step - loss: 6882.0440 - mae: 6882.0440\n",
            "Epoch 234/500\n",
            "34/34 [==============================] - 0s 1ms/step - loss: 6373.5769 - mae: 6373.5769\n",
            "Epoch 235/500\n",
            "34/34 [==============================] - 0s 1ms/step - loss: 6531.0233 - mae: 6531.0233\n",
            "Epoch 236/500\n",
            "34/34 [==============================] - 0s 1ms/step - loss: 6313.8716 - mae: 6313.8716\n",
            "Epoch 237/500\n",
            "34/34 [==============================] - 0s 1ms/step - loss: 6687.6168 - mae: 6687.6168\n",
            "Epoch 238/500\n",
            "34/34 [==============================] - 0s 1ms/step - loss: 6383.1656 - mae: 6383.1656\n",
            "Epoch 239/500\n",
            "34/34 [==============================] - 0s 1ms/step - loss: 6721.5598 - mae: 6721.5598\n",
            "Epoch 240/500\n",
            "34/34 [==============================] - 0s 1ms/step - loss: 6638.7152 - mae: 6638.7152\n",
            "Epoch 241/500\n",
            "34/34 [==============================] - 0s 1ms/step - loss: 6864.4493 - mae: 6864.4493\n",
            "Epoch 242/500\n",
            "34/34 [==============================] - 0s 1ms/step - loss: 6390.2377 - mae: 6390.2377\n",
            "Epoch 243/500\n",
            "34/34 [==============================] - 0s 1ms/step - loss: 7177.1217 - mae: 7177.1217\n",
            "Epoch 244/500\n",
            "34/34 [==============================] - 0s 1ms/step - loss: 6645.9606 - mae: 6645.9606\n",
            "Epoch 245/500\n",
            "34/34 [==============================] - 0s 1ms/step - loss: 6627.0942 - mae: 6627.0942\n",
            "Epoch 246/500\n",
            "34/34 [==============================] - 0s 2ms/step - loss: 6810.9172 - mae: 6810.9172\n",
            "Epoch 247/500\n",
            "34/34 [==============================] - 0s 1ms/step - loss: 7022.3476 - mae: 7022.3476\n",
            "Epoch 248/500\n",
            "34/34 [==============================] - 0s 1ms/step - loss: 6712.4916 - mae: 6712.4916\n",
            "Epoch 249/500\n",
            "34/34 [==============================] - 0s 1ms/step - loss: 6712.1856 - mae: 6712.1856\n",
            "Epoch 250/500\n",
            "34/34 [==============================] - 0s 1ms/step - loss: 6459.8529 - mae: 6459.8529\n",
            "Epoch 251/500\n",
            "34/34 [==============================] - 0s 1ms/step - loss: 6940.1563 - mae: 6940.1563\n",
            "Epoch 252/500\n",
            "34/34 [==============================] - 0s 1ms/step - loss: 6455.7629 - mae: 6455.7629\n",
            "Epoch 253/500\n",
            "34/34 [==============================] - 0s 1ms/step - loss: 6937.5896 - mae: 6937.5896\n",
            "Epoch 254/500\n",
            "34/34 [==============================] - 0s 1ms/step - loss: 6918.1841 - mae: 6918.1841\n",
            "Epoch 255/500\n",
            "34/34 [==============================] - 0s 1ms/step - loss: 6506.2792 - mae: 6506.2792\n",
            "Epoch 256/500\n",
            "34/34 [==============================] - 0s 1ms/step - loss: 6881.8571 - mae: 6881.8571\n",
            "Epoch 257/500\n",
            "34/34 [==============================] - 0s 1ms/step - loss: 6433.2490 - mae: 6433.2490\n",
            "Epoch 258/500\n",
            "34/34 [==============================] - 0s 1ms/step - loss: 7243.0757 - mae: 7243.0757\n",
            "Epoch 259/500\n",
            "34/34 [==============================] - 0s 1ms/step - loss: 7170.2881 - mae: 7170.2881\n",
            "Epoch 260/500\n",
            "34/34 [==============================] - 0s 1ms/step - loss: 6379.3710 - mae: 6379.3710\n",
            "Epoch 261/500\n",
            "34/34 [==============================] - 0s 1ms/step - loss: 7167.7370 - mae: 7167.7370\n",
            "Epoch 262/500\n",
            "34/34 [==============================] - 0s 1ms/step - loss: 6988.1499 - mae: 6988.1499\n",
            "Epoch 263/500\n",
            "34/34 [==============================] - 0s 1ms/step - loss: 6640.8735 - mae: 6640.8735\n",
            "Epoch 264/500\n",
            "34/34 [==============================] - 0s 1ms/step - loss: 6907.7986 - mae: 6907.7986\n",
            "Epoch 265/500\n",
            "34/34 [==============================] - 0s 2ms/step - loss: 6459.0118 - mae: 6459.0118\n",
            "Epoch 266/500\n",
            "34/34 [==============================] - 0s 1ms/step - loss: 6698.0815 - mae: 6698.0815\n",
            "Epoch 267/500\n",
            "34/34 [==============================] - 0s 1ms/step - loss: 6620.1889 - mae: 6620.1889\n",
            "Epoch 268/500\n",
            "34/34 [==============================] - 0s 1ms/step - loss: 6945.6718 - mae: 6945.6718\n",
            "Epoch 269/500\n",
            "34/34 [==============================] - 0s 1ms/step - loss: 6260.1881 - mae: 6260.1881\n",
            "Epoch 270/500\n",
            "34/34 [==============================] - 0s 1ms/step - loss: 6511.0557 - mae: 6511.0557\n",
            "Epoch 271/500\n",
            "34/34 [==============================] - 0s 1ms/step - loss: 6570.5532 - mae: 6570.5532\n",
            "Epoch 272/500\n",
            "34/34 [==============================] - 0s 1ms/step - loss: 6926.1682 - mae: 6926.1682\n",
            "Epoch 273/500\n",
            "34/34 [==============================] - 0s 1ms/step - loss: 6605.0940 - mae: 6605.0940\n",
            "Epoch 274/500\n",
            "34/34 [==============================] - 0s 1ms/step - loss: 6992.9635 - mae: 6992.9635\n",
            "Epoch 275/500\n",
            "34/34 [==============================] - 0s 1ms/step - loss: 6872.5159 - mae: 6872.5159\n",
            "Epoch 276/500\n",
            "34/34 [==============================] - 0s 1ms/step - loss: 6442.7032 - mae: 6442.7032\n",
            "Epoch 277/500\n",
            "34/34 [==============================] - 0s 1ms/step - loss: 6497.2093 - mae: 6497.2093\n",
            "Epoch 278/500\n",
            "34/34 [==============================] - 0s 1ms/step - loss: 6993.3418 - mae: 6993.3418\n",
            "Epoch 279/500\n",
            "34/34 [==============================] - 0s 1ms/step - loss: 6582.4682 - mae: 6582.4682\n",
            "Epoch 280/500\n",
            "34/34 [==============================] - 0s 1ms/step - loss: 6797.5251 - mae: 6797.5251\n",
            "Epoch 281/500\n",
            "34/34 [==============================] - 0s 1ms/step - loss: 6714.9767 - mae: 6714.9767\n",
            "Epoch 282/500\n",
            "34/34 [==============================] - 0s 1ms/step - loss: 6820.3584 - mae: 6820.3584\n",
            "Epoch 283/500\n",
            "34/34 [==============================] - 0s 2ms/step - loss: 6718.7877 - mae: 6718.7877\n",
            "Epoch 284/500\n",
            "34/34 [==============================] - 0s 2ms/step - loss: 6841.5114 - mae: 6841.5114\n",
            "Epoch 285/500\n",
            "34/34 [==============================] - 0s 1ms/step - loss: 6448.3952 - mae: 6448.3952\n",
            "Epoch 286/500\n",
            "34/34 [==============================] - 0s 1ms/step - loss: 6689.7026 - mae: 6689.7026\n",
            "Epoch 287/500\n",
            "34/34 [==============================] - 0s 1ms/step - loss: 7057.7450 - mae: 7057.7450\n",
            "Epoch 288/500\n",
            "34/34 [==============================] - 0s 1ms/step - loss: 6810.3994 - mae: 6810.3994\n",
            "Epoch 289/500\n",
            "34/34 [==============================] - 0s 1ms/step - loss: 6821.9942 - mae: 6821.9942\n",
            "Epoch 290/500\n",
            "34/34 [==============================] - 0s 1ms/step - loss: 6562.8250 - mae: 6562.8250\n",
            "Epoch 291/500\n",
            "34/34 [==============================] - 0s 1ms/step - loss: 6763.8948 - mae: 6763.8948\n",
            "Epoch 292/500\n",
            "34/34 [==============================] - 0s 1ms/step - loss: 6525.1408 - mae: 6525.1408\n",
            "Epoch 293/500\n",
            "34/34 [==============================] - 0s 1ms/step - loss: 6565.0647 - mae: 6565.0647\n",
            "Epoch 294/500\n",
            "34/34 [==============================] - 0s 1ms/step - loss: 7211.0317 - mae: 7211.0317\n",
            "Epoch 295/500\n",
            "34/34 [==============================] - 0s 1ms/step - loss: 6498.2693 - mae: 6498.2693\n",
            "Epoch 296/500\n",
            "34/34 [==============================] - 0s 1ms/step - loss: 7113.5658 - mae: 7113.5658\n",
            "Epoch 297/500\n",
            "34/34 [==============================] - 0s 1ms/step - loss: 6554.1561 - mae: 6554.1561\n",
            "Epoch 298/500\n",
            "34/34 [==============================] - 0s 1ms/step - loss: 6735.8491 - mae: 6735.8491\n",
            "Epoch 299/500\n",
            "34/34 [==============================] - 0s 1ms/step - loss: 6531.8739 - mae: 6531.8739\n",
            "Epoch 300/500\n",
            "34/34 [==============================] - 0s 1ms/step - loss: 6698.3882 - mae: 6698.3882\n",
            "Epoch 301/500\n",
            "34/34 [==============================] - 0s 1ms/step - loss: 7051.5814 - mae: 7051.5814\n",
            "Epoch 302/500\n",
            "34/34 [==============================] - 0s 1ms/step - loss: 6891.6614 - mae: 6891.6614\n",
            "Epoch 303/500\n",
            "34/34 [==============================] - 0s 1ms/step - loss: 7036.8327 - mae: 7036.8327\n",
            "Epoch 304/500\n",
            "34/34 [==============================] - 0s 1ms/step - loss: 6972.9827 - mae: 6972.9827\n",
            "Epoch 305/500\n",
            "34/34 [==============================] - 0s 1ms/step - loss: 6538.6211 - mae: 6538.6211\n",
            "Epoch 306/500\n",
            "34/34 [==============================] - 0s 1ms/step - loss: 7457.8129 - mae: 7457.8129\n",
            "Epoch 307/500\n",
            "34/34 [==============================] - 0s 1ms/step - loss: 6765.6438 - mae: 6765.6438\n",
            "Epoch 308/500\n",
            "34/34 [==============================] - 0s 1ms/step - loss: 6581.9112 - mae: 6581.9112\n",
            "Epoch 309/500\n",
            "34/34 [==============================] - 0s 1ms/step - loss: 6955.4318 - mae: 6955.4318\n",
            "Epoch 310/500\n",
            "34/34 [==============================] - 0s 1ms/step - loss: 6783.6834 - mae: 6783.6834\n",
            "Epoch 311/500\n",
            "34/34 [==============================] - 0s 1ms/step - loss: 6651.1950 - mae: 6651.1950\n",
            "Epoch 312/500\n",
            "34/34 [==============================] - 0s 1ms/step - loss: 7072.2117 - mae: 7072.2117\n",
            "Epoch 313/500\n",
            "34/34 [==============================] - 0s 1ms/step - loss: 7023.1568 - mae: 7023.1568\n",
            "Epoch 314/500\n",
            "34/34 [==============================] - 0s 1ms/step - loss: 6704.3000 - mae: 6704.3000\n",
            "Epoch 315/500\n",
            "34/34 [==============================] - 0s 1ms/step - loss: 6556.4065 - mae: 6556.4065\n",
            "Epoch 316/500\n",
            "34/34 [==============================] - 0s 2ms/step - loss: 6862.6664 - mae: 6862.6664\n",
            "Epoch 317/500\n",
            "34/34 [==============================] - 0s 1ms/step - loss: 6664.4757 - mae: 6664.4757\n",
            "Epoch 318/500\n",
            "34/34 [==============================] - 0s 1ms/step - loss: 6961.4032 - mae: 6961.4032\n",
            "Epoch 319/500\n",
            "34/34 [==============================] - 0s 1ms/step - loss: 6899.3017 - mae: 6899.3017\n",
            "Epoch 320/500\n",
            "34/34 [==============================] - 0s 1ms/step - loss: 6285.3522 - mae: 6285.3522\n",
            "Epoch 321/500\n",
            "34/34 [==============================] - 0s 1ms/step - loss: 6562.9698 - mae: 6562.9698\n",
            "Epoch 322/500\n",
            "34/34 [==============================] - 0s 1ms/step - loss: 6654.2469 - mae: 6654.2469\n",
            "Epoch 323/500\n",
            "34/34 [==============================] - 0s 1ms/step - loss: 6546.6281 - mae: 6546.6281\n",
            "Epoch 324/500\n",
            "34/34 [==============================] - 0s 1ms/step - loss: 7246.5360 - mae: 7246.5360\n",
            "Epoch 325/500\n",
            "34/34 [==============================] - 0s 1ms/step - loss: 6864.0254 - mae: 6864.0254\n",
            "Epoch 326/500\n",
            "34/34 [==============================] - 0s 1ms/step - loss: 7229.8630 - mae: 7229.8630\n",
            "Epoch 327/500\n",
            "34/34 [==============================] - 0s 1ms/step - loss: 6321.6756 - mae: 6321.6756\n",
            "Epoch 328/500\n",
            "34/34 [==============================] - 0s 1ms/step - loss: 7199.7993 - mae: 7199.7993\n",
            "Epoch 329/500\n",
            "34/34 [==============================] - 0s 1ms/step - loss: 6784.6920 - mae: 6784.6920\n",
            "Epoch 330/500\n",
            "34/34 [==============================] - 0s 1ms/step - loss: 6794.7257 - mae: 6794.7257\n",
            "Epoch 331/500\n",
            "34/34 [==============================] - 0s 1ms/step - loss: 7640.8947 - mae: 7640.8947\n",
            "Epoch 332/500\n",
            "34/34 [==============================] - 0s 1ms/step - loss: 6992.0552 - mae: 6992.0552\n",
            "Epoch 333/500\n",
            "34/34 [==============================] - 0s 1ms/step - loss: 6330.4011 - mae: 6330.4011\n",
            "Epoch 334/500\n",
            "34/34 [==============================] - 0s 1ms/step - loss: 6356.4992 - mae: 6356.4992\n",
            "Epoch 335/500\n",
            "34/34 [==============================] - 0s 1ms/step - loss: 7057.0737 - mae: 7057.0737\n",
            "Epoch 336/500\n",
            "34/34 [==============================] - 0s 1ms/step - loss: 6663.4190 - mae: 6663.4190\n",
            "Epoch 337/500\n",
            "34/34 [==============================] - 0s 1ms/step - loss: 7097.4162 - mae: 7097.4162\n",
            "Epoch 338/500\n",
            "34/34 [==============================] - 0s 1ms/step - loss: 6741.3011 - mae: 6741.3011\n",
            "Epoch 339/500\n",
            "34/34 [==============================] - 0s 1ms/step - loss: 6961.8631 - mae: 6961.8631\n",
            "Epoch 340/500\n",
            "34/34 [==============================] - 0s 2ms/step - loss: 7393.4697 - mae: 7393.4697\n",
            "Epoch 341/500\n",
            "34/34 [==============================] - 0s 1ms/step - loss: 6404.1749 - mae: 6404.1749\n",
            "Epoch 342/500\n",
            "34/34 [==============================] - 0s 1ms/step - loss: 6713.8476 - mae: 6713.8476\n",
            "Epoch 343/500\n",
            "34/34 [==============================] - 0s 2ms/step - loss: 6751.6794 - mae: 6751.6794\n",
            "Epoch 344/500\n",
            "34/34 [==============================] - 0s 1ms/step - loss: 6825.5245 - mae: 6825.5245\n",
            "Epoch 345/500\n",
            "34/34 [==============================] - 0s 1ms/step - loss: 6860.5957 - mae: 6860.5957\n",
            "Epoch 346/500\n",
            "34/34 [==============================] - 0s 1ms/step - loss: 6430.7522 - mae: 6430.7522\n",
            "Epoch 347/500\n",
            "34/34 [==============================] - 0s 1ms/step - loss: 6621.5176 - mae: 6621.5176\n",
            "Epoch 348/500\n",
            "34/34 [==============================] - 0s 1ms/step - loss: 7105.8098 - mae: 7105.8098\n",
            "Epoch 349/500\n",
            "34/34 [==============================] - 0s 1ms/step - loss: 6871.1776 - mae: 6871.1776\n",
            "Epoch 350/500\n",
            "34/34 [==============================] - 0s 1ms/step - loss: 6536.2415 - mae: 6536.2415\n",
            "Epoch 351/500\n",
            "34/34 [==============================] - 0s 1ms/step - loss: 6950.4081 - mae: 6950.4081\n",
            "Epoch 352/500\n",
            "34/34 [==============================] - 0s 1ms/step - loss: 7156.6203 - mae: 7156.6203\n",
            "Epoch 353/500\n",
            "34/34 [==============================] - 0s 1ms/step - loss: 6986.8240 - mae: 6986.8240\n",
            "Epoch 354/500\n",
            "34/34 [==============================] - 0s 1ms/step - loss: 6078.8254 - mae: 6078.8254\n",
            "Epoch 355/500\n",
            "34/34 [==============================] - 0s 1ms/step - loss: 6984.0477 - mae: 6984.0477\n",
            "Epoch 356/500\n",
            "34/34 [==============================] - 0s 2ms/step - loss: 6595.9251 - mae: 6595.9251\n",
            "Epoch 357/500\n",
            "34/34 [==============================] - 0s 1ms/step - loss: 6980.2860 - mae: 6980.2860\n",
            "Epoch 358/500\n",
            "34/34 [==============================] - 0s 1ms/step - loss: 6641.9695 - mae: 6641.9695\n",
            "Epoch 359/500\n",
            "34/34 [==============================] - 0s 1ms/step - loss: 6929.2549 - mae: 6929.2549\n",
            "Epoch 360/500\n",
            "34/34 [==============================] - 0s 1ms/step - loss: 6889.5253 - mae: 6889.5253\n",
            "Epoch 361/500\n",
            "34/34 [==============================] - 0s 1ms/step - loss: 6599.2106 - mae: 6599.2106\n",
            "Epoch 362/500\n",
            "34/34 [==============================] - 0s 2ms/step - loss: 7488.5613 - mae: 7488.5613\n",
            "Epoch 363/500\n",
            "34/34 [==============================] - 0s 939us/step - loss: 6844.7755 - mae: 6844.7755\n",
            "Epoch 364/500\n",
            "34/34 [==============================] - 0s 1ms/step - loss: 6793.2151 - mae: 6793.2151\n",
            "Epoch 365/500\n",
            "34/34 [==============================] - 0s 1ms/step - loss: 6993.4543 - mae: 6993.4543\n",
            "Epoch 366/500\n",
            "34/34 [==============================] - 0s 1ms/step - loss: 6801.6393 - mae: 6801.6393\n",
            "Epoch 367/500\n",
            "34/34 [==============================] - 0s 1ms/step - loss: 7061.5164 - mae: 7061.5164\n",
            "Epoch 368/500\n",
            "34/34 [==============================] - 0s 1ms/step - loss: 6430.0153 - mae: 6430.0153\n",
            "Epoch 369/500\n",
            "34/34 [==============================] - 0s 1ms/step - loss: 6579.5213 - mae: 6579.5213\n",
            "Epoch 370/500\n",
            "34/34 [==============================] - 0s 1ms/step - loss: 6452.7430 - mae: 6452.7430\n",
            "Epoch 371/500\n",
            "34/34 [==============================] - 0s 1ms/step - loss: 6883.7534 - mae: 6883.7534\n",
            "Epoch 372/500\n",
            "34/34 [==============================] - 0s 1ms/step - loss: 6906.2096 - mae: 6906.2096\n",
            "Epoch 373/500\n",
            "34/34 [==============================] - 0s 1ms/step - loss: 6331.6195 - mae: 6331.6195\n",
            "Epoch 374/500\n",
            "34/34 [==============================] - 0s 1ms/step - loss: 6712.7698 - mae: 6712.7698\n",
            "Epoch 375/500\n",
            "34/34 [==============================] - 0s 1ms/step - loss: 6678.5649 - mae: 6678.5649\n",
            "Epoch 376/500\n",
            "34/34 [==============================] - 0s 1ms/step - loss: 6264.9326 - mae: 6264.9326\n",
            "Epoch 377/500\n",
            "34/34 [==============================] - 0s 1ms/step - loss: 7314.9771 - mae: 7314.9771\n",
            "Epoch 378/500\n",
            "34/34 [==============================] - 0s 1ms/step - loss: 6409.2247 - mae: 6409.2247\n",
            "Epoch 379/500\n",
            "34/34 [==============================] - 0s 1ms/step - loss: 6596.9411 - mae: 6596.9411\n",
            "Epoch 380/500\n",
            "34/34 [==============================] - 0s 1ms/step - loss: 6698.4345 - mae: 6698.4345\n",
            "Epoch 381/500\n",
            "34/34 [==============================] - 0s 1ms/step - loss: 7050.8176 - mae: 7050.8176\n",
            "Epoch 382/500\n",
            "34/34 [==============================] - 0s 1ms/step - loss: 6757.2795 - mae: 6757.2795\n",
            "Epoch 383/500\n",
            "34/34 [==============================] - 0s 1ms/step - loss: 6263.3308 - mae: 6263.3308\n",
            "Epoch 384/500\n",
            "34/34 [==============================] - 0s 1ms/step - loss: 7467.4794 - mae: 7467.4794\n",
            "Epoch 385/500\n",
            "34/34 [==============================] - 0s 1ms/step - loss: 6840.9156 - mae: 6840.9156\n",
            "Epoch 386/500\n",
            "34/34 [==============================] - 0s 1ms/step - loss: 7390.9036 - mae: 7390.9036\n",
            "Epoch 387/500\n",
            "34/34 [==============================] - 0s 1ms/step - loss: 7057.4450 - mae: 7057.4450\n",
            "Epoch 388/500\n",
            "34/34 [==============================] - 0s 1ms/step - loss: 6414.8055 - mae: 6414.8055\n",
            "Epoch 389/500\n",
            "34/34 [==============================] - 0s 1ms/step - loss: 6677.7390 - mae: 6677.7390\n",
            "Epoch 390/500\n",
            "34/34 [==============================] - 0s 1ms/step - loss: 6477.1789 - mae: 6477.1789\n",
            "Epoch 391/500\n",
            "34/34 [==============================] - 0s 1ms/step - loss: 6553.5470 - mae: 6553.5470\n",
            "Epoch 392/500\n",
            "34/34 [==============================] - 0s 1ms/step - loss: 6807.7890 - mae: 6807.7890\n",
            "Epoch 393/500\n",
            "34/34 [==============================] - 0s 1ms/step - loss: 6784.6900 - mae: 6784.6900\n",
            "Epoch 394/500\n",
            "34/34 [==============================] - 0s 1ms/step - loss: 6966.2337 - mae: 6966.2337\n",
            "Epoch 395/500\n",
            "34/34 [==============================] - 0s 1ms/step - loss: 7058.6613 - mae: 7058.6613\n",
            "Epoch 396/500\n",
            "34/34 [==============================] - 0s 1ms/step - loss: 6890.5709 - mae: 6890.5709\n",
            "Epoch 397/500\n",
            "34/34 [==============================] - 0s 1ms/step - loss: 6522.1980 - mae: 6522.1980\n",
            "Epoch 398/500\n",
            "34/34 [==============================] - 0s 1ms/step - loss: 6542.3126 - mae: 6542.3126\n",
            "Epoch 399/500\n",
            "34/34 [==============================] - 0s 1ms/step - loss: 6432.7465 - mae: 6432.7465\n",
            "Epoch 400/500\n",
            "34/34 [==============================] - 0s 2ms/step - loss: 7021.6893 - mae: 7021.6893\n",
            "Epoch 401/500\n",
            "34/34 [==============================] - 0s 1ms/step - loss: 6353.0206 - mae: 6353.0206\n",
            "Epoch 402/500\n",
            "34/34 [==============================] - 0s 1ms/step - loss: 6442.2876 - mae: 6442.2876\n",
            "Epoch 403/500\n",
            "34/34 [==============================] - 0s 1ms/step - loss: 6743.6952 - mae: 6743.6952\n",
            "Epoch 404/500\n",
            "34/34 [==============================] - 0s 1ms/step - loss: 6488.9857 - mae: 6488.9857\n",
            "Epoch 405/500\n",
            "34/34 [==============================] - 0s 1ms/step - loss: 6756.8872 - mae: 6756.8872\n",
            "Epoch 406/500\n",
            "34/34 [==============================] - 0s 1ms/step - loss: 6681.1790 - mae: 6681.1790\n",
            "Epoch 407/500\n",
            "34/34 [==============================] - 0s 2ms/step - loss: 6971.9335 - mae: 6971.9335\n",
            "Epoch 408/500\n",
            "34/34 [==============================] - 0s 1ms/step - loss: 6790.4894 - mae: 6790.4894\n",
            "Epoch 409/500\n",
            "34/34 [==============================] - 0s 1ms/step - loss: 6853.8042 - mae: 6853.8042\n",
            "Epoch 410/500\n",
            "34/34 [==============================] - 0s 1ms/step - loss: 6795.4443 - mae: 6795.4443\n",
            "Epoch 411/500\n",
            "34/34 [==============================] - 0s 1ms/step - loss: 6676.0742 - mae: 6676.0742\n",
            "Epoch 412/500\n",
            "34/34 [==============================] - 0s 1ms/step - loss: 6189.7025 - mae: 6189.7025\n",
            "Epoch 413/500\n",
            "34/34 [==============================] - 0s 1ms/step - loss: 6667.0902 - mae: 6667.0902\n",
            "Epoch 414/500\n",
            "34/34 [==============================] - 0s 1ms/step - loss: 6444.1704 - mae: 6444.1704\n",
            "Epoch 415/500\n",
            "34/34 [==============================] - 0s 1ms/step - loss: 6948.4130 - mae: 6948.4130\n",
            "Epoch 416/500\n",
            "34/34 [==============================] - 0s 1ms/step - loss: 6770.3892 - mae: 6770.3892\n",
            "Epoch 417/500\n",
            "34/34 [==============================] - 0s 1ms/step - loss: 6929.3596 - mae: 6929.3596\n",
            "Epoch 418/500\n",
            "34/34 [==============================] - 0s 1ms/step - loss: 6821.0915 - mae: 6821.0915\n",
            "Epoch 419/500\n",
            "34/34 [==============================] - 0s 1ms/step - loss: 6453.1004 - mae: 6453.1004\n",
            "Epoch 420/500\n",
            "34/34 [==============================] - 0s 1ms/step - loss: 6386.4462 - mae: 6386.4462\n",
            "Epoch 421/500\n",
            "34/34 [==============================] - 0s 1ms/step - loss: 6705.3109 - mae: 6705.3109\n",
            "Epoch 422/500\n",
            "34/34 [==============================] - 0s 1ms/step - loss: 6980.9242 - mae: 6980.9242\n",
            "Epoch 423/500\n",
            "34/34 [==============================] - 0s 1ms/step - loss: 6700.2025 - mae: 6700.2025\n",
            "Epoch 424/500\n",
            "34/34 [==============================] - 0s 1ms/step - loss: 7025.5290 - mae: 7025.5290\n",
            "Epoch 425/500\n",
            "34/34 [==============================] - 0s 1ms/step - loss: 7017.5059 - mae: 7017.5059\n",
            "Epoch 426/500\n",
            "34/34 [==============================] - 0s 1ms/step - loss: 7167.0768 - mae: 7167.0768\n",
            "Epoch 427/500\n",
            "34/34 [==============================] - 0s 1ms/step - loss: 6608.9213 - mae: 6608.9213\n",
            "Epoch 428/500\n",
            "34/34 [==============================] - 0s 1ms/step - loss: 6628.2256 - mae: 6628.2256\n",
            "Epoch 429/500\n",
            "34/34 [==============================] - 0s 1ms/step - loss: 6770.7348 - mae: 6770.7348\n",
            "Epoch 430/500\n",
            "34/34 [==============================] - 0s 2ms/step - loss: 6966.6364 - mae: 6966.6364\n",
            "Epoch 431/500\n",
            "34/34 [==============================] - 0s 1ms/step - loss: 7033.3821 - mae: 7033.3821\n",
            "Epoch 432/500\n",
            "34/34 [==============================] - 0s 1ms/step - loss: 6553.7701 - mae: 6553.7701\n",
            "Epoch 433/500\n",
            "34/34 [==============================] - 0s 1ms/step - loss: 6964.0599 - mae: 6964.0599\n",
            "Epoch 434/500\n",
            "34/34 [==============================] - 0s 1ms/step - loss: 6393.6734 - mae: 6393.6734\n",
            "Epoch 435/500\n",
            "34/34 [==============================] - 0s 1ms/step - loss: 6617.5178 - mae: 6617.5178\n",
            "Epoch 436/500\n",
            "34/34 [==============================] - 0s 1ms/step - loss: 6889.6648 - mae: 6889.6648\n",
            "Epoch 437/500\n",
            "34/34 [==============================] - 0s 2ms/step - loss: 6690.6806 - mae: 6690.6806\n",
            "Epoch 438/500\n",
            "34/34 [==============================] - 0s 2ms/step - loss: 6766.4455 - mae: 6766.4455\n",
            "Epoch 439/500\n",
            "34/34 [==============================] - 0s 1ms/step - loss: 6490.9797 - mae: 6490.9797\n",
            "Epoch 440/500\n",
            "34/34 [==============================] - 0s 1ms/step - loss: 6677.8519 - mae: 6677.8519\n",
            "Epoch 441/500\n",
            "34/34 [==============================] - 0s 1ms/step - loss: 6507.3328 - mae: 6507.3328\n",
            "Epoch 442/500\n",
            "34/34 [==============================] - 0s 1ms/step - loss: 6381.8481 - mae: 6381.8481\n",
            "Epoch 443/500\n",
            "34/34 [==============================] - 0s 2ms/step - loss: 6487.5654 - mae: 6487.5654\n",
            "Epoch 444/500\n",
            "34/34 [==============================] - 0s 1ms/step - loss: 6672.6057 - mae: 6672.6057\n",
            "Epoch 445/500\n",
            "34/34 [==============================] - 0s 1ms/step - loss: 6344.2595 - mae: 6344.2595\n",
            "Epoch 446/500\n",
            "34/34 [==============================] - 0s 1ms/step - loss: 7051.5734 - mae: 7051.5734\n",
            "Epoch 447/500\n",
            "34/34 [==============================] - 0s 1ms/step - loss: 6790.4864 - mae: 6790.4864\n",
            "Epoch 448/500\n",
            "34/34 [==============================] - 0s 1ms/step - loss: 6825.8888 - mae: 6825.8888\n",
            "Epoch 449/500\n",
            "34/34 [==============================] - 0s 1ms/step - loss: 6966.1376 - mae: 6966.1376\n",
            "Epoch 450/500\n",
            "34/34 [==============================] - 0s 1ms/step - loss: 6791.3708 - mae: 6791.3708\n",
            "Epoch 451/500\n",
            "34/34 [==============================] - 0s 1ms/step - loss: 6788.8136 - mae: 6788.8136\n",
            "Epoch 452/500\n",
            "34/34 [==============================] - 0s 1ms/step - loss: 7158.9308 - mae: 7158.9308\n",
            "Epoch 453/500\n",
            "34/34 [==============================] - 0s 1ms/step - loss: 6552.5488 - mae: 6552.5488\n",
            "Epoch 454/500\n",
            "34/34 [==============================] - 0s 1ms/step - loss: 6677.9580 - mae: 6677.9580\n",
            "Epoch 455/500\n",
            "34/34 [==============================] - 0s 1ms/step - loss: 6741.6508 - mae: 6741.6508\n",
            "Epoch 456/500\n",
            "34/34 [==============================] - 0s 1ms/step - loss: 6803.2373 - mae: 6803.2373\n",
            "Epoch 457/500\n",
            "34/34 [==============================] - 0s 2ms/step - loss: 6266.4683 - mae: 6266.4683\n",
            "Epoch 458/500\n",
            "34/34 [==============================] - 0s 1ms/step - loss: 6324.3027 - mae: 6324.3027\n",
            "Epoch 459/500\n",
            "34/34 [==============================] - 0s 1ms/step - loss: 6501.3492 - mae: 6501.3492\n",
            "Epoch 460/500\n",
            "34/34 [==============================] - 0s 1ms/step - loss: 7244.7335 - mae: 7244.7335\n",
            "Epoch 461/500\n",
            "34/34 [==============================] - 0s 1ms/step - loss: 6605.8306 - mae: 6605.8306\n",
            "Epoch 462/500\n",
            "34/34 [==============================] - 0s 1ms/step - loss: 7124.8507 - mae: 7124.8507\n",
            "Epoch 463/500\n",
            "34/34 [==============================] - 0s 1ms/step - loss: 7168.2663 - mae: 7168.2663\n",
            "Epoch 464/500\n",
            "34/34 [==============================] - 0s 1ms/step - loss: 6387.0271 - mae: 6387.0271\n",
            "Epoch 465/500\n",
            "34/34 [==============================] - 0s 1ms/step - loss: 6389.9567 - mae: 6389.9567\n",
            "Epoch 466/500\n",
            "34/34 [==============================] - 0s 1ms/step - loss: 6423.8073 - mae: 6423.8073\n",
            "Epoch 467/500\n",
            "34/34 [==============================] - 0s 1ms/step - loss: 6972.6057 - mae: 6972.6057\n",
            "Epoch 468/500\n",
            "34/34 [==============================] - 0s 2ms/step - loss: 6263.1104 - mae: 6263.1104\n",
            "Epoch 469/500\n",
            "34/34 [==============================] - 0s 2ms/step - loss: 7138.0045 - mae: 7138.0045\n",
            "Epoch 470/500\n",
            "34/34 [==============================] - 0s 2ms/step - loss: 6818.1536 - mae: 6818.1536\n",
            "Epoch 471/500\n",
            "34/34 [==============================] - 0s 1ms/step - loss: 6566.5672 - mae: 6566.5672\n",
            "Epoch 472/500\n",
            "34/34 [==============================] - 0s 2ms/step - loss: 6715.3885 - mae: 6715.3885\n",
            "Epoch 473/500\n",
            "34/34 [==============================] - 0s 2ms/step - loss: 6308.8345 - mae: 6308.8345\n",
            "Epoch 474/500\n",
            "34/34 [==============================] - 0s 1ms/step - loss: 6453.8475 - mae: 6453.8475\n",
            "Epoch 475/500\n",
            "34/34 [==============================] - 0s 2ms/step - loss: 6446.5617 - mae: 6446.5617\n",
            "Epoch 476/500\n",
            "34/34 [==============================] - 0s 2ms/step - loss: 6611.5046 - mae: 6611.5046\n",
            "Epoch 477/500\n",
            "34/34 [==============================] - 0s 2ms/step - loss: 6161.9790 - mae: 6161.9790\n",
            "Epoch 478/500\n",
            "34/34 [==============================] - 0s 1ms/step - loss: 7057.5731 - mae: 7057.5731\n",
            "Epoch 479/500\n",
            "34/34 [==============================] - 0s 1ms/step - loss: 6570.1252 - mae: 6570.1252\n",
            "Epoch 480/500\n",
            "34/34 [==============================] - 0s 2ms/step - loss: 6816.5121 - mae: 6816.5121\n",
            "Epoch 481/500\n",
            "34/34 [==============================] - 0s 1ms/step - loss: 6686.1240 - mae: 6686.1240\n",
            "Epoch 482/500\n",
            "34/34 [==============================] - 0s 1ms/step - loss: 6766.9098 - mae: 6766.9098\n",
            "Epoch 483/500\n",
            "34/34 [==============================] - 0s 1ms/step - loss: 6354.9108 - mae: 6354.9108\n",
            "Epoch 484/500\n",
            "34/34 [==============================] - 0s 1ms/step - loss: 7323.2284 - mae: 7323.2284\n",
            "Epoch 485/500\n",
            "34/34 [==============================] - 0s 1ms/step - loss: 6699.5225 - mae: 6699.5225\n",
            "Epoch 486/500\n",
            "34/34 [==============================] - 0s 1ms/step - loss: 6041.6194 - mae: 6041.6194\n",
            "Epoch 487/500\n",
            "34/34 [==============================] - 0s 2ms/step - loss: 6627.7084 - mae: 6627.7084\n",
            "Epoch 488/500\n",
            "34/34 [==============================] - 0s 1ms/step - loss: 6516.5682 - mae: 6516.5682\n",
            "Epoch 489/500\n",
            "34/34 [==============================] - 0s 1ms/step - loss: 6774.6013 - mae: 6774.6013\n",
            "Epoch 490/500\n",
            "34/34 [==============================] - 0s 1ms/step - loss: 6801.4764 - mae: 6801.4764\n",
            "Epoch 491/500\n",
            "34/34 [==============================] - 0s 1ms/step - loss: 6214.5189 - mae: 6214.5189\n",
            "Epoch 492/500\n",
            "34/34 [==============================] - 0s 1ms/step - loss: 6445.3139 - mae: 6445.3139\n",
            "Epoch 493/500\n",
            "34/34 [==============================] - 0s 1ms/step - loss: 6914.3843 - mae: 6914.3843\n",
            "Epoch 494/500\n",
            "34/34 [==============================] - 0s 2ms/step - loss: 6861.3974 - mae: 6861.3974\n",
            "Epoch 495/500\n",
            "34/34 [==============================] - 0s 1ms/step - loss: 6821.6211 - mae: 6821.6211\n",
            "Epoch 496/500\n",
            "34/34 [==============================] - 0s 1ms/step - loss: 6399.4430 - mae: 6399.4430\n",
            "Epoch 497/500\n",
            "34/34 [==============================] - 0s 1ms/step - loss: 6608.5695 - mae: 6608.5695\n",
            "Epoch 498/500\n",
            "34/34 [==============================] - 0s 1ms/step - loss: 6821.2504 - mae: 6821.2504\n",
            "Epoch 499/500\n",
            "34/34 [==============================] - 0s 2ms/step - loss: 6868.0368 - mae: 6868.0368\n",
            "Epoch 500/500\n",
            "34/34 [==============================] - 0s 2ms/step - loss: 6531.6261 - mae: 6531.6261\n"
          ],
          "name": "stdout"
        },
        {
          "output_type": "execute_result",
          "data": {
            "text/plain": [
              "<tensorflow.python.keras.callbacks.History at 0x7f7d76fc4850>"
            ]
          },
          "metadata": {
            "tags": []
          },
          "execution_count": 74
        }
      ]
    },
    {
      "cell_type": "code",
      "metadata": {
        "colab": {
          "base_uri": "https://localhost:8080/"
        },
        "id": "ESEm4-E_oxvU",
        "outputId": "15804394-977a-4176-c4f5-cdd5d5e8bc81"
      },
      "source": [
        "exp4_model.evaluate(X_test,y_test)"
      ],
      "execution_count": null,
      "outputs": [
        {
          "output_type": "stream",
          "text": [
            "9/9 [==============================] - 0s 2ms/step - loss: 6588.9614 - mae: 6588.9614\n"
          ],
          "name": "stdout"
        },
        {
          "output_type": "execute_result",
          "data": {
            "text/plain": [
              "[6588.96142578125, 6588.96142578125]"
            ]
          },
          "metadata": {
            "tags": []
          },
          "execution_count": 75
        }
      ]
    },
    {
      "cell_type": "markdown",
      "metadata": {
        "id": "QdpDo5ESpoYs"
      },
      "source": [
        "`Experiment 5`\n",
        "\n",
        "Add more layers and units with 500 epochs and use adam"
      ]
    },
    {
      "cell_type": "code",
      "metadata": {
        "colab": {
          "base_uri": "https://localhost:8080/"
        },
        "id": "NA2DKsb9pLPT",
        "outputId": "8d1bbcaa-9c9f-4036-917f-ce5727512797"
      },
      "source": [
        "#set seed\n",
        "tf.random.set_seed(42)\n",
        "\n",
        "#create model\n",
        "exp5_model=tf.keras.Sequential([\n",
        "                                tf.keras.layers.Dense(100),\n",
        "                                tf.keras.layers.Dense(10),\n",
        "                                tf.keras.layers.Dense(1)\n",
        "])\n",
        "\n",
        "exp5_model.compile(loss=tf.keras.losses.mae,\n",
        "                   optimizer=tf.keras.optimizers.Adam(),\n",
        "                   metrics=['mae'])\n",
        "\n",
        "exp5_model.fit(X_train,y_train,verbose=0,epochs=500)"
      ],
      "execution_count": null,
      "outputs": [
        {
          "output_type": "execute_result",
          "data": {
            "text/plain": [
              "<tensorflow.python.keras.callbacks.History at 0x7f7d76eead50>"
            ]
          },
          "metadata": {
            "tags": []
          },
          "execution_count": 76
        }
      ]
    },
    {
      "cell_type": "code",
      "metadata": {
        "colab": {
          "base_uri": "https://localhost:8080/"
        },
        "id": "9K0pT1TfqwmQ",
        "outputId": "e1dc0db0-3996-4f0c-b64a-1efd5c8caebc"
      },
      "source": [
        "exp5_model.evaluate(X_test,y_test)"
      ],
      "execution_count": null,
      "outputs": [
        {
          "output_type": "stream",
          "text": [
            "9/9 [==============================] - 0s 2ms/step - loss: 3170.5703 - mae: 3170.5703\n"
          ],
          "name": "stdout"
        },
        {
          "output_type": "execute_result",
          "data": {
            "text/plain": [
              "[3170.5703125, 3170.5703125]"
            ]
          },
          "metadata": {
            "tags": []
          },
          "execution_count": 77
        }
      ]
    },
    {
      "cell_type": "markdown",
      "metadata": {
        "id": "sWsFojVdq4_z"
      },
      "source": [
        "`experiment 6`\n",
        "\n",
        "Change learning rate further and reduce epochs"
      ]
    },
    {
      "cell_type": "code",
      "metadata": {
        "id": "DWTePpf5q1c-"
      },
      "source": [
        "#set seed\n",
        "tf.random.set_seed(42)\n",
        "\n",
        "#create model\n",
        "exp6_model=tf.keras.Sequential([\n",
        "                                tf.keras.layers.Dense(100),\n",
        "                                tf.keras.layers.Dense(10),\n",
        "                                tf.keras.layers.Dense(1)\n",
        "])\n",
        "\n",
        "exp6_model.compile(loss=tf.keras.losses.mae,\n",
        "                   optimizer=tf.keras.optimizers.Adam(learning_rate=0.001),\n",
        "                   metrics=[\"mae\"])\n",
        "\n",
        "history=exp6_model.fit(X_train,y_train,verbose=0,epochs=200)"
      ],
      "execution_count": null,
      "outputs": []
    },
    {
      "cell_type": "code",
      "metadata": {
        "colab": {
          "base_uri": "https://localhost:8080/"
        },
        "id": "l1Ng2lw2riHY",
        "outputId": "99c0b4b2-4065-43f2-eaaa-e8365e163732"
      },
      "source": [
        "exp6_model.evaluate(X_test,y_test)"
      ],
      "execution_count": null,
      "outputs": [
        {
          "output_type": "stream",
          "text": [
            "9/9 [==============================] - 0s 2ms/step - loss: 3491.2961 - mae: 3491.2961\n"
          ],
          "name": "stdout"
        },
        {
          "output_type": "execute_result",
          "data": {
            "text/plain": [
              "[3491.296142578125, 3491.296142578125]"
            ]
          },
          "metadata": {
            "tags": []
          },
          "execution_count": 87
        }
      ]
    },
    {
      "cell_type": "code",
      "metadata": {
        "colab": {
          "base_uri": "https://localhost:8080/",
          "height": 296
        },
        "id": "Y2drBUO5rp4f",
        "outputId": "1ca5321d-0a58-46c2-d0df-7283fcc12316"
      },
      "source": [
        "pd.DataFrame(history.history).plot()\n",
        "plt.xlabel(\"epochs\")\n",
        "plt.ylabel(\"loss\")"
      ],
      "execution_count": null,
      "outputs": [
        {
          "output_type": "execute_result",
          "data": {
            "text/plain": [
              "Text(0, 0.5, 'loss')"
            ]
          },
          "metadata": {
            "tags": []
          },
          "execution_count": 88
        },
        {
          "output_type": "display_data",
          "data": {
            "image/png": "[encoded data removed]",
            "text/plain": [
              "<Figure size 432x288 with 1 Axes>"
            ]
          },
          "metadata": {
            "tags": [],
            "needs_background": "light"
          }
        }
      ]
    },
    {
      "cell_type": "markdown",
      "metadata": {
        "id": "bvdQLMPLv0Bn"
      },
      "source": [
        "### Tensorflow Early stopping\n",
        "\n",
        "`tf.keras.callbacks.EarlyStopping`\n",
        "\n"
      ]
    },
    {
      "cell_type": "code",
      "metadata": {
        "id": "0bD5NFnrs3ud"
      },
      "source": [
        "callback=tf.keras.callbacks.EarlyStopping(monitor='loss', patience=3)\n",
        "#set seed\n",
        "tf.random.set_seed(42)\n",
        "exp7_model=tf.keras.Sequential([\n",
        "                                tf.keras.layers.Dense(100),\n",
        "                                tf.keras.layers.Dense(10),\n",
        "                                tf.keras.layers.Dense(1)\n",
        "])\n",
        "\n",
        "exp7_model.compile(loss=\"mae\",optimizer=tf.keras.optimizers.Adam(learning_rate=0.001),\n",
        "                   metrics=['mae'])\n",
        "\n",
        "history7=exp7_model.fit(X_train,y_train,callbacks=[callback],verbose=0,epochs=200)\n"
      ],
      "execution_count": null,
      "outputs": []
    },
    {
      "cell_type": "code",
      "metadata": {
        "colab": {
          "base_uri": "https://localhost:8080/"
        },
        "id": "Ff_DFkuY23wz",
        "outputId": "509723bc-c6ba-4e54-e550-987b883a0ec4"
      },
      "source": [
        "exp7_model.evaluate(X_test,y_test)"
      ],
      "execution_count": null,
      "outputs": [
        {
          "output_type": "stream",
          "text": [
            "9/9 [==============================] - 0s 1ms/step - loss: 3624.6331 - mae: 3624.6331\n"
          ],
          "name": "stdout"
        },
        {
          "output_type": "execute_result",
          "data": {
            "text/plain": [
              "[3624.633056640625, 3624.633056640625]"
            ]
          },
          "metadata": {
            "tags": []
          },
          "execution_count": 93
        }
      ]
    },
    {
      "cell_type": "code",
      "metadata": {
        "colab": {
          "base_uri": "https://localhost:8080/",
          "height": 296
        },
        "id": "WNA-QGXe28sN",
        "outputId": "e7de1f3f-8971-4b74-bf8b-81cb12d98e55"
      },
      "source": [
        "pd.DataFrame(history7.history).plot()\n",
        "plt.xlabel(\"epochs\")\n",
        "plt.ylabel(\"loss\")\n"
      ],
      "execution_count": null,
      "outputs": [
        {
          "output_type": "execute_result",
          "data": {
            "text/plain": [
              "Text(0, 0.5, 'loss')"
            ]
          },
          "metadata": {
            "tags": []
          },
          "execution_count": 94
        },
        {
          "output_type": "display_data",
          "data": {
            "image/png": "[encoded data removed]",
            "text/plain": [
              "<Figure size 432x288 with 1 Axes>"
            ]
          },
          "metadata": {
            "tags": [],
            "needs_background": "light"
          }
        }
      ]
    },
    {
      "cell_type": "markdown",
      "metadata": {
        "id": "0KybiKH83ekR"
      },
      "source": [
        "#### Pre-processing data- normalizing and standardization"
      ]
    },
    {
      "cell_type": "code",
      "metadata": {
        "colab": {
          "base_uri": "https://localhost:8080/",
          "height": 282
        },
        "id": "UnT0ln3s3YcF",
        "outputId": "1346c36b-71b9-4797-c608-0d68ee8c8b92"
      },
      "source": [
        "X['age'].plot(kind=\"hist\")"
      ],
      "execution_count": null,
      "outputs": [
        {
          "output_type": "execute_result",
          "data": {
            "text/plain": [
              "<matplotlib.axes._subplots.AxesSubplot at 0x7f7d763a7a10>"
            ]
          },
          "metadata": {
            "tags": []
          },
          "execution_count": 95
        },
        {
          "output_type": "display_data",
          "data": {
            "image/png": "[encoded data removed]",
            "text/plain": [
              "<Figure size 432x288 with 1 Axes>"
            ]
          },
          "metadata": {
            "tags": [],
            "needs_background": "light"
          }
        }
      ]
    },
    {
      "cell_type": "code",
      "metadata": {
        "colab": {
          "base_uri": "https://localhost:8080/",
          "height": 282
        },
        "id": "4LOnr4o14dIb",
        "outputId": "d14ea368-bcc4-4943-bd8b-2b5c87b6e770"
      },
      "source": [
        "X['bmi'].plot(kind=\"hist\")"
      ],
      "execution_count": null,
      "outputs": [
        {
          "output_type": "execute_result",
          "data": {
            "text/plain": [
              "<matplotlib.axes._subplots.AxesSubplot at 0x7f7d75431810>"
            ]
          },
          "metadata": {
            "tags": []
          },
          "execution_count": 96
        },
        {
          "output_type": "display_data",
          "data": {
            "image/png": "[encoded data removed]",
            "text/plain": [
              "<Figure size 432x288 with 1 Axes>"
            ]
          },
          "metadata": {
            "tags": [],
            "needs_background": "light"
          }
        }
      ]
    },
    {
      "cell_type": "code",
      "metadata": {
        "id": "qTM4nL9D4ilx"
      },
      "source": [
        "import pandas as pd\n",
        "df=pd.read_csv(\"https://raw.githubusercontent.com/stedy/Machine-Learning-with-R-datasets/master/insurance.csv\")"
      ],
      "execution_count": null,
      "outputs": []
    },
    {
      "cell_type": "code",
      "metadata": {
        "colab": {
          "base_uri": "https://localhost:8080/",
          "height": 111
        },
        "id": "gfr5jjp3A_qI",
        "outputId": "18a36ca0-f1c1-4bee-a2df-22d6f60ad204"
      },
      "source": [
        "df.head(2)"
      ],
      "execution_count": null,
      "outputs": [
        {
          "output_type": "execute_result",
          "data": {
            "text/html": [
              "<div>\n",
              "<style scoped>\n",
              "    .dataframe tbody tr th:only-of-type {\n",
              "        vertical-align: middle;\n",
              "    }\n",
              "\n",
              "    .dataframe tbody tr th {\n",
              "        vertical-align: top;\n",
              "    }\n",
              "\n",
              "    .dataframe thead th {\n",
              "        text-align: right;\n",
              "    }\n",
              "</style>\n",
              "<table border=\"1\" class=\"dataframe\">\n",
              "  <thead>\n",
              "    <tr style=\"text-align: right;\">\n",
              "      <th></th>\n",
              "      <th>age</th>\n",
              "      <th>sex</th>\n",
              "      <th>bmi</th>\n",
              "      <th>children</th>\n",
              "      <th>smoker</th>\n",
              "      <th>region</th>\n",
              "      <th>charges</th>\n",
              "    </tr>\n",
              "  </thead>\n",
              "  <tbody>\n",
              "    <tr>\n",
              "      <th>0</th>\n",
              "      <td>19</td>\n",
              "      <td>female</td>\n",
              "      <td>27.90</td>\n",
              "      <td>0</td>\n",
              "      <td>yes</td>\n",
              "      <td>southwest</td>\n",
              "      <td>16884.9240</td>\n",
              "    </tr>\n",
              "    <tr>\n",
              "      <th>1</th>\n",
              "      <td>18</td>\n",
              "      <td>male</td>\n",
              "      <td>33.77</td>\n",
              "      <td>1</td>\n",
              "      <td>no</td>\n",
              "      <td>southeast</td>\n",
              "      <td>1725.5523</td>\n",
              "    </tr>\n",
              "  </tbody>\n",
              "</table>\n",
              "</div>"
            ],
            "text/plain": [
              "   age     sex    bmi  children smoker     region     charges\n",
              "0   19  female  27.90         0    yes  southwest  16884.9240\n",
              "1   18    male  33.77         1     no  southeast   1725.5523"
            ]
          },
          "metadata": {
            "tags": []
          },
          "execution_count": 4
        }
      ]
    },
    {
      "cell_type": "code",
      "metadata": {
        "id": "ed63ytCPBFEx"
      },
      "source": [
        "from sklearn.preprocessing import MinMaxScaler,OneHotEncoder\n",
        "from sklearn.compose import make_column_transformer\n",
        "from sklearn.model_selection import train_test_split"
      ],
      "execution_count": null,
      "outputs": []
    },
    {
      "cell_type": "code",
      "metadata": {
        "id": "Bd6GqgPRBV5J"
      },
      "source": [
        "ct=make_column_transformer(\n",
        "    (MinMaxScaler(),[\"age\",\"bmi\",\"children\"]),\n",
        "    (OneHotEncoder(handle_unknown=\"ignore\"),[\"sex\",\"smoker\",\"region\"])\n",
        "\n",
        ")"
      ],
      "execution_count": null,
      "outputs": []
    },
    {
      "cell_type": "code",
      "metadata": {
        "colab": {
          "base_uri": "https://localhost:8080/"
        },
        "id": "aQWm-6-UEHOW",
        "outputId": "87b1d746-be3e-4571-fc17-9e29d2a0b73d"
      },
      "source": [
        "ct"
      ],
      "execution_count": null,
      "outputs": [
        {
          "output_type": "execute_result",
          "data": {
            "text/plain": [
              "ColumnTransformer(n_jobs=None, remainder='drop', sparse_threshold=0.3,\n",
              "                  transformer_weights=None,\n",
              "                  transformers=[('minmaxscaler',\n",
              "                                 MinMaxScaler(copy=True, feature_range=(0, 1)),\n",
              "                                 ['age', 'bmi', 'children']),\n",
              "                                ('onehotencoder',\n",
              "                                 OneHotEncoder(categories='auto', drop=None,\n",
              "                                               dtype=<class 'numpy.float64'>,\n",
              "                                               handle_unknown='ignore',\n",
              "                                               sparse=True),\n",
              "                                 ['sex', 'smoker', 'region'])],\n",
              "                  verbose=False)"
            ]
          },
          "metadata": {
            "tags": []
          },
          "execution_count": 7
        }
      ]
    },
    {
      "cell_type": "code",
      "metadata": {
        "id": "-Ccyh7dmEIFR"
      },
      "source": [
        "#create x and y\n",
        "\n",
        "X=df.drop(\"charges\",axis=1)\n",
        "y=df[\"charges\"]\n",
        "\n",
        "\n",
        "X_train,X_test,y_train,y_test=train_test_split(X,y,test_size=0.2,random_state=42)"
      ],
      "execution_count": null,
      "outputs": []
    },
    {
      "cell_type": "code",
      "metadata": {
        "colab": {
          "base_uri": "https://localhost:8080/"
        },
        "id": "M6op_C79EvwM",
        "outputId": "8971cc2e-b70e-4c36-d2af-023db6194e98"
      },
      "source": [
        "#fit the column transformer\n",
        "ct.fit(X_train)"
      ],
      "execution_count": null,
      "outputs": [
        {
          "output_type": "execute_result",
          "data": {
            "text/plain": [
              "ColumnTransformer(n_jobs=None, remainder='drop', sparse_threshold=0.3,\n",
              "                  transformer_weights=None,\n",
              "                  transformers=[('minmaxscaler',\n",
              "                                 MinMaxScaler(copy=True, feature_range=(0, 1)),\n",
              "                                 ['age', 'bmi', 'children']),\n",
              "                                ('onehotencoder',\n",
              "                                 OneHotEncoder(categories='auto', drop=None,\n",
              "                                               dtype=<class 'numpy.float64'>,\n",
              "                                               handle_unknown='ignore',\n",
              "                                               sparse=True),\n",
              "                                 ['sex', 'smoker', 'region'])],\n",
              "                  verbose=False)"
            ]
          },
          "metadata": {
            "tags": []
          },
          "execution_count": 11
        }
      ]
    },
    {
      "cell_type": "code",
      "metadata": {
        "id": "v5qha-nrE7V5"
      },
      "source": [
        "X_train_normal=ct.transform(X_train)\n",
        "X_test_normal=ct.transform(X_test)"
      ],
      "execution_count": null,
      "outputs": []
    },
    {
      "cell_type": "markdown",
      "metadata": {
        "id": "A54txCaNF5RB"
      },
      "source": [
        "Now data is normalized we can build neural network"
      ]
    },
    {
      "cell_type": "code",
      "metadata": {
        "colab": {
          "base_uri": "https://localhost:8080/"
        },
        "id": "gQSz74snF3jC",
        "outputId": "d5e8f96e-da59-4dda-8105-55e46b2193f6"
      },
      "source": [
        "#set random seed\n",
        "tf.random.set_seed(42)\n",
        "\n",
        "#create model\n",
        "modelnorm=tf.keras.Sequential([\n",
        "                               tf.keras.layers.Dense(100),\n",
        "                               tf.keras.layers.Dense(10),\n",
        "                               tf.keras.layers.Dense(1)\n",
        "])\n",
        "\n",
        "modelnorm.compile(loss=tf.keras.losses.mae,optimizer=tf.keras.optimizers.SGD(),metrics=[\"mae\"])\n",
        "\n",
        "modelnorm.fit(X_train_normal,y_train,epochs=100,verbose=0)"
      ],
      "execution_count": null,
      "outputs": [
        {
          "output_type": "execute_result",
          "data": {
            "text/plain": [
              "<tensorflow.python.keras.callbacks.History at 0x7f91a0fc1ad0>"
            ]
          },
          "metadata": {
            "tags": []
          },
          "execution_count": 14
        }
      ]
    },
    {
      "cell_type": "code",
      "metadata": {
        "colab": {
          "base_uri": "https://localhost:8080/"
        },
        "id": "gfKE3f3uFE-z",
        "outputId": "861bca30-9ddf-4048-83ca-04f28f0c815a"
      },
      "source": [
        "modelnorm.evaluate(X_test_normal,y_test)"
      ],
      "execution_count": null,
      "outputs": [
        {
          "output_type": "stream",
          "text": [
            "9/9 [==============================] - 0s 2ms/step - loss: 5139.3232 - mae: 5139.3232\n"
          ],
          "name": "stdout"
        },
        {
          "output_type": "execute_result",
          "data": {
            "text/plain": [
              "[5139.3232421875, 5139.3232421875]"
            ]
          },
          "metadata": {
            "tags": []
          },
          "execution_count": 15
        }
      ]
    },
    {
      "cell_type": "code",
      "metadata": {
        "colab": {
          "base_uri": "https://localhost:8080/"
        },
        "id": "MYBV5VyIG8LG",
        "outputId": "9b2704af-24cf-438f-f989-e290a858d55c"
      },
      "source": [
        "y_train.mean(),y_train.median()"
      ],
      "execution_count": null,
      "outputs": [
        {
          "output_type": "execute_result",
          "data": {
            "text/plain": [
              "(13346.089736364489, 9575.4421)"
            ]
          },
          "metadata": {
            "tags": []
          },
          "execution_count": 16
        }
      ]
    },
    {
      "cell_type": "markdown",
      "metadata": {
        "id": "pU11LjX0HMe_"
      },
      "source": [
        "model is making error of  avg 5139 which is high by looking at mean and median values.lets improve model\n",
        "\n"
      ]
    },
    {
      "cell_type": "markdown",
      "metadata": {
        "id": "pZXcb_58Kdeq"
      },
      "source": [
        "`Experiment 1`\n",
        "Increase number of epochs with callback early stopping"
      ]
    },
    {
      "cell_type": "code",
      "metadata": {
        "id": "uNWqQ1klHFrc"
      },
      "source": [
        "#create callback function\n",
        "callback=tf.keras.callbacks.EarlyStopping(monitor=\"loss\",patience=2)\n",
        "\n",
        "#set seed\n",
        "tf.random.set_seed(42)\n",
        "\n",
        "#create model\n",
        "modelnorm1=tf.keras.Sequential(\n",
        "    [\n",
        "     tf.keras.layers.Dense(100),\n",
        "     tf.keras.layers.Dense(10),\n",
        "     tf.keras.layers.Dense(1)\n",
        "    ]\n",
        ")\n",
        "\n",
        "modelnorm1.compile(loss=tf.keras.losses.mae,\n",
        "                   optimizer=tf.keras.optimizers.SGD(),\n",
        "                   metrics=[\"mae\"])\n",
        "\n",
        "history1=modelnorm1.fit(X_train_normal,y_train,epochs=300,verbose=0)"
      ],
      "execution_count": null,
      "outputs": []
    },
    {
      "cell_type": "code",
      "metadata": {
        "colab": {
          "base_uri": "https://localhost:8080/"
        },
        "id": "tqUADBYCJ1gS",
        "outputId": "9e8f0c48-585f-4844-ad66-e65751af6cca"
      },
      "source": [
        "modelnorm1.evaluate(X_test_normal,y_test)"
      ],
      "execution_count": null,
      "outputs": [
        {
          "output_type": "stream",
          "text": [
            "9/9 [==============================] - 0s 2ms/step - loss: 4182.2676 - mae: 4182.2676\n"
          ],
          "name": "stdout"
        },
        {
          "output_type": "execute_result",
          "data": {
            "text/plain": [
              "[4182.267578125, 4182.267578125]"
            ]
          },
          "metadata": {
            "tags": []
          },
          "execution_count": 20
        }
      ]
    },
    {
      "cell_type": "code",
      "metadata": {
        "colab": {
          "base_uri": "https://localhost:8080/",
          "height": 296
        },
        "id": "9QtTbpEDJ5hZ",
        "outputId": "fe2999d1-d26b-4879-d976-309e35fb4fd9"
      },
      "source": [
        "pd.DataFrame(history1.history).plot()\n",
        "plt.xlabel(\"epochs\")\n",
        "plt.ylabel(\"loss\")"
      ],
      "execution_count": null,
      "outputs": [
        {
          "output_type": "execute_result",
          "data": {
            "text/plain": [
              "Text(0, 0.5, 'loss')"
            ]
          },
          "metadata": {
            "tags": []
          },
          "execution_count": 21
        },
        {
          "output_type": "display_data",
          "data": {
            "image/png": "[encoded data removed]",
            "text/plain": [
              "<Figure size 432x288 with 1 Axes>"
            ]
          },
          "metadata": {
            "tags": [],
            "needs_background": "light"
          }
        }
      ]
    },
    {
      "cell_type": "markdown",
      "metadata": {
        "id": "_vROMp43Kn-z"
      },
      "source": [
        "`experiment 2` Change learning rate"
      ]
    },
    {
      "cell_type": "code",
      "metadata": {
        "colab": {
          "base_uri": "https://localhost:8080/"
        },
        "id": "pmOM26fMKP6C",
        "outputId": "fc498a75-dc80-4dfa-acc2-1c5b9befd453"
      },
      "source": [
        "#create callback function\n",
        "callback=tf.keras.callbacks.EarlyStopping(monitor=\"loss\",patience=2)\n",
        "\n",
        "#set seed\n",
        "tf.random.set_seed(42)\n",
        "\n",
        "#create model\n",
        "modelnorm2=tf.keras.Sequential(\n",
        "    [\n",
        "     tf.keras.layers.Dense(100),\n",
        "     tf.keras.layers.Dense(10),\n",
        "     tf.keras.layers.Dense(1)\n",
        "    ]\n",
        ")\n",
        "\n",
        "modelnorm2.compile(loss=tf.keras.losses.mae,\n",
        "                   optimizer=tf.keras.optimizers.SGD(learning_rate=0.0001),\n",
        "                   metrics=[\"mae\"])\n",
        "\n",
        "history2=modelnorm2.fit(X_train_normal,y_train,epochs=300,verbose=0,callbacks=[callback])\n",
        "\n",
        "modelnorm2.evaluate(X_test_normal,y_test)"
      ],
      "execution_count": null,
      "outputs": [
        {
          "output_type": "stream",
          "text": [
            "9/9 [==============================] - 0s 2ms/step - loss: 3218.5828 - mae: 3218.5828\n"
          ],
          "name": "stdout"
        },
        {
          "output_type": "execute_result",
          "data": {
            "text/plain": [
              "[3218.582763671875, 3218.582763671875]"
            ]
          },
          "metadata": {
            "tags": []
          },
          "execution_count": 34
        }
      ]
    },
    {
      "cell_type": "code",
      "metadata": {
        "colab": {
          "base_uri": "https://localhost:8080/",
          "height": 296
        },
        "id": "xim2Zd6jK7ag",
        "outputId": "29906788-4c06-416f-c063-f8128c5b5867"
      },
      "source": [
        "pd.DataFrame(history2.history).plot()\n",
        "plt.xlabel(\"epochs\")\n",
        "plt.ylabel(\"loss\")"
      ],
      "execution_count": null,
      "outputs": [
        {
          "output_type": "execute_result",
          "data": {
            "text/plain": [
              "Text(0, 0.5, 'loss')"
            ]
          },
          "metadata": {
            "tags": []
          },
          "execution_count": 35
        },
        {
          "output_type": "display_data",
          "data": {
            "image/png": "[encoded data removed]",
            "text/plain": [
              "<Figure size 432x288 with 1 Axes>"
            ]
          },
          "metadata": {
            "tags": [],
            "needs_background": "light"
          }
        }
      ]
    },
    {
      "cell_type": "markdown",
      "metadata": {
        "id": "O1SBvIMCLOl9"
      },
      "source": [
        "`experiment 3` change optimizer to Adam"
      ]
    },
    {
      "cell_type": "code",
      "metadata": {
        "colab": {
          "base_uri": "https://localhost:8080/"
        },
        "id": "DSxRIe2lLOOv",
        "outputId": "c9cbfae2-727e-4d29-e37c-9eeeed9774c0"
      },
      "source": [
        "#create callback function\n",
        "callback=tf.keras.callbacks.EarlyStopping(monitor=\"loss\",patience=2)\n",
        "\n",
        "#set seed\n",
        "tf.random.set_seed(42)\n",
        "\n",
        "#create model\n",
        "modelnorm3=tf.keras.Sequential(\n",
        "    [\n",
        "     tf.keras.layers.Dense(100),\n",
        "     tf.keras.layers.Dense(10),\n",
        "     tf.keras.layers.Dense(1)\n",
        "    ]\n",
        ")\n",
        "\n",
        "modelnorm3.compile(loss=tf.keras.losses.mae,\n",
        "                   optimizer=tf.keras.optimizers.Adam(learning_rate=0.001),\n",
        "                   metrics=[\"mae\"])\n",
        "\n",
        "history3=modelnorm3.fit(X_train_normal,y_train,epochs=300,verbose=0,callbacks=[callback])\n",
        "\n",
        "modelnorm3.evaluate(X_test_normal,y_test)"
      ],
      "execution_count": null,
      "outputs": [
        {
          "output_type": "stream",
          "text": [
            "9/9 [==============================] - 0s 2ms/step - loss: 3194.0515 - mae: 3194.0515\n"
          ],
          "name": "stdout"
        },
        {
          "output_type": "execute_result",
          "data": {
            "text/plain": [
              "[3194.051513671875, 3194.051513671875]"
            ]
          },
          "metadata": {
            "tags": []
          },
          "execution_count": 32
        }
      ]
    },
    {
      "cell_type": "code",
      "metadata": {
        "colab": {
          "base_uri": "https://localhost:8080/",
          "height": 296
        },
        "id": "oTlW_DyjK7XH",
        "outputId": "8e5b1b82-c43a-4a81-f042-385edae86b88"
      },
      "source": [
        "pd.DataFrame(history3.history).plot()\n",
        "plt.xlabel(\"epochs\")\n",
        "plt.ylabel(\"loss\")"
      ],
      "execution_count": null,
      "outputs": [
        {
          "output_type": "execute_result",
          "data": {
            "text/plain": [
              "Text(0, 0.5, 'loss')"
            ]
          },
          "metadata": {
            "tags": []
          },
          "execution_count": 33
        },
        {
          "output_type": "display_data",
          "data": {
            "image/png": "[encoded data removed]",
            "text/plain": [
              "<Figure size 432x288 with 1 Axes>"
            ]
          },
          "metadata": {
            "tags": [],
            "needs_background": "light"
          }
        }
      ]
    },
    {
      "cell_type": "markdown",
      "metadata": {
        "id": "BJPvTu2lNf0K"
      },
      "source": [
        "`experiment 4`\n",
        "Add layer"
      ]
    },
    {
      "cell_type": "code",
      "metadata": {
        "colab": {
          "base_uri": "https://localhost:8080/"
        },
        "id": "DGy4stScLjsb",
        "outputId": "20cced46-8a7b-43d6-9761-763488c1e6e1"
      },
      "source": [
        "#create callback function\n",
        "callback=tf.keras.callbacks.EarlyStopping(monitor=\"loss\",patience=2)\n",
        "\n",
        "#set seed\n",
        "tf.random.set_seed(42)\n",
        "\n",
        "#create model\n",
        "modelnorm4=tf.keras.Sequential(\n",
        "    [\n",
        "     tf.keras.layers.Dense(100),\n",
        "     tf.keras.layers.Dense(50),\n",
        "     tf.keras.layers.Dense(10),\n",
        "     tf.keras.layers.Dense(1)\n",
        "    ]\n",
        ")\n",
        "\n",
        "modelnorm4.compile(loss=tf.keras.losses.mae,\n",
        "                   optimizer=tf.keras.optimizers.Adam(learning_rate=0.001),\n",
        "                   metrics=[\"mae\"])\n",
        "\n",
        "history4=modelnorm4.fit(X_train_normal,y_train,epochs=300,verbose=0,callbacks=[callback])\n",
        "\n",
        "modelnorm4.evaluate(X_test_normal,y_test)"
      ],
      "execution_count": null,
      "outputs": [
        {
          "output_type": "stream",
          "text": [
            "9/9 [==============================] - 0s 2ms/step - loss: 3231.7390 - mae: 3231.7390\n"
          ],
          "name": "stdout"
        },
        {
          "output_type": "execute_result",
          "data": {
            "text/plain": [
              "[3231.739013671875, 3231.739013671875]"
            ]
          },
          "metadata": {
            "tags": []
          },
          "execution_count": 36
        }
      ]
    },
    {
      "cell_type": "code",
      "metadata": {
        "colab": {
          "base_uri": "https://localhost:8080/",
          "height": 296
        },
        "id": "6r-vXPaWNwNT",
        "outputId": "39c515fb-af93-4629-9a17-d2b7fde15bde"
      },
      "source": [
        "pd.DataFrame(history4.history).plot()\n",
        "plt.xlabel(\"epochs\")\n",
        "plt.ylabel(\"loss\")"
      ],
      "execution_count": null,
      "outputs": [
        {
          "output_type": "execute_result",
          "data": {
            "text/plain": [
              "Text(0, 0.5, 'loss')"
            ]
          },
          "metadata": {
            "tags": []
          },
          "execution_count": 37
        },
        {
          "output_type": "display_data",
          "data": {
            "image/png": "[encoded data removed]",
            "text/plain": [
              "<Figure size 432x288 with 1 Axes>"
            ]
          },
          "metadata": {
            "tags": [],
            "needs_background": "light"
          }
        }
      ]
    },
    {
      "cell_type": "code",
      "metadata": {
        "id": "JNukmW9hNy_4"
      },
      "source": [
        ""
      ],
      "execution_count": null,
      "outputs": []
    }
  ]
}