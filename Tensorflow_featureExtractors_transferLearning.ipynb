{
  "nbformat": 4,
  "nbformat_minor": 0,
  "metadata": {
    "colab": {
      "name": "Tensorflow_featureExtractors_transferLearning.ipynb",
      "provenance": [],
      "collapsed_sections": []
    },
    "kernelspec": {
      "name": "python3",
      "display_name": "Python 3"
    },
    "language_info": {
      "name": "python"
    },
    "accelerator": "GPU"
  },
  "cells": [
    {
      "cell_type": "markdown",
      "metadata": {
        "id": "T93Nk8c9LpqQ"
      },
      "source": [
        "**Transfer learning**\n",
        "\n",
        "\n",
        "What is transfer learning?\n",
        "\n",
        "Transfer learning is a research problem in machine learning that focuses on storing knowledge gained while solving one problem and applying it to a different but related problem. For example, knowledge gained while learning to recognize cars could apply when trying to recognize trucks.\n",
        "\n",
        "Benefits:\n",
        "* can leverage an existing neaural network architecture proven to work on problems similar to our own\n",
        "\n",
        "* Can leverage a working neural network architecture which has already learned patterns on similar data to our own , then we can adapt those patterns to solve similar problem \n",
        "\n",
        "\n",
        "**Different types of transfer learning:**\n",
        "* Using existing model with no change.-**\"As is\" transfer learning**\n",
        "* **Feature extraction** : USe pre learned patterns of an existing model (EfficientNetB0 is trained on imagenet and outputs 1000 classes we can use this for our problem by adjusting output layer).\n",
        "* **Fine tunning transfer learning** - use pre learned patterns of existing model anf fine tune many or all of underline layers.\n"
      ]
    },
    {
      "cell_type": "markdown",
      "metadata": {
        "id": "wsdVN9wGv8sd"
      },
      "source": [
        ""
      ]
    },
    {
      "cell_type": "code",
      "metadata": {
        "colab": {
          "base_uri": "https://localhost:8080/"
        },
        "id": "l0riJ9OPLLY7",
        "outputId": "cdc0abe6-876b-4403-850f-9125ff6559a1"
      },
      "source": [
        "!nvidia-smi #check do we have GPU runtime environment"
      ],
      "execution_count": 1,
      "outputs": [
        {
          "output_type": "stream",
          "text": [
            "Tue Jun  1 08:39:56 2021       \n",
            "+-----------------------------------------------------------------------------+\n",
            "| NVIDIA-SMI 465.19.01    Driver Version: 460.32.03    CUDA Version: 11.2     |\n",
            "|-------------------------------+----------------------+----------------------+\n",
            "| GPU  Name        Persistence-M| Bus-Id        Disp.A | Volatile Uncorr. ECC |\n",
            "| Fan  Temp  Perf  Pwr:Usage/Cap|         Memory-Usage | GPU-Util  Compute M. |\n",
            "|                               |                      |               MIG M. |\n",
            "|===============================+======================+======================|\n",
            "|   0  Tesla T4            Off  | 00000000:00:04.0 Off |                    0 |\n",
            "| N/A   66C    P8    11W /  70W |      0MiB / 15109MiB |      0%      Default |\n",
            "|                               |                      |                  N/A |\n",
            "+-------------------------------+----------------------+----------------------+\n",
            "                                                                               \n",
            "+-----------------------------------------------------------------------------+\n",
            "| Processes:                                                                  |\n",
            "|  GPU   GI   CI        PID   Type   Process name                  GPU Memory |\n",
            "|        ID   ID                                                   Usage      |\n",
            "|=============================================================================|\n",
            "|  No running processes found                                                 |\n",
            "+-----------------------------------------------------------------------------+\n"
          ],
          "name": "stdout"
        }
      ]
    },
    {
      "cell_type": "markdown",
      "metadata": {
        "id": "__svwcS5Z-BE"
      },
      "source": [
        "#### Download data "
      ]
    },
    {
      "cell_type": "code",
      "metadata": {
        "colab": {
          "base_uri": "https://localhost:8080/"
        },
        "id": "2Lmtwl0NaP50",
        "outputId": "ade13855-fd77-4fd9-8364-f12ba995fdea"
      },
      "source": [
        "import zipfile\n",
        "\n",
        "!wget https://storage.googleapis.com/ztm_tf_course/food_vision/10_food_classes_10_percent.zip\n",
        "\n",
        "zip_ref=zipfile.ZipFile(\"10_food_classes_10_percent.zip\")\n",
        "zip_ref.extractall()\n",
        "zip_ref.close()"
      ],
      "execution_count": 2,
      "outputs": [
        {
          "output_type": "stream",
          "text": [
            "--2021-06-01 08:39:56--  https://storage.googleapis.com/ztm_tf_course/food_vision/10_food_classes_10_percent.zip\n",
            "Resolving storage.googleapis.com (storage.googleapis.com)... 173.194.202.128, 173.194.203.128, 74.125.20.128, ...\n",
            "Connecting to storage.googleapis.com (storage.googleapis.com)|173.194.202.128|:443... connected.\n",
            "HTTP request sent, awaiting response... 200 OK\n",
            "Length: 168546183 (161M) [application/zip]\n",
            "Saving to: ‘10_food_classes_10_percent.zip’\n",
            "\n",
            "10_food_classes_10_ 100%[===================>] 160.74M   176MB/s    in 0.9s    \n",
            "\n",
            "2021-06-01 08:39:58 (176 MB/s) - ‘10_food_classes_10_percent.zip’ saved [168546183/168546183]\n",
            "\n"
          ],
          "name": "stdout"
        }
      ]
    },
    {
      "cell_type": "code",
      "metadata": {
        "colab": {
          "base_uri": "https://localhost:8080/"
        },
        "id": "rirNBsUAajM5",
        "outputId": "5ba1b7c5-5545-4ea8-83ab-3c758619e4a6"
      },
      "source": [
        "import os\n",
        "\n",
        "for dirpath,dirnames,filename in os.walk(\"10_food_classes_10_percent\"):\n",
        "  print(f\"There are {len(dirnames)} directories and {len(filename)} images in {dirpath}\")"
      ],
      "execution_count": 3,
      "outputs": [
        {
          "output_type": "stream",
          "text": [
            "There are 2 directories and 0 images in 10_food_classes_10_percent\n",
            "There are 10 directories and 0 images in 10_food_classes_10_percent/test\n",
            "There are 0 directories and 250 images in 10_food_classes_10_percent/test/fried_rice\n",
            "There are 0 directories and 250 images in 10_food_classes_10_percent/test/steak\n",
            "There are 0 directories and 250 images in 10_food_classes_10_percent/test/ramen\n",
            "There are 0 directories and 250 images in 10_food_classes_10_percent/test/pizza\n",
            "There are 0 directories and 250 images in 10_food_classes_10_percent/test/chicken_curry\n",
            "There are 0 directories and 250 images in 10_food_classes_10_percent/test/hamburger\n",
            "There are 0 directories and 250 images in 10_food_classes_10_percent/test/ice_cream\n",
            "There are 0 directories and 250 images in 10_food_classes_10_percent/test/sushi\n",
            "There are 0 directories and 250 images in 10_food_classes_10_percent/test/chicken_wings\n",
            "There are 0 directories and 250 images in 10_food_classes_10_percent/test/grilled_salmon\n",
            "There are 10 directories and 0 images in 10_food_classes_10_percent/train\n",
            "There are 0 directories and 75 images in 10_food_classes_10_percent/train/fried_rice\n",
            "There are 0 directories and 75 images in 10_food_classes_10_percent/train/steak\n",
            "There are 0 directories and 75 images in 10_food_classes_10_percent/train/ramen\n",
            "There are 0 directories and 75 images in 10_food_classes_10_percent/train/pizza\n",
            "There are 0 directories and 75 images in 10_food_classes_10_percent/train/chicken_curry\n",
            "There are 0 directories and 75 images in 10_food_classes_10_percent/train/hamburger\n",
            "There are 0 directories and 75 images in 10_food_classes_10_percent/train/ice_cream\n",
            "There are 0 directories and 75 images in 10_food_classes_10_percent/train/sushi\n",
            "There are 0 directories and 75 images in 10_food_classes_10_percent/train/chicken_wings\n",
            "There are 0 directories and 75 images in 10_food_classes_10_percent/train/grilled_salmon\n"
          ],
          "name": "stdout"
        }
      ]
    },
    {
      "cell_type": "markdown",
      "metadata": {
        "id": "uiZOvHldbP71"
      },
      "source": [
        "#### Prepare data"
      ]
    },
    {
      "cell_type": "code",
      "metadata": {
        "id": "BDu6TalHEZvk"
      },
      "source": [
        "from tensorflow.keras.preprocessing.image import ImageDataGenerator"
      ],
      "execution_count": 4,
      "outputs": []
    },
    {
      "cell_type": "code",
      "metadata": {
        "id": "4VxluZ5ZEZsH"
      },
      "source": [
        "IMAGE_SHAPE=(224,224)\n",
        "BATCH_SIZE=32"
      ],
      "execution_count": 5,
      "outputs": []
    },
    {
      "cell_type": "code",
      "metadata": {
        "colab": {
          "base_uri": "https://localhost:8080/"
        },
        "id": "y1IdYmL_EZo9",
        "outputId": "0011e24f-d3f1-4dc8-8d3b-1a59ddf59f5f"
      },
      "source": [
        "train_dir=\"10_food_classes_10_percent/train\"\n",
        "test_dir=\"10_food_classes_10_percent/test\"\n",
        "\n",
        "train_datagen=ImageDataGenerator(rescale=1/255.0)\n",
        "test_datagen=ImageDataGenerator(rescale=1/255.0)\n",
        "\n",
        "\n",
        "print(\"Training images: \")\n",
        "train_data_10_percent=train_datagen.flow_from_directory(train_dir,\n",
        "                                                        target_size=IMAGE_SHAPE,\n",
        "                                                        batch_size=BATCH_SIZE,\n",
        "                                                        class_mode=\"categorical\")\n",
        "\n",
        "\n",
        "print(\"Testing images: \")\n",
        "test_data=test_datagen.flow_from_directory(test_dir,\n",
        "                                           class_mode=\"categorical\",\n",
        "                                           target_size=IMAGE_SHAPE,\n",
        "                                           batch_size=BATCH_SIZE)"
      ],
      "execution_count": 6,
      "outputs": [
        {
          "output_type": "stream",
          "text": [
            "Training images: \n",
            "Found 750 images belonging to 10 classes.\n",
            "Testing images: \n",
            "Found 2500 images belonging to 10 classes.\n"
          ],
          "name": "stdout"
        }
      ]
    },
    {
      "cell_type": "markdown",
      "metadata": {
        "id": "bCKrHAfaEZl7"
      },
      "source": [
        "## setting up callbacks\n",
        "Extra functionality that you can add to your models to be performed during or after training.\n",
        "Most popular\n",
        "\n",
        "* Tracking experiments with the tensorboard callback \n",
        "* Model checkpoint with the modelCheckPoint callback\n",
        "* Early stopping (Stopping model from overfitting)"
      ]
    },
    {
      "cell_type": "markdown",
      "metadata": {
        "id": "dUAqElkWEZi7"
      },
      "source": [
        "##### create tensorboard callback"
      ]
    },
    {
      "cell_type": "code",
      "metadata": {
        "id": "lvLk67KBEZgC"
      },
      "source": [
        "import datetime\n",
        "\n",
        "def create_tensorboard_callback(dir_name,experiment_name):\n",
        "  log_dir=dir_name+\"/\"+experiment_name+\"/\"+datetime.datetime.now().strftime(\"%Y%m%d-%H%M%S\")\n",
        "  tensorboard_callback=tf.keras.callbacks.TensorBoard(log_dir=log_dir)\n",
        "  print(f\"Saving tensorboard log files to : {log_dir}\")\n",
        "  return tensorboard_callback"
      ],
      "execution_count": 7,
      "outputs": []
    },
    {
      "cell_type": "markdown",
      "metadata": {
        "id": "9uVnXesKhcBa"
      },
      "source": [
        "#### creating models using tensorflow hub  \n",
        "It is repository of already `trained models`\n",
        "\n",
        "https://tfhub.dev\n",
        "\n",
        "\n",
        "while searching for classification models on tensorflow hub we found below model feature vector:\n",
        "https://tfhub.dev/tensorflow/efficientnet/b0/feature-vector/1\n",
        "\n"
      ]
    },
    {
      "cell_type": "code",
      "metadata": {
        "id": "9dU7gCYniKC4"
      },
      "source": [
        "resnet_url=\"https://tfhub.dev/google/imagenet/resnet_v2_101/feature_vector/5\"\n",
        "efficientnet_url=\"https://tfhub.dev/tensorflow/efficientnet/b0/feature-vector/1\""
      ],
      "execution_count": 8,
      "outputs": []
    },
    {
      "cell_type": "code",
      "metadata": {
        "id": "Un8_4oU9leJA"
      },
      "source": [
        "#import dependencies\n",
        "import tensorflow as tf\n",
        "import tensorflow_hub as hub\n",
        "from tensorflow.keras.layers import Dense"
      ],
      "execution_count": 9,
      "outputs": []
    },
    {
      "cell_type": "code",
      "metadata": {
        "id": "QlgbpyJymHEK"
      },
      "source": [
        "def create_model(model_url,num_classes=10):\n",
        "  \"\"\"\n",
        "  Takes tensorflow hub url and creates keras sequential model with it\n",
        "\n",
        "  Args:\n",
        "      model_url: A tensorflow hub feature extraction url\n",
        "      num_classes (int): Number of output neurons in the output layer should be eaual to number of target classes \n",
        "      default 10\n",
        "  Returns:\n",
        "      An uncompiled keras sequential model with model url as feature extracter layer and \n",
        "      Dense layer with num of classes output neurons\n",
        "\n",
        "  \"\"\"\n",
        "\n",
        "  #download the pre-trained model and save it as keras layer\n",
        "\n",
        "  feature_extraction_layer=hub.KerasLayer(model_url,trainable=False,name=\"Feature_extraction_layer\",\n",
        "                                         input_shape=(224,224,3))\n",
        "  \n",
        "  #create our own model\n",
        "  model=tf.keras.Sequential([\n",
        "        feature_extraction_layer,\n",
        "        Dense(num_classes,activation=\"softmax\",name=\"output_layer\")                     \n",
        "  ])\n",
        "  return model\n"
      ],
      "execution_count": 10,
      "outputs": []
    },
    {
      "cell_type": "code",
      "metadata": {
        "colab": {
          "base_uri": "https://localhost:8080/"
        },
        "id": "hx4iGkt7odhT",
        "outputId": "6061e97c-2ed7-4fa7-c2a7-3fbdc14a7cbf"
      },
      "source": [
        "#create resnet model\n",
        "resnet_model=create_model(resnet_url)\n",
        "resnet_model.summary()"
      ],
      "execution_count": 11,
      "outputs": [
        {
          "output_type": "stream",
          "text": [
            "Model: \"sequential\"\n",
            "_________________________________________________________________\n",
            "Layer (type)                 Output Shape              Param #   \n",
            "=================================================================\n",
            "Feature_extraction_layer (Ke (None, 2048)              42626560  \n",
            "_________________________________________________________________\n",
            "output_layer (Dense)         (None, 10)                20490     \n",
            "=================================================================\n",
            "Total params: 42,647,050\n",
            "Trainable params: 20,490\n",
            "Non-trainable params: 42,626,560\n",
            "_________________________________________________________________\n"
          ],
          "name": "stdout"
        }
      ]
    },
    {
      "cell_type": "code",
      "metadata": {
        "colab": {
          "base_uri": "https://localhost:8080/"
        },
        "id": "UCSmefD0owbe",
        "outputId": "130a9c8c-3d0d-45fe-c659-83de0cd0d200"
      },
      "source": [
        "efficientnet_model=create_model(efficientnet_url)\n",
        "efficientnet_model.summary()"
      ],
      "execution_count": 12,
      "outputs": [
        {
          "output_type": "stream",
          "text": [
            "Model: \"sequential_1\"\n",
            "_________________________________________________________________\n",
            "Layer (type)                 Output Shape              Param #   \n",
            "=================================================================\n",
            "Feature_extraction_layer (Ke (None, 1280)              4049564   \n",
            "_________________________________________________________________\n",
            "output_layer (Dense)         (None, 10)                12810     \n",
            "=================================================================\n",
            "Total params: 4,062,374\n",
            "Trainable params: 12,810\n",
            "Non-trainable params: 4,049,564\n",
            "_________________________________________________________________\n"
          ],
          "name": "stdout"
        }
      ]
    },
    {
      "cell_type": "markdown",
      "metadata": {
        "id": "WyleZcLext5O"
      },
      "source": [
        "In above two models summary we can observe that even if total number of parameters are very high, trainable parameters are very few.This shows the power of using transfer learning, we just need to train last/output layer (dense layer) to get phenomenal results even if we dont have enough data to train."
      ]
    },
    {
      "cell_type": "code",
      "metadata": {
        "id": "m36AcIQrqG2D"
      },
      "source": [
        "#now these models are not yet compiled.Let's compile them\n",
        "\n",
        "resnet_model.compile(loss=tf.keras.losses.categorical_crossentropy,\n",
        "                     optimizer=tf.keras.optimizers.Adam(),\n",
        "                     metrics=[\"accuracy\"])"
      ],
      "execution_count": 13,
      "outputs": []
    },
    {
      "cell_type": "code",
      "metadata": {
        "colab": {
          "base_uri": "https://localhost:8080/"
        },
        "id": "6Q5qyHrZtBK5",
        "outputId": "645796c8-4231-451c-87f2-ce5c5065514e"
      },
      "source": [
        "tf.random.set_seed(42)\n",
        "resnet_history=resnet_model.fit(train_data_10_percent,\n",
        "                                epochs=5,\n",
        "                                steps_per_epoch=len(train_data_10_percent),\n",
        "                                validation_data=test_data,\n",
        "                                validation_steps=len(test_data),\n",
        "                                callbacks=[create_tensorboard_callback(dir_name=\"tensorflow_hub\",\n",
        "                                                                       experiment_name=\"resnet50v2\")])"
      ],
      "execution_count": 14,
      "outputs": [
        {
          "output_type": "stream",
          "text": [
            "Saving tensorboard log files to : tensorflow_hub/resnet50v2/20210601-084022\n",
            "Epoch 1/5\n",
            "24/24 [==============================] - 57s 916ms/step - loss: 1.9486 - accuracy: 0.3480 - val_loss: 1.1848 - val_accuracy: 0.6048\n",
            "Epoch 2/5\n",
            "24/24 [==============================] - 18s 767ms/step - loss: 0.8716 - accuracy: 0.7307 - val_loss: 0.8511 - val_accuracy: 0.7100\n",
            "Epoch 3/5\n",
            "24/24 [==============================] - 18s 764ms/step - loss: 0.5821 - accuracy: 0.8347 - val_loss: 0.7218 - val_accuracy: 0.7680\n",
            "Epoch 4/5\n",
            "24/24 [==============================] - 18s 763ms/step - loss: 0.4265 - accuracy: 0.8973 - val_loss: 0.6742 - val_accuracy: 0.7816\n",
            "Epoch 5/5\n",
            "24/24 [==============================] - 18s 765ms/step - loss: 0.3335 - accuracy: 0.9413 - val_loss: 0.6433 - val_accuracy: 0.7864\n"
          ],
          "name": "stdout"
        }
      ]
    },
    {
      "cell_type": "code",
      "metadata": {
        "colab": {
          "base_uri": "https://localhost:8080/",
          "height": 285
        },
        "id": "_3un-GQKuFeP",
        "outputId": "e774894d-1859-4a7a-9314-c36a827a4db7"
      },
      "source": [
        "import pandas as pd\n",
        "pd.DataFrame(resnet_history.history).plot()"
      ],
      "execution_count": 15,
      "outputs": [
        {
          "output_type": "execute_result",
          "data": {
            "text/plain": [
              "<matplotlib.axes._subplots.AxesSubplot at 0x7f09b670acd0>"
            ]
          },
          "metadata": {
            "tags": []
          },
          "execution_count": 15
        },
        {
          "output_type": "display_data",
          "data": {
            "image/png": "[encoded data removed]",
            "text/plain": [
              "<Figure size 432x288 with 1 Axes>"
            ]
          },
          "metadata": {
            "tags": [],
            "needs_background": "light"
          }
        }
      ]
    },
    {
      "cell_type": "code",
      "metadata": {
        "id": "5_bjJmGLvOrC"
      },
      "source": [
        "import matplotlib.pyplot as plt\n",
        "\n",
        "def plot_loss_curves(history):\n",
        "  \"\"\"\n",
        "  Returns seperate loss curves for training and validation metrics\n",
        "\n",
        "  Args:\n",
        "      history: Tensorflow history object\n",
        "  Returns:\n",
        "      plot of training/validation loss and accuracy metrics      \n",
        "  \"\"\"\n",
        "\n",
        "  loss=history.history[\"loss\"]\n",
        "  val_loss=history.history[\"val_loss\"]\n",
        "\n",
        "  accuracy=history.history[\"accuracy\"]\n",
        "  val_accuracy=history.history[\"val_accuracy\"]\n",
        "\n",
        "  epochs=range(len(history.history['loss']))\n",
        "\n",
        "  #plot loss\n",
        "  plt.plot(epochs ,loss ,label=\"training_loss\")\n",
        "  plt.plot(epochs,val_loss,label=\"validation_loss\")\n",
        "\n",
        "  plt.title(\"Loss\")\n",
        "  plt.xlabel(\"Epochs\")\n",
        "  plt.legend()\n",
        "  \n",
        "  #plot accuracy\n",
        "  plt.figure()\n",
        "  plt.plot(epochs,accuracy,label=\"accuracy\")\n",
        "  plt.plot(epochs,val_accuracy,label=\"val_accuracy\")\n",
        "  plt.title(\"Accuracy\")\n",
        "  plt.xlabel(\"Epochs\")\n",
        "  plt.legend()"
      ],
      "execution_count": 16,
      "outputs": []
    },
    {
      "cell_type": "code",
      "metadata": {
        "colab": {
          "base_uri": "https://localhost:8080/",
          "height": 573
        },
        "id": "CnpyRgqQH_fI",
        "outputId": "0f14b7a3-1ee7-4f44-b669-519f1757615a"
      },
      "source": [
        "plot_loss_curves(history=resnet_history)"
      ],
      "execution_count": 17,
      "outputs": [
        {
          "output_type": "display_data",
          "data": {
            "image/png": "[encoded data removed]",
            "text/plain": [
              "<Figure size 432x288 with 1 Axes>"
            ]
          },
          "metadata": {
            "tags": [],
            "needs_background": "light"
          }
        },
        {
          "output_type": "display_data",
          "data": {
            "image/png": "[encoded data removed]",
            "text/plain": [
              "<Figure size 432x288 with 1 Axes>"
            ]
          },
          "metadata": {
            "tags": [],
            "needs_background": "light"
          }
        }
      ]
    },
    {
      "cell_type": "markdown",
      "metadata": {
        "id": "rVhflAOsIGnu"
      },
      "source": [
        "#### Create and test efficientnet feature extractor"
      ]
    },
    {
      "cell_type": "code",
      "metadata": {
        "colab": {
          "base_uri": "https://localhost:8080/"
        },
        "id": "uYGJWZvmJFTP",
        "outputId": "8c24de2f-9292-4707-fcab-259695f36af7"
      },
      "source": [
        "tf.random.set_seed(42)\n",
        "efficientnet_model=create_model(\"https://tfhub.dev/tensorflow/efficientnet/b0/feature-vector/1\")\n",
        "efficientnet_model.summary()"
      ],
      "execution_count": 18,
      "outputs": [
        {
          "output_type": "stream",
          "text": [
            "Model: \"sequential_2\"\n",
            "_________________________________________________________________\n",
            "Layer (type)                 Output Shape              Param #   \n",
            "=================================================================\n",
            "Feature_extraction_layer (Ke (None, 1280)              4049564   \n",
            "_________________________________________________________________\n",
            "output_layer (Dense)         (None, 10)                12810     \n",
            "=================================================================\n",
            "Total params: 4,062,374\n",
            "Trainable params: 12,810\n",
            "Non-trainable params: 4,049,564\n",
            "_________________________________________________________________\n"
          ],
          "name": "stdout"
        }
      ]
    },
    {
      "cell_type": "code",
      "metadata": {
        "colab": {
          "base_uri": "https://localhost:8080/"
        },
        "id": "fTLfQ9SzJFPy",
        "outputId": "f4ba4aed-f297-453f-d9e7-116fb4b55b96"
      },
      "source": [
        "#compile the model\n",
        "efficientnet_model.compile(loss=tf.keras.losses.categorical_crossentropy,\n",
        "                           optimizer=tf.keras.optimizers.Adam(),\n",
        "                           metrics=[\"accuracy\"])\n",
        "\n",
        "#fit the model\n",
        "efficientnet_history=efficientnet_model.fit(train_data_10_percent,epochs=5,\n",
        "                       steps_per_epoch=len(train_data_10_percent),\n",
        "                       validation_data=test_data,\n",
        "                       validation_steps=len(test_data),\n",
        "                       callbacks=[create_tensorboard_callback(dir_name=\"tensorflow_hub\",\n",
        "                                                                       experiment_name=\"efficientnet\")])"
      ],
      "execution_count": 19,
      "outputs": [
        {
          "output_type": "stream",
          "text": [
            "Saving tensorboard log files to : tensorflow_hub/efficientnet/20210601-084240\n",
            "Epoch 1/5\n",
            "24/24 [==============================] - 27s 785ms/step - loss: 1.8277 - accuracy: 0.4373 - val_loss: 1.2694 - val_accuracy: 0.7328\n",
            "Epoch 2/5\n",
            "24/24 [==============================] - 15s 632ms/step - loss: 1.0596 - accuracy: 0.7600 - val_loss: 0.8563 - val_accuracy: 0.8240\n",
            "Epoch 3/5\n",
            "24/24 [==============================] - 15s 630ms/step - loss: 0.7568 - accuracy: 0.8413 - val_loss: 0.6913 - val_accuracy: 0.8464\n",
            "Epoch 4/5\n",
            "24/24 [==============================] - 15s 637ms/step - loss: 0.6091 - accuracy: 0.8680 - val_loss: 0.6062 - val_accuracy: 0.8592\n",
            "Epoch 5/5\n",
            "24/24 [==============================] - 15s 639ms/step - loss: 0.5141 - accuracy: 0.8960 - val_loss: 0.5511 - val_accuracy: 0.8636\n"
          ],
          "name": "stdout"
        }
      ]
    },
    {
      "cell_type": "code",
      "metadata": {
        "colab": {
          "base_uri": "https://localhost:8080/",
          "height": 573
        },
        "id": "l2F56sp_JFMt",
        "outputId": "a7bb8f66-f25d-489f-f6d7-295891d6db64"
      },
      "source": [
        "plot_loss_curves(efficientnet_history)"
      ],
      "execution_count": 20,
      "outputs": [
        {
          "output_type": "display_data",
          "data": {
            "image/png": "[encoded data removed]",
            "text/plain": [
              "<Figure size 432x288 with 1 Axes>"
            ]
          },
          "metadata": {
            "tags": [],
            "needs_background": "light"
          }
        },
        {
          "output_type": "display_data",
          "data": {
            "image/png": "[encoded data removed]",
            "text/plain": [
              "<Figure size 432x288 with 1 Axes>"
            ]
          },
          "metadata": {
            "tags": [],
            "needs_background": "light"
          }
        }
      ]
    },
    {
      "cell_type": "code",
      "metadata": {
        "colab": {
          "base_uri": "https://localhost:8080/"
        },
        "id": "rOF-NWGaJFJ6",
        "outputId": "71151f54-0921-4733-c38a-f488efa2e683"
      },
      "source": [
        "efficientnet_model.evaluate(test_data)"
      ],
      "execution_count": 21,
      "outputs": [
        {
          "output_type": "stream",
          "text": [
            "79/79 [==============================] - 12s 148ms/step - loss: 0.5511 - accuracy: 0.8636\n"
          ],
          "name": "stdout"
        },
        {
          "output_type": "execute_result",
          "data": {
            "text/plain": [
              "[0.5510755181312561, 0.8636000156402588]"
            ]
          },
          "metadata": {
            "tags": []
          },
          "execution_count": 21
        }
      ]
    },
    {
      "cell_type": "markdown",
      "metadata": {
        "id": "F4SpQ3nFxwxZ"
      },
      "source": [
        "#### how to check number of layers in pre-trained model"
      ]
    },
    {
      "cell_type": "code",
      "metadata": {
        "colab": {
          "base_uri": "https://localhost:8080/"
        },
        "id": "BfLpHfr3yHlV",
        "outputId": "2ec7cd96-3098-4b18-ce47-6faace68fb40"
      },
      "source": [
        "efficientnet_model.layers"
      ],
      "execution_count": 26,
      "outputs": [
        {
          "output_type": "execute_result",
          "data": {
            "text/plain": [
              "[<tensorflow_hub.keras_layer.KerasLayer at 0x7f09b20c21d0>,\n",
              " <tensorflow.python.keras.layers.core.Dense at 0x7f0749b27e90>]"
            ]
          },
          "metadata": {
            "tags": []
          },
          "execution_count": 26
        }
      ]
    },
    {
      "cell_type": "code",
      "metadata": {
        "colab": {
          "base_uri": "https://localhost:8080/"
        },
        "id": "e1ZVAgxdyIi-",
        "outputId": "7080e126-38b4-4d31-8234-89deb9beb124"
      },
      "source": [
        "efficientnet_model.layers[0]"
      ],
      "execution_count": 27,
      "outputs": [
        {
          "output_type": "execute_result",
          "data": {
            "text/plain": [
              "<tensorflow_hub.keras_layer.KerasLayer at 0x7f09b20c21d0>"
            ]
          },
          "metadata": {
            "tags": []
          },
          "execution_count": 27
        }
      ]
    },
    {
      "cell_type": "code",
      "metadata": {
        "colab": {
          "base_uri": "https://localhost:8080/"
        },
        "id": "tN9mzK88JFGt",
        "outputId": "56dd0ff8-916c-435f-b3cb-0ef5e5716840"
      },
      "source": [
        "len(efficientnet_model.layers[0].weights)"
      ],
      "execution_count": 25,
      "outputs": [
        {
          "output_type": "execute_result",
          "data": {
            "text/plain": [
              "309"
            ]
          },
          "metadata": {
            "tags": []
          },
          "execution_count": 25
        }
      ]
    },
    {
      "cell_type": "markdown",
      "metadata": {
        "id": "w8miUNAlx5Gr"
      },
      "source": [
        "#### Compare model results using tensorboard"
      ]
    },
    {
      "cell_type": "markdown",
      "metadata": {
        "id": "3kfiI3xtzhKL"
      },
      "source": [
        "**Tesnorboard**\n",
        "\n",
        "A way to visually explore your machine learning models performance and internals.\n",
        "\n",
        "Host, track and shares your machine learning experiments on Tensorboard.dev(***If data is private do not upload it on here.As uploaded data in this repo will be public***)\n",
        "\n",
        "\n",
        "\n"
      ]
    },
    {
      "cell_type": "code",
      "metadata": {
        "colab": {
          "base_uri": "https://localhost:8080/"
        },
        "id": "0ZqofnGqza_o",
        "outputId": "7d3bf023-c208-4d96-938e-535143bd2723"
      },
      "source": [
        "#install tensorboard\n",
        "!pip install tensorboard"
      ],
      "execution_count": 28,
      "outputs": [
        {
          "output_type": "stream",
          "text": [
            "Requirement already satisfied: tensorboard in /usr/local/lib/python3.7/dist-packages (2.5.0)\n",
            "Requirement already satisfied: setuptools>=41.0.0 in /usr/local/lib/python3.7/dist-packages (from tensorboard) (56.1.0)\n",
            "Requirement already satisfied: grpcio>=1.24.3 in /usr/local/lib/python3.7/dist-packages (from tensorboard) (1.34.1)\n",
            "Requirement already satisfied: tensorboard-plugin-wit>=1.6.0 in /usr/local/lib/python3.7/dist-packages (from tensorboard) (1.8.0)\n",
            "Requirement already satisfied: requests<3,>=2.21.0 in /usr/local/lib/python3.7/dist-packages (from tensorboard) (2.23.0)\n",
            "Requirement already satisfied: protobuf>=3.6.0 in /usr/local/lib/python3.7/dist-packages (from tensorboard) (3.12.4)\n",
            "Requirement already satisfied: werkzeug>=0.11.15 in /usr/local/lib/python3.7/dist-packages (from tensorboard) (1.0.1)\n",
            "Requirement already satisfied: absl-py>=0.4 in /usr/local/lib/python3.7/dist-packages (from tensorboard) (0.12.0)\n",
            "Requirement already satisfied: tensorboard-data-server<0.7.0,>=0.6.0 in /usr/local/lib/python3.7/dist-packages (from tensorboard) (0.6.1)\n",
            "Requirement already satisfied: google-auth-oauthlib<0.5,>=0.4.1 in /usr/local/lib/python3.7/dist-packages (from tensorboard) (0.4.4)\n",
            "Requirement already satisfied: numpy>=1.12.0 in /usr/local/lib/python3.7/dist-packages (from tensorboard) (1.19.5)\n",
            "Requirement already satisfied: markdown>=2.6.8 in /usr/local/lib/python3.7/dist-packages (from tensorboard) (3.3.4)\n",
            "Requirement already satisfied: wheel>=0.26; python_version >= \"3\" in /usr/local/lib/python3.7/dist-packages (from tensorboard) (0.36.2)\n",
            "Requirement already satisfied: google-auth<2,>=1.6.3 in /usr/local/lib/python3.7/dist-packages (from tensorboard) (1.30.0)\n",
            "Requirement already satisfied: six>=1.5.2 in /usr/local/lib/python3.7/dist-packages (from grpcio>=1.24.3->tensorboard) (1.15.0)\n",
            "Requirement already satisfied: chardet<4,>=3.0.2 in /usr/local/lib/python3.7/dist-packages (from requests<3,>=2.21.0->tensorboard) (3.0.4)\n",
            "Requirement already satisfied: idna<3,>=2.5 in /usr/local/lib/python3.7/dist-packages (from requests<3,>=2.21.0->tensorboard) (2.10)\n",
            "Requirement already satisfied: urllib3!=1.25.0,!=1.25.1,<1.26,>=1.21.1 in /usr/local/lib/python3.7/dist-packages (from requests<3,>=2.21.0->tensorboard) (1.24.3)\n",
            "Requirement already satisfied: certifi>=2017.4.17 in /usr/local/lib/python3.7/dist-packages (from requests<3,>=2.21.0->tensorboard) (2020.12.5)\n",
            "Requirement already satisfied: requests-oauthlib>=0.7.0 in /usr/local/lib/python3.7/dist-packages (from google-auth-oauthlib<0.5,>=0.4.1->tensorboard) (1.3.0)\n",
            "Requirement already satisfied: importlib-metadata; python_version < \"3.8\" in /usr/local/lib/python3.7/dist-packages (from markdown>=2.6.8->tensorboard) (4.0.1)\n",
            "Requirement already satisfied: pyasn1-modules>=0.2.1 in /usr/local/lib/python3.7/dist-packages (from google-auth<2,>=1.6.3->tensorboard) (0.2.8)\n",
            "Requirement already satisfied: rsa<5,>=3.1.4; python_version >= \"3.6\" in /usr/local/lib/python3.7/dist-packages (from google-auth<2,>=1.6.3->tensorboard) (4.7.2)\n",
            "Requirement already satisfied: cachetools<5.0,>=2.0.0 in /usr/local/lib/python3.7/dist-packages (from google-auth<2,>=1.6.3->tensorboard) (4.2.2)\n",
            "Requirement already satisfied: oauthlib>=3.0.0 in /usr/local/lib/python3.7/dist-packages (from requests-oauthlib>=0.7.0->google-auth-oauthlib<0.5,>=0.4.1->tensorboard) (3.1.0)\n",
            "Requirement already satisfied: zipp>=0.5 in /usr/local/lib/python3.7/dist-packages (from importlib-metadata; python_version < \"3.8\"->markdown>=2.6.8->tensorboard) (3.4.1)\n",
            "Requirement already satisfied: typing-extensions>=3.6.4; python_version < \"3.8\" in /usr/local/lib/python3.7/dist-packages (from importlib-metadata; python_version < \"3.8\"->markdown>=2.6.8->tensorboard) (3.7.4.3)\n",
            "Requirement already satisfied: pyasn1<0.5.0,>=0.4.6 in /usr/local/lib/python3.7/dist-packages (from pyasn1-modules>=0.2.1->google-auth<2,>=1.6.3->tensorboard) (0.4.8)\n"
          ],
          "name": "stdout"
        }
      ]
    },
    {
      "cell_type": "code",
      "metadata": {
        "id": "JgdI2GAmza8E"
      },
      "source": [
        "#upload records\n",
        "!tensorboard dev upload --logdir ./tensorflow_hub/ \\\n",
        " --name \"EfficientnetB0 vs Resnet50v2\" \\\n",
        " --description \"Compare results of two models\" \\\n",
        " --one_shot"
      ],
      "execution_count": null,
      "outputs": []
    },
    {
      "cell_type": "markdown",
      "metadata": {
        "id": "q_e72V-Xza5V"
      },
      "source": [
        "###### we can see out experiment results on  https://tensorboard.dev/experiment/37H1hgtMRymwS6VNQ6Z6Rw/"
      ]
    },
    {
      "cell_type": "code",
      "metadata": {
        "colab": {
          "base_uri": "https://localhost:8080/"
        },
        "id": "2JEr_orM3jac",
        "outputId": "cffe7e9c-6191-42af-f8c2-310c746a5531"
      },
      "source": [
        "!tensorboard dev list"
      ],
      "execution_count": 31,
      "outputs": [
        {
          "output_type": "stream",
          "text": [
            "2021-06-01 09:18:42.709121: I tensorflow/stream_executor/platform/default/dso_loader.cc:53] Successfully opened dynamic library libcudart.so.11.0\n",
            "Data for the \"text\" plugin is now uploaded to TensorBoard.dev! Note that uploaded data is public. If you do not want to upload data for this plugin, use the \"--plugins\" command line argument.\n",
            "https://tensorboard.dev/experiment/37H1hgtMRymwS6VNQ6Z6Rw/\n",
            "\tName                 EfficientnetB0 vs Resnet50v2\n",
            "\tDescription          Compare results of two models\n",
            "\tId                   37H1hgtMRymwS6VNQ6Z6Rw\n",
            "\tCreated              2021-06-01 09:08:45 (10 minutes ago)\n",
            "\tUpdated              2021-06-01 09:08:48 (9 minutes ago)\n",
            "\tRuns                 4\n",
            "\tTags                 5\n",
            "\tScalars              60\n",
            "\tTensor bytes         0\n",
            "\tBinary object bytes  7703821\n",
            "Total: 1 experiment(s)\n"
          ],
          "name": "stdout"
        }
      ]
    },
    {
      "cell_type": "code",
      "metadata": {
        "colab": {
          "base_uri": "https://localhost:8080/"
        },
        "id": "KTNsi9Wh3l7J",
        "outputId": "ad7fb679-28fc-4a64-adea-d6f9342739bb"
      },
      "source": [
        "#delete record\n",
        "!tensorboard dev delete --experiment_id 37H1hgtMRymwS6VNQ6Z6Rw"
      ],
      "execution_count": 32,
      "outputs": [
        {
          "output_type": "stream",
          "text": [
            "2021-06-01 09:19:42.132536: I tensorflow/stream_executor/platform/default/dso_loader.cc:53] Successfully opened dynamic library libcudart.so.11.0\n",
            "Data for the \"text\" plugin is now uploaded to TensorBoard.dev! Note that uploaded data is public. If you do not want to upload data for this plugin, use the \"--plugins\" command line argument.\n",
            "Deleted experiment 37H1hgtMRymwS6VNQ6Z6Rw.\n"
          ],
          "name": "stdout"
        }
      ]
    },
    {
      "cell_type": "code",
      "metadata": {
        "colab": {
          "base_uri": "https://localhost:8080/"
        },
        "id": "klBjhnSQ30nh",
        "outputId": "41ed286b-9fa8-45fa-be6f-e3dd99f4b314"
      },
      "source": [
        "#confirm deletion\n",
        "!tensorboard dev list"
      ],
      "execution_count": 33,
      "outputs": [
        {
          "output_type": "stream",
          "text": [
            "2021-06-01 09:20:10.962401: I tensorflow/stream_executor/platform/default/dso_loader.cc:53] Successfully opened dynamic library libcudart.so.11.0\n",
            "Data for the \"text\" plugin is now uploaded to TensorBoard.dev! Note that uploaded data is public. If you do not want to upload data for this plugin, use the \"--plugins\" command line argument.\n",
            "No experiments. Use `tensorboard dev upload` to get started.\n"
          ],
          "name": "stdout"
        }
      ]
    },
    {
      "cell_type": "code",
      "metadata": {
        "id": "VFT6fvSQ37aW"
      },
      "source": [
        ""
      ],
      "execution_count": null,
      "outputs": []
    }
  ]
}