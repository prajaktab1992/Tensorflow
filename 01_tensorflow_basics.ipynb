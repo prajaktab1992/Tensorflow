{
  "nbformat": 4,
  "nbformat_minor": 0,
  "metadata": {
    "colab": {
      "name": "01_tensorflow_basics.ipynb",
      "provenance": [],
      "collapsed_sections": [
        "EVC9dgcZ_TVV",
        "DmW7-9ULEmwm",
        "T29uYdGcHaYY",
        "WFH56xofJr8P",
        "S6Gse_3GKr4D"
      ]
    },
    "kernelspec": {
      "name": "python3",
      "display_name": "Python 3"
    },
    "language_info": {
      "name": "python"
    }
  },
  "cells": [
    {
      "cell_type": "code",
      "metadata": {
        "id": "tW8zA3YdDsVX"
      },
      "source": [
        "import tensorflow as tf\n",
        "import numpy as np"
      ],
      "execution_count": 1,
      "outputs": []
    },
    {
      "cell_type": "markdown",
      "metadata": {
        "id": "EVC9dgcZ_TVV"
      },
      "source": [
        "##### What are tensors?\n",
        "\n",
        "> Tensors are mutlti dimentional arrays with uniform data types.\n",
        "\n",
        "> \n",
        "\n",
        "\n",
        "\n"
      ]
    },
    {
      "cell_type": "code",
      "metadata": {
        "colab": {
          "base_uri": "https://localhost:8080/"
        },
        "id": "eDUjyRmfEAlf",
        "outputId": "3eed94e0-41a9-4dfe-a9b4-aae5547b1761"
      },
      "source": [
        "#create tensor\n",
        "print(\"Example of rank 0 tensor : \\n\")\n",
        "tensor_rank_0=tf.constant(4)\n",
        "print(f\" Tensor dimension: {tensor_rank_0.ndim} \\n Tensor shape :{tensor_rank_0.shape} \\n Size of tensor : {tf.size(tensor_rank_0)} \\n\")\n",
        "\n",
        "print(\"Example of rank 1 tensor : \\n\")\n",
        "tensor_rank_1=tf.constant([1,2,3])\n",
        "print(f\" Tensor dimension: {tensor_rank_1.ndim} \\n Tensor shape :{tensor_rank_1.shape} \\n Size of tensor : {tf.size(tensor_rank_1)} \\n\")\n",
        "\n",
        "print(\"Example of rank 2 tensor : \\n\")\n",
        "tensor_rank_2=tf.constant([[1],[2],[3]])\n",
        "print(f\" Tensor dimension: {tensor_rank_2.ndim} \\n Tensor shape :{tensor_rank_2.shape} \\n Size of tensor : {tf.size(tensor_rank_2)} \\n\")\n",
        "\n",
        "print(\"Example of rank 3 tensor : \\n\")\n",
        "tensor_rank_3=tf.constant([[[1,3,4],[2,4,7],[3,0,0]]])\n",
        "print(f\" Tensor dimension: {tensor_rank_3.ndim} \\n Tensor shape :{tensor_rank_3.shape} \\n Size of tensor : {tf.size(tensor_rank_3)} \\n\")"
      ],
      "execution_count": 10,
      "outputs": [
        {
          "output_type": "stream",
          "text": [
            "Example of rank 0 tensor : \n",
            "\n",
            " Tensor dimension: 0 \n",
            " Tensor shape :() \n",
            " Size of tensor : 1 \n",
            "\n",
            "Example of rank 1 tensor : \n",
            "\n",
            " Tensor dimension: 1 \n",
            " Tensor shape :(3,) \n",
            " Size of tensor : 3 \n",
            "\n",
            "Example of rank 2 tensor : \n",
            "\n",
            " Tensor dimension: 2 \n",
            " Tensor shape :(3, 1) \n",
            " Size of tensor : 3 \n",
            "\n",
            "Example of rank 3 tensor : \n",
            "\n",
            " Tensor dimension: 3 \n",
            " Tensor shape :(1, 3, 3) \n",
            " Size of tensor : 9 \n",
            "\n"
          ],
          "name": "stdout"
        }
      ]
    },
    {
      "cell_type": "markdown",
      "metadata": {
        "id": "DmW7-9ULEmwm"
      },
      "source": [
        "##### Convert tensor to numpy array\n",
        "> Method 1: Using np.array(tensor)\n",
        "\n",
        "> Method 2: Use .numpy()\n",
        "\n",
        "\n",
        "\n",
        "\n",
        "\n",
        "\n",
        "\n",
        "\n",
        "\n"
      ]
    },
    {
      "cell_type": "code",
      "metadata": {
        "colab": {
          "base_uri": "https://localhost:8080/"
        },
        "id": "VHqyP6Z-GB19",
        "outputId": "6d1c144c-f7d8-4672-e772-e2f051c1907c"
      },
      "source": [
        "print(\"Converting tensor to numpy array :\",type(tensor_rank_3))\n",
        "np_array=np.array(tensor_rank_3)\n",
        "print(f\"type of array: {type(np_array)}\")"
      ],
      "execution_count": 14,
      "outputs": [
        {
          "output_type": "stream",
          "text": [
            "Converting tensor to numpy array : <class 'tensorflow.python.framework.ops.EagerTensor'>\n",
            "type of array: <class 'numpy.ndarray'>\n"
          ],
          "name": "stdout"
        }
      ]
    },
    {
      "cell_type": "code",
      "metadata": {
        "colab": {
          "base_uri": "https://localhost:8080/"
        },
        "id": "Xe-H_nUTGLlp",
        "outputId": "47f0f3a2-6414-499d-9016-e6482e08d032"
      },
      "source": [
        "print(\"Converting tensor to numpy array :\",type(tensor_rank_3))\n",
        "np_array=tensor_rank_3.numpy()\n",
        "print(f\"type of array: {type(np_array)}\")"
      ],
      "execution_count": 15,
      "outputs": [
        {
          "output_type": "stream",
          "text": [
            "Converting tensor to numpy array : <class 'tensorflow.python.framework.ops.EagerTensor'>\n",
            "type of array: <class 'numpy.ndarray'>\n"
          ],
          "name": "stdout"
        }
      ]
    },
    {
      "cell_type": "markdown",
      "metadata": {
        "id": "T29uYdGcHaYY"
      },
      "source": [
        "##### What are Ragged Tensors?\n",
        "\n",
        "* A tensor with variable numbers of elements along some axis is called \"ragged\". Use `tf.ragged.RaggedTensor` for ragged data.\n",
        "\n",
        "* String tensors\n",
        "\n"
      ]
    },
    {
      "cell_type": "code",
      "metadata": {
        "colab": {
          "base_uri": "https://localhost:8080/"
        },
        "id": "GBL1zJOPHJhd",
        "outputId": "de9ee3dc-d82f-48db-b4cc-488370af38df"
      },
      "source": [
        "ragged_list=[[1,2,3,4],[4,5,6],[0]]\n",
        "ragged_tensor=tf.ragged.constant(ragged_list)\n",
        "print(f\"Shape of ragged tensor: {ragged_tensor.shape} \\n Type of ragged tensor :{type(ragged_tensor)}\")"
      ],
      "execution_count": 20,
      "outputs": [
        {
          "output_type": "stream",
          "text": [
            "Shape of ragged tensor: (3, None) \n",
            " Type of ragged tensor :<class 'tensorflow.python.ops.ragged.ragged_tensor.RaggedTensor'>\n"
          ],
          "name": "stdout"
        }
      ]
    },
    {
      "cell_type": "code",
      "metadata": {
        "colab": {
          "base_uri": "https://localhost:8080/"
        },
        "id": "Q3PQcq_uIMqw",
        "outputId": "93bcc842-0b47-433c-c062-3c609742baed"
      },
      "source": [
        "string_list=[\"My name is Prajakta\",\"What is your name?\",\"How are you\"]\n",
        "string_tensor=tf.ragged.constant(string_list)\n",
        "print(f\"Shape of string ragged tensor : {string_tensor.shape} \\n Type of ragged tensor :{type(string_tensor)}\")"
      ],
      "execution_count": 22,
      "outputs": [
        {
          "output_type": "stream",
          "text": [
            "Shape of string ragged tensor : (3,) \n",
            " Type of ragged tensor :<class 'tensorflow.python.framework.ops.EagerTensor'>\n"
          ],
          "name": "stdout"
        }
      ]
    },
    {
      "cell_type": "markdown",
      "metadata": {
        "id": "WFH56xofJr8P"
      },
      "source": [
        "##### What are sparse tensors? `tf.sparse.SparseTensor`\n",
        "\n",
        "Sometimes, your data is sparse, like a very wide embedding space.\n",
        "TensorFlow supports tf.sparse.SparseTensor and related operations to store sparse data efficiently."
      ]
    },
    {
      "cell_type": "code",
      "metadata": {
        "colab": {
          "base_uri": "https://localhost:8080/"
        },
        "id": "jxrnPLm7KeqH",
        "outputId": "2844c20d-af74-4d14-a617-1d94f2944f31"
      },
      "source": [
        "# Sparse tensors store values by index in a memory-efficient manner\n",
        "sparse_tensor = tf.sparse.SparseTensor(indices=[[0, 0], [1, 2]],\n",
        "                                       values=[1, 2],\n",
        "                                       dense_shape=[3, 4])\n",
        "print(sparse_tensor, \"\\n\")\n",
        "\n",
        "# You can convert sparse tensors to dense\n",
        "print(tf.sparse.to_dense(sparse_tensor))"
      ],
      "execution_count": 23,
      "outputs": [
        {
          "output_type": "stream",
          "text": [
            "SparseTensor(indices=tf.Tensor(\n",
            "[[0 0]\n",
            " [1 2]], shape=(2, 2), dtype=int64), values=tf.Tensor([1 2], shape=(2,), dtype=int32), dense_shape=tf.Tensor([3 4], shape=(2,), dtype=int64)) \n",
            "\n",
            "tf.Tensor(\n",
            "[[1 0 0 0]\n",
            " [0 0 2 0]\n",
            " [0 0 0 0]], shape=(3, 4), dtype=int32)\n"
          ],
          "name": "stdout"
        }
      ]
    },
    {
      "cell_type": "markdown",
      "metadata": {
        "id": "S6Gse_3GKr4D"
      },
      "source": [
        "##### Automatic Differentiation and Gradients\n",
        "\n",
        "\n",
        "Automatic differentiation is useful for implementing machine learning algorithms such as backpropagation.\n",
        "https://www.tensorflow.org/guide/autodiff]"
      ]
    },
    {
      "cell_type": "code",
      "metadata": {
        "id": "RvnsIvkKK-4i"
      },
      "source": [
        "import numpy as np\n",
        "import tensorflow as tf\n",
        "import matplotlib.pyplot as plt"
      ],
      "execution_count": 1,
      "outputs": []
    },
    {
      "cell_type": "markdown",
      "metadata": {
        "id": "tStE9g0-uA3Q"
      },
      "source": [
        "* Computing gradients:\n",
        "To diffeentiate automatically tensorflow needs to remember what operations happen in what order during the forward pass.\n",
        "Then during backword pass , Tensorflow traverses this list of operations in reverse order to compute gradient. "
      ]
    },
    {
      "cell_type": "markdown",
      "metadata": {
        "id": "XOg9Ze9Mvp4y"
      },
      "source": [
        "* TensorFlow provides the `tf.GradientTape` API for automatic differentiation; that is, computing the gradient of a computation with respect to some inputs, usually tf.Variables. TensorFlow \"records\" relevant operations executed inside the context of a tf.GradientTape onto a \"tape\". TensorFlow then uses that tape to compute the gradients of a \"recorded\" computation using reverse mode differentiation."
      ]
    },
    {
      "cell_type": "code",
      "metadata": {
        "colab": {
          "base_uri": "https://localhost:8080/"
        },
        "id": "pMQ2WsEWvl6f",
        "outputId": "1d67c4b0-5051-4d5b-c6bd-d8d7c655ebdb"
      },
      "source": [
        "x=tf.Variable([5.0])\n",
        "\n",
        "with tf.GradientTape() as tape:\n",
        "  y=x**2\n",
        "\n",
        "dy_dx=tape.gradient(y,x)\n",
        "dy_dx.numpy()\n"
      ],
      "execution_count": 5,
      "outputs": [
        {
          "output_type": "execute_result",
          "data": {
            "text/plain": [
              "array([10.], dtype=float32)"
            ]
          },
          "metadata": {
            "tags": []
          },
          "execution_count": 5
        }
      ]
    },
    {
      "cell_type": "markdown",
      "metadata": {
        "id": "2z2yH2Mbvl3I"
      },
      "source": [
        "* Let's see how gradients will get calculated"
      ]
    },
    {
      "cell_type": "code",
      "metadata": {
        "colab": {
          "base_uri": "https://localhost:8080/"
        },
        "id": "jZzYdZuawxlI",
        "outputId": "f95a34dd-a8c3-4502-a5bd-cc643fa1c0cb"
      },
      "source": [
        "tf.random.set_seed(42)\n",
        "w= tf.Variable(tf.random.normal((3,2),seed=42,dtype=tf.float32,name=\"w\"))\n",
        "b=tf.Variable(tf.zeros(2,dtype=tf.float32,name=\"b\"))\n",
        "\n",
        "x=tf.Variable([[1.,2.,3.]])\n",
        "\n",
        "\n",
        "with tf.GradientTape() as tape:\n",
        "  y=x @ w+b\n",
        "  print(y)\n",
        "  loss=tf.reduce_mean(y**2)\n",
        "  print(\"loss :\",loss)\n"
      ],
      "execution_count": 28,
      "outputs": [
        {
          "output_type": "stream",
          "text": [
            "tf.Tensor([[ 2.811394  -0.8994003]], shape=(1, 2), dtype=float32)\n",
            "loss : tf.Tensor(4.356428, shape=(), dtype=float32)\n"
          ],
          "name": "stdout"
        }
      ]
    },
    {
      "cell_type": "code",
      "metadata": {
        "id": "kZ4qscwFxY6V"
      },
      "source": [
        "dl_dw,dl_db=tape.gradient(loss,[w,b])"
      ],
      "execution_count": 29,
      "outputs": []
    },
    {
      "cell_type": "code",
      "metadata": {
        "colab": {
          "base_uri": "https://localhost:8080/"
        },
        "id": "neeTjcnkxmt4",
        "outputId": "641131b0-aad2-499a-8365-51709d6a70dc"
      },
      "source": [
        "dl_db,dl_dw"
      ],
      "execution_count": 30,
      "outputs": [
        {
          "output_type": "execute_result",
          "data": {
            "text/plain": [
              "(<tf.Tensor: shape=(2,), dtype=float32, numpy=array([ 2.811394 , -0.8994003], dtype=float32)>,\n",
              " <tf.Tensor: shape=(3, 2), dtype=float32, numpy=\n",
              " array([[ 2.811394 , -0.8994003],\n",
              "        [ 5.622788 , -1.7988006],\n",
              "        [ 8.434182 , -2.698201 ]], dtype=float32)>)"
            ]
          },
          "metadata": {
            "tags": []
          },
          "execution_count": 30
        }
      ]
    },
    {
      "cell_type": "code",
      "metadata": {
        "id": "6fdVMo4p7Bg1"
      },
      "source": [
        "layer = tf.keras.layers.Dense(2, activation='relu')\n",
        "x = tf.constant([[1., 2., 3.]])\n",
        "\n",
        "with tf.GradientTape() as tape:\n",
        "  # Forward pass\n",
        "  y = layer(x)\n",
        "  loss = tf.reduce_mean(y**2)\n",
        "\n",
        "# Calculate gradients with respect to every trainable variable\n",
        "grad = tape.gradient(loss, layer.trainable_variables)"
      ],
      "execution_count": 31,
      "outputs": []
    },
    {
      "cell_type": "code",
      "metadata": {
        "colab": {
          "base_uri": "https://localhost:8080/"
        },
        "id": "pgLdwSUN8McM",
        "outputId": "89196141-f429-46cb-95c9-088490139b2f"
      },
      "source": [
        "for var, g in zip(layer.trainable_variables, grad):\n",
        "  print(f'{var.name}, shape: {g.shape}')"
      ],
      "execution_count": 32,
      "outputs": [
        {
          "output_type": "stream",
          "text": [
            "dense/kernel:0, shape: (3, 2)\n",
            "dense/bias:0, shape: (2,)\n"
          ],
          "name": "stdout"
        }
      ]
    },
    {
      "cell_type": "markdown",
      "metadata": {
        "id": "pHywVtE28O3W"
      },
      "source": [
        "* Following code fails to calculate a gradient because the tf.Tensor is not \"watched\" by default, and the tf.Variable is not trainable"
      ]
    },
    {
      "cell_type": "code",
      "metadata": {
        "colab": {
          "base_uri": "https://localhost:8080/"
        },
        "id": "xX6DtyE-A-Sy",
        "outputId": "75dc81f9-d3f7-40a3-889d-6c2886c89040"
      },
      "source": [
        "# A trainable variable\n",
        "x0 = tf.Variable(3.0, name='x0')\n",
        "# Not trainable\n",
        "x1 = tf.Variable(3.0, name='x1', trainable=False)\n",
        "# Not a Variable: A variable + tensor returns a tensor.\n",
        "x2 = tf.Variable(2.0, name='x2') + 1.0\n",
        "# Not a variable\n",
        "x3 = tf.constant(3.0, name='x3')\n",
        "\n",
        "with tf.GradientTape() as tape:\n",
        "  y = (x0**2) + (x1**2) + (x2**2)\n",
        "\n",
        "grad = tape.gradient(y, [x0, x1, x2, x3])\n",
        "\n",
        "for g in grad:\n",
        "  print(g)"
      ],
      "execution_count": 33,
      "outputs": [
        {
          "output_type": "stream",
          "text": [
            "tf.Tensor(6.0, shape=(), dtype=float32)\n",
            "None\n",
            "None\n",
            "None\n"
          ],
          "name": "stdout"
        }
      ]
    },
    {
      "cell_type": "code",
      "metadata": {
        "colab": {
          "base_uri": "https://localhost:8080/"
        },
        "id": "vc1OsoUdA-PV",
        "outputId": "6ac7d5ff-7836-4553-f34a-1c9eb62ea18e"
      },
      "source": [
        "#you casee list of watched variables\n",
        "[var.name for var in tape.watched_variables()]"
      ],
      "execution_count": 34,
      "outputs": [
        {
          "output_type": "execute_result",
          "data": {
            "text/plain": [
              "['x0:0']"
            ]
          },
          "metadata": {
            "tags": []
          },
          "execution_count": 34
        }
      ]
    },
    {
      "cell_type": "markdown",
      "metadata": {
        "id": "bwWaMDUMBGVA"
      },
      "source": [
        "* **Note** \n",
        "\n",
        "To record gradients with respect to a tf.Tensor, call GradientTape.watch(x)\n",
        "\n",
        "By default, the resources held by a GradientTape are released as soon as the GradientTape.gradient method is called. To compute multiple gradients over the same computation, create a gradient tape with persistent=True. This allows multiple calls to the gradient method as resources are released when the tape object is garbage collected\n"
      ]
    },
    {
      "cell_type": "code",
      "metadata": {
        "colab": {
          "base_uri": "https://localhost:8080/"
        },
        "id": "ErBmb2YnBb53",
        "outputId": "27465ccf-614d-40fe-a180-8304dd50cfaa"
      },
      "source": [
        "x = tf.constant([1, 3.0])\n",
        "with tf.GradientTape(persistent=True) as tape:\n",
        "  tape.watch(x)\n",
        "  y = x * x\n",
        "  z = y * y\n",
        "\n",
        "print(tape.gradient(z, x).numpy())  # 108.0 (4 * x**3 at x = 3)\n",
        "print(tape.gradient(y, x).numpy())  # 6.0 (2 * x)"
      ],
      "execution_count": 35,
      "outputs": [
        {
          "output_type": "stream",
          "text": [
            "[  4. 108.]\n",
            "[2. 6.]\n"
          ],
          "name": "stdout"
        }
      ]
    },
    {
      "cell_type": "markdown",
      "metadata": {
        "id": "HK_vdUeVGSkC"
      },
      "source": [
        "* The gradient of multiple targets, the result for each source is: The gradient of the sum of the targets, or equivalently"
      ]
    },
    {
      "cell_type": "code",
      "metadata": {
        "colab": {
          "base_uri": "https://localhost:8080/"
        },
        "id": "nGYS1yEtCu8k",
        "outputId": "de2e58e7-d5a1-4dce-cabd-a8b315c2717a"
      },
      "source": [
        "x=tf.Variable(3.)\n",
        "\n",
        "with tf.GradientTape() as tape:\n",
        "  y0=x**2\n",
        "  y1=1/x\n",
        "\n",
        "  print(tape.gradient({\"y0\":y0,\"y1\":y1},x).numpy() )# derivative of y0 wrt x=> 2*x +derivative of y1 wrt x=>-1/x^2)\n",
        "  "
      ],
      "execution_count": 39,
      "outputs": [
        {
          "output_type": "stream",
          "text": [
            "5.888889\n"
          ],
          "name": "stdout"
        }
      ]
    },
    {
      "cell_type": "markdown",
      "metadata": {
        "id": "l5xH094LF7TN"
      },
      "source": [
        "* In some cases it would be convenient to get 0 instead of None for unconnected gradients. You can decide what to return when you have unconnected gradients using the unconnected_gradients argument:"
      ]
    },
    {
      "cell_type": "code",
      "metadata": {
        "colab": {
          "base_uri": "https://localhost:8080/"
        },
        "id": "9NREN3yQL6II",
        "outputId": "95bd0663-29cb-4076-b3e6-b19d87c834f6"
      },
      "source": [
        "x=tf.Variable([1.,2.,3.])\n",
        "y=tf.Variable([4.])\n",
        "\n",
        "with tf.GradientTape() as tape:\n",
        "  z=y**y\n",
        "\n",
        "print(tape.gradient(z,x,unconnected_gradients=tf.UnconnectedGradients.ZERO))"
      ],
      "execution_count": 41,
      "outputs": [
        {
          "output_type": "stream",
          "text": [
            "tf.Tensor([0. 0. 0.], shape=(3,), dtype=float32)\n"
          ],
          "name": "stdout"
        }
      ]
    },
    {
      "cell_type": "markdown",
      "metadata": {
        "id": "z1N_szj1L6Eu"
      },
      "source": [
        "##### Tensorflow graphs\n",
        "\n",
        "\n",
        "Graph execution means that tensor computations are executed as a TensorFlow graph, sometimes referred to as a tf.Graph or simply a \"graph.\"\n",
        "\n",
        "`Graphs are data structures that contain a set of tf.Operation objects, which represent units of computation; and tf.Tensor objects, which represent the units of data that flow between operations. `\n",
        "\n",
        "\n",
        "We can use your TensorFlow graph in environments that don't have a Python interpreter, like mobile applications, embedded devices, and backend servers.\n",
        "\n",
        "\n",
        "You create and run a graph in TensorFlow by using `tf.function`"
      ]
    },
    {
      "cell_type": "code",
      "metadata": {
        "id": "l5GXrTTSL6B9"
      },
      "source": [
        "# define python function\n",
        "def regular_function(x1,w1,b):\n",
        "  y=tf.matmul(x1,w1)\n",
        "  y=y+b\n",
        "  return y\n",
        "\n",
        "\n",
        "#create variables\n",
        "x1 = tf.constant([[1.0, 2.0]])\n",
        "y1 = tf.constant([[2.0], [3.0]])\n",
        "b1 = tf.constant(4.0)"
      ],
      "execution_count": 64,
      "outputs": []
    },
    {
      "cell_type": "code",
      "metadata": {
        "colab": {
          "base_uri": "https://localhost:8080/"
        },
        "id": "fO7gjZ-eNDL6",
        "outputId": "1194d7a3-a35c-4e24-f438-19cd495ca70d"
      },
      "source": [
        "orig_value=regular_function(x1,y1,b1)\n",
        "orig_value"
      ],
      "execution_count": 66,
      "outputs": [
        {
          "output_type": "execute_result",
          "data": {
            "text/plain": [
              "<tf.Tensor: shape=(1, 1), dtype=float32, numpy=array([[12.]], dtype=float32)>"
            ]
          },
          "metadata": {
            "tags": []
          },
          "execution_count": 66
        }
      ]
    },
    {
      "cell_type": "code",
      "metadata": {
        "id": "t82HvdktVmIk"
      },
      "source": [
        "a_function_that_uses_a_graph = tf.function(regular_function)"
      ],
      "execution_count": 72,
      "outputs": []
    },
    {
      "cell_type": "code",
      "metadata": {
        "colab": {
          "base_uri": "https://localhost:8080/"
        },
        "id": "9JZnCZ8KTzeh",
        "outputId": "301c3e84-26f7-495d-f8f1-30d350452afd"
      },
      "source": [
        "tf_function_value =a_function_that_uses_a_graph(x1,y1,b1).numpy()\n",
        "tf_function_value"
      ],
      "execution_count": 73,
      "outputs": [
        {
          "output_type": "execute_result",
          "data": {
            "text/plain": [
              "array([[12.]], dtype=float32)"
            ]
          },
          "metadata": {
            "tags": []
          },
          "execution_count": 73
        }
      ]
    },
    {
      "cell_type": "code",
      "metadata": {
        "colab": {
          "base_uri": "https://localhost:8080/"
        },
        "id": "QtlUikUDUiqA",
        "outputId": "22429b0a-2e2b-4caa-ec5c-57c5a455382a"
      },
      "source": [
        "orig_value==tf_function_value"
      ],
      "execution_count": 74,
      "outputs": [
        {
          "output_type": "execute_result",
          "data": {
            "text/plain": [
              "<tf.Tensor: shape=(1, 1), dtype=bool, numpy=array([[ True]])>"
            ]
          },
          "metadata": {
            "tags": []
          },
          "execution_count": 74
        }
      ]
    },
    {
      "cell_type": "markdown",
      "metadata": {
        "id": "_gG9wFVlefwk"
      },
      "source": [
        "* If we want to run Graph executio function with eager execution use `tf.config.run_functions_eagerly(True)`"
      ]
    },
    {
      "cell_type": "code",
      "metadata": {
        "id": "BnbvnwOYV3aR"
      },
      "source": [
        "@tf.function\n",
        "def get_MSE(y_true, y_pred):\n",
        "  print(\"Calculating MSE!\")\n",
        "  sq_diff = tf.pow(y_true - y_pred, 2)\n",
        "  return tf.reduce_mean(sq_diff)"
      ],
      "execution_count": 75,
      "outputs": []
    },
    {
      "cell_type": "code",
      "metadata": {
        "colab": {
          "base_uri": "https://localhost:8080/",
          "height": 72
        },
        "id": "3qbrrtxfe3U4",
        "outputId": "9529c17d-6a42-4bd4-82a0-d0da5a0ec057"
      },
      "source": [
        "y_true = tf.random.uniform([5], maxval=10, dtype=tf.int32)\n",
        "y_pred = tf.random.uniform([5], maxval=10, dtype=tf.int32)\n",
        "error = get_MSE(y_true, y_pred)\n",
        "error = get_MSE(y_true, y_pred)\n",
        "error = get_MSE(y_true, y_pred)\n",
        "\n",
        "\"\"\"To explain, the print statement is executed when Function runs the original code in order to create the graph in a process known as\n",
        " \"tracing\". Tracing captures the TensorFlow operations into a graph, and print is not captured in the graph.\n",
        " That graph is then executed for all three calls without ever running the Python code again.\"\"\""
      ],
      "execution_count": 78,
      "outputs": [
        {
          "output_type": "execute_result",
          "data": {
            "application/vnd.google.colaboratory.intrinsic+json": {
              "type": "string"
            },
            "text/plain": [
              "'To explain, the print statement is executed when Function runs the original code in order to create the graph in a process known as\\n \"tracing\". Tracing captures the TensorFlow operations into a graph, and print is not captured in the graph.\\n That graph is then executed for all three calls without ever running the Python code again.'"
            ]
          },
          "metadata": {
            "tags": []
          },
          "execution_count": 78
        }
      ]
    },
    {
      "cell_type": "code",
      "metadata": {
        "colab": {
          "base_uri": "https://localhost:8080/"
        },
        "id": "9mISg2Gpe5Dc",
        "outputId": "d643f3c5-6a21-49a3-df0e-21e1c9d7ad93"
      },
      "source": [
        "y_true = tf.random.uniform([5], maxval=10, dtype=tf.int64)\n",
        "y_pred = tf.random.uniform([5], maxval=10, dtype=tf.int64)\n",
        "error = get_MSE(y_true, y_pred)\n",
        "error = get_MSE(y_true, y_pred)\n",
        "error = get_MSE(y_true, y_pred)"
      ],
      "execution_count": 80,
      "outputs": [
        {
          "output_type": "stream",
          "text": [
            "Calculating MSE!\n"
          ],
          "name": "stdout"
        }
      ]
    },
    {
      "cell_type": "markdown",
      "metadata": {
        "id": "SEL0WNEe9Sn9"
      },
      "source": [
        "* tf.function is commonly used to speed up training loops,"
      ]
    },
    {
      "cell_type": "markdown",
      "metadata": {
        "id": "7hNd2NfbfZdH"
      },
      "source": [
        "##### Tensor slicing"
      ]
    },
    {
      "cell_type": "code",
      "metadata": {
        "id": "bixRUdwRENJ8"
      },
      "source": [
        "import tensorflow as tf\n",
        "import numpy as np"
      ],
      "execution_count": 3,
      "outputs": []
    },
    {
      "cell_type": "code",
      "metadata": {
        "colab": {
          "base_uri": "https://localhost:8080/"
        },
        "id": "AhMAPpSCBKzA",
        "outputId": "63e077f4-1edd-42e3-f1e1-bd5184312c90"
      },
      "source": [
        "t1=tf.constant([0,1,2,3,4,5,6,7,8,9])\n",
        "tf.slice(t1,begin=[0],size=[3],name=\"slice1\")"
      ],
      "execution_count": 5,
      "outputs": [
        {
          "output_type": "execute_result",
          "data": {
            "text/plain": [
              "<tf.Tensor: shape=(3,), dtype=int32, numpy=array([0, 1, 2], dtype=int32)>"
            ]
          },
          "metadata": {
            "tags": []
          },
          "execution_count": 5
        }
      ]
    },
    {
      "cell_type": "code",
      "metadata": {
        "colab": {
          "base_uri": "https://localhost:8080/"
        },
        "id": "1f4Pac7ZBKv3",
        "outputId": "cc273b3d-4b09-463b-cdc7-34e11445b297"
      },
      "source": [
        "t1[0:3]"
      ],
      "execution_count": 7,
      "outputs": [
        {
          "output_type": "execute_result",
          "data": {
            "text/plain": [
              "<tf.Tensor: shape=(3,), dtype=int32, numpy=array([0, 1, 2], dtype=int32)>"
            ]
          },
          "metadata": {
            "tags": []
          },
          "execution_count": 7
        }
      ]
    },
    {
      "cell_type": "code",
      "metadata": {
        "colab": {
          "base_uri": "https://localhost:8080/"
        },
        "id": "xDsY01cvBKsz",
        "outputId": "e87b7901-3051-4adb-c227-1951edc2801a"
      },
      "source": [
        "t1[-3:]"
      ],
      "execution_count": 8,
      "outputs": [
        {
          "output_type": "execute_result",
          "data": {
            "text/plain": [
              "<tf.Tensor: shape=(3,), dtype=int32, numpy=array([7, 8, 9], dtype=int32)>"
            ]
          },
          "metadata": {
            "tags": []
          },
          "execution_count": 8
        }
      ]
    },
    {
      "cell_type": "code",
      "metadata": {
        "colab": {
          "base_uri": "https://localhost:8080/"
        },
        "id": "L9iErL8GBKpk",
        "outputId": "d660c677-8605-4b47-d7bf-dfacbe6d069b"
      },
      "source": [
        "t2=tf.constant([[1,2,3],[4,5,6],[7,8,9],[1,5,0]])\n",
        "t2.shape"
      ],
      "execution_count": 9,
      "outputs": [
        {
          "output_type": "execute_result",
          "data": {
            "text/plain": [
              "TensorShape([4, 3])"
            ]
          },
          "metadata": {
            "tags": []
          },
          "execution_count": 9
        }
      ]
    },
    {
      "cell_type": "code",
      "metadata": {
        "colab": {
          "base_uri": "https://localhost:8080/"
        },
        "id": "rLWo6xlwF7f7",
        "outputId": "dbfe7c75-26f8-426d-d43e-e43c656c0844"
      },
      "source": [
        "t2[:-1,1:3]"
      ],
      "execution_count": 11,
      "outputs": [
        {
          "output_type": "execute_result",
          "data": {
            "text/plain": [
              "<tf.Tensor: shape=(3, 2), dtype=int32, numpy=\n",
              "array([[2, 3],\n",
              "       [5, 6],\n",
              "       [8, 9]], dtype=int32)>"
            ]
          },
          "metadata": {
            "tags": []
          },
          "execution_count": 11
        }
      ]
    },
    {
      "cell_type": "code",
      "metadata": {
        "colab": {
          "base_uri": "https://localhost:8080/"
        },
        "id": "wrmIfgU8GCT0",
        "outputId": "700fcaea-f135-4b85-aa09-c36b9a1708ad"
      },
      "source": [
        "t2.ndim"
      ],
      "execution_count": 12,
      "outputs": [
        {
          "output_type": "execute_result",
          "data": {
            "text/plain": [
              "2"
            ]
          },
          "metadata": {
            "tags": []
          },
          "execution_count": 12
        }
      ]
    },
    {
      "cell_type": "code",
      "metadata": {
        "id": "-0iQeQd9OJks"
      },
      "source": [
        ""
      ],
      "execution_count": null,
      "outputs": []
    },
    {
      "cell_type": "code",
      "metadata": {
        "colab": {
          "base_uri": "https://localhost:8080/"
        },
        "id": "kLZz8rFOOGFK",
        "outputId": "79b1c707-afac-4603-82a0-0ac0e35d7130"
      },
      "source": [
        "t3=tf.constant([[[1,2,3],[5,6,7]],\n",
        "                [[4,4,5],[9,9,0]]])\n",
        "t3"
      ],
      "execution_count": 13,
      "outputs": [
        {
          "output_type": "execute_result",
          "data": {
            "text/plain": [
              "<tf.Tensor: shape=(2, 2, 3), dtype=int32, numpy=\n",
              "array([[[1, 2, 3],\n",
              "        [5, 6, 7]],\n",
              "\n",
              "       [[4, 4, 5],\n",
              "        [9, 9, 0]]], dtype=int32)>"
            ]
          },
          "metadata": {
            "tags": []
          },
          "execution_count": 13
        }
      ]
    },
    {
      "cell_type": "code",
      "metadata": {
        "colab": {
          "base_uri": "https://localhost:8080/"
        },
        "id": "FUEiwR_vOXH-",
        "outputId": "b305ad13-0783-4f06-f11e-c5da6da8154d"
      },
      "source": [
        "tf.slice(t3,\n",
        "         begin=[1,1,0],\n",
        "         size=[1,1,3])"
      ],
      "execution_count": 15,
      "outputs": [
        {
          "output_type": "execute_result",
          "data": {
            "text/plain": [
              "<tf.Tensor: shape=(1, 1, 3), dtype=int32, numpy=array([[[9, 9, 0]]], dtype=int32)>"
            ]
          },
          "metadata": {
            "tags": []
          },
          "execution_count": 15
        }
      ]
    },
    {
      "cell_type": "code",
      "metadata": {
        "colab": {
          "base_uri": "https://localhost:8080/"
        },
        "id": "-Pyu5t08QDf1",
        "outputId": "f7955753-2ce1-4c3d-d112-3512569d3237"
      },
      "source": [
        "alphabet = tf.constant(list('abcdefghijklmnopqrstuvwxyz'))\n",
        "\n",
        "print(tf.gather(alphabet,\n",
        "                indices=[2, 0, 19, 18]))"
      ],
      "execution_count": 16,
      "outputs": [
        {
          "output_type": "stream",
          "text": [
            "tf.Tensor([b'c' b'a' b't' b's'], shape=(4,), dtype=string)\n"
          ],
          "name": "stdout"
        }
      ]
    },
    {
      "cell_type": "code",
      "metadata": {
        "id": "u3A7FebWQqj6"
      },
      "source": [
        ""
      ],
      "execution_count": null,
      "outputs": []
    }
  ]
}